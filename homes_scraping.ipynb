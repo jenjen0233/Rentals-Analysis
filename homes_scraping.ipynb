{
 "cells": [
  {
   "cell_type": "markdown",
   "metadata": {
    "id": "ev1FcLPtB2Sk"
   },
   "source": [
    "# Introduction\n",
    "\n",
    "I will be scraping homes.com site for rentals as I am interested in seeing how much the rental is costing now in the Nothern VA area. Northern Virginia is a suburban area outside of DC, so it is a good location especially for those who are working in Washington, DC. This area is crowded as there are lots of jobs here. Specially, I am looking for rentals in Fairfax County, Arlington County, and Washington DC. The search is restricted to townhouses and houses which have 2 or more bedrooms as I am more interested to see what the average rental price for the location given the rocket rising rental market.\n",
    "\n",
    "I am going to scrape homes.com using Beautiful Soup to extract posts of title, price, address, the number of bedrooms, the number of bathrooms for the data analysis."
   ]
  },
  {
   "cell_type": "markdown",
   "metadata": {
    "id": "iT-zsqm7aEXR"
   },
   "source": [
    "# Questions\n",
    "\n",
    "I like to start off with questions for my project: \n",
    "\n",
    "- How much is the price range for 2-3 bedroom townhomes or family house\n",
    "in Arlington County? Fairfax County? or DC?\n",
    "- Is there a correlation between price vs the number of bathrooms? Location? or the number bedrooms?"
   ]
  },
  {
   "cell_type": "markdown",
   "metadata": {
    "id": "sVPAHCf-B2Sl"
   },
   "source": [
    "# Webscraping"
   ]
  },
  {
   "cell_type": "markdown",
   "metadata": {
    "id": "zvHFv2AMB2Sm"
   },
   "source": [
    "As a good practice for webscraping, firstly I was checking robots.txt file of homes.com site and see that I should \n",
    "be able to scrape the site as long as I leave out the following domains: /services/ and /routes as below:\n",
    "\n",
    "\n"
   ]
  },
  {
   "cell_type": "markdown",
   "metadata": {},
   "source": [
    "Below is the result of homes.com/robots.txt: we are allowed to scrape as long as not following paths like /services/ or /routes/  \n",
    "\n",
    "User-agent: *  \n",
    "User-agent: AdsBot-Google  \n",
    "User-agent: AdsBot-Google-Mobile  \n",
    "Disallow: /services/  \n",
    "Disallow: /routes/  \n",
    "\n",
    "User-agent: GPTBot  \n",
    "Disallow: /  \n",
    "\n",
    "Sitemap: https://www.homes.com/sitemap-cities-for-sale-index.xml.gz  \n",
    "Sitemap: https://www.homes.com/sitemap-cities-for-rent-index.xml.gz  \n",
    "Sitemap: https://www.homes.com/sitemap-cities-openhouse-index.xml.gz  \n",
    "Sitemap: https://www.homes.com/sitemap-counties-for-sale-index.xml.gz  \n",
    "Sitemap: https://www.homes.com/sitemap-counties-for-rent-index.xml.gz  \n",
    "Sitemap: https://www.homes.com/sitemap-zipcodes-for-sale-index.xml.gz  \n",
    "Sitemap: https://www.homes.com/sitemap-zipcodes-for-rent-index.xml.gz  \n",
    "Sitemap: https://www.homes.com/sitemap-neighborhoods-index.xml.gz  \n",
    "Sitemap: https://www.homes.com/sitemap-neighborhoods-for-sale-index.xml.gz  \n",
    "Sitemap: https://www.homes.com/sitemap-neighborhoods-for-rent-index.xml.gz  \n",
    "Sitemap: https://www.homes.com/sitemap-agent-detail-index.xml.gz  \n",
    "Sitemap: https://www.homes.com/sitemap-agent-directory-cities-index.xml.gz  \n",
    "Sitemap: https://www.homes.com/sitemap-agent-directory-neighborhoods-index.xml.gz  \n",
    "Sitemap: https://www.homes.com/sitemap-properties-active-index.xml.gz  \n",
    "Sitemap: https://www.homes.com/sitemap-zipcodes-sold-index.xml.gz  \n",
    "Sitemap: https://www.homes.com/sitemap-cities-sold-index.xml.gz  \n",
    "Sitemap: https://www.homes.com/sitemap-schools-index.xml.gz  "
   ]
  },
  {
   "cell_type": "markdown",
   "metadata": {},
   "source": [
    "# Imports"
   ]
  },
  {
   "cell_type": "code",
   "execution_count": 16,
   "metadata": {},
   "outputs": [],
   "source": [
    "#!pip install plotly"
   ]
  },
  {
   "cell_type": "code",
   "execution_count": 17,
   "metadata": {},
   "outputs": [],
   "source": [
    "#!pip install requests"
   ]
  },
  {
   "cell_type": "code",
   "execution_count": 18,
   "metadata": {},
   "outputs": [],
   "source": [
    "#!pip install bs4"
   ]
  },
  {
   "cell_type": "code",
   "execution_count": 19,
   "metadata": {},
   "outputs": [],
   "source": [
    "#!pip install pandas"
   ]
  },
  {
   "cell_type": "code",
   "execution_count": 2,
   "metadata": {},
   "outputs": [],
   "source": [
    "#!pip install matplotlib"
   ]
  },
  {
   "cell_type": "code",
   "execution_count": 20,
   "metadata": {},
   "outputs": [],
   "source": [
    "#!pip install seaborn"
   ]
  },
  {
   "cell_type": "code",
   "execution_count": 21,
   "metadata": {},
   "outputs": [],
   "source": [
    "# keep all the required installed packages in requirements.txt\n",
    "#!pip freeze > requirements.txt"
   ]
  },
  {
   "cell_type": "code",
   "execution_count": 2,
   "metadata": {
    "executionInfo": {
     "elapsed": 971,
     "status": "ok",
     "timestamp": 1627381885008,
     "user": {
      "displayName": "Jennifer Ma",
      "photoUrl": "https://lh3.googleusercontent.com/a-/AOh14Gj1XuI66bU9QZyOWCdAc6X2mkgvqfSHVVrTTn2uDg=s64",
      "userId": "03736886922401541328"
     },
     "user_tz": 240
    },
    "id": "wRa_Eyo-B2Sl"
   },
   "outputs": [],
   "source": [
    "# Importing necessary libraries\n",
    "import requests\n",
    "from bs4 import BeautifulSoup\n",
    "import pandas as pd\n",
    "from datetime import datetime\n",
    "from time import sleep\n",
    "import itertools\n",
    "import matplotlib.pyplot as plt\n",
    "import matplotlib.pylab as pylab\n",
    "import seaborn as sns\n",
    "import re\n",
    "import warnings\n",
    "import numpy as np\n",
    "import random\n",
    "import plotly.express as px\n"
   ]
  },
  {
   "cell_type": "markdown",
   "metadata": {
    "id": "t0Q-TLfMcuen"
   },
   "source": [
    "I would tryout with one post to make sure the codes to extract price, address, bedroom, bathroom, and title are working as expected.\n",
    "Trying out with the first post:\n",
    "* I used requests and BeautifulSoup to download the content of the website\n",
    "* Inspected the html structure and extracted the posts' details"
   ]
  },
  {
   "cell_type": "code",
   "execution_count": 14,
   "metadata": {
    "id": "KfDXf-XjB2Sm"
   },
   "outputs": [],
   "source": [
    "# use a header to get the content \n",
    "Headers = ({'User-Agent': \n",
    "            'Mozilla/5.0 (Macintosh; Intel Mac OS X 10_15_7) AppleWebKit/537.36 (KHTML, like Gecko) Chrome/91.0.4472.114 Safari/537.36'})"
   ]
  },
  {
   "cell_type": "code",
   "execution_count": 15,
   "metadata": {
    "id": "T8IxEH_aB2So"
   },
   "outputs": [],
   "source": [
    "url = 'https://www.homes.com/fairfax-county-va/homes-for-rent/2-to-5-bedroom/p2/?property_type=1,2&bath-min=1&bath-max=5'\n",
    "response = requests.get(url, headers=Headers)\n",
    "first_soup = BeautifulSoup(response.text, \"html.parser\")"
   ]
  },
  {
   "cell_type": "code",
   "execution_count": 16,
   "metadata": {
    "colab": {
     "base_uri": "https://localhost:8080/"
    },
    "id": "6o3BtPViB2So",
    "outputId": "ba4ddb50-5dcb-43d7-97d3-1f6fa16e9abb"
   },
   "outputs": [
    {
     "data": {
      "text/plain": [
       "200"
      ]
     },
     "execution_count": 16,
     "metadata": {},
     "output_type": "execute_result"
    }
   ],
   "source": [
    "# checking the response status\n",
    "response.status_code"
   ]
  },
  {
   "cell_type": "code",
   "execution_count": 1,
   "metadata": {},
   "outputs": [],
   "source": [
    "# getting all posts on the first page\n",
    "#posts = first_soup.find_all('li', class_= \"placard-container\")\n",
    "#Trying out with post two\n",
    "#post_two = posts[1]\n",
    "#post_two\n",
    "#print(posts)"
   ]
  },
  {
   "cell_type": "markdown",
   "metadata": {},
   "source": [
    "Post Two"
   ]
  },
  {
   "cell_type": "code",
   "execution_count": 19,
   "metadata": {},
   "outputs": [
    {
     "name": "stdout",
     "output_type": "stream",
     "text": [
      "$3,400 per month\n",
      "3 Beds\n",
      "2.5 Baths\n"
     ]
    }
   ],
   "source": [
    "# Find all <li> elements within the <ul> element, we will get price, br, ba\n",
    "li_elements = post_two.find('ul', class_='detailed-info-container').find_all('li')\n",
    "\n",
    "# Extract the text from each <li> element\n",
    "for li in li_elements:\n",
    "    text = li.get_text()\n",
    "    #print(type(text))\n",
    "    print(text)"
   ]
  },
  {
   "cell_type": "code",
   "execution_count": 20,
   "metadata": {},
   "outputs": [
    {
     "name": "stdout",
     "output_type": "stream",
     "text": [
      "5119 Bradfield Ct, Annandale, VA 22003\n"
     ]
    }
   ],
   "source": [
    "# extract addresses\n",
    "address = post_two.find('p', class_='address').text\n",
    "print(address)"
   ]
  },
  {
   "cell_type": "markdown",
   "metadata": {},
   "source": [
    "Post One"
   ]
  },
  {
   "cell_type": "code",
   "execution_count": 21,
   "metadata": {},
   "outputs": [
    {
     "name": "stdout",
     "output_type": "stream",
     "text": [
      "$3,100 per month\n",
      "3 Beds\n",
      "3.5 Baths\n"
     ]
    }
   ],
   "source": [
    "post_one= posts[0]\n",
    "# Find all <li> elements within the <ul> element, we will get price, br, ba\n",
    "li_elements = post_one.find('ul', class_='detailed-info-container').find_all('li')\n",
    "\n",
    "# Extract the text from each <li> element\n",
    "for li in li_elements:\n",
    "    text = li.get_text()\n",
    "    print(text)"
   ]
  },
  {
   "cell_type": "code",
   "execution_count": 22,
   "metadata": {},
   "outputs": [
    {
     "name": "stdout",
     "output_type": "stream",
     "text": [
      "Price: 3100\n",
      "Bedrooms: 3\n",
      "Bathrooms: 3.5\n"
     ]
    }
   ],
   "source": [
    "# Initialize variables\n",
    "price = None\n",
    "bedrooms = None\n",
    "bathrooms = None\n",
    "\n",
    "# Find all <li> elements within the <ul> element\n",
    "li_elements = post_one.find('ul', class_='detailed-info-container').find_all('li')\n",
    "\n",
    "# Process the text from each <li> element\n",
    "for li in li_elements:\n",
    "    text = li.get_text()\n",
    "    \n",
    "    # Check if the text contains \"per month\" (indicating it's a price)\n",
    "    if \"per month\" in text:\n",
    "        if \"-\" in text:\n",
    "            price = \"Na\"\n",
    "        else:\n",
    "            price = text[:-10]\n",
    "            price = price.replace('$', '').replace(',', '')\n",
    "\n",
    "# Now, outside the loop, check for \"Beds\" and \"Baths\"\n",
    "for li in li_elements:\n",
    "    text = li.get_text()\n",
    "    \n",
    "    # Check if the text contains \"Beds\" (indicating it's the number of bedrooms)\n",
    "    if \"Beds\" in text:\n",
    "        if \"-\" in text:\n",
    "            bedrooms = \"Na\"\n",
    "        else:\n",
    "            bedrooms = int(text[:-5])\n",
    "\n",
    "for li in li_elements:\n",
    "    text = li.get_text()\n",
    "    # Check if the text contains \"Baths\" (indicating it's the number of bathrooms)\n",
    "    if \"Baths\" not in text:\n",
    "        bathrooms = \"Na\"\n",
    "    else:    \n",
    "        bathrooms = float(text[:-6])\n",
    "\n",
    "# Output the extracted data\n",
    "print(\"Price:\", price)\n",
    "print(\"Bedrooms:\", bedrooms)\n",
    "print(\"Bathrooms:\", bathrooms)\n"
   ]
  },
  {
   "cell_type": "code",
   "execution_count": 23,
   "metadata": {},
   "outputs": [
    {
     "name": "stdout",
     "output_type": "stream",
     "text": [
      "8914 Shamrock Ct, Springfield, VA 22152\n"
     ]
    }
   ],
   "source": [
    "# getting address\n",
    "address = post_one.find('p', class_='address').text\n",
    "print(address)"
   ]
  },
  {
   "cell_type": "code",
   "execution_count": 24,
   "metadata": {},
   "outputs": [
    {
     "name": "stdout",
     "output_type": "stream",
     "text": [
      "City: Springfield\n",
      "State: VA\n",
      "Zipcode: 22152\n"
     ]
    }
   ],
   "source": [
    "# Define a regular expression pattern to capture city, state, and zipcode\n",
    "pattern = r', (.*), (..) (\\d{5})$'\n",
    "\n",
    "# Use re.search() to find the pattern in the address\n",
    "match = re.search(pattern, address)\n",
    "\n",
    "# Check if a match is found and extract the city, state, and zipcode\n",
    "if match:\n",
    "    city = match.group(1).strip()  # Remove leading/trailing spaces\n",
    "    state = match.group(2)\n",
    "    zipcode = match.group(3)\n",
    "    print(\"City:\", city)\n",
    "    print(\"State:\", state)\n",
    "    print(\"Zipcode:\", zipcode)\n",
    "else:\n",
    "    print(\"No Address\")\n"
   ]
  },
  {
   "cell_type": "code",
   "execution_count": 25,
   "metadata": {},
   "outputs": [
    {
     "name": "stdout",
     "output_type": "stream",
     "text": [
      "House for Rent\n"
     ]
    }
   ],
   "source": [
    "# getting titles\n",
    "title = post_two.find('p', class_='property-name').text\n",
    "print(title)"
   ]
  },
  {
   "cell_type": "code",
   "execution_count": 26,
   "metadata": {},
   "outputs": [
    {
     "name": "stdout",
     "output_type": "stream",
     "text": [
      "House\n"
     ]
    }
   ],
   "source": [
    "# extracting just Townhouse or House\n",
    "pattern = r'(Townhouse|House) for Rent'\n",
    "match = re.search(pattern, title)\n",
    "if match:\n",
    "    house_type = match.group(1)\n",
    "    print(house_type)"
   ]
  },
  {
   "cell_type": "markdown",
   "metadata": {},
   "source": [
    "Saving the html content"
   ]
  },
  {
   "cell_type": "code",
   "execution_count": 27,
   "metadata": {},
   "outputs": [
    {
     "name": "stdout",
     "output_type": "stream",
     "text": [
      "Parsed HTML content saved to parsed_file.html\n"
     ]
    }
   ],
   "source": [
    "# save all the posts html content\n",
    "# Convert the BeautifulSoup object back to a string\n",
    "parsed_html = first_soup.prettify()  # You can use prettify() to make it nicely formatted\n",
    "\n",
    "# Specify the file path where you want to save the parsed HTML content\n",
    "file_path = 'parsed_file.html'\n",
    "\n",
    "# Open the file in write mode and write the parsed HTML content to it\n",
    "with open(file_path, 'w', encoding='utf-8') as file:\n",
    "    file.write(parsed_html)\n",
    "\n",
    "print(f'Parsed HTML content saved to {file_path}')\n"
   ]
  },
  {
   "cell_type": "code",
   "execution_count": 28,
   "metadata": {
    "id": "MB2DtEqr4uh7"
   },
   "outputs": [],
   "source": [
    "# find total posts to use for pagination\n",
    "total_posts = first_soup.find('span', attrs={'id':'spanSearchCount'}).text #spanSearchCount"
   ]
  },
  {
   "cell_type": "code",
   "execution_count": 29,
   "metadata": {
    "colab": {
     "base_uri": "https://localhost:8080/"
    },
    "id": "27EG_R1B4uls",
    "outputId": "362c6704-b708-4383-f572-1c904dae89b3"
   },
   "outputs": [
    {
     "data": {
      "text/plain": [
       "'518 2-Bedroom Homes for Rent in Fairfax County'"
      ]
     },
     "execution_count": 29,
     "metadata": {},
     "output_type": "execute_result"
    }
   ],
   "source": [
    "total_posts"
   ]
  },
  {
   "cell_type": "code",
   "execution_count": 30,
   "metadata": {},
   "outputs": [
    {
     "name": "stdout",
     "output_type": "stream",
     "text": [
      "518\n"
     ]
    }
   ],
   "source": [
    "pattern = r'\\d+'\n",
    "match = re.search(pattern, total_posts)\n",
    "total = match.group(0)\n",
    "print(total)"
   ]
  },
  {
   "cell_type": "markdown",
   "metadata": {
    "id": "4H9zFjbAB2Sr"
   },
   "source": [
    "## Combining all codes"
   ]
  },
  {
   "cell_type": "markdown",
   "metadata": {
    "id": "xJvi09OOB2Sn"
   },
   "source": [
    "After testing with post_two, I finally combined all the codes and added sleep command not to overload the site with several requests per second, so I would not get blocked.\n"
   ]
  },
  {
   "cell_type": "markdown",
   "metadata": {},
   "source": [
    "# Fairfax County VA"
   ]
  },
  {
   "cell_type": "code",
   "execution_count": 31,
   "metadata": {},
   "outputs": [
    {
     "name": "stdout",
     "output_type": "stream",
     "text": [
      "21\n"
     ]
    }
   ],
   "source": [
    "#find the total number of pages\n",
    "total_pages = (first_soup.find('span', class_='pageRange').text)\n",
    "total_pages = int(total_pages[-2:])\n",
    "print(total_pages)"
   ]
  },
  {
   "cell_type": "code",
   "execution_count": 33,
   "metadata": {},
   "outputs": [
    {
     "name": "stdout",
     "output_type": "stream",
     "text": [
      "Page 1 scraped successfully!\n",
      "Page 2 scraped successfully!\n",
      "Page 3 scraped successfully!\n",
      "Page 4 scraped successfully!\n",
      "Page 5 scraped successfully!\n",
      "Page 6 scraped successfully!\n",
      "Page 7 scraped successfully!\n",
      "Page 8 scraped successfully!\n",
      "Page 9 scraped successfully!\n",
      "Page 10 scraped successfully!\n",
      "Page 11 scraped successfully!\n",
      "Page 12 scraped successfully!\n",
      "Page 13 scraped successfully!\n",
      "Page 14 scraped successfully!\n",
      "Page 15 scraped successfully!\n",
      "Page 16 scraped successfully!\n",
      "Page 17 scraped successfully!\n",
      "Page 18 scraped successfully!\n",
      "Page 19 scraped successfully!\n",
      "Page 20 scraped successfully!\n",
      "Page 21 scraped successfully!\n",
      "\n",
      "\n",
      "Scrape complete!\n"
     ]
    }
   ],
   "source": [
    "# Define headers\n",
    "Headers = ({'User-Agent': \n",
    "            'Mozilla/5.0 (Macintosh; Intel Mac OS X 10_15_7) AppleWebKit/537.36 (KHTML, like Gecko) Chrome/91.0.4472.114 Safari/537.36'})\n",
    "\n",
    "# Make a GET request to the initial page to get the total number of pages\n",
    "response = requests.get(\"https://www.homes.com/fairfax-county-va/homes-for-rent/2-to-5-bedroom/?property_type=1,2&bath-min=1&bath-max=5\", headers=Headers)\n",
    "\n",
    "if response.status_code == 200:\n",
    "    first_soup = BeautifulSoup(response.text, 'html.parser')\n",
    "    # Find the total number of pages\n",
    "    total_pages = first_soup.find('span', class_='pageRange').text\n",
    "    total_pages = int(total_pages[-2:])\n",
    "else:\n",
    "    print(\"Failed to retrieve the total number of pages.\")\n",
    "    total_pages = 0\n",
    "\n",
    "addresses = []\n",
    "prices = []\n",
    "bedrooms = []\n",
    "bathrooms = []\n",
    "titles = []\n",
    "\n",
    "# Initiate pages\n",
    "pages = np.arange(1, total_pages + 1)\n",
    "\n",
    "i = 0\n",
    "\n",
    "for page in pages:\n",
    "    page_str = str(page)\n",
    "    # Get request\n",
    "    response = requests.get(f\"https://www.homes.com/fairfax-county-va/homes-for-rent/2-to-5-bedroom/p{page_str}/?property_type=1,2&bath-min=1&bath-max=5\", headers=Headers)\n",
    "    \n",
    "    # Pause the loop\n",
    "    sleep(random.randint(5, 10))\n",
    "    \n",
    "    # Throw a warning for status codes that are not 200\n",
    "    if response.status_code != 200:\n",
    "        warnings.warn(f'Request for page {page} failed with status code: {response.status_code}')\n",
    "        continue  # Skip processing this page and continue with the next\n",
    "    \n",
    "    # Define the HTML text\n",
    "    soup = BeautifulSoup(response.text, 'html.parser')\n",
    "    \n",
    "    # Define the posts\n",
    "    posts = soup.find_all('li', class_=\"placard-container\")\n",
    "    \n",
    "    # Extract data item-wise\n",
    "    for post in posts:\n",
    "        if post.find('ul', class_='detailed-info-container') is not None:\n",
    "            # Find all <li> elements within the <ul> element\n",
    "            li_elements = post.find('ul', class_='detailed-info-container').find_all('li')\n",
    "\n",
    "            # Initialize variables for price, bedroom, and bathroom\n",
    "            price = \"Na\"\n",
    "            bedroom = \"Na\"\n",
    "            bathroom = \"Na\"\n",
    "\n",
    "            # Process the text from each <li> element\n",
    "            for li in li_elements:\n",
    "                text = li.get_text()\n",
    "                \n",
    "                # Check if the text contains \"per month\" (indicating it's a price)\n",
    "                if \"per month\" in text:\n",
    "                    # Check if multiple prices (indicated by \"-\"), and assign \"Na\"\n",
    "                    if \"-\" in text:\n",
    "                        price = \"Na\"\n",
    "                    else:\n",
    "                        price = text[:-10]\n",
    "                        # Otherwise, get only the price by removing \"$\" and \",\"\n",
    "                        price = text.replace('$', '').replace(',', '')\n",
    "                \n",
    "                # Check if the text contains \"Beds\" (indicating it's the number of bedrooms)\n",
    "                if \"Beds\" in text:\n",
    "                    if \"-\" not in text:\n",
    "                        bedroom = int(text.split()[0])\n",
    "\n",
    "                # Check if the text contains \"Baths\" (indicating it's the number of bathrooms)\n",
    "                if \"Baths\" in text:\n",
    "                    if \"-\" not in text:\n",
    "                        bathroom = float(text.split()[0])\n",
    "\n",
    "            # Append the extracted data to respective lists\n",
    "            prices.append(price)\n",
    "            bedrooms.append(bedroom)\n",
    "            bathrooms.append(bathroom)\n",
    "\n",
    "        if post.find('p', class_='address') is not None:\n",
    "            address = post.find('p', class_='address').text\n",
    "            addresses.append(address)\n",
    "        if post.find('p', class_='property-name') is not None:\n",
    "            title = post.find('p', class_='property-name').text\n",
    "            titles.append(title)\n",
    "    \n",
    "    i += 1\n",
    "    print(\"Page \" + str(i) + \" scraped successfully!\")\n",
    "\n",
    "print(\"\\n\")\n",
    "print(\"Scrape complete!\")\n"
   ]
  },
  {
   "cell_type": "markdown",
   "metadata": {
    "id": "lSRswkpqaEXW"
   },
   "source": [
    "# Load and Store data"
   ]
  },
  {
   "cell_type": "code",
   "execution_count": null,
   "metadata": {},
   "outputs": [
    {
     "data": {
      "text/plain": [
       "['Brentford at The Mile',\n",
       " 'House for Rent',\n",
       " 'Townes at Herndon',\n",
       " 'Townhouse for Rent',\n",
       " 'House for Rent',\n",
       " 'Townhouse for Rent',\n",
       " 'Townhouse for Rent',\n",
       " 'House for Rent',\n",
       " 'House for Rent',\n",
       " 'Townhouse for Rent',\n",
       " 'House for Rent',\n",
       " 'House for Rent',\n",
       " 'Townhouse for Rent',\n",
       " 'Townhouse for Rent',\n",
       " 'Townhouse for Rent',\n",
       " 'House for Rent',\n",
       " 'Townhouse for Rent',\n",
       " 'Townhouse for Rent',\n",
       " 'House for Rent',\n",
       " 'House for Rent']"
      ]
     },
     "execution_count": 144,
     "metadata": {},
     "output_type": "execute_result"
    }
   ],
   "source": [
    "titles[:20]"
   ]
  },
  {
   "cell_type": "code",
   "execution_count": null,
   "metadata": {},
   "outputs": [
    {
     "data": {
      "text/plain": [
       "['7970 Maitland St, McLean, VA 22102',\n",
       " '5929 Merritt Place, Falls Church, VA 22041',\n",
       " '508 Pride Ave, Herndon, VA 20170',\n",
       " 'Unlisted Address',\n",
       " '703 Morningside Ct, Herndon, VA 20170',\n",
       " '5455 New London Park Dr, Fairfax, VA 22032',\n",
       " '14312 Beckett Glen Cir, Chantilly, VA 20151',\n",
       " '12665 Magna Carta Rd, Herndon, VA 20171',\n",
       " '1710 Palm Springs Dr, Vienna, VA 22182',\n",
       " '2013 Approach Ln, Reston, VA 20191',\n",
       " '7813 Mulberry Bottom Ln, Springfield, VA 22153',\n",
       " '5825 Biscayne Dr, Alexandria, VA 22303',\n",
       " '5415 Helm Ct, Fairfax, VA 22032',\n",
       " '2438 Ridgehampton Ct, Reston, VA 20191',\n",
       " '3160 Yeager Dr, Herndon, VA 20171',\n",
       " '3015 Fairmont St, Falls Church, VA 22042',\n",
       " '8046 Reserve Way, Vienna, VA 22182',\n",
       " '8043 Reserve Way, Vienna, VA 22182',\n",
       " '3506 Beverly Dr, Annandale, VA 22003',\n",
       " '855 Nicholas Run Dr, Great Falls, VA 22066']"
      ]
     },
     "execution_count": 145,
     "metadata": {},
     "output_type": "execute_result"
    }
   ],
   "source": [
    "addresses[:20]"
   ]
  },
  {
   "cell_type": "code",
   "execution_count": null,
   "metadata": {},
   "outputs": [
    {
     "data": {
      "text/plain": [
       "['Na', 5, 'Na', 3, 5, 3, 3, 3, 4, 3]"
      ]
     },
     "execution_count": 148,
     "metadata": {},
     "output_type": "execute_result"
    }
   ],
   "source": [
    "bedrooms[:10]"
   ]
  },
  {
   "cell_type": "code",
   "execution_count": null,
   "metadata": {},
   "outputs": [
    {
     "data": {
      "text/plain": [
       "['Na', 3.0, 'Na', 3.5, 2.0, 4.0, 5.0, 2.0, 2.5, 2.5]"
      ]
     },
     "execution_count": 150,
     "metadata": {},
     "output_type": "execute_result"
    }
   ],
   "source": [
    "bathrooms[:10]"
   ]
  },
  {
   "cell_type": "code",
   "execution_count": null,
   "metadata": {},
   "outputs": [
    {
     "data": {
      "text/plain": [
       "['Na',\n",
       " '4150 per month',\n",
       " 'Na',\n",
       " '2775 per month',\n",
       " '3300 per month',\n",
       " '2700 per month',\n",
       " '4800 per month',\n",
       " '2800 per month',\n",
       " '3750 per month',\n",
       " '2750 per month',\n",
       " '3800 per month',\n",
       " '3000 per month',\n",
       " '3200 per month',\n",
       " '2500 per month',\n",
       " '3500 per month',\n",
       " '3750 per month',\n",
       " '4000 per month',\n",
       " '4200 per month',\n",
       " '3800 per month',\n",
       " '14000 per month']"
      ]
     },
     "execution_count": 152,
     "metadata": {},
     "output_type": "execute_result"
    }
   ],
   "source": [
    "prices[:20]"
   ]
  },
  {
   "cell_type": "code",
   "execution_count": null,
   "metadata": {
    "colab": {
     "base_uri": "https://localhost:8080/",
     "height": 614
    },
    "id": "xltYmvcHB2Sv",
    "outputId": "ac039f5e-627e-48d5-9b28-45ba37058e3c"
   },
   "outputs": [
    {
     "name": "stdout",
     "output_type": "stream",
     "text": [
      "<class 'pandas.core.frame.DataFrame'>\n",
      "RangeIndex: 504 entries, 0 to 503\n",
      "Data columns (total 5 columns):\n",
      " #   Column    Non-Null Count  Dtype \n",
      "---  ------    --------------  ----- \n",
      " 0   Title     504 non-null    object\n",
      " 1   Address   504 non-null    object\n",
      " 2   Bedroom   504 non-null    object\n",
      " 3   Bathroom  504 non-null    object\n",
      " 4   Price     504 non-null    object\n",
      "dtypes: object(5)\n",
      "memory usage: 19.8+ KB\n",
      "None\n"
     ]
    },
    {
     "data": {
      "text/html": [
       "<div>\n",
       "<style scoped>\n",
       "    .dataframe tbody tr th:only-of-type {\n",
       "        vertical-align: middle;\n",
       "    }\n",
       "\n",
       "    .dataframe tbody tr th {\n",
       "        vertical-align: top;\n",
       "    }\n",
       "\n",
       "    .dataframe thead th {\n",
       "        text-align: right;\n",
       "    }\n",
       "</style>\n",
       "<table border=\"1\" class=\"dataframe\">\n",
       "  <thead>\n",
       "    <tr style=\"text-align: right;\">\n",
       "      <th></th>\n",
       "      <th>Title</th>\n",
       "      <th>Address</th>\n",
       "      <th>Bedroom</th>\n",
       "      <th>Bathroom</th>\n",
       "      <th>Price</th>\n",
       "    </tr>\n",
       "  </thead>\n",
       "  <tbody>\n",
       "    <tr>\n",
       "      <th>0</th>\n",
       "      <td>Brentford at The Mile</td>\n",
       "      <td>7970 Maitland St, McLean, VA 22102</td>\n",
       "      <td>Na</td>\n",
       "      <td>Na</td>\n",
       "      <td>Na</td>\n",
       "    </tr>\n",
       "    <tr>\n",
       "      <th>1</th>\n",
       "      <td>House for Rent</td>\n",
       "      <td>5929 Merritt Place, Falls Church, VA 22041</td>\n",
       "      <td>5</td>\n",
       "      <td>3.0</td>\n",
       "      <td>4150 per month</td>\n",
       "    </tr>\n",
       "    <tr>\n",
       "      <th>2</th>\n",
       "      <td>Townes at Herndon</td>\n",
       "      <td>508 Pride Ave, Herndon, VA 20170</td>\n",
       "      <td>Na</td>\n",
       "      <td>Na</td>\n",
       "      <td>Na</td>\n",
       "    </tr>\n",
       "    <tr>\n",
       "      <th>3</th>\n",
       "      <td>Townhouse for Rent</td>\n",
       "      <td>Unlisted Address</td>\n",
       "      <td>3</td>\n",
       "      <td>3.5</td>\n",
       "      <td>2775 per month</td>\n",
       "    </tr>\n",
       "    <tr>\n",
       "      <th>4</th>\n",
       "      <td>House for Rent</td>\n",
       "      <td>703 Morningside Ct, Herndon, VA 20170</td>\n",
       "      <td>5</td>\n",
       "      <td>2.0</td>\n",
       "      <td>3300 per month</td>\n",
       "    </tr>\n",
       "    <tr>\n",
       "      <th>5</th>\n",
       "      <td>Townhouse for Rent</td>\n",
       "      <td>5455 New London Park Dr, Fairfax, VA 22032</td>\n",
       "      <td>3</td>\n",
       "      <td>4.0</td>\n",
       "      <td>2700 per month</td>\n",
       "    </tr>\n",
       "    <tr>\n",
       "      <th>6</th>\n",
       "      <td>Townhouse for Rent</td>\n",
       "      <td>14312 Beckett Glen Cir, Chantilly, VA 20151</td>\n",
       "      <td>3</td>\n",
       "      <td>5.0</td>\n",
       "      <td>4800 per month</td>\n",
       "    </tr>\n",
       "    <tr>\n",
       "      <th>7</th>\n",
       "      <td>House for Rent</td>\n",
       "      <td>12665 Magna Carta Rd, Herndon, VA 20171</td>\n",
       "      <td>3</td>\n",
       "      <td>2.0</td>\n",
       "      <td>2800 per month</td>\n",
       "    </tr>\n",
       "    <tr>\n",
       "      <th>8</th>\n",
       "      <td>House for Rent</td>\n",
       "      <td>1710 Palm Springs Dr, Vienna, VA 22182</td>\n",
       "      <td>4</td>\n",
       "      <td>2.5</td>\n",
       "      <td>3750 per month</td>\n",
       "    </tr>\n",
       "    <tr>\n",
       "      <th>9</th>\n",
       "      <td>Townhouse for Rent</td>\n",
       "      <td>2013 Approach Ln, Reston, VA 20191</td>\n",
       "      <td>3</td>\n",
       "      <td>2.5</td>\n",
       "      <td>2750 per month</td>\n",
       "    </tr>\n",
       "  </tbody>\n",
       "</table>\n",
       "</div>"
      ],
      "text/plain": [
       "                   Title                                      Address Bedroom  \\\n",
       "0  Brentford at The Mile           7970 Maitland St, McLean, VA 22102      Na   \n",
       "1         House for Rent   5929 Merritt Place, Falls Church, VA 22041       5   \n",
       "2      Townes at Herndon             508 Pride Ave, Herndon, VA 20170      Na   \n",
       "3     Townhouse for Rent                             Unlisted Address       3   \n",
       "4         House for Rent        703 Morningside Ct, Herndon, VA 20170       5   \n",
       "5     Townhouse for Rent   5455 New London Park Dr, Fairfax, VA 22032       3   \n",
       "6     Townhouse for Rent  14312 Beckett Glen Cir, Chantilly, VA 20151       3   \n",
       "7         House for Rent      12665 Magna Carta Rd, Herndon, VA 20171       3   \n",
       "8         House for Rent       1710 Palm Springs Dr, Vienna, VA 22182       4   \n",
       "9     Townhouse for Rent           2013 Approach Ln, Reston, VA 20191       3   \n",
       "\n",
       "  Bathroom           Price  \n",
       "0       Na              Na  \n",
       "1      3.0  4150 per month  \n",
       "2       Na              Na  \n",
       "3      3.5  2775 per month  \n",
       "4      2.0  3300 per month  \n",
       "5      4.0  2700 per month  \n",
       "6      5.0  4800 per month  \n",
       "7      2.0  2800 per month  \n",
       "8      2.5  3750 per month  \n",
       "9      2.5  2750 per month  "
      ]
     },
     "execution_count": 153,
     "metadata": {},
     "output_type": "execute_result"
    }
   ],
   "source": [
    "# Create a data frame from extracted data above\n",
    "\n",
    "import pandas as pd\n",
    "\n",
    "fairfax_county_va = pd.DataFrame({'Title': titles,\n",
    "                       'Address': addresses,\n",
    "                       'Bedroom': bedrooms,\n",
    "                       'Bathroom': bathrooms,\n",
    "                        'Price': prices,\n",
    "                        })\n",
    "print(fairfax_county_va.info())\n",
    "fairfax_county_va.head(10)"
   ]
  },
  {
   "cell_type": "code",
   "execution_count": null,
   "metadata": {
    "id": "oxezD7Pf50tB"
   },
   "outputs": [],
   "source": [
    "#write to csv file for later use\n",
    "fairfax_county_va.to_csv('fairfaxcountyVA.csv')"
   ]
  },
  {
   "cell_type": "code",
   "execution_count": null,
   "metadata": {
    "colab": {
     "base_uri": "https://localhost:8080/"
    },
    "executionInfo": {
     "elapsed": 140,
     "status": "ok",
     "timestamp": 1627381891037,
     "user": {
      "displayName": "Jennifer Ma",
      "photoUrl": "https://lh3.googleusercontent.com/a-/AOh14Gj1XuI66bU9QZyOWCdAc6X2mkgvqfSHVVrTTn2uDg=s64",
      "userId": "03736886922401541328"
     },
     "user_tz": 240
    },
    "id": "_hnHJw3MaEXY",
    "outputId": "257b69b9-5e21-439a-c58b-6aae60867c51"
   },
   "outputs": [
    {
     "name": "stdout",
     "output_type": "stream",
     "text": [
      "<class 'pandas.core.frame.DataFrame'>\n",
      "Int64Index: 466 entries, 0 to 465\n",
      "Data columns (total 7 columns):\n",
      " #   Column      Non-Null Count  Dtype  \n",
      "---  ------      --------------  -----  \n",
      " 0   Posted      466 non-null    object \n",
      " 1   Location    466 non-null    object \n",
      " 2   Post Title  466 non-null    object \n",
      " 3   Bedrooms    459 non-null    float64\n",
      " 4   Sqft        265 non-null    float64\n",
      " 5   Distance    466 non-null    float64\n",
      " 6   Price       466 non-null    int64  \n",
      "dtypes: float64(3), int64(1), object(3)\n",
      "memory usage: 29.1+ KB\n"
     ]
    }
   ],
   "source": [
    "# read the csv file\n",
    "df = pd.read_csv('fairfaxcountyVA.csv', index_col = 0) # index_col = 0 to remove the index col\n",
    "df.info()"
   ]
  },
  {
   "cell_type": "markdown",
   "metadata": {},
   "source": [
    "# DC"
   ]
  },
  {
   "cell_type": "code",
   "execution_count": null,
   "metadata": {},
   "outputs": [
    {
     "name": "stdout",
     "output_type": "stream",
     "text": [
      "Page 1 scraped successfully!\n",
      "Page 2 scraped successfully!\n",
      "Page 3 scraped successfully!\n",
      "Page 4 scraped successfully!\n",
      "Page 5 scraped successfully!\n",
      "Page 6 scraped successfully!\n",
      "Page 7 scraped successfully!\n",
      "Page 8 scraped successfully!\n",
      "Page 9 scraped successfully!\n",
      "Page 10 scraped successfully!\n",
      "Page 11 scraped successfully!\n",
      "Page 12 scraped successfully!\n",
      "Page 13 scraped successfully!\n",
      "Page 14 scraped successfully!\n",
      "\n",
      "\n",
      "Scrape complete!\n"
     ]
    }
   ],
   "source": [
    "# Define headers\n",
    "Headers = ({'User-Agent': \n",
    "            'Mozilla/5.0 (Macintosh; Intel Mac OS X 10_15_7) AppleWebKit/537.36 (KHTML, like Gecko) Chrome/91.0.4472.114 Safari/537.36'})\n",
    "\n",
    "# Make a GET request to the initial page to get the total number of pages\n",
    "response = requests.get(\"https://www.homes.com/washington-dc/homes-for-rent/2-to-5-bedroom/?property_type=1,2&bath-min=1&bath-max=5\", headers=Headers)\n",
    "\n",
    "if response.status_code == 200:\n",
    "    first_soup = BeautifulSoup(response.text, 'html.parser')\n",
    "    # Find the total number of pages\n",
    "    total_pages = first_soup.find('span', class_='pageRange').text\n",
    "    total_pages = int(total_pages[-2:])\n",
    "else:\n",
    "    print(\"Failed to retrieve the total number of pages.\")\n",
    "    total_pages = 0\n",
    "\n",
    "addresses = []\n",
    "prices = []\n",
    "bedrooms = []\n",
    "bathrooms = []\n",
    "titles = []\n",
    "\n",
    "# Initiate pages\n",
    "pages = np.arange(1, total_pages + 1)\n",
    "\n",
    "i = 0\n",
    "\n",
    "for page in pages:\n",
    "    page_str = str(page)\n",
    "    # Get request\n",
    "    response = requests.get(f\"https://www.homes.com/washington-dc/homes-for-rent/2-to-5-bedroom/p{page_str}/?property_type=1,2&bath-min=1&bath-max=5\", headers=Headers)\n",
    "    \n",
    "    # Pause the loop\n",
    "    sleep(random.randint(5, 10))\n",
    "    \n",
    "    # Throw a warning for status codes that are not 200\n",
    "    if response.status_code != 200:\n",
    "        warnings.warn(f'Request for page {page} failed with status code: {response.status_code}')\n",
    "        continue  # Skip processing this page and continue with the next\n",
    "    \n",
    "    # Define the HTML text\n",
    "    soup = BeautifulSoup(response.text, 'html.parser')\n",
    "    \n",
    "    # Define the posts\n",
    "    posts = soup.find_all('li', class_=\"placard-container\")\n",
    "    \n",
    "    # Extract data item-wise\n",
    "    for post in posts:\n",
    "        if post.find('ul', class_='detailed-info-container') is not None:\n",
    "            # Find all <li> elements within the <ul> element\n",
    "            li_elements = post.find('ul', class_='detailed-info-container').find_all('li')\n",
    "\n",
    "            # Initialize variables for price, bedroom, and bathroom\n",
    "            price = \"Na\"\n",
    "            bedroom = \"Na\"\n",
    "            bathroom = \"Na\"\n",
    "\n",
    "            # Process the text from each <li> element\n",
    "            for li in li_elements:\n",
    "                text = li.get_text()\n",
    "                \n",
    "                # Check if the text contains \"per month\" (indicating it's a price)\n",
    "                if \"per month\" in text:\n",
    "                    # Check if multiple prices (indicated by \"-\"), and assign \"Na\"\n",
    "                    if \"-\" in text:\n",
    "                        price = \"Na\"\n",
    "                    else:\n",
    "                        price = text[:-10]\n",
    "                        # Otherwise, get only the price by removing \"$\" and \",\"\n",
    "                        price = text.replace('$', '').replace(',', '')\n",
    "                \n",
    "                # Check if the text contains \"Beds\" (indicating it's the number of bedrooms)\n",
    "                if \"Beds\" in text:\n",
    "                    if \"-\" not in text:\n",
    "                        bedroom = int(text.split()[0])\n",
    "\n",
    "                # Check if the text contains \"Baths\" (indicating it's the number of bathrooms)\n",
    "                if \"Baths\" in text:\n",
    "                    if \"-\" not in text:\n",
    "                        bathroom = float(text.split()[0])\n",
    "\n",
    "            # Append the extracted data to respective lists\n",
    "            prices.append(price)\n",
    "            bedrooms.append(bedroom)\n",
    "            bathrooms.append(bathroom)\n",
    "\n",
    "        if post.find('p', class_='address') is not None:\n",
    "            address = post.find('p', class_='address').text\n",
    "            addresses.append(address)\n",
    "        if post.find('p', class_='property-name') is not None:\n",
    "            title = post.find('p', class_='property-name').text\n",
    "            titles.append(title)\n",
    "    \n",
    "    i += 1\n",
    "    print(\"Page \" + str(i) + \" scraped successfully!\")\n",
    "\n",
    "print(\"\\n\")\n",
    "print(\"Scrape complete!\")\n"
   ]
  },
  {
   "cell_type": "code",
   "execution_count": null,
   "metadata": {},
   "outputs": [
    {
     "name": "stdout",
     "output_type": "stream",
     "text": [
      "<class 'pandas.core.frame.DataFrame'>\n",
      "RangeIndex: 348 entries, 0 to 347\n",
      "Data columns (total 5 columns):\n",
      " #   Column    Non-Null Count  Dtype \n",
      "---  ------    --------------  ----- \n",
      " 0   Title     348 non-null    object\n",
      " 1   Address   348 non-null    object\n",
      " 2   Bedroom   348 non-null    int64 \n",
      " 3   Bathroom  348 non-null    object\n",
      " 4   Price     348 non-null    object\n",
      "dtypes: int64(1), object(4)\n",
      "memory usage: 13.7+ KB\n",
      "None\n"
     ]
    },
    {
     "data": {
      "text/html": [
       "<div>\n",
       "<style scoped>\n",
       "    .dataframe tbody tr th:only-of-type {\n",
       "        vertical-align: middle;\n",
       "    }\n",
       "\n",
       "    .dataframe tbody tr th {\n",
       "        vertical-align: top;\n",
       "    }\n",
       "\n",
       "    .dataframe thead th {\n",
       "        text-align: right;\n",
       "    }\n",
       "</style>\n",
       "<table border=\"1\" class=\"dataframe\">\n",
       "  <thead>\n",
       "    <tr style=\"text-align: right;\">\n",
       "      <th></th>\n",
       "      <th>Title</th>\n",
       "      <th>Address</th>\n",
       "      <th>Bedroom</th>\n",
       "      <th>Bathroom</th>\n",
       "      <th>Price</th>\n",
       "    </tr>\n",
       "  </thead>\n",
       "  <tbody>\n",
       "    <tr>\n",
       "      <th>0</th>\n",
       "      <td>Townhouse for Rent</td>\n",
       "      <td>747 Kentucky Ave SE, Washington, DC 20003</td>\n",
       "      <td>3</td>\n",
       "      <td>2.0</td>\n",
       "      <td>3400 per month</td>\n",
       "    </tr>\n",
       "    <tr>\n",
       "      <th>1</th>\n",
       "      <td>Townhouse for Rent</td>\n",
       "      <td>5120 Brooks St NE, Washington, DC 20019</td>\n",
       "      <td>3</td>\n",
       "      <td>2.0</td>\n",
       "      <td>2650 per month</td>\n",
       "    </tr>\n",
       "    <tr>\n",
       "      <th>2</th>\n",
       "      <td>Townhouse for Rent</td>\n",
       "      <td>910 New Hampshire Ave NW, Washington, DC 20037</td>\n",
       "      <td>4</td>\n",
       "      <td>3.0</td>\n",
       "      <td>7500 per month</td>\n",
       "    </tr>\n",
       "    <tr>\n",
       "      <th>3</th>\n",
       "      <td>Townhouse for Rent</td>\n",
       "      <td>1224 Irving St NW Unit A, Washington, DC 20010</td>\n",
       "      <td>5</td>\n",
       "      <td>3.0</td>\n",
       "      <td>5975 per month</td>\n",
       "    </tr>\n",
       "    <tr>\n",
       "      <th>4</th>\n",
       "      <td>House for Rent</td>\n",
       "      <td>1112 51st Place NE, Washington, DC 20019</td>\n",
       "      <td>4</td>\n",
       "      <td>3.0</td>\n",
       "      <td>3300 per month</td>\n",
       "    </tr>\n",
       "    <tr>\n",
       "      <th>5</th>\n",
       "      <td>Townhouse for Rent</td>\n",
       "      <td>438 New Jersey Ave SE, Washington, DC 20003</td>\n",
       "      <td>6</td>\n",
       "      <td>4.5</td>\n",
       "      <td>11000 per month</td>\n",
       "    </tr>\n",
       "    <tr>\n",
       "      <th>6</th>\n",
       "      <td>Townhouse for Rent</td>\n",
       "      <td>1818 Corcoran St NE, Washington, DC 20002</td>\n",
       "      <td>2</td>\n",
       "      <td>Na</td>\n",
       "      <td>2100 per month</td>\n",
       "    </tr>\n",
       "    <tr>\n",
       "      <th>7</th>\n",
       "      <td>House for Rent</td>\n",
       "      <td>3906 24th St NE, Washington, DC 20018</td>\n",
       "      <td>3</td>\n",
       "      <td>2.5</td>\n",
       "      <td>3500 per month</td>\n",
       "    </tr>\n",
       "    <tr>\n",
       "      <th>8</th>\n",
       "      <td>Townhouse for Rent</td>\n",
       "      <td>118 17th St SE, Washington, DC 20003</td>\n",
       "      <td>3</td>\n",
       "      <td>3.5</td>\n",
       "      <td>5000 per month</td>\n",
       "    </tr>\n",
       "    <tr>\n",
       "      <th>9</th>\n",
       "      <td>Townhouse for Rent</td>\n",
       "      <td>1326 Otis Place NW, Washington, DC 20010</td>\n",
       "      <td>3</td>\n",
       "      <td>2.5</td>\n",
       "      <td>4500 per month</td>\n",
       "    </tr>\n",
       "  </tbody>\n",
       "</table>\n",
       "</div>"
      ],
      "text/plain": [
       "                Title                                         Address  \\\n",
       "0  Townhouse for Rent       747 Kentucky Ave SE, Washington, DC 20003   \n",
       "1  Townhouse for Rent         5120 Brooks St NE, Washington, DC 20019   \n",
       "2  Townhouse for Rent  910 New Hampshire Ave NW, Washington, DC 20037   \n",
       "3  Townhouse for Rent  1224 Irving St NW Unit A, Washington, DC 20010   \n",
       "4      House for Rent        1112 51st Place NE, Washington, DC 20019   \n",
       "5  Townhouse for Rent     438 New Jersey Ave SE, Washington, DC 20003   \n",
       "6  Townhouse for Rent       1818 Corcoran St NE, Washington, DC 20002   \n",
       "7      House for Rent           3906 24th St NE, Washington, DC 20018   \n",
       "8  Townhouse for Rent            118 17th St SE, Washington, DC 20003   \n",
       "9  Townhouse for Rent        1326 Otis Place NW, Washington, DC 20010   \n",
       "\n",
       "   Bedroom Bathroom            Price  \n",
       "0        3      2.0   3400 per month  \n",
       "1        3      2.0   2650 per month  \n",
       "2        4      3.0   7500 per month  \n",
       "3        5      3.0   5975 per month  \n",
       "4        4      3.0   3300 per month  \n",
       "5        6      4.5  11000 per month  \n",
       "6        2       Na   2100 per month  \n",
       "7        3      2.5   3500 per month  \n",
       "8        3      3.5   5000 per month  \n",
       "9        3      2.5   4500 per month  "
      ]
     },
     "execution_count": 156,
     "metadata": {},
     "output_type": "execute_result"
    }
   ],
   "source": [
    "dc = pd.DataFrame({'Title': titles,\n",
    "                       'Address': addresses,\n",
    "                       'Bedroom': bedrooms,\n",
    "                       'Bathroom': bathrooms,\n",
    "                        'Price': prices,\n",
    "                        })\n",
    "print(dc.info())\n",
    "dc.head(10)"
   ]
  },
  {
   "cell_type": "code",
   "execution_count": null,
   "metadata": {},
   "outputs": [],
   "source": [
    "#write to csv file for later use\n",
    "dc.to_csv('dc.csv')"
   ]
  },
  {
   "cell_type": "markdown",
   "metadata": {},
   "source": [
    "# Arlington County"
   ]
  },
  {
   "cell_type": "code",
   "execution_count": null,
   "metadata": {},
   "outputs": [
    {
     "name": "stdout",
     "output_type": "stream",
     "text": [
      "Page 1 scraped successfully!\n",
      "Page 2 scraped successfully!\n",
      "Page 3 scraped successfully!\n",
      "Page 4 scraped successfully!\n",
      "\n",
      "\n",
      "Scrape complete!\n"
     ]
    }
   ],
   "source": [
    "# Define headers\n",
    "Headers = ({'User-Agent': \n",
    "            'Mozilla/5.0 (Macintosh; Intel Mac OS X 10_15_7) AppleWebKit/537.36 (KHTML, like Gecko) Chrome/91.0.4472.114 Safari/537.36'})\n",
    "\n",
    "# Make a GET request to the initial page to get the total number of pages\n",
    "response = requests.get(\"https://www.homes.com/arlington-county-va/homes-for-rent/2-to-5-bedroom/?property_type=1,2&bath-min=1&bath-max=5\", headers=Headers)\n",
    "\n",
    "if response.status_code == 200:\n",
    "    first_soup = BeautifulSoup(response.text, 'html.parser')\n",
    "    # Find the total number of pages\n",
    "    total_pages = first_soup.find('span', class_='pageRange').text\n",
    "    total_pages = int(total_pages[-2:])\n",
    "else:\n",
    "    print(\"Failed to retrieve the total number of pages.\")\n",
    "    total_pages = 0\n",
    "\n",
    "addresses = []\n",
    "prices = []\n",
    "bedrooms = []\n",
    "bathrooms = []\n",
    "titles = []\n",
    "\n",
    "# Initiate pages\n",
    "pages = np.arange(1, total_pages + 1)\n",
    "\n",
    "i = 0\n",
    "\n",
    "for page in pages:\n",
    "    page_str = str(page)\n",
    "    # Get request\n",
    "    response = requests.get(f\"https://www.homes.com/arlington-county-va/homes-for-rent/2-to-5-bedroom/p{page_str}/?property_type=1,2&bath-min=1&bath-max=5\", headers=Headers)\n",
    "    \n",
    "    # Pause the loop\n",
    "    sleep(random.randint(5, 10))\n",
    "    \n",
    "    # Throw a warning for status codes that are not 200\n",
    "    if response.status_code != 200:\n",
    "        warnings.warn(f'Request for page {page} failed with status code: {response.status_code}')\n",
    "        continue  # Skip processing this page and continue with the next\n",
    "    \n",
    "    # Define the HTML text\n",
    "    soup = BeautifulSoup(response.text, 'html.parser')\n",
    "    \n",
    "    # Define the posts\n",
    "    posts = soup.find_all('li', class_=\"placard-container\")\n",
    "    \n",
    "    # Extract data item-wise\n",
    "    for post in posts:\n",
    "        if post.find('ul', class_='detailed-info-container') is not None:\n",
    "            # Find all <li> elements within the <ul> element\n",
    "            li_elements = post.find('ul', class_='detailed-info-container').find_all('li')\n",
    "\n",
    "            # Initialize variables for price, bedroom, and bathroom\n",
    "            price = \"Na\"\n",
    "            bedroom = \"Na\"\n",
    "            bathroom = \"Na\"\n",
    "\n",
    "            # Process the text from each <li> element\n",
    "            for li in li_elements:\n",
    "                text = li.get_text()\n",
    "                \n",
    "                # Check if the text contains \"per month\" (indicating it's a price)\n",
    "                if \"per month\" in text:\n",
    "                    # Check if multiple prices (indicated by \"-\"), and assign \"Na\"\n",
    "                    if \"-\" in text:\n",
    "                        price = \"Na\"\n",
    "                    else:\n",
    "                        price = text[:-10]\n",
    "                        # Otherwise, get only the price by removing \"$\" and \",\"\n",
    "                        price = text.replace('$', '').replace(',', '')\n",
    "                \n",
    "                # Check if the text contains \"Beds\" (indicating it's the number of bedrooms)\n",
    "                if \"Beds\" in text:\n",
    "                    if \"-\" not in text:\n",
    "                        bedroom = int(text.split()[0])\n",
    "\n",
    "                # Check if the text contains \"Baths\" (indicating it's the number of bathrooms)\n",
    "                if \"Baths\" in text:\n",
    "                    if \"-\" not in text:\n",
    "                        bathroom = float(text.split()[0])\n",
    "\n",
    "            # Append the extracted data to respective lists\n",
    "            prices.append(price)\n",
    "            bedrooms.append(bedroom)\n",
    "            bathrooms.append(bathroom)\n",
    "\n",
    "        if post.find('p', class_='address') is not None:\n",
    "            address = post.find('p', class_='address').text\n",
    "            addresses.append(address)\n",
    "        if post.find('p', class_='property-name') is not None:\n",
    "            title = post.find('p', class_='property-name').text\n",
    "            titles.append(title)\n",
    "    \n",
    "    i += 1\n",
    "    print(\"Page \" + str(i) + \" scraped successfully!\")\n",
    "\n",
    "print(\"\\n\")\n",
    "print(\"Scrape complete!\")\n"
   ]
  },
  {
   "cell_type": "code",
   "execution_count": null,
   "metadata": {},
   "outputs": [
    {
     "name": "stdout",
     "output_type": "stream",
     "text": [
      "<class 'pandas.core.frame.DataFrame'>\n",
      "RangeIndex: 86 entries, 0 to 85\n",
      "Data columns (total 5 columns):\n",
      " #   Column    Non-Null Count  Dtype \n",
      "---  ------    --------------  ----- \n",
      " 0   Title     86 non-null     object\n",
      " 1   Address   86 non-null     object\n",
      " 2   Bedroom   86 non-null     int64 \n",
      " 3   Bathroom  86 non-null     object\n",
      " 4   Price     86 non-null     object\n",
      "dtypes: int64(1), object(4)\n",
      "memory usage: 3.5+ KB\n",
      "None\n"
     ]
    },
    {
     "data": {
      "text/html": [
       "<div>\n",
       "<style scoped>\n",
       "    .dataframe tbody tr th:only-of-type {\n",
       "        vertical-align: middle;\n",
       "    }\n",
       "\n",
       "    .dataframe tbody tr th {\n",
       "        vertical-align: top;\n",
       "    }\n",
       "\n",
       "    .dataframe thead th {\n",
       "        text-align: right;\n",
       "    }\n",
       "</style>\n",
       "<table border=\"1\" class=\"dataframe\">\n",
       "  <thead>\n",
       "    <tr style=\"text-align: right;\">\n",
       "      <th></th>\n",
       "      <th>Title</th>\n",
       "      <th>Address</th>\n",
       "      <th>Bedroom</th>\n",
       "      <th>Bathroom</th>\n",
       "      <th>Price</th>\n",
       "    </tr>\n",
       "  </thead>\n",
       "  <tbody>\n",
       "    <tr>\n",
       "      <th>0</th>\n",
       "      <td>Townhouse for Rent</td>\n",
       "      <td>4313 4th Ct N, Arlington, VA 22203</td>\n",
       "      <td>4</td>\n",
       "      <td>4.5</td>\n",
       "      <td>5200 per month</td>\n",
       "    </tr>\n",
       "    <tr>\n",
       "      <th>1</th>\n",
       "      <td>House for Rent</td>\n",
       "      <td>2026 S Monroe St, Arlington, VA 22204</td>\n",
       "      <td>4</td>\n",
       "      <td>3.5</td>\n",
       "      <td>3900 per month</td>\n",
       "    </tr>\n",
       "    <tr>\n",
       "      <th>2</th>\n",
       "      <td>House for Rent</td>\n",
       "      <td>1941 N Vermont St, Arlington, VA 22207</td>\n",
       "      <td>3</td>\n",
       "      <td>2.0</td>\n",
       "      <td>3600 per month</td>\n",
       "    </tr>\n",
       "    <tr>\n",
       "      <th>3</th>\n",
       "      <td>Townhouse for Rent</td>\n",
       "      <td>748 S Granada St, Arlington, VA 22204</td>\n",
       "      <td>4</td>\n",
       "      <td>5.0</td>\n",
       "      <td>3720 per month</td>\n",
       "    </tr>\n",
       "    <tr>\n",
       "      <th>4</th>\n",
       "      <td>Townhouse for Rent</td>\n",
       "      <td>4173 S Four Mile Run Dr Unit B, Arlington, VA ...</td>\n",
       "      <td>3</td>\n",
       "      <td>2.5</td>\n",
       "      <td>3200 per month</td>\n",
       "    </tr>\n",
       "    <tr>\n",
       "      <th>5</th>\n",
       "      <td>House for Rent</td>\n",
       "      <td>1010 19th St S, Arlington, VA 22202</td>\n",
       "      <td>5</td>\n",
       "      <td>3.0</td>\n",
       "      <td>4950 per month</td>\n",
       "    </tr>\n",
       "    <tr>\n",
       "      <th>6</th>\n",
       "      <td>Townhouse for Rent</td>\n",
       "      <td>402 N Thomas St, Arlington, VA 22203</td>\n",
       "      <td>3</td>\n",
       "      <td>2.5</td>\n",
       "      <td>4250 per month</td>\n",
       "    </tr>\n",
       "    <tr>\n",
       "      <th>7</th>\n",
       "      <td>House for Rent</td>\n",
       "      <td>2431 N Nottingham St, Arlington, VA 22207</td>\n",
       "      <td>3</td>\n",
       "      <td>2.5</td>\n",
       "      <td>4200 per month</td>\n",
       "    </tr>\n",
       "    <tr>\n",
       "      <th>8</th>\n",
       "      <td>Townhouse for Rent</td>\n",
       "      <td>2029 S Glebe Rd, Arlington, VA 22204</td>\n",
       "      <td>3</td>\n",
       "      <td>2.0</td>\n",
       "      <td>3399 per month</td>\n",
       "    </tr>\n",
       "    <tr>\n",
       "      <th>9</th>\n",
       "      <td>Townhouse for Rent</td>\n",
       "      <td>2312 N Van Buren Ct, Arlington, VA 22205</td>\n",
       "      <td>3</td>\n",
       "      <td>3.5</td>\n",
       "      <td>4500 per month</td>\n",
       "    </tr>\n",
       "  </tbody>\n",
       "</table>\n",
       "</div>"
      ],
      "text/plain": [
       "                Title                                            Address  \\\n",
       "0  Townhouse for Rent                 4313 4th Ct N, Arlington, VA 22203   \n",
       "1      House for Rent              2026 S Monroe St, Arlington, VA 22204   \n",
       "2      House for Rent             1941 N Vermont St, Arlington, VA 22207   \n",
       "3  Townhouse for Rent              748 S Granada St, Arlington, VA 22204   \n",
       "4  Townhouse for Rent  4173 S Four Mile Run Dr Unit B, Arlington, VA ...   \n",
       "5      House for Rent                1010 19th St S, Arlington, VA 22202   \n",
       "6  Townhouse for Rent               402 N Thomas St, Arlington, VA 22203   \n",
       "7      House for Rent          2431 N Nottingham St, Arlington, VA 22207   \n",
       "8  Townhouse for Rent               2029 S Glebe Rd, Arlington, VA 22204   \n",
       "9  Townhouse for Rent           2312 N Van Buren Ct, Arlington, VA 22205   \n",
       "\n",
       "   Bedroom Bathroom           Price  \n",
       "0        4      4.5  5200 per month  \n",
       "1        4      3.5  3900 per month  \n",
       "2        3      2.0  3600 per month  \n",
       "3        4      5.0  3720 per month  \n",
       "4        3      2.5  3200 per month  \n",
       "5        5      3.0  4950 per month  \n",
       "6        3      2.5  4250 per month  \n",
       "7        3      2.5  4200 per month  \n",
       "8        3      2.0  3399 per month  \n",
       "9        3      3.5  4500 per month  "
      ]
     },
     "execution_count": 159,
     "metadata": {},
     "output_type": "execute_result"
    }
   ],
   "source": [
    "arlington = pd.DataFrame({'Title': titles,\n",
    "                       'Address': addresses,\n",
    "                       'Bedroom': bedrooms,\n",
    "                       'Bathroom': bathrooms,\n",
    "                        'Price': prices,\n",
    "                        })\n",
    "print(arlington.info())\n",
    "arlington.head(10)"
   ]
  },
  {
   "cell_type": "code",
   "execution_count": null,
   "metadata": {},
   "outputs": [],
   "source": [
    "#write to csv file for later use\n",
    "arlington.to_csv('arlington.csv')"
   ]
  },
  {
   "cell_type": "markdown",
   "metadata": {},
   "source": [
    "# Prince Williams County"
   ]
  },
  {
   "cell_type": "code",
   "execution_count": 30,
   "metadata": {},
   "outputs": [
    {
     "name": "stdout",
     "output_type": "stream",
     "text": [
      "Page 1 scraped successfully!\n",
      "Page 2 scraped successfully!\n",
      "Page 3 scraped successfully!\n",
      "Page 4 scraped successfully!\n",
      "Page 5 scraped successfully!\n",
      "Page 6 scraped successfully!\n",
      "Page 7 scraped successfully!\n",
      "Page 8 scraped successfully!\n",
      "Page 9 scraped successfully!\n",
      "\n",
      "\n",
      "Scrape complete!\n"
     ]
    }
   ],
   "source": [
    "# Define headers\n",
    "Headers = ({'User-Agent': \n",
    "            'Mozilla/5.0 (Macintosh; Intel Mac OS X 10_15_7) AppleWebKit/537.36 (KHTML, like Gecko) Chrome/91.0.4472.114 Safari/537.36'})\n",
    "\n",
    "# Make a GET request to the initial page to get the total number of pages\n",
    "response = requests.get(\"https://www.homes.com/prince-william-county-va/homes-for-rent/2-to-5-bedroom/?property_type=1,2&bath-min=1&bath-max=5\", headers=Headers)\n",
    "\n",
    "if response.status_code == 200:\n",
    "    first_soup = BeautifulSoup(response.text, 'html.parser')\n",
    "    # Find the total number of pages\n",
    "    total_pages = first_soup.find('span', class_='pageRange').text\n",
    "    total_pages = int(total_pages[-2:])\n",
    "else:\n",
    "    print(\"Failed to retrieve the total number of pages.\")\n",
    "    total_pages = 0\n",
    "\n",
    "addresses = []\n",
    "prices = []\n",
    "bedrooms = []\n",
    "bathrooms = []\n",
    "titles = []\n",
    "\n",
    "# Initiate pages\n",
    "pages = np.arange(1, total_pages + 1)\n",
    "\n",
    "i = 0\n",
    "\n",
    "for page in pages:\n",
    "    page_str = str(page)\n",
    "    # Get request\n",
    "    response = requests.get(f\"https://www.homes.com/prince-william-county-va/homes-for-rent/2-to-5-bedroom/p{page_str}/?property_type=1,2&bath-min=1&bath-max=5\", headers=Headers)\n",
    "    \n",
    "    # Pause the loop\n",
    "    sleep(random.randint(5, 10))\n",
    "    \n",
    "    # Throw a warning for status codes that are not 200\n",
    "    if response.status_code != 200:\n",
    "        warnings.warn(f'Request for page {page} failed with status code: {response.status_code}')\n",
    "        continue  # Skip processing this page and continue with the next\n",
    "    \n",
    "    # Define the HTML text\n",
    "    soup = BeautifulSoup(response.text, 'html.parser')\n",
    "    \n",
    "    # Define the posts\n",
    "    posts = soup.find_all('li', class_=\"placard-container\")\n",
    "    \n",
    "    # Extract data item-wise\n",
    "    for post in posts:\n",
    "        if post.find('ul', class_='detailed-info-container') is not None:\n",
    "            # Find all <li> elements within the <ul> element\n",
    "            li_elements = post.find('ul', class_='detailed-info-container').find_all('li')\n",
    "\n",
    "            # Initialize variables for price, bedroom, and bathroom\n",
    "            price = \"Na\"\n",
    "            bedroom = \"Na\"\n",
    "            bathroom = \"Na\"\n",
    "\n",
    "            # Process the text from each <li> element\n",
    "            for li in li_elements:\n",
    "                text = li.get_text()\n",
    "                \n",
    "                # Check if the text contains \"per month\" (indicating it's a price)\n",
    "                if \"per month\" in text:\n",
    "                    # Check if multiple prices (indicated by \"-\"), and assign \"Na\"\n",
    "                    if \"-\" in text:\n",
    "                        price = \"Na\"\n",
    "                    else:\n",
    "                        price = text[:-10]\n",
    "                        # Otherwise, get only the price by removing \"$\" and \",\"\n",
    "                        price = text.replace('$', '').replace(',', '')\n",
    "                \n",
    "                # Check if the text contains \"Beds\" (indicating it's the number of bedrooms)\n",
    "                if \"Beds\" in text:\n",
    "                    if \"-\" not in text:\n",
    "                        bedroom = int(text.split()[0])\n",
    "\n",
    "                # Check if the text contains \"Baths\" (indicating it's the number of bathrooms)\n",
    "                if \"Baths\" in text:\n",
    "                    if \"-\" not in text:\n",
    "                        bathroom = float(text.split()[0])\n",
    "\n",
    "            # Append the extracted data to respective lists\n",
    "            prices.append(price)\n",
    "            bedrooms.append(bedroom)\n",
    "            bathrooms.append(bathroom)\n",
    "\n",
    "        if post.find('p', class_='address') is not None:\n",
    "            address = post.find('p', class_='address').text\n",
    "            addresses.append(address)\n",
    "        if post.find('p', class_='property-name') is not None:\n",
    "            title = post.find('p', class_='property-name').text\n",
    "            titles.append(title)\n",
    "    \n",
    "    i += 1\n",
    "    print(\"Page \" + str(i) + \" scraped successfully!\")\n",
    "\n",
    "print(\"\\n\")\n",
    "print(\"Scrape complete!\")\n"
   ]
  },
  {
   "cell_type": "code",
   "execution_count": 32,
   "metadata": {},
   "outputs": [
    {
     "name": "stdout",
     "output_type": "stream",
     "text": [
      "<class 'pandas.core.frame.DataFrame'>\n",
      "RangeIndex: 216 entries, 0 to 215\n",
      "Data columns (total 5 columns):\n",
      " #   Column    Non-Null Count  Dtype \n",
      "---  ------    --------------  ----- \n",
      " 0   Title     216 non-null    object\n",
      " 1   Address   216 non-null    object\n",
      " 2   Bedroom   216 non-null    int64 \n",
      " 3   Bathroom  216 non-null    object\n",
      " 4   Price     216 non-null    object\n",
      "dtypes: int64(1), object(4)\n",
      "memory usage: 8.6+ KB\n",
      "None\n"
     ]
    },
    {
     "data": {
      "text/html": [
       "<div>\n",
       "<style scoped>\n",
       "    .dataframe tbody tr th:only-of-type {\n",
       "        vertical-align: middle;\n",
       "    }\n",
       "\n",
       "    .dataframe tbody tr th {\n",
       "        vertical-align: top;\n",
       "    }\n",
       "\n",
       "    .dataframe thead th {\n",
       "        text-align: right;\n",
       "    }\n",
       "</style>\n",
       "<table border=\"1\" class=\"dataframe\">\n",
       "  <thead>\n",
       "    <tr style=\"text-align: right;\">\n",
       "      <th></th>\n",
       "      <th>Title</th>\n",
       "      <th>Address</th>\n",
       "      <th>Bedroom</th>\n",
       "      <th>Bathroom</th>\n",
       "      <th>Price</th>\n",
       "    </tr>\n",
       "  </thead>\n",
       "  <tbody>\n",
       "    <tr>\n",
       "      <th>0</th>\n",
       "      <td>House for Rent</td>\n",
       "      <td>8932 Claret Way, Bristow, VA 20136</td>\n",
       "      <td>5</td>\n",
       "      <td>3.5</td>\n",
       "      <td>3295 per month</td>\n",
       "    </tr>\n",
       "    <tr>\n",
       "      <th>1</th>\n",
       "      <td>House for Rent</td>\n",
       "      <td>10245 Picturesque Ct, Nokesville, VA 20181</td>\n",
       "      <td>4</td>\n",
       "      <td>3.5</td>\n",
       "      <td>3450 per month</td>\n",
       "    </tr>\n",
       "    <tr>\n",
       "      <th>2</th>\n",
       "      <td>House for Rent</td>\n",
       "      <td>1439 Maryland Ave, Woodbridge, VA 22191</td>\n",
       "      <td>3</td>\n",
       "      <td>2.0</td>\n",
       "      <td>2799 per month</td>\n",
       "    </tr>\n",
       "    <tr>\n",
       "      <th>3</th>\n",
       "      <td>Townhouse for Rent</td>\n",
       "      <td>13050 Terminal Way, Woodbridge, VA 22193</td>\n",
       "      <td>4</td>\n",
       "      <td>4.0</td>\n",
       "      <td>2500 per month</td>\n",
       "    </tr>\n",
       "    <tr>\n",
       "      <th>4</th>\n",
       "      <td>Townhouse for Rent</td>\n",
       "      <td>7609 Monitor Ct, Manassas, VA 20109</td>\n",
       "      <td>3</td>\n",
       "      <td>2.5</td>\n",
       "      <td>2395 per month</td>\n",
       "    </tr>\n",
       "    <tr>\n",
       "      <th>5</th>\n",
       "      <td>Townhouse for Rent</td>\n",
       "      <td>5021 Barnacle Place, Dumfries, VA 22025</td>\n",
       "      <td>3</td>\n",
       "      <td>3.5</td>\n",
       "      <td>2650 per month</td>\n",
       "    </tr>\n",
       "    <tr>\n",
       "      <th>6</th>\n",
       "      <td>Townhouse for Rent</td>\n",
       "      <td>12902 Titania Way, Woodbridge, VA 22192</td>\n",
       "      <td>2</td>\n",
       "      <td>2.5</td>\n",
       "      <td>2142 per month</td>\n",
       "    </tr>\n",
       "    <tr>\n",
       "      <th>7</th>\n",
       "      <td>House for Rent</td>\n",
       "      <td>7629 Hamelin Ln, Gainesville, VA 20155</td>\n",
       "      <td>4</td>\n",
       "      <td>2.5</td>\n",
       "      <td>3442 per month</td>\n",
       "    </tr>\n",
       "    <tr>\n",
       "      <th>8</th>\n",
       "      <td>Townhouse for Rent</td>\n",
       "      <td>14807 Ensor Ct, Woodbridge, VA 22193</td>\n",
       "      <td>4</td>\n",
       "      <td>3.0</td>\n",
       "      <td>2200 per month</td>\n",
       "    </tr>\n",
       "    <tr>\n",
       "      <th>9</th>\n",
       "      <td>Townhouse for Rent</td>\n",
       "      <td>16087 Pitner St, Haymarket, VA 20169</td>\n",
       "      <td>3</td>\n",
       "      <td>4.0</td>\n",
       "      <td>2992 per month</td>\n",
       "    </tr>\n",
       "  </tbody>\n",
       "</table>\n",
       "</div>"
      ],
      "text/plain": [
       "                Title                                     Address  Bedroom  \\\n",
       "0      House for Rent          8932 Claret Way, Bristow, VA 20136        5   \n",
       "1      House for Rent  10245 Picturesque Ct, Nokesville, VA 20181        4   \n",
       "2      House for Rent     1439 Maryland Ave, Woodbridge, VA 22191        3   \n",
       "3  Townhouse for Rent    13050 Terminal Way, Woodbridge, VA 22193        4   \n",
       "4  Townhouse for Rent         7609 Monitor Ct, Manassas, VA 20109        3   \n",
       "5  Townhouse for Rent     5021 Barnacle Place, Dumfries, VA 22025        3   \n",
       "6  Townhouse for Rent     12902 Titania Way, Woodbridge, VA 22192        2   \n",
       "7      House for Rent      7629 Hamelin Ln, Gainesville, VA 20155        4   \n",
       "8  Townhouse for Rent        14807 Ensor Ct, Woodbridge, VA 22193        4   \n",
       "9  Townhouse for Rent        16087 Pitner St, Haymarket, VA 20169        3   \n",
       "\n",
       "  Bathroom           Price  \n",
       "0      3.5  3295 per month  \n",
       "1      3.5  3450 per month  \n",
       "2      2.0  2799 per month  \n",
       "3      4.0  2500 per month  \n",
       "4      2.5  2395 per month  \n",
       "5      3.5  2650 per month  \n",
       "6      2.5  2142 per month  \n",
       "7      2.5  3442 per month  \n",
       "8      3.0  2200 per month  \n",
       "9      4.0  2992 per month  "
      ]
     },
     "execution_count": 32,
     "metadata": {},
     "output_type": "execute_result"
    }
   ],
   "source": [
    "prince_william = pd.DataFrame({'Title': titles,\n",
    "                       'Address': addresses,\n",
    "                       'Bedroom': bedrooms,\n",
    "                       'Bathroom': bathrooms,\n",
    "                        'Price': prices,\n",
    "                        })\n",
    "print(prince_william.info())\n",
    "prince_william.head(10)"
   ]
  },
  {
   "cell_type": "code",
   "execution_count": 33,
   "metadata": {},
   "outputs": [],
   "source": [
    "#write to csv file for later use\n",
    "prince_william.to_csv('prince_william.csv')"
   ]
  },
  {
   "cell_type": "markdown",
   "metadata": {},
   "source": [
    "# Mclean"
   ]
  },
  {
   "cell_type": "code",
   "execution_count": 48,
   "metadata": {},
   "outputs": [
    {
     "name": "stdout",
     "output_type": "stream",
     "text": [
      "Page 1 scraped successfully!\n",
      "Page 2 scraped successfully!\n",
      "Page 3 scraped successfully!\n",
      "Page 4 scraped successfully!\n",
      "\n",
      "\n",
      "Scrape complete!\n"
     ]
    }
   ],
   "source": [
    "# Define headers\n",
    "Headers = ({'User-Agent': \n",
    "            'Mozilla/5.0 (Macintosh; Intel Mac OS X 10_15_7) AppleWebKit/537.36 (KHTML, like Gecko) Chrome/91.0.4472.114 Safari/537.36'})\n",
    "\n",
    "# Make a GET request to the initial page to get the total number of pages\n",
    "response = requests.get(\"https://www.homes.com/mclean-va/homes-for-rent/2-to-5-bedroom/?property_type=1,2&bath-min=1&bath-max=5\", headers=Headers)\n",
    "\n",
    "if response.status_code == 200:\n",
    "    first_soup = BeautifulSoup(response.text, 'html.parser')\n",
    "    # Find the total number of pages\n",
    "    total_pages = first_soup.find('span', class_='pageRange').text\n",
    "    total_pages = int(total_pages[-2:])\n",
    "else:\n",
    "    print(\"Failed to retrieve the total number of pages.\")\n",
    "    total_pages = 0\n",
    "\n",
    "addresses = []\n",
    "prices = []\n",
    "bedrooms = []\n",
    "bathrooms = []\n",
    "titles = []\n",
    "\n",
    "# Initiate pages\n",
    "pages = np.arange(1, total_pages + 1)\n",
    "\n",
    "i = 0\n",
    "\n",
    "for page in pages:\n",
    "    page_str = str(page)\n",
    "    # Get request\n",
    "    response = requests.get(f\"https://www.homes.com/mclean-va/homes-for-rent/2-to-5-bedroom/p{page_str}/?property_type=1,2&bath-min=1&bath-max=5\", headers=Headers)\n",
    "    \n",
    "    # Pause the loop\n",
    "    sleep(random.randint(5, 10))\n",
    "    \n",
    "    # Throw a warning for status codes that are not 200\n",
    "    if response.status_code != 200:\n",
    "        warnings.warn(f'Request for page {page} failed with status code: {response.status_code}')\n",
    "        continue  # Skip processing this page and continue with the next\n",
    "    \n",
    "    # Define the HTML text\n",
    "    soup = BeautifulSoup(response.text, 'html.parser')\n",
    "    \n",
    "    # Define the posts\n",
    "    posts = soup.find_all('li', class_=\"placard-container\")\n",
    "    \n",
    "    # Extract data item-wise\n",
    "    for post in posts:\n",
    "        if post.find('ul', class_='detailed-info-container') is not None:\n",
    "            # Find all <li> elements within the <ul> element\n",
    "            li_elements = post.find('ul', class_='detailed-info-container').find_all('li')\n",
    "\n",
    "            # Initialize variables for price, bedroom, and bathroom\n",
    "            price = \"Na\"\n",
    "            bedroom = \"Na\"\n",
    "            bathroom = \"Na\"\n",
    "\n",
    "            # Process the text from each <li> element\n",
    "            for li in li_elements:\n",
    "                text = li.get_text()\n",
    "                \n",
    "                # Check if the text contains \"per month\" (indicating it's a price)\n",
    "                if \"per month\" in text:\n",
    "                    # Check if multiple prices (indicated by \"-\"), and assign \"Na\"\n",
    "                    if \"-\" in text:\n",
    "                        price = \"Na\"\n",
    "                    else:\n",
    "                        price = text[:-10]\n",
    "                        # Otherwise, get only the price by removing \"$\" and \",\"\n",
    "                        price = text.replace('$', '').replace(',', '')\n",
    "                \n",
    "                # Check if the text contains \"Beds\" (indicating it's the number of bedrooms)\n",
    "                if \"Beds\" in text:\n",
    "                    if \"-\" not in text:\n",
    "                        bedroom = int(text.split()[0])\n",
    "\n",
    "                # Check if the text contains \"Baths\" (indicating it's the number of bathrooms)\n",
    "                if \"Baths\" in text:\n",
    "                    if \"-\" not in text:\n",
    "                        bathroom = float(text.split()[0])\n",
    "\n",
    "            # Append the extracted data to respective lists\n",
    "            prices.append(price)\n",
    "            bedrooms.append(bedroom)\n",
    "            bathrooms.append(bathroom)\n",
    "\n",
    "        if post.find('p', class_='address') is not None:\n",
    "            address = post.find('p', class_='address').text\n",
    "            addresses.append(address)\n",
    "        if post.find('p', class_='property-name') is not None:\n",
    "            title = post.find('p', class_='property-name').text\n",
    "            titles.append(title)\n",
    "    \n",
    "    i += 1\n",
    "    print(\"Page \" + str(i) + \" scraped successfully!\")\n",
    "\n",
    "print(\"\\n\")\n",
    "print(\"Scrape complete!\")\n"
   ]
  },
  {
   "cell_type": "code",
   "execution_count": 49,
   "metadata": {},
   "outputs": [
    {
     "name": "stdout",
     "output_type": "stream",
     "text": [
      "<class 'pandas.core.frame.DataFrame'>\n",
      "RangeIndex: 97 entries, 0 to 96\n",
      "Data columns (total 5 columns):\n",
      " #   Column    Non-Null Count  Dtype \n",
      "---  ------    --------------  ----- \n",
      " 0   Title     97 non-null     object\n",
      " 1   Address   97 non-null     object\n",
      " 2   Bedroom   97 non-null     object\n",
      " 3   Bathroom  97 non-null     object\n",
      " 4   Price     97 non-null     object\n",
      "dtypes: object(5)\n",
      "memory usage: 3.9+ KB\n",
      "None\n"
     ]
    },
    {
     "data": {
      "text/html": [
       "<div>\n",
       "<style scoped>\n",
       "    .dataframe tbody tr th:only-of-type {\n",
       "        vertical-align: middle;\n",
       "    }\n",
       "\n",
       "    .dataframe tbody tr th {\n",
       "        vertical-align: top;\n",
       "    }\n",
       "\n",
       "    .dataframe thead th {\n",
       "        text-align: right;\n",
       "    }\n",
       "</style>\n",
       "<table border=\"1\" class=\"dataframe\">\n",
       "  <thead>\n",
       "    <tr style=\"text-align: right;\">\n",
       "      <th></th>\n",
       "      <th>Title</th>\n",
       "      <th>Address</th>\n",
       "      <th>Bedroom</th>\n",
       "      <th>Bathroom</th>\n",
       "      <th>Price</th>\n",
       "    </tr>\n",
       "  </thead>\n",
       "  <tbody>\n",
       "    <tr>\n",
       "      <th>0</th>\n",
       "      <td>Brentford at The Mile</td>\n",
       "      <td>7970 Maitland St, McLean, VA 22102</td>\n",
       "      <td>Na</td>\n",
       "      <td>Na</td>\n",
       "      <td>Na</td>\n",
       "    </tr>\n",
       "    <tr>\n",
       "      <th>1</th>\n",
       "      <td>Townhouse for Rent</td>\n",
       "      <td>1708 Anderson Rd, McLean, VA 22102</td>\n",
       "      <td>3</td>\n",
       "      <td>5.0</td>\n",
       "      <td>4990 per month</td>\n",
       "    </tr>\n",
       "    <tr>\n",
       "      <th>2</th>\n",
       "      <td>House for Rent</td>\n",
       "      <td>1348 Macbeth St, McLean, VA 22102</td>\n",
       "      <td>4</td>\n",
       "      <td>4.0</td>\n",
       "      <td>4900 per month</td>\n",
       "    </tr>\n",
       "    <tr>\n",
       "      <th>3</th>\n",
       "      <td>House for Rent</td>\n",
       "      <td>7106 Thrasher Rd, McLean, VA 22101</td>\n",
       "      <td>7</td>\n",
       "      <td>6.5</td>\n",
       "      <td>9800 per month</td>\n",
       "    </tr>\n",
       "    <tr>\n",
       "      <th>4</th>\n",
       "      <td>House for Rent</td>\n",
       "      <td>7008 Hamel Hill Ct, McLean, VA 22101</td>\n",
       "      <td>6</td>\n",
       "      <td>6.5</td>\n",
       "      <td>9600 per month</td>\n",
       "    </tr>\n",
       "    <tr>\n",
       "      <th>5</th>\n",
       "      <td>Townhouse for Rent</td>\n",
       "      <td>7224 Vistas Ln, McLean, VA 22101</td>\n",
       "      <td>3</td>\n",
       "      <td>2.5</td>\n",
       "      <td>4850 per month</td>\n",
       "    </tr>\n",
       "    <tr>\n",
       "      <th>6</th>\n",
       "      <td>House for Rent</td>\n",
       "      <td>1654 Great Falls St, McLean, VA 22101</td>\n",
       "      <td>5</td>\n",
       "      <td>5.0</td>\n",
       "      <td>8500 per month</td>\n",
       "    </tr>\n",
       "    <tr>\n",
       "      <th>7</th>\n",
       "      <td>House for Rent</td>\n",
       "      <td>1556 Hane St, McLean, VA 22101</td>\n",
       "      <td>5</td>\n",
       "      <td>3.0</td>\n",
       "      <td>3850 per month</td>\n",
       "    </tr>\n",
       "    <tr>\n",
       "      <th>8</th>\n",
       "      <td>House for Rent</td>\n",
       "      <td>9428 Meadow Shire Ln, Great Falls, VA 22066</td>\n",
       "      <td>5</td>\n",
       "      <td>3.0</td>\n",
       "      <td>5500 per month</td>\n",
       "    </tr>\n",
       "    <tr>\n",
       "      <th>9</th>\n",
       "      <td>House for Rent</td>\n",
       "      <td>8726 Brook Rd, McLean, VA 22102</td>\n",
       "      <td>7</td>\n",
       "      <td>6.0</td>\n",
       "      <td>8950 per month</td>\n",
       "    </tr>\n",
       "  </tbody>\n",
       "</table>\n",
       "</div>"
      ],
      "text/plain": [
       "                   Title                                      Address Bedroom  \\\n",
       "0  Brentford at The Mile           7970 Maitland St, McLean, VA 22102      Na   \n",
       "1     Townhouse for Rent           1708 Anderson Rd, McLean, VA 22102       3   \n",
       "2         House for Rent            1348 Macbeth St, McLean, VA 22102       4   \n",
       "3         House for Rent           7106 Thrasher Rd, McLean, VA 22101       7   \n",
       "4         House for Rent         7008 Hamel Hill Ct, McLean, VA 22101       6   \n",
       "5     Townhouse for Rent             7224 Vistas Ln, McLean, VA 22101       3   \n",
       "6         House for Rent        1654 Great Falls St, McLean, VA 22101       5   \n",
       "7         House for Rent               1556 Hane St, McLean, VA 22101       5   \n",
       "8         House for Rent  9428 Meadow Shire Ln, Great Falls, VA 22066       5   \n",
       "9         House for Rent              8726 Brook Rd, McLean, VA 22102       7   \n",
       "\n",
       "  Bathroom           Price  \n",
       "0       Na              Na  \n",
       "1      5.0  4990 per month  \n",
       "2      4.0  4900 per month  \n",
       "3      6.5  9800 per month  \n",
       "4      6.5  9600 per month  \n",
       "5      2.5  4850 per month  \n",
       "6      5.0  8500 per month  \n",
       "7      3.0  3850 per month  \n",
       "8      3.0  5500 per month  \n",
       "9      6.0  8950 per month  "
      ]
     },
     "execution_count": 49,
     "metadata": {},
     "output_type": "execute_result"
    }
   ],
   "source": [
    "mclean = pd.DataFrame({'Title': titles,\n",
    "                       'Address': addresses,\n",
    "                       'Bedroom': bedrooms,\n",
    "                       'Bathroom': bathrooms,\n",
    "                        'Price': prices,\n",
    "                        })\n",
    "print(mclean.info())\n",
    "mclean.head(10)"
   ]
  },
  {
   "cell_type": "code",
   "execution_count": 50,
   "metadata": {},
   "outputs": [],
   "source": [
    "#write to csv file for later use\n",
    "mclean.to_csv('mclean.csv')"
   ]
  },
  {
   "cell_type": "markdown",
   "metadata": {},
   "source": [
    "# Data Processing & Validation"
   ]
  },
  {
   "cell_type": "markdown",
   "metadata": {},
   "source": [
    "- Merge all df\n",
    "- Extract title\n",
    "- Extract City, State, Zip\n",
    "- Extract price"
   ]
  },
  {
   "cell_type": "markdown",
   "metadata": {},
   "source": [
    "## Reload data from csv files"
   ]
  },
  {
   "cell_type": "code",
   "execution_count": 3,
   "metadata": {},
   "outputs": [],
   "source": [
    "path = '/Users/jenniferma/Desktop/rentals/data/'"
   ]
  },
  {
   "cell_type": "code",
   "execution_count": 4,
   "metadata": {},
   "outputs": [],
   "source": [
    "# you would not want to run the scraping scripts if you already ran and saved the data. Just upload the files:\n",
    "fairfax_county_va = pd.read_csv(path + 'fairfaxcountyVA.csv', index_col=[0])  # index col = [0] to ignore the index col in the csv files\n",
    "arlington = pd.read_csv(path +'arlington.csv', index_col=[0])\n",
    "dc = pd.read_csv(path + 'dc.csv', index_col=[0])\n",
    "prince_william = pd.read_csv(path + 'prince_william.csv', index_col=[0])\n",
    "mclean = pd.read_csv(path + 'mclean.csv', index_col=[0])"
   ]
  },
  {
   "cell_type": "code",
   "execution_count": 5,
   "metadata": {},
   "outputs": [],
   "source": [
    "# merge all the dataframe in one\n",
    "rentals = pd.concat([fairfax_county_va, arlington, dc, prince_william, mclean])"
   ]
  },
  {
   "cell_type": "code",
   "execution_count": 6,
   "metadata": {},
   "outputs": [
    {
     "name": "stdout",
     "output_type": "stream",
     "text": [
      "<class 'pandas.core.frame.DataFrame'>\n",
      "Index: 1251 entries, 0 to 96\n",
      "Data columns (total 5 columns):\n",
      " #   Column    Non-Null Count  Dtype \n",
      "---  ------    --------------  ----- \n",
      " 0   Title     1251 non-null   object\n",
      " 1   Address   1251 non-null   object\n",
      " 2   Bedroom   1251 non-null   object\n",
      " 3   Bathroom  1251 non-null   object\n",
      " 4   Price     1251 non-null   object\n",
      "dtypes: object(5)\n",
      "memory usage: 58.6+ KB\n"
     ]
    }
   ],
   "source": [
    "rentals.info()"
   ]
  },
  {
   "cell_type": "code",
   "execution_count": 7,
   "metadata": {},
   "outputs": [
    {
     "data": {
      "text/html": [
       "<div>\n",
       "<style scoped>\n",
       "    .dataframe tbody tr th:only-of-type {\n",
       "        vertical-align: middle;\n",
       "    }\n",
       "\n",
       "    .dataframe tbody tr th {\n",
       "        vertical-align: top;\n",
       "    }\n",
       "\n",
       "    .dataframe thead th {\n",
       "        text-align: right;\n",
       "    }\n",
       "</style>\n",
       "<table border=\"1\" class=\"dataframe\">\n",
       "  <thead>\n",
       "    <tr style=\"text-align: right;\">\n",
       "      <th></th>\n",
       "      <th>Title</th>\n",
       "      <th>Address</th>\n",
       "      <th>Bedroom</th>\n",
       "      <th>Bathroom</th>\n",
       "      <th>Price</th>\n",
       "    </tr>\n",
       "  </thead>\n",
       "  <tbody>\n",
       "    <tr>\n",
       "      <th>0</th>\n",
       "      <td>Brentford at The Mile</td>\n",
       "      <td>7970 Maitland St, McLean, VA 22102</td>\n",
       "      <td>Na</td>\n",
       "      <td>Na</td>\n",
       "      <td>Na</td>\n",
       "    </tr>\n",
       "    <tr>\n",
       "      <th>1</th>\n",
       "      <td>House for Rent</td>\n",
       "      <td>5929 Merritt Place, Falls Church, VA 22041</td>\n",
       "      <td>5</td>\n",
       "      <td>3.0</td>\n",
       "      <td>4150 per month</td>\n",
       "    </tr>\n",
       "    <tr>\n",
       "      <th>2</th>\n",
       "      <td>Townes at Herndon</td>\n",
       "      <td>508 Pride Ave, Herndon, VA 20170</td>\n",
       "      <td>Na</td>\n",
       "      <td>Na</td>\n",
       "      <td>Na</td>\n",
       "    </tr>\n",
       "    <tr>\n",
       "      <th>3</th>\n",
       "      <td>Townhouse for Rent</td>\n",
       "      <td>Unlisted Address</td>\n",
       "      <td>3</td>\n",
       "      <td>3.5</td>\n",
       "      <td>2775 per month</td>\n",
       "    </tr>\n",
       "    <tr>\n",
       "      <th>4</th>\n",
       "      <td>House for Rent</td>\n",
       "      <td>703 Morningside Ct, Herndon, VA 20170</td>\n",
       "      <td>5</td>\n",
       "      <td>2.0</td>\n",
       "      <td>3300 per month</td>\n",
       "    </tr>\n",
       "  </tbody>\n",
       "</table>\n",
       "</div>"
      ],
      "text/plain": [
       "                   Title                                     Address Bedroom  \\\n",
       "0  Brentford at The Mile          7970 Maitland St, McLean, VA 22102      Na   \n",
       "1         House for Rent  5929 Merritt Place, Falls Church, VA 22041       5   \n",
       "2      Townes at Herndon            508 Pride Ave, Herndon, VA 20170      Na   \n",
       "3     Townhouse for Rent                            Unlisted Address       3   \n",
       "4         House for Rent       703 Morningside Ct, Herndon, VA 20170       5   \n",
       "\n",
       "  Bathroom           Price  \n",
       "0       Na              Na  \n",
       "1      3.0  4150 per month  \n",
       "2       Na              Na  \n",
       "3      3.5  2775 per month  \n",
       "4      2.0  3300 per month  "
      ]
     },
     "execution_count": 7,
     "metadata": {},
     "output_type": "execute_result"
    }
   ],
   "source": [
    "rentals.head()"
   ]
  },
  {
   "cell_type": "markdown",
   "metadata": {},
   "source": [
    "## Data Processing"
   ]
  },
  {
   "cell_type": "code",
   "execution_count": 8,
   "metadata": {},
   "outputs": [
    {
     "name": "stdout",
     "output_type": "stream",
     "text": [
      "<class 'pandas.core.frame.DataFrame'>\n",
      "Index: 1248 entries, 1 to 96\n",
      "Data columns (total 5 columns):\n",
      " #   Column    Non-Null Count  Dtype \n",
      "---  ------    --------------  ----- \n",
      " 0   Title     1248 non-null   object\n",
      " 1   Address   1248 non-null   object\n",
      " 2   Bedroom   1248 non-null   object\n",
      " 3   Bathroom  1248 non-null   object\n",
      " 4   Price     1248 non-null   object\n",
      "dtypes: object(5)\n",
      "memory usage: 58.5+ KB\n"
     ]
    }
   ],
   "source": [
    "# drop rows that have Na\n",
    "rentals = rentals[rentals.Bedroom != 'Na']\n",
    "rentals.info()"
   ]
  },
  {
   "cell_type": "code",
   "execution_count": 9,
   "metadata": {},
   "outputs": [
    {
     "data": {
      "text/html": [
       "<div>\n",
       "<style scoped>\n",
       "    .dataframe tbody tr th:only-of-type {\n",
       "        vertical-align: middle;\n",
       "    }\n",
       "\n",
       "    .dataframe tbody tr th {\n",
       "        vertical-align: top;\n",
       "    }\n",
       "\n",
       "    .dataframe thead th {\n",
       "        text-align: right;\n",
       "    }\n",
       "</style>\n",
       "<table border=\"1\" class=\"dataframe\">\n",
       "  <thead>\n",
       "    <tr style=\"text-align: right;\">\n",
       "      <th></th>\n",
       "      <th>Title</th>\n",
       "      <th>Address</th>\n",
       "      <th>Bedroom</th>\n",
       "      <th>Bathroom</th>\n",
       "      <th>Price</th>\n",
       "    </tr>\n",
       "  </thead>\n",
       "  <tbody>\n",
       "  </tbody>\n",
       "</table>\n",
       "</div>"
      ],
      "text/plain": [
       "Empty DataFrame\n",
       "Columns: [Title, Address, Bedroom, Bathroom, Price]\n",
       "Index: []"
      ]
     },
     "execution_count": 9,
     "metadata": {},
     "output_type": "execute_result"
    }
   ],
   "source": [
    "# check again if there is still Na in the dataframe\n",
    "rentals[rentals.Bedroom == 'Na']"
   ]
  },
  {
   "cell_type": "code",
   "execution_count": 10,
   "metadata": {},
   "outputs": [],
   "source": [
    "# extract townhouse or house for titles\n",
    "# extracting just Townhouse or House\n",
    "def extract_title(col):\n",
    "    pattern = r'(Townhouse|House) for Rent'\n",
    "    match = re.search(pattern, col)\n",
    "    if match:\n",
    "        house_type = match.group(1)\n",
    "        return house_type\n",
    "    else:\n",
    "        None"
   ]
  },
  {
   "cell_type": "code",
   "execution_count": 11,
   "metadata": {},
   "outputs": [
    {
     "data": {
      "text/html": [
       "<div>\n",
       "<style scoped>\n",
       "    .dataframe tbody tr th:only-of-type {\n",
       "        vertical-align: middle;\n",
       "    }\n",
       "\n",
       "    .dataframe tbody tr th {\n",
       "        vertical-align: top;\n",
       "    }\n",
       "\n",
       "    .dataframe thead th {\n",
       "        text-align: right;\n",
       "    }\n",
       "</style>\n",
       "<table border=\"1\" class=\"dataframe\">\n",
       "  <thead>\n",
       "    <tr style=\"text-align: right;\">\n",
       "      <th></th>\n",
       "      <th>Title</th>\n",
       "      <th>Address</th>\n",
       "      <th>Bedroom</th>\n",
       "      <th>Bathroom</th>\n",
       "      <th>Price</th>\n",
       "    </tr>\n",
       "  </thead>\n",
       "  <tbody>\n",
       "    <tr>\n",
       "      <th>1</th>\n",
       "      <td>House</td>\n",
       "      <td>5929 Merritt Place, Falls Church, VA 22041</td>\n",
       "      <td>5</td>\n",
       "      <td>3.0</td>\n",
       "      <td>4150 per month</td>\n",
       "    </tr>\n",
       "    <tr>\n",
       "      <th>3</th>\n",
       "      <td>Townhouse</td>\n",
       "      <td>Unlisted Address</td>\n",
       "      <td>3</td>\n",
       "      <td>3.5</td>\n",
       "      <td>2775 per month</td>\n",
       "    </tr>\n",
       "    <tr>\n",
       "      <th>4</th>\n",
       "      <td>House</td>\n",
       "      <td>703 Morningside Ct, Herndon, VA 20170</td>\n",
       "      <td>5</td>\n",
       "      <td>2.0</td>\n",
       "      <td>3300 per month</td>\n",
       "    </tr>\n",
       "    <tr>\n",
       "      <th>5</th>\n",
       "      <td>Townhouse</td>\n",
       "      <td>5455 New London Park Dr, Fairfax, VA 22032</td>\n",
       "      <td>3</td>\n",
       "      <td>4.0</td>\n",
       "      <td>2700 per month</td>\n",
       "    </tr>\n",
       "    <tr>\n",
       "      <th>6</th>\n",
       "      <td>Townhouse</td>\n",
       "      <td>14312 Beckett Glen Cir, Chantilly, VA 20151</td>\n",
       "      <td>3</td>\n",
       "      <td>5.0</td>\n",
       "      <td>4800 per month</td>\n",
       "    </tr>\n",
       "  </tbody>\n",
       "</table>\n",
       "</div>"
      ],
      "text/plain": [
       "       Title                                      Address Bedroom Bathroom  \\\n",
       "1      House   5929 Merritt Place, Falls Church, VA 22041       5      3.0   \n",
       "3  Townhouse                             Unlisted Address       3      3.5   \n",
       "4      House        703 Morningside Ct, Herndon, VA 20170       5      2.0   \n",
       "5  Townhouse   5455 New London Park Dr, Fairfax, VA 22032       3      4.0   \n",
       "6  Townhouse  14312 Beckett Glen Cir, Chantilly, VA 20151       3      5.0   \n",
       "\n",
       "            Price  \n",
       "1  4150 per month  \n",
       "3  2775 per month  \n",
       "4  3300 per month  \n",
       "5  2700 per month  \n",
       "6  4800 per month  "
      ]
     },
     "execution_count": 11,
     "metadata": {},
     "output_type": "execute_result"
    }
   ],
   "source": [
    "# let's apply to title col\n",
    "rentals['Title'] = rentals['Title'].apply(extract_title)\n",
    "rentals.head()"
   ]
  },
  {
   "cell_type": "code",
   "execution_count": 12,
   "metadata": {},
   "outputs": [],
   "source": [
    "# extract state, city, and zipcode\n",
    "def extract_address(address):\n",
    "    # Define a regular expression pattern to capture city, state, and zipcode\n",
    "    pattern = r', (.*), (..) (\\d{5})$'\n",
    "\n",
    "    # Use re.search() to find the pattern in the address\n",
    "    match = re.search(pattern, address)\n",
    "\n",
    "    # Check if a match is found and extract the city, state, and zipcode\n",
    "    if match:\n",
    "        city = match.group(1).strip()  # Remove leading/trailing spaces\n",
    "        state = match.group(2)\n",
    "        zipcode = match.group(3)\n",
    "        return city, state, zipcode\n",
    "    else:\n",
    "        return None, None, None\n"
   ]
  },
  {
   "cell_type": "code",
   "execution_count": 13,
   "metadata": {},
   "outputs": [
    {
     "data": {
      "text/html": [
       "<div>\n",
       "<style scoped>\n",
       "    .dataframe tbody tr th:only-of-type {\n",
       "        vertical-align: middle;\n",
       "    }\n",
       "\n",
       "    .dataframe tbody tr th {\n",
       "        vertical-align: top;\n",
       "    }\n",
       "\n",
       "    .dataframe thead th {\n",
       "        text-align: right;\n",
       "    }\n",
       "</style>\n",
       "<table border=\"1\" class=\"dataframe\">\n",
       "  <thead>\n",
       "    <tr style=\"text-align: right;\">\n",
       "      <th></th>\n",
       "      <th>Title</th>\n",
       "      <th>Address</th>\n",
       "      <th>Bedroom</th>\n",
       "      <th>Bathroom</th>\n",
       "      <th>Price</th>\n",
       "      <th>City</th>\n",
       "      <th>State</th>\n",
       "      <th>Zipcode</th>\n",
       "    </tr>\n",
       "  </thead>\n",
       "  <tbody>\n",
       "    <tr>\n",
       "      <th>1</th>\n",
       "      <td>House</td>\n",
       "      <td>5929 Merritt Place, Falls Church, VA 22041</td>\n",
       "      <td>5</td>\n",
       "      <td>3.0</td>\n",
       "      <td>4150 per month</td>\n",
       "      <td>Falls Church</td>\n",
       "      <td>VA</td>\n",
       "      <td>22041</td>\n",
       "    </tr>\n",
       "    <tr>\n",
       "      <th>3</th>\n",
       "      <td>Townhouse</td>\n",
       "      <td>Unlisted Address</td>\n",
       "      <td>3</td>\n",
       "      <td>3.5</td>\n",
       "      <td>2775 per month</td>\n",
       "      <td>None</td>\n",
       "      <td>None</td>\n",
       "      <td>None</td>\n",
       "    </tr>\n",
       "    <tr>\n",
       "      <th>4</th>\n",
       "      <td>House</td>\n",
       "      <td>703 Morningside Ct, Herndon, VA 20170</td>\n",
       "      <td>5</td>\n",
       "      <td>2.0</td>\n",
       "      <td>3300 per month</td>\n",
       "      <td>Herndon</td>\n",
       "      <td>VA</td>\n",
       "      <td>20170</td>\n",
       "    </tr>\n",
       "    <tr>\n",
       "      <th>5</th>\n",
       "      <td>Townhouse</td>\n",
       "      <td>5455 New London Park Dr, Fairfax, VA 22032</td>\n",
       "      <td>3</td>\n",
       "      <td>4.0</td>\n",
       "      <td>2700 per month</td>\n",
       "      <td>Fairfax</td>\n",
       "      <td>VA</td>\n",
       "      <td>22032</td>\n",
       "    </tr>\n",
       "    <tr>\n",
       "      <th>6</th>\n",
       "      <td>Townhouse</td>\n",
       "      <td>14312 Beckett Glen Cir, Chantilly, VA 20151</td>\n",
       "      <td>3</td>\n",
       "      <td>5.0</td>\n",
       "      <td>4800 per month</td>\n",
       "      <td>Chantilly</td>\n",
       "      <td>VA</td>\n",
       "      <td>20151</td>\n",
       "    </tr>\n",
       "  </tbody>\n",
       "</table>\n",
       "</div>"
      ],
      "text/plain": [
       "       Title                                      Address Bedroom Bathroom  \\\n",
       "1      House   5929 Merritt Place, Falls Church, VA 22041       5      3.0   \n",
       "3  Townhouse                             Unlisted Address       3      3.5   \n",
       "4      House        703 Morningside Ct, Herndon, VA 20170       5      2.0   \n",
       "5  Townhouse   5455 New London Park Dr, Fairfax, VA 22032       3      4.0   \n",
       "6  Townhouse  14312 Beckett Glen Cir, Chantilly, VA 20151       3      5.0   \n",
       "\n",
       "            Price          City State Zipcode  \n",
       "1  4150 per month  Falls Church    VA   22041  \n",
       "3  2775 per month          None  None    None  \n",
       "4  3300 per month       Herndon    VA   20170  \n",
       "5  2700 per month       Fairfax    VA   22032  \n",
       "6  4800 per month     Chantilly    VA   20151  "
      ]
     },
     "execution_count": 13,
     "metadata": {},
     "output_type": "execute_result"
    }
   ],
   "source": [
    "# apply the function\n",
    "rentals[['City', 'State', 'Zipcode']] = rentals['Address'].apply(lambda x: pd.Series(extract_address(x)))\n",
    "rentals.head()"
   ]
  },
  {
   "cell_type": "code",
   "execution_count": 14,
   "metadata": {},
   "outputs": [
    {
     "data": {
      "text/html": [
       "<div>\n",
       "<style scoped>\n",
       "    .dataframe tbody tr th:only-of-type {\n",
       "        vertical-align: middle;\n",
       "    }\n",
       "\n",
       "    .dataframe tbody tr th {\n",
       "        vertical-align: top;\n",
       "    }\n",
       "\n",
       "    .dataframe thead th {\n",
       "        text-align: right;\n",
       "    }\n",
       "</style>\n",
       "<table border=\"1\" class=\"dataframe\">\n",
       "  <thead>\n",
       "    <tr style=\"text-align: right;\">\n",
       "      <th></th>\n",
       "      <th>Title</th>\n",
       "      <th>Address</th>\n",
       "      <th>Bedroom</th>\n",
       "      <th>Bathroom</th>\n",
       "      <th>Price</th>\n",
       "      <th>City</th>\n",
       "      <th>State</th>\n",
       "      <th>Zipcode</th>\n",
       "    </tr>\n",
       "  </thead>\n",
       "  <tbody>\n",
       "    <tr>\n",
       "      <th>1</th>\n",
       "      <td>House</td>\n",
       "      <td>5929 Merritt Place, Falls Church, VA 22041</td>\n",
       "      <td>5</td>\n",
       "      <td>3.0</td>\n",
       "      <td>4150</td>\n",
       "      <td>Falls Church</td>\n",
       "      <td>VA</td>\n",
       "      <td>22041</td>\n",
       "    </tr>\n",
       "    <tr>\n",
       "      <th>3</th>\n",
       "      <td>Townhouse</td>\n",
       "      <td>Unlisted Address</td>\n",
       "      <td>3</td>\n",
       "      <td>3.5</td>\n",
       "      <td>2775</td>\n",
       "      <td>None</td>\n",
       "      <td>None</td>\n",
       "      <td>None</td>\n",
       "    </tr>\n",
       "    <tr>\n",
       "      <th>4</th>\n",
       "      <td>House</td>\n",
       "      <td>703 Morningside Ct, Herndon, VA 20170</td>\n",
       "      <td>5</td>\n",
       "      <td>2.0</td>\n",
       "      <td>3300</td>\n",
       "      <td>Herndon</td>\n",
       "      <td>VA</td>\n",
       "      <td>20170</td>\n",
       "    </tr>\n",
       "    <tr>\n",
       "      <th>5</th>\n",
       "      <td>Townhouse</td>\n",
       "      <td>5455 New London Park Dr, Fairfax, VA 22032</td>\n",
       "      <td>3</td>\n",
       "      <td>4.0</td>\n",
       "      <td>2700</td>\n",
       "      <td>Fairfax</td>\n",
       "      <td>VA</td>\n",
       "      <td>22032</td>\n",
       "    </tr>\n",
       "    <tr>\n",
       "      <th>6</th>\n",
       "      <td>Townhouse</td>\n",
       "      <td>14312 Beckett Glen Cir, Chantilly, VA 20151</td>\n",
       "      <td>3</td>\n",
       "      <td>5.0</td>\n",
       "      <td>4800</td>\n",
       "      <td>Chantilly</td>\n",
       "      <td>VA</td>\n",
       "      <td>20151</td>\n",
       "    </tr>\n",
       "  </tbody>\n",
       "</table>\n",
       "</div>"
      ],
      "text/plain": [
       "       Title                                      Address Bedroom Bathroom  \\\n",
       "1      House   5929 Merritt Place, Falls Church, VA 22041       5      3.0   \n",
       "3  Townhouse                             Unlisted Address       3      3.5   \n",
       "4      House        703 Morningside Ct, Herndon, VA 20170       5      2.0   \n",
       "5  Townhouse   5455 New London Park Dr, Fairfax, VA 22032       3      4.0   \n",
       "6  Townhouse  14312 Beckett Glen Cir, Chantilly, VA 20151       3      5.0   \n",
       "\n",
       "  Price          City State Zipcode  \n",
       "1  4150  Falls Church    VA   22041  \n",
       "3  2775          None  None    None  \n",
       "4  3300       Herndon    VA   20170  \n",
       "5  2700       Fairfax    VA   22032  \n",
       "6  4800     Chantilly    VA   20151  "
      ]
     },
     "execution_count": 14,
     "metadata": {},
     "output_type": "execute_result"
    }
   ],
   "source": [
    "# remove \"per month\"\n",
    "rentals['Price'] = rentals['Price'].apply(lambda x: x.replace(' per month', '') )\n",
    "rentals.head()"
   ]
  },
  {
   "cell_type": "code",
   "execution_count": 15,
   "metadata": {},
   "outputs": [
    {
     "data": {
      "text/html": [
       "<div>\n",
       "<style scoped>\n",
       "    .dataframe tbody tr th:only-of-type {\n",
       "        vertical-align: middle;\n",
       "    }\n",
       "\n",
       "    .dataframe tbody tr th {\n",
       "        vertical-align: top;\n",
       "    }\n",
       "\n",
       "    .dataframe thead th {\n",
       "        text-align: right;\n",
       "    }\n",
       "</style>\n",
       "<table border=\"1\" class=\"dataframe\">\n",
       "  <thead>\n",
       "    <tr style=\"text-align: right;\">\n",
       "      <th></th>\n",
       "      <th>Title</th>\n",
       "      <th>Address</th>\n",
       "      <th>Bedroom</th>\n",
       "      <th>Bathroom</th>\n",
       "      <th>Price</th>\n",
       "      <th>City</th>\n",
       "      <th>State</th>\n",
       "      <th>Zipcode</th>\n",
       "    </tr>\n",
       "  </thead>\n",
       "  <tbody>\n",
       "    <tr>\n",
       "      <th>1</th>\n",
       "      <td>House</td>\n",
       "      <td>5929 Merritt Place, Falls Church, VA 22041</td>\n",
       "      <td>5</td>\n",
       "      <td>3.0</td>\n",
       "      <td>4150</td>\n",
       "      <td>Falls Church</td>\n",
       "      <td>VA</td>\n",
       "      <td>22041</td>\n",
       "    </tr>\n",
       "    <tr>\n",
       "      <th>3</th>\n",
       "      <td>Townhouse</td>\n",
       "      <td>Unlisted Address</td>\n",
       "      <td>3</td>\n",
       "      <td>3.5</td>\n",
       "      <td>2775</td>\n",
       "      <td>None</td>\n",
       "      <td>None</td>\n",
       "      <td>None</td>\n",
       "    </tr>\n",
       "    <tr>\n",
       "      <th>4</th>\n",
       "      <td>House</td>\n",
       "      <td>703 Morningside Ct, Herndon, VA 20170</td>\n",
       "      <td>5</td>\n",
       "      <td>2.0</td>\n",
       "      <td>3300</td>\n",
       "      <td>Herndon</td>\n",
       "      <td>VA</td>\n",
       "      <td>20170</td>\n",
       "    </tr>\n",
       "    <tr>\n",
       "      <th>5</th>\n",
       "      <td>Townhouse</td>\n",
       "      <td>5455 New London Park Dr, Fairfax, VA 22032</td>\n",
       "      <td>3</td>\n",
       "      <td>4.0</td>\n",
       "      <td>2700</td>\n",
       "      <td>Fairfax</td>\n",
       "      <td>VA</td>\n",
       "      <td>22032</td>\n",
       "    </tr>\n",
       "    <tr>\n",
       "      <th>6</th>\n",
       "      <td>Townhouse</td>\n",
       "      <td>14312 Beckett Glen Cir, Chantilly, VA 20151</td>\n",
       "      <td>3</td>\n",
       "      <td>5.0</td>\n",
       "      <td>4800</td>\n",
       "      <td>Chantilly</td>\n",
       "      <td>VA</td>\n",
       "      <td>20151</td>\n",
       "    </tr>\n",
       "  </tbody>\n",
       "</table>\n",
       "</div>"
      ],
      "text/plain": [
       "       Title                                      Address Bedroom Bathroom  \\\n",
       "1      House   5929 Merritt Place, Falls Church, VA 22041       5      3.0   \n",
       "3  Townhouse                             Unlisted Address       3      3.5   \n",
       "4      House        703 Morningside Ct, Herndon, VA 20170       5      2.0   \n",
       "5  Townhouse   5455 New London Park Dr, Fairfax, VA 22032       3      4.0   \n",
       "6  Townhouse  14312 Beckett Glen Cir, Chantilly, VA 20151       3      5.0   \n",
       "\n",
       "  Price          City State Zipcode  \n",
       "1  4150  Falls Church    VA   22041  \n",
       "3  2775          None  None    None  \n",
       "4  3300       Herndon    VA   20170  \n",
       "5  2700       Fairfax    VA   22032  \n",
       "6  4800     Chantilly    VA   20151  "
      ]
     },
     "execution_count": 15,
     "metadata": {},
     "output_type": "execute_result"
    }
   ],
   "source": [
    "rentals.head()"
   ]
  },
  {
   "cell_type": "code",
   "execution_count": 16,
   "metadata": {},
   "outputs": [],
   "source": [
    "# drop the rows that have None in Zipcode\n",
    "#rentals = rentals[rentals.Zipcode != 'None']\n",
    "rentals = rentals[pd.notna(rentals['Zipcode'])]\n"
   ]
  },
  {
   "cell_type": "code",
   "execution_count": 17,
   "metadata": {},
   "outputs": [
    {
     "data": {
      "text/html": [
       "<div>\n",
       "<style scoped>\n",
       "    .dataframe tbody tr th:only-of-type {\n",
       "        vertical-align: middle;\n",
       "    }\n",
       "\n",
       "    .dataframe tbody tr th {\n",
       "        vertical-align: top;\n",
       "    }\n",
       "\n",
       "    .dataframe thead th {\n",
       "        text-align: right;\n",
       "    }\n",
       "</style>\n",
       "<table border=\"1\" class=\"dataframe\">\n",
       "  <thead>\n",
       "    <tr style=\"text-align: right;\">\n",
       "      <th></th>\n",
       "      <th>Title</th>\n",
       "      <th>Address</th>\n",
       "      <th>Bedroom</th>\n",
       "      <th>Bathroom</th>\n",
       "      <th>Price</th>\n",
       "      <th>City</th>\n",
       "      <th>State</th>\n",
       "      <th>Zipcode</th>\n",
       "    </tr>\n",
       "  </thead>\n",
       "  <tbody>\n",
       "    <tr>\n",
       "      <th>1</th>\n",
       "      <td>House</td>\n",
       "      <td>5929 Merritt Place, Falls Church, VA 22041</td>\n",
       "      <td>5</td>\n",
       "      <td>3.0</td>\n",
       "      <td>4150</td>\n",
       "      <td>Falls Church</td>\n",
       "      <td>VA</td>\n",
       "      <td>22041</td>\n",
       "    </tr>\n",
       "    <tr>\n",
       "      <th>4</th>\n",
       "      <td>House</td>\n",
       "      <td>703 Morningside Ct, Herndon, VA 20170</td>\n",
       "      <td>5</td>\n",
       "      <td>2.0</td>\n",
       "      <td>3300</td>\n",
       "      <td>Herndon</td>\n",
       "      <td>VA</td>\n",
       "      <td>20170</td>\n",
       "    </tr>\n",
       "    <tr>\n",
       "      <th>5</th>\n",
       "      <td>Townhouse</td>\n",
       "      <td>5455 New London Park Dr, Fairfax, VA 22032</td>\n",
       "      <td>3</td>\n",
       "      <td>4.0</td>\n",
       "      <td>2700</td>\n",
       "      <td>Fairfax</td>\n",
       "      <td>VA</td>\n",
       "      <td>22032</td>\n",
       "    </tr>\n",
       "    <tr>\n",
       "      <th>6</th>\n",
       "      <td>Townhouse</td>\n",
       "      <td>14312 Beckett Glen Cir, Chantilly, VA 20151</td>\n",
       "      <td>3</td>\n",
       "      <td>5.0</td>\n",
       "      <td>4800</td>\n",
       "      <td>Chantilly</td>\n",
       "      <td>VA</td>\n",
       "      <td>20151</td>\n",
       "    </tr>\n",
       "    <tr>\n",
       "      <th>7</th>\n",
       "      <td>House</td>\n",
       "      <td>12665 Magna Carta Rd, Herndon, VA 20171</td>\n",
       "      <td>3</td>\n",
       "      <td>2.0</td>\n",
       "      <td>2800</td>\n",
       "      <td>Herndon</td>\n",
       "      <td>VA</td>\n",
       "      <td>20171</td>\n",
       "    </tr>\n",
       "  </tbody>\n",
       "</table>\n",
       "</div>"
      ],
      "text/plain": [
       "       Title                                      Address Bedroom Bathroom  \\\n",
       "1      House   5929 Merritt Place, Falls Church, VA 22041       5      3.0   \n",
       "4      House        703 Morningside Ct, Herndon, VA 20170       5      2.0   \n",
       "5  Townhouse   5455 New London Park Dr, Fairfax, VA 22032       3      4.0   \n",
       "6  Townhouse  14312 Beckett Glen Cir, Chantilly, VA 20151       3      5.0   \n",
       "7      House      12665 Magna Carta Rd, Herndon, VA 20171       3      2.0   \n",
       "\n",
       "  Price          City State Zipcode  \n",
       "1  4150  Falls Church    VA   22041  \n",
       "4  3300       Herndon    VA   20170  \n",
       "5  2700       Fairfax    VA   22032  \n",
       "6  4800     Chantilly    VA   20151  \n",
       "7  2800       Herndon    VA   20171  "
      ]
     },
     "execution_count": 17,
     "metadata": {},
     "output_type": "execute_result"
    }
   ],
   "source": [
    "rentals.head()"
   ]
  },
  {
   "cell_type": "code",
   "execution_count": 18,
   "metadata": {},
   "outputs": [
    {
     "name": "stdout",
     "output_type": "stream",
     "text": [
      "<class 'pandas.core.frame.DataFrame'>\n",
      "Index: 1245 entries, 1 to 96\n",
      "Data columns (total 8 columns):\n",
      " #   Column    Non-Null Count  Dtype \n",
      "---  ------    --------------  ----- \n",
      " 0   Title     1245 non-null   object\n",
      " 1   Address   1245 non-null   object\n",
      " 2   Bedroom   1245 non-null   object\n",
      " 3   Bathroom  1245 non-null   object\n",
      " 4   Price     1245 non-null   object\n",
      " 5   City      1245 non-null   object\n",
      " 6   State     1245 non-null   object\n",
      " 7   Zipcode   1245 non-null   object\n",
      "dtypes: object(8)\n",
      "memory usage: 87.5+ KB\n"
     ]
    }
   ],
   "source": [
    "rentals.info()"
   ]
  },
  {
   "cell_type": "markdown",
   "metadata": {},
   "source": [
    "I have to convert Zipcode to str type, not object otherwise I cannot join later on to get the merged_rentals"
   ]
  },
  {
   "cell_type": "code",
   "execution_count": 19,
   "metadata": {},
   "outputs": [],
   "source": [
    "rentals['Zipcode'] = rentals['Zipcode'].astype('str')"
   ]
  },
  {
   "cell_type": "code",
   "execution_count": 20,
   "metadata": {},
   "outputs": [
    {
     "data": {
      "text/plain": [
       "1     False\n",
       "4     False\n",
       "5     False\n",
       "6     False\n",
       "7     False\n",
       "      ...  \n",
       "92     True\n",
       "93     True\n",
       "94     True\n",
       "95     True\n",
       "96     True\n",
       "Name: Zipcode, Length: 1245, dtype: bool"
      ]
     },
     "execution_count": 20,
     "metadata": {},
     "output_type": "execute_result"
    }
   ],
   "source": [
    "rentals.Zipcode.duplicated()"
   ]
  },
  {
   "cell_type": "markdown",
   "metadata": {},
   "source": [
    "## Data Validation"
   ]
  },
  {
   "cell_type": "markdown",
   "metadata": {},
   "source": [
    "### Data types\n",
    "We need to convert some columns to numeric types"
   ]
  },
  {
   "cell_type": "code",
   "execution_count": 21,
   "metadata": {},
   "outputs": [],
   "source": [
    "# convert to numeric\n",
    "cols = ['Bedroom', 'Bathroom','Price']\n",
    "rentals[cols] = rentals[cols].apply(pd.to_numeric, errors='coerce')"
   ]
  },
  {
   "cell_type": "code",
   "execution_count": 22,
   "metadata": {},
   "outputs": [
    {
     "name": "stdout",
     "output_type": "stream",
     "text": [
      "<class 'pandas.core.frame.DataFrame'>\n",
      "Index: 1245 entries, 1 to 96\n",
      "Data columns (total 8 columns):\n",
      " #   Column    Non-Null Count  Dtype  \n",
      "---  ------    --------------  -----  \n",
      " 0   Title     1245 non-null   object \n",
      " 1   Address   1245 non-null   object \n",
      " 2   Bedroom   1245 non-null   int64  \n",
      " 3   Bathroom  1166 non-null   float64\n",
      " 4   Price     1245 non-null   int64  \n",
      " 5   City      1245 non-null   object \n",
      " 6   State     1245 non-null   object \n",
      " 7   Zipcode   1245 non-null   object \n",
      "dtypes: float64(1), int64(2), object(5)\n",
      "memory usage: 87.5+ KB\n"
     ]
    }
   ],
   "source": [
    "rentals.info()"
   ]
  },
  {
   "cell_type": "code",
   "execution_count": 23,
   "metadata": {},
   "outputs": [
    {
     "data": {
      "text/html": [
       "<div>\n",
       "<style scoped>\n",
       "    .dataframe tbody tr th:only-of-type {\n",
       "        vertical-align: middle;\n",
       "    }\n",
       "\n",
       "    .dataframe tbody tr th {\n",
       "        vertical-align: top;\n",
       "    }\n",
       "\n",
       "    .dataframe thead th {\n",
       "        text-align: right;\n",
       "    }\n",
       "</style>\n",
       "<table border=\"1\" class=\"dataframe\">\n",
       "  <thead>\n",
       "    <tr style=\"text-align: right;\">\n",
       "      <th></th>\n",
       "      <th>Bedroom</th>\n",
       "      <th>Bathroom</th>\n",
       "      <th>Price</th>\n",
       "    </tr>\n",
       "  </thead>\n",
       "  <tbody>\n",
       "    <tr>\n",
       "      <th>count</th>\n",
       "      <td>1245.000000</td>\n",
       "      <td>1166.000000</td>\n",
       "      <td>1245.000000</td>\n",
       "    </tr>\n",
       "    <tr>\n",
       "      <th>mean</th>\n",
       "      <td>3.536546</td>\n",
       "      <td>3.239708</td>\n",
       "      <td>4200.319679</td>\n",
       "    </tr>\n",
       "    <tr>\n",
       "      <th>std</th>\n",
       "      <td>1.143831</td>\n",
       "      <td>1.235821</td>\n",
       "      <td>2963.026909</td>\n",
       "    </tr>\n",
       "    <tr>\n",
       "      <th>min</th>\n",
       "      <td>2.000000</td>\n",
       "      <td>1.500000</td>\n",
       "      <td>1000.000000</td>\n",
       "    </tr>\n",
       "    <tr>\n",
       "      <th>25%</th>\n",
       "      <td>3.000000</td>\n",
       "      <td>2.500000</td>\n",
       "      <td>2800.000000</td>\n",
       "    </tr>\n",
       "    <tr>\n",
       "      <th>50%</th>\n",
       "      <td>3.000000</td>\n",
       "      <td>3.000000</td>\n",
       "      <td>3400.000000</td>\n",
       "    </tr>\n",
       "    <tr>\n",
       "      <th>75%</th>\n",
       "      <td>4.000000</td>\n",
       "      <td>3.500000</td>\n",
       "      <td>4500.000000</td>\n",
       "    </tr>\n",
       "    <tr>\n",
       "      <th>max</th>\n",
       "      <td>12.000000</td>\n",
       "      <td>13.000000</td>\n",
       "      <td>40000.000000</td>\n",
       "    </tr>\n",
       "  </tbody>\n",
       "</table>\n",
       "</div>"
      ],
      "text/plain": [
       "           Bedroom     Bathroom         Price\n",
       "count  1245.000000  1166.000000   1245.000000\n",
       "mean      3.536546     3.239708   4200.319679\n",
       "std       1.143831     1.235821   2963.026909\n",
       "min       2.000000     1.500000   1000.000000\n",
       "25%       3.000000     2.500000   2800.000000\n",
       "50%       3.000000     3.000000   3400.000000\n",
       "75%       4.000000     3.500000   4500.000000\n",
       "max      12.000000    13.000000  40000.000000"
      ]
     },
     "execution_count": 23,
     "metadata": {},
     "output_type": "execute_result"
    }
   ],
   "source": [
    "rentals.describe()"
   ]
  },
  {
   "cell_type": "markdown",
   "metadata": {},
   "source": [
    "### Outliers"
   ]
  },
  {
   "cell_type": "markdown",
   "metadata": {},
   "source": [
    "There is a house that has 12 bedrooms"
   ]
  },
  {
   "cell_type": "code",
   "execution_count": 24,
   "metadata": {},
   "outputs": [
    {
     "data": {
      "text/html": [
       "<div>\n",
       "<style scoped>\n",
       "    .dataframe tbody tr th:only-of-type {\n",
       "        vertical-align: middle;\n",
       "    }\n",
       "\n",
       "    .dataframe tbody tr th {\n",
       "        vertical-align: top;\n",
       "    }\n",
       "\n",
       "    .dataframe thead th {\n",
       "        text-align: right;\n",
       "    }\n",
       "</style>\n",
       "<table border=\"1\" class=\"dataframe\">\n",
       "  <thead>\n",
       "    <tr style=\"text-align: right;\">\n",
       "      <th></th>\n",
       "      <th>Title</th>\n",
       "      <th>Address</th>\n",
       "      <th>Bedroom</th>\n",
       "      <th>Bathroom</th>\n",
       "      <th>Price</th>\n",
       "      <th>City</th>\n",
       "      <th>State</th>\n",
       "      <th>Zipcode</th>\n",
       "    </tr>\n",
       "  </thead>\n",
       "  <tbody>\n",
       "    <tr>\n",
       "      <th>117</th>\n",
       "      <td>House</td>\n",
       "      <td>17571 Graham St, Dumfries, VA 22026</td>\n",
       "      <td>12</td>\n",
       "      <td>6.0</td>\n",
       "      <td>9150</td>\n",
       "      <td>Dumfries</td>\n",
       "      <td>VA</td>\n",
       "      <td>22026</td>\n",
       "    </tr>\n",
       "  </tbody>\n",
       "</table>\n",
       "</div>"
      ],
      "text/plain": [
       "     Title                              Address  Bedroom  Bathroom  Price  \\\n",
       "117  House  17571 Graham St, Dumfries, VA 22026       12       6.0   9150   \n",
       "\n",
       "         City State Zipcode  \n",
       "117  Dumfries    VA   22026  "
      ]
     },
     "execution_count": 24,
     "metadata": {},
     "output_type": "execute_result"
    }
   ],
   "source": [
    "rentals[rentals['Bedroom'] == 12]"
   ]
  },
  {
   "cell_type": "markdown",
   "metadata": {},
   "source": [
    "This house has 13 bathrooms, should be a typo. Let's drop it "
   ]
  },
  {
   "cell_type": "code",
   "execution_count": 25,
   "metadata": {},
   "outputs": [
    {
     "data": {
      "text/html": [
       "<div>\n",
       "<style scoped>\n",
       "    .dataframe tbody tr th:only-of-type {\n",
       "        vertical-align: middle;\n",
       "    }\n",
       "\n",
       "    .dataframe tbody tr th {\n",
       "        vertical-align: top;\n",
       "    }\n",
       "\n",
       "    .dataframe thead th {\n",
       "        text-align: right;\n",
       "    }\n",
       "</style>\n",
       "<table border=\"1\" class=\"dataframe\">\n",
       "  <thead>\n",
       "    <tr style=\"text-align: right;\">\n",
       "      <th></th>\n",
       "      <th>Title</th>\n",
       "      <th>Address</th>\n",
       "      <th>Bedroom</th>\n",
       "      <th>Bathroom</th>\n",
       "      <th>Price</th>\n",
       "      <th>City</th>\n",
       "      <th>State</th>\n",
       "      <th>Zipcode</th>\n",
       "    </tr>\n",
       "  </thead>\n",
       "  <tbody>\n",
       "    <tr>\n",
       "      <th>103</th>\n",
       "      <td>Townhouse</td>\n",
       "      <td>13172 Putnam Cir, Woodbridge, VA 22191</td>\n",
       "      <td>3</td>\n",
       "      <td>13.0</td>\n",
       "      <td>2500</td>\n",
       "      <td>Woodbridge</td>\n",
       "      <td>VA</td>\n",
       "      <td>22191</td>\n",
       "    </tr>\n",
       "  </tbody>\n",
       "</table>\n",
       "</div>"
      ],
      "text/plain": [
       "         Title                                 Address  Bedroom  Bathroom  \\\n",
       "103  Townhouse  13172 Putnam Cir, Woodbridge, VA 22191        3      13.0   \n",
       "\n",
       "     Price        City State Zipcode  \n",
       "103   2500  Woodbridge    VA   22191  "
      ]
     },
     "execution_count": 25,
     "metadata": {},
     "output_type": "execute_result"
    }
   ],
   "source": [
    "rentals[rentals['Bathroom'] == 13]"
   ]
  },
  {
   "cell_type": "code",
   "execution_count": 26,
   "metadata": {},
   "outputs": [],
   "source": [
    "# dropping the outlier which has 13 bedrooms\n",
    "rentals = rentals[rentals['Bathroom'] != 13]"
   ]
  },
  {
   "cell_type": "markdown",
   "metadata": {},
   "source": [
    "### Duplicates"
   ]
  },
  {
   "cell_type": "code",
   "execution_count": 27,
   "metadata": {},
   "outputs": [
    {
     "data": {
      "text/html": [
       "<div>\n",
       "<style scoped>\n",
       "    .dataframe tbody tr th:only-of-type {\n",
       "        vertical-align: middle;\n",
       "    }\n",
       "\n",
       "    .dataframe tbody tr th {\n",
       "        vertical-align: top;\n",
       "    }\n",
       "\n",
       "    .dataframe thead th {\n",
       "        text-align: right;\n",
       "    }\n",
       "</style>\n",
       "<table border=\"1\" class=\"dataframe\">\n",
       "  <thead>\n",
       "    <tr style=\"text-align: right;\">\n",
       "      <th></th>\n",
       "      <th>Title</th>\n",
       "      <th>Address</th>\n",
       "      <th>Bedroom</th>\n",
       "      <th>Bathroom</th>\n",
       "      <th>Price</th>\n",
       "      <th>City</th>\n",
       "      <th>State</th>\n",
       "      <th>Zipcode</th>\n",
       "    </tr>\n",
       "  </thead>\n",
       "  <tbody>\n",
       "    <tr>\n",
       "      <th>287</th>\n",
       "      <td>Townhouse</td>\n",
       "      <td>1524 16th Ct N, Arlington, VA 22209</td>\n",
       "      <td>3</td>\n",
       "      <td>3.5</td>\n",
       "      <td>6900</td>\n",
       "      <td>Arlington</td>\n",
       "      <td>VA</td>\n",
       "      <td>22209</td>\n",
       "    </tr>\n",
       "    <tr>\n",
       "      <th>298</th>\n",
       "      <td>Townhouse</td>\n",
       "      <td>4120 41st St N Unit 1, Arlington, VA 22207</td>\n",
       "      <td>2</td>\n",
       "      <td>2.0</td>\n",
       "      <td>5700</td>\n",
       "      <td>Arlington</td>\n",
       "      <td>VA</td>\n",
       "      <td>22207</td>\n",
       "    </tr>\n",
       "    <tr>\n",
       "      <th>301</th>\n",
       "      <td>Townhouse</td>\n",
       "      <td>2404 13th Ct N, Arlington, VA 22201</td>\n",
       "      <td>3</td>\n",
       "      <td>3.5</td>\n",
       "      <td>4995</td>\n",
       "      <td>Arlington</td>\n",
       "      <td>VA</td>\n",
       "      <td>22201</td>\n",
       "    </tr>\n",
       "    <tr>\n",
       "      <th>302</th>\n",
       "      <td>Townhouse</td>\n",
       "      <td>2422 14th St N, Arlington, VA 22201</td>\n",
       "      <td>3</td>\n",
       "      <td>3.5</td>\n",
       "      <td>4900</td>\n",
       "      <td>Arlington</td>\n",
       "      <td>VA</td>\n",
       "      <td>22201</td>\n",
       "    </tr>\n",
       "    <tr>\n",
       "      <th>305</th>\n",
       "      <td>Townhouse</td>\n",
       "      <td>606 15th St S Unit 1, Arlington, VA 22202</td>\n",
       "      <td>3</td>\n",
       "      <td>2.5</td>\n",
       "      <td>3295</td>\n",
       "      <td>Arlington</td>\n",
       "      <td>VA</td>\n",
       "      <td>22202</td>\n",
       "    </tr>\n",
       "    <tr>\n",
       "      <th>...</th>\n",
       "      <td>...</td>\n",
       "      <td>...</td>\n",
       "      <td>...</td>\n",
       "      <td>...</td>\n",
       "      <td>...</td>\n",
       "      <td>...</td>\n",
       "      <td>...</td>\n",
       "      <td>...</td>\n",
       "    </tr>\n",
       "    <tr>\n",
       "      <th>86</th>\n",
       "      <td>House</td>\n",
       "      <td>8811 Higdon Dr, Vienna, VA 22182</td>\n",
       "      <td>4</td>\n",
       "      <td>2.5</td>\n",
       "      <td>3195</td>\n",
       "      <td>Vienna</td>\n",
       "      <td>VA</td>\n",
       "      <td>22182</td>\n",
       "    </tr>\n",
       "    <tr>\n",
       "      <th>87</th>\n",
       "      <td>Townhouse</td>\n",
       "      <td>2528 N Winchester St, Arlington, VA 22213</td>\n",
       "      <td>2</td>\n",
       "      <td>1.5</td>\n",
       "      <td>2825</td>\n",
       "      <td>Arlington</td>\n",
       "      <td>VA</td>\n",
       "      <td>22213</td>\n",
       "    </tr>\n",
       "    <tr>\n",
       "      <th>88</th>\n",
       "      <td>House</td>\n",
       "      <td>2219 N Nottingham St, Arlington, VA 22205</td>\n",
       "      <td>4</td>\n",
       "      <td>2.0</td>\n",
       "      <td>4100</td>\n",
       "      <td>Arlington</td>\n",
       "      <td>VA</td>\n",
       "      <td>22205</td>\n",
       "    </tr>\n",
       "    <tr>\n",
       "      <th>91</th>\n",
       "      <td>House</td>\n",
       "      <td>1511 Gingerwood Ct, Vienna, VA 22182</td>\n",
       "      <td>4</td>\n",
       "      <td>4.0</td>\n",
       "      <td>3999</td>\n",
       "      <td>Vienna</td>\n",
       "      <td>VA</td>\n",
       "      <td>22182</td>\n",
       "    </tr>\n",
       "    <tr>\n",
       "      <th>93</th>\n",
       "      <td>House</td>\n",
       "      <td>1159 Mill Garden Ct, Great Falls, VA 22066</td>\n",
       "      <td>6</td>\n",
       "      <td>6.5</td>\n",
       "      <td>8000</td>\n",
       "      <td>Great Falls</td>\n",
       "      <td>VA</td>\n",
       "      <td>22066</td>\n",
       "    </tr>\n",
       "  </tbody>\n",
       "</table>\n",
       "<p>70 rows × 8 columns</p>\n",
       "</div>"
      ],
      "text/plain": [
       "         Title                                     Address  Bedroom  Bathroom  \\\n",
       "287  Townhouse         1524 16th Ct N, Arlington, VA 22209        3       3.5   \n",
       "298  Townhouse  4120 41st St N Unit 1, Arlington, VA 22207        2       2.0   \n",
       "301  Townhouse         2404 13th Ct N, Arlington, VA 22201        3       3.5   \n",
       "302  Townhouse         2422 14th St N, Arlington, VA 22201        3       3.5   \n",
       "305  Townhouse   606 15th St S Unit 1, Arlington, VA 22202        3       2.5   \n",
       "..         ...                                         ...      ...       ...   \n",
       "86       House            8811 Higdon Dr, Vienna, VA 22182        4       2.5   \n",
       "87   Townhouse   2528 N Winchester St, Arlington, VA 22213        2       1.5   \n",
       "88       House   2219 N Nottingham St, Arlington, VA 22205        4       2.0   \n",
       "91       House        1511 Gingerwood Ct, Vienna, VA 22182        4       4.0   \n",
       "93       House  1159 Mill Garden Ct, Great Falls, VA 22066        6       6.5   \n",
       "\n",
       "     Price         City State Zipcode  \n",
       "287   6900    Arlington    VA   22209  \n",
       "298   5700    Arlington    VA   22207  \n",
       "301   4995    Arlington    VA   22201  \n",
       "302   4900    Arlington    VA   22201  \n",
       "305   3295    Arlington    VA   22202  \n",
       "..     ...          ...   ...     ...  \n",
       "86    3195       Vienna    VA   22182  \n",
       "87    2825    Arlington    VA   22213  \n",
       "88    4100    Arlington    VA   22205  \n",
       "91    3999       Vienna    VA   22182  \n",
       "93    8000  Great Falls    VA   22066  \n",
       "\n",
       "[70 rows x 8 columns]"
      ]
     },
     "execution_count": 27,
     "metadata": {},
     "output_type": "execute_result"
    }
   ],
   "source": [
    "# checking any duplicates\n",
    "rentals[rentals.duplicated(subset='Address')]"
   ]
  },
  {
   "cell_type": "code",
   "execution_count": 28,
   "metadata": {},
   "outputs": [
    {
     "data": {
      "text/html": [
       "<div>\n",
       "<style scoped>\n",
       "    .dataframe tbody tr th:only-of-type {\n",
       "        vertical-align: middle;\n",
       "    }\n",
       "\n",
       "    .dataframe tbody tr th {\n",
       "        vertical-align: top;\n",
       "    }\n",
       "\n",
       "    .dataframe thead th {\n",
       "        text-align: right;\n",
       "    }\n",
       "</style>\n",
       "<table border=\"1\" class=\"dataframe\">\n",
       "  <thead>\n",
       "    <tr style=\"text-align: right;\">\n",
       "      <th></th>\n",
       "      <th>Title</th>\n",
       "      <th>Address</th>\n",
       "      <th>Bedroom</th>\n",
       "      <th>Bathroom</th>\n",
       "      <th>Price</th>\n",
       "      <th>City</th>\n",
       "      <th>State</th>\n",
       "      <th>Zipcode</th>\n",
       "    </tr>\n",
       "  </thead>\n",
       "  <tbody>\n",
       "    <tr>\n",
       "      <th>14</th>\n",
       "      <td>Townhouse</td>\n",
       "      <td>1524 16th Ct N, Arlington, VA 22209</td>\n",
       "      <td>3</td>\n",
       "      <td>3.5</td>\n",
       "      <td>6900</td>\n",
       "      <td>Arlington</td>\n",
       "      <td>VA</td>\n",
       "      <td>22209</td>\n",
       "    </tr>\n",
       "    <tr>\n",
       "      <th>287</th>\n",
       "      <td>Townhouse</td>\n",
       "      <td>1524 16th Ct N, Arlington, VA 22209</td>\n",
       "      <td>3</td>\n",
       "      <td>3.5</td>\n",
       "      <td>6900</td>\n",
       "      <td>Arlington</td>\n",
       "      <td>VA</td>\n",
       "      <td>22209</td>\n",
       "    </tr>\n",
       "  </tbody>\n",
       "</table>\n",
       "</div>"
      ],
      "text/plain": [
       "         Title                              Address  Bedroom  Bathroom  Price  \\\n",
       "14   Townhouse  1524 16th Ct N, Arlington, VA 22209        3       3.5   6900   \n",
       "287  Townhouse  1524 16th Ct N, Arlington, VA 22209        3       3.5   6900   \n",
       "\n",
       "          City State Zipcode  \n",
       "14   Arlington    VA   22209  \n",
       "287  Arlington    VA   22209  "
      ]
     },
     "execution_count": 28,
     "metadata": {},
     "output_type": "execute_result"
    }
   ],
   "source": [
    "rentals[rentals.Address == '1524 16th Ct N, Arlington, VA 22209']"
   ]
  },
  {
   "cell_type": "code",
   "execution_count": 29,
   "metadata": {},
   "outputs": [
    {
     "data": {
      "text/html": [
       "<div>\n",
       "<style scoped>\n",
       "    .dataframe tbody tr th:only-of-type {\n",
       "        vertical-align: middle;\n",
       "    }\n",
       "\n",
       "    .dataframe tbody tr th {\n",
       "        vertical-align: top;\n",
       "    }\n",
       "\n",
       "    .dataframe thead th {\n",
       "        text-align: right;\n",
       "    }\n",
       "</style>\n",
       "<table border=\"1\" class=\"dataframe\">\n",
       "  <thead>\n",
       "    <tr style=\"text-align: right;\">\n",
       "      <th></th>\n",
       "      <th>Title</th>\n",
       "      <th>Address</th>\n",
       "      <th>Bedroom</th>\n",
       "      <th>Bathroom</th>\n",
       "      <th>Price</th>\n",
       "      <th>City</th>\n",
       "      <th>State</th>\n",
       "      <th>Zipcode</th>\n",
       "    </tr>\n",
       "  </thead>\n",
       "  <tbody>\n",
       "    <tr>\n",
       "      <th>345</th>\n",
       "      <td>House</td>\n",
       "      <td>1159 Mill Garden Ct, Great Falls, VA 22066</td>\n",
       "      <td>6</td>\n",
       "      <td>6.5</td>\n",
       "      <td>8000</td>\n",
       "      <td>Great Falls</td>\n",
       "      <td>VA</td>\n",
       "      <td>22066</td>\n",
       "    </tr>\n",
       "    <tr>\n",
       "      <th>93</th>\n",
       "      <td>House</td>\n",
       "      <td>1159 Mill Garden Ct, Great Falls, VA 22066</td>\n",
       "      <td>6</td>\n",
       "      <td>6.5</td>\n",
       "      <td>8000</td>\n",
       "      <td>Great Falls</td>\n",
       "      <td>VA</td>\n",
       "      <td>22066</td>\n",
       "    </tr>\n",
       "  </tbody>\n",
       "</table>\n",
       "</div>"
      ],
      "text/plain": [
       "     Title                                     Address  Bedroom  Bathroom  \\\n",
       "345  House  1159 Mill Garden Ct, Great Falls, VA 22066        6       6.5   \n",
       "93   House  1159 Mill Garden Ct, Great Falls, VA 22066        6       6.5   \n",
       "\n",
       "     Price         City State Zipcode  \n",
       "345   8000  Great Falls    VA   22066  \n",
       "93    8000  Great Falls    VA   22066  "
      ]
     },
     "execution_count": 29,
     "metadata": {},
     "output_type": "execute_result"
    }
   ],
   "source": [
    "rentals[rentals.Address == '1159 Mill Garden Ct, Great Falls, VA 22066']"
   ]
  },
  {
   "cell_type": "markdown",
   "metadata": {},
   "source": [
    "There are 70 duplicates in the rentals df. So, we should drop them to have a more accurate statistical median prices."
   ]
  },
  {
   "cell_type": "code",
   "execution_count": 30,
   "metadata": {},
   "outputs": [
    {
     "data": {
      "text/plain": [
       "(1244, 8)"
      ]
     },
     "execution_count": 30,
     "metadata": {},
     "output_type": "execute_result"
    }
   ],
   "source": [
    "rentals.shape"
   ]
  },
  {
   "cell_type": "code",
   "execution_count": 31,
   "metadata": {},
   "outputs": [],
   "source": [
    "rentals = rentals.drop_duplicates()"
   ]
  },
  {
   "cell_type": "code",
   "execution_count": 32,
   "metadata": {},
   "outputs": [
    {
     "name": "stdout",
     "output_type": "stream",
     "text": [
      "(1189, 8)\n",
      "0\n"
     ]
    }
   ],
   "source": [
    "print(rentals.shape)\n",
    "print(rentals.duplicated().sum())"
   ]
  },
  {
   "cell_type": "markdown",
   "metadata": {},
   "source": [
    "When you just drop duplicates, not specifically on Address, you would miss some duplicates"
   ]
  },
  {
   "cell_type": "code",
   "execution_count": 33,
   "metadata": {},
   "outputs": [],
   "source": [
    "rentals = rentals.drop_duplicates(subset='Address')"
   ]
  },
  {
   "cell_type": "code",
   "execution_count": 34,
   "metadata": {},
   "outputs": [
    {
     "name": "stdout",
     "output_type": "stream",
     "text": [
      "(1174, 8)\n",
      "0\n"
     ]
    }
   ],
   "source": [
    "print(rentals.shape)\n",
    "print(rentals.duplicated(subset='Address').sum())"
   ]
  },
  {
   "cell_type": "markdown",
   "metadata": {},
   "source": [
    "## Pandas Profilings"
   ]
  },
  {
   "cell_type": "code",
   "execution_count": 44,
   "metadata": {},
   "outputs": [],
   "source": [
    "#!pip install ydata-profiling"
   ]
  },
  {
   "cell_type": "code",
   "execution_count": 46,
   "metadata": {},
   "outputs": [],
   "source": [
    "#!pip freeze"
   ]
  },
  {
   "cell_type": "code",
   "execution_count": 48,
   "metadata": {},
   "outputs": [],
   "source": [
    "#from pandas_profiling import ProfileReport\n",
    "#prof = ProfileReport(rentals)\n",
    "#prof.to_file(output_file='rentals.html')"
   ]
  },
  {
   "cell_type": "code",
   "execution_count": null,
   "metadata": {},
   "outputs": [],
   "source": [
    "#!pip install ipykernel"
   ]
  },
  {
   "cell_type": "code",
   "execution_count": null,
   "metadata": {},
   "outputs": [],
   "source": [
    "#!pip install --upgrade nbformat==4.2.0"
   ]
  },
  {
   "cell_type": "markdown",
   "metadata": {},
   "source": [
    "## EDA"
   ]
  },
  {
   "cell_type": "code",
   "execution_count": 35,
   "metadata": {
    "id": "CYXk2pmSaEXb",
    "outputId": "e33ee8d6-0eed-4f7a-f466-ced46bb58001"
   },
   "outputs": [
    {
     "data": {
      "text/plain": [
       "Bedroom\n",
       "3     494\n",
       "4     312\n",
       "2     183\n",
       "5     135\n",
       "6      33\n",
       "7      11\n",
       "8       4\n",
       "9       1\n",
       "12      1\n",
       "Name: count, dtype: int64"
      ]
     },
     "execution_count": 35,
     "metadata": {},
     "output_type": "execute_result"
    }
   ],
   "source": [
    "rentals['Bedroom'].value_counts()"
   ]
  },
  {
   "cell_type": "code",
   "execution_count": 26,
   "metadata": {},
   "outputs": [
    {
     "data": {
      "text/plain": [
       "Bathroom\n",
       "3.5     294\n",
       "2.5     226\n",
       "2.0     189\n",
       "3.0     128\n",
       "4.0     107\n",
       "4.5      79\n",
       "1.5      54\n",
       "5.0      34\n",
       "6.0      17\n",
       "5.5      14\n",
       "6.5       7\n",
       "7.0       7\n",
       "9.0       5\n",
       "8.5       2\n",
       "9.5       2\n",
       "10.0      2\n",
       "8.0       1\n",
       "Name: count, dtype: int64"
      ]
     },
     "execution_count": 26,
     "metadata": {},
     "output_type": "execute_result"
    }
   ],
   "source": [
    "rentals['Bathroom'].value_counts()"
   ]
  },
  {
   "cell_type": "markdown",
   "metadata": {},
   "source": [
    "### Bedroom Distribution"
   ]
  },
  {
   "cell_type": "markdown",
   "metadata": {},
   "source": [
    "Anatomy of Plotly Express\n",
    "\n",
    "import plotly.express as px\n",
    "\n",
    "fig = px.plotting_function(  \n",
    "    dataframe,  \n",
    "    x='column-for-xaxis',  \n",
    "    y='column-for-yaxis',  \n",
    "    title='Title For the Plot',  \n",
    "    width=width_in_pixels,  \n",
    "    height=height_in_pixels  \n",
    ")  \n",
    "  \n",
    "fig.show()"
   ]
  },
  {
   "cell_type": "markdown",
   "metadata": {},
   "source": [
    "Most of the houses have 3,4 bedrooms"
   ]
  },
  {
   "cell_type": "code",
   "execution_count": 36,
   "metadata": {},
   "outputs": [
    {
     "data": {
      "application/vnd.plotly.v1+json": {
       "config": {
        "plotlyServerURL": "https://plot.ly"
       },
       "data": [
        {
         "alignmentgroup": "True",
         "bingroup": "x",
         "hovertemplate": "Bedroom=%{x}<br>count=%{y}<extra></extra>",
         "legendgroup": "",
         "marker": {
          "color": "#636efa",
          "pattern": {
           "shape": ""
          }
         },
         "name": "",
         "offsetgroup": "",
         "orientation": "v",
         "showlegend": false,
         "type": "histogram",
         "x": [
          5,
          5,
          3,
          3,
          3,
          4,
          3,
          4,
          4,
          4,
          2,
          5,
          5,
          3,
          4,
          4,
          7,
          4,
          4,
          4,
          3,
          5,
          3,
          3,
          4,
          3,
          3,
          3,
          3,
          3,
          8,
          4,
          3,
          2,
          3,
          3,
          4,
          3,
          3,
          6,
          5,
          3,
          4,
          3,
          2,
          3,
          4,
          3,
          3,
          4,
          3,
          3,
          4,
          3,
          3,
          3,
          4,
          4,
          4,
          4,
          3,
          3,
          5,
          4,
          3,
          4,
          3,
          3,
          4,
          3,
          3,
          3,
          6,
          5,
          3,
          5,
          3,
          3,
          3,
          3,
          4,
          2,
          3,
          3,
          4,
          3,
          3,
          4,
          4,
          5,
          3,
          3,
          3,
          5,
          2,
          2,
          3,
          3,
          5,
          3,
          4,
          3,
          3,
          3,
          3,
          3,
          5,
          3,
          5,
          5,
          4,
          4,
          4,
          3,
          3,
          3,
          2,
          4,
          5,
          4,
          2,
          4,
          5,
          2,
          6,
          3,
          3,
          3,
          3,
          3,
          3,
          4,
          3,
          3,
          4,
          5,
          3,
          3,
          3,
          5,
          3,
          2,
          3,
          3,
          3,
          4,
          3,
          5,
          6,
          3,
          4,
          4,
          4,
          4,
          3,
          4,
          3,
          5,
          3,
          4,
          5,
          3,
          4,
          4,
          5,
          2,
          5,
          6,
          3,
          3,
          6,
          3,
          2,
          4,
          3,
          4,
          4,
          6,
          4,
          4,
          3,
          5,
          3,
          3,
          5,
          3,
          3,
          4,
          3,
          4,
          4,
          5,
          3,
          3,
          3,
          3,
          4,
          3,
          4,
          5,
          2,
          4,
          5,
          3,
          3,
          2,
          3,
          5,
          5,
          3,
          3,
          4,
          3,
          4,
          5,
          3,
          5,
          4,
          3,
          3,
          2,
          2,
          3,
          4,
          4,
          3,
          3,
          2,
          5,
          2,
          4,
          3,
          3,
          3,
          2,
          3,
          5,
          4,
          2,
          3,
          4,
          4,
          5,
          4,
          5,
          3,
          3,
          4,
          4,
          3,
          4,
          5,
          5,
          4,
          3,
          4,
          3,
          4,
          3,
          4,
          4,
          3,
          5,
          5,
          2,
          3,
          3,
          3,
          3,
          4,
          5,
          3,
          5,
          4,
          4,
          4,
          2,
          6,
          4,
          4,
          4,
          6,
          3,
          3,
          3,
          3,
          3,
          4,
          4,
          3,
          3,
          4,
          3,
          5,
          5,
          6,
          7,
          4,
          4,
          3,
          5,
          2,
          3,
          3,
          4,
          4,
          4,
          4,
          3,
          4,
          3,
          5,
          7,
          4,
          5,
          3,
          3,
          3,
          6,
          3,
          2,
          4,
          3,
          4,
          5,
          4,
          4,
          4,
          6,
          3,
          5,
          6,
          7,
          5,
          3,
          2,
          3,
          4,
          4,
          6,
          2,
          4,
          6,
          3,
          9,
          2,
          5,
          3,
          3,
          5,
          3,
          5,
          3,
          5,
          3,
          3,
          2,
          7,
          4,
          3,
          5,
          3,
          4,
          2,
          3,
          3,
          4,
          6,
          3,
          6,
          3,
          3,
          2,
          5,
          4,
          4,
          5,
          3,
          3,
          4,
          3,
          5,
          5,
          3,
          2,
          3,
          3,
          4,
          3,
          5,
          3,
          3,
          3,
          2,
          3,
          4,
          2,
          3,
          4,
          4,
          2,
          3,
          2,
          4,
          4,
          3,
          3,
          3,
          3,
          3,
          3,
          5,
          3,
          5,
          5,
          2,
          8,
          3,
          4,
          3,
          3,
          3,
          3,
          4,
          3,
          3,
          3,
          5,
          4,
          4,
          4,
          3,
          2,
          4,
          5,
          3,
          3,
          2,
          3,
          3,
          4,
          3,
          2,
          3,
          4,
          3,
          4,
          7,
          3,
          3,
          3,
          3,
          2,
          4,
          5,
          4,
          3,
          3,
          5,
          3,
          3,
          4,
          3,
          4,
          3,
          3,
          2,
          4,
          5,
          3,
          4,
          4,
          3,
          4,
          3,
          5,
          2,
          3,
          3,
          4,
          5,
          4,
          3,
          4,
          5,
          3,
          3,
          4,
          5,
          5,
          4,
          3,
          5,
          3,
          2,
          3,
          3,
          3,
          3,
          4,
          4,
          4,
          4,
          3,
          4,
          3,
          5,
          3,
          3,
          3,
          3,
          4,
          3,
          4,
          4,
          3,
          5,
          2,
          3,
          6,
          3,
          4,
          2,
          4,
          2,
          4,
          2,
          3,
          2,
          3,
          2,
          5,
          3,
          4,
          2,
          2,
          8,
          2,
          2,
          3,
          2,
          4,
          4,
          4,
          3,
          2,
          5,
          3,
          2,
          3,
          3,
          3,
          4,
          2,
          3,
          5,
          3,
          2,
          3,
          2,
          2,
          5,
          2,
          4,
          4,
          3,
          4,
          4,
          2,
          2,
          2,
          3,
          4,
          4,
          2,
          3,
          2,
          4,
          2,
          3,
          2,
          2,
          2,
          2,
          4,
          4,
          2,
          3,
          3,
          4,
          5,
          4,
          6,
          2,
          3,
          3,
          3,
          3,
          3,
          3,
          3,
          3,
          3,
          3,
          2,
          2,
          4,
          3,
          4,
          3,
          2,
          2,
          3,
          4,
          2,
          4,
          3,
          3,
          3,
          3,
          2,
          3,
          2,
          3,
          4,
          4,
          3,
          6,
          3,
          3,
          2,
          2,
          3,
          4,
          4,
          4,
          3,
          3,
          4,
          3,
          4,
          3,
          5,
          5,
          3,
          3,
          4,
          4,
          3,
          4,
          2,
          2,
          2,
          2,
          4,
          2,
          2,
          3,
          2,
          5,
          2,
          2,
          3,
          4,
          6,
          5,
          3,
          3,
          2,
          3,
          4,
          3,
          3,
          4,
          3,
          4,
          2,
          3,
          3,
          3,
          2,
          3,
          5,
          3,
          3,
          2,
          2,
          3,
          3,
          2,
          3,
          2,
          2,
          4,
          4,
          2,
          2,
          2,
          2,
          2,
          6,
          5,
          2,
          2,
          4,
          3,
          3,
          5,
          2,
          4,
          2,
          3,
          2,
          3,
          3,
          2,
          8,
          3,
          4,
          3,
          2,
          2,
          5,
          3,
          2,
          3,
          3,
          4,
          3,
          4,
          3,
          4,
          3,
          4,
          4,
          3,
          7,
          2,
          4,
          4,
          5,
          2,
          4,
          5,
          4,
          3,
          3,
          2,
          2,
          3,
          6,
          2,
          4,
          4,
          4,
          2,
          2,
          3,
          4,
          2,
          2,
          2,
          2,
          3,
          3,
          5,
          3,
          2,
          3,
          2,
          4,
          4,
          4,
          4,
          3,
          2,
          4,
          3,
          3,
          4,
          2,
          2,
          2,
          3,
          2,
          5,
          3,
          3,
          5,
          5,
          2,
          3,
          5,
          3,
          5,
          3,
          2,
          2,
          7,
          3,
          3,
          4,
          3,
          2,
          4,
          2,
          3,
          3,
          2,
          2,
          4,
          4,
          4,
          3,
          5,
          4,
          4,
          3,
          4,
          3,
          3,
          4,
          3,
          4,
          5,
          3,
          4,
          3,
          2,
          3,
          2,
          2,
          2,
          2,
          4,
          3,
          7,
          6,
          4,
          4,
          2,
          3,
          3,
          2,
          4,
          5,
          5,
          3,
          2,
          2,
          3,
          3,
          3,
          2,
          4,
          4,
          2,
          2,
          6,
          2,
          4,
          2,
          2,
          3,
          3,
          6,
          4,
          4,
          2,
          4,
          3,
          5,
          4,
          3,
          2,
          3,
          2,
          3,
          3,
          4,
          3,
          4,
          4,
          4,
          4,
          3,
          4,
          3,
          2,
          3,
          4,
          3,
          2,
          5,
          3,
          5,
          4,
          3,
          3,
          5,
          6,
          3,
          2,
          5,
          2,
          3,
          3,
          2,
          4,
          4,
          4,
          2,
          2,
          4,
          4,
          3,
          2,
          3,
          5,
          5,
          2,
          4,
          4,
          5,
          4,
          3,
          4,
          3,
          3,
          2,
          4,
          4,
          3,
          4,
          4,
          3,
          3,
          4,
          4,
          2,
          2,
          3,
          3,
          3,
          4,
          3,
          3,
          3,
          2,
          4,
          4,
          3,
          3,
          3,
          3,
          3,
          4,
          5,
          3,
          4,
          5,
          2,
          4,
          4,
          4,
          4,
          3,
          3,
          3,
          2,
          4,
          3,
          3,
          5,
          2,
          4,
          3,
          4,
          3,
          3,
          3,
          4,
          4,
          3,
          4,
          5,
          3,
          3,
          3,
          3,
          3,
          5,
          3,
          3,
          3,
          4,
          3,
          4,
          3,
          4,
          2,
          3,
          3,
          4,
          5,
          3,
          3,
          3,
          3,
          4,
          3,
          3,
          3,
          3,
          3,
          5,
          3,
          4,
          3,
          3,
          3,
          3,
          3,
          4,
          3,
          4,
          4,
          4,
          3,
          2,
          3,
          3,
          3,
          3,
          3,
          2,
          3,
          3,
          4,
          12,
          3,
          3,
          3,
          3,
          3,
          6,
          3,
          4,
          5,
          5,
          3,
          5,
          3,
          3,
          2,
          3,
          3,
          4,
          4,
          3,
          3,
          3,
          5,
          4,
          4,
          4,
          3,
          3,
          2,
          5,
          3,
          4,
          2,
          3,
          4,
          5,
          3,
          5,
          4,
          4,
          4,
          3,
          4,
          3,
          4,
          5,
          3,
          3,
          4,
          6,
          3,
          4,
          4,
          3,
          4,
          4,
          4,
          3,
          4,
          3,
          7,
          2,
          3,
          2,
          3,
          4,
          3,
          3,
          4,
          3,
          3,
          5,
          3,
          3,
          3,
          3,
          4,
          5,
          4,
          3,
          3,
          3,
          3,
          3,
          5,
          2,
          3,
          3,
          3,
          2,
          3,
          4,
          3,
          3,
          3,
          3,
          4,
          3,
          4,
          7,
          6,
          3,
          5,
          5,
          5,
          3,
          4,
          6,
          3,
          6,
          3,
          5,
          5,
          4,
          3,
          3,
          4,
          4,
          3,
          3,
          5,
          3,
          4,
          4,
          4,
          3,
          3,
          6,
          2,
          4,
          4,
          4,
          3,
          5
         ],
         "xaxis": "x",
         "yaxis": "y"
        }
       ],
       "layout": {
        "barmode": "relative",
        "height": 400,
        "legend": {
         "tracegroupgap": 0
        },
        "template": {
         "data": {
          "bar": [
           {
            "error_x": {
             "color": "#2a3f5f"
            },
            "error_y": {
             "color": "#2a3f5f"
            },
            "marker": {
             "line": {
              "color": "#E5ECF6",
              "width": 0.5
             },
             "pattern": {
              "fillmode": "overlay",
              "size": 10,
              "solidity": 0.2
             }
            },
            "type": "bar"
           }
          ],
          "barpolar": [
           {
            "marker": {
             "line": {
              "color": "#E5ECF6",
              "width": 0.5
             },
             "pattern": {
              "fillmode": "overlay",
              "size": 10,
              "solidity": 0.2
             }
            },
            "type": "barpolar"
           }
          ],
          "carpet": [
           {
            "aaxis": {
             "endlinecolor": "#2a3f5f",
             "gridcolor": "white",
             "linecolor": "white",
             "minorgridcolor": "white",
             "startlinecolor": "#2a3f5f"
            },
            "baxis": {
             "endlinecolor": "#2a3f5f",
             "gridcolor": "white",
             "linecolor": "white",
             "minorgridcolor": "white",
             "startlinecolor": "#2a3f5f"
            },
            "type": "carpet"
           }
          ],
          "choropleth": [
           {
            "colorbar": {
             "outlinewidth": 0,
             "ticks": ""
            },
            "type": "choropleth"
           }
          ],
          "contour": [
           {
            "colorbar": {
             "outlinewidth": 0,
             "ticks": ""
            },
            "colorscale": [
             [
              0,
              "#0d0887"
             ],
             [
              0.1111111111111111,
              "#46039f"
             ],
             [
              0.2222222222222222,
              "#7201a8"
             ],
             [
              0.3333333333333333,
              "#9c179e"
             ],
             [
              0.4444444444444444,
              "#bd3786"
             ],
             [
              0.5555555555555556,
              "#d8576b"
             ],
             [
              0.6666666666666666,
              "#ed7953"
             ],
             [
              0.7777777777777778,
              "#fb9f3a"
             ],
             [
              0.8888888888888888,
              "#fdca26"
             ],
             [
              1,
              "#f0f921"
             ]
            ],
            "type": "contour"
           }
          ],
          "contourcarpet": [
           {
            "colorbar": {
             "outlinewidth": 0,
             "ticks": ""
            },
            "type": "contourcarpet"
           }
          ],
          "heatmap": [
           {
            "colorbar": {
             "outlinewidth": 0,
             "ticks": ""
            },
            "colorscale": [
             [
              0,
              "#0d0887"
             ],
             [
              0.1111111111111111,
              "#46039f"
             ],
             [
              0.2222222222222222,
              "#7201a8"
             ],
             [
              0.3333333333333333,
              "#9c179e"
             ],
             [
              0.4444444444444444,
              "#bd3786"
             ],
             [
              0.5555555555555556,
              "#d8576b"
             ],
             [
              0.6666666666666666,
              "#ed7953"
             ],
             [
              0.7777777777777778,
              "#fb9f3a"
             ],
             [
              0.8888888888888888,
              "#fdca26"
             ],
             [
              1,
              "#f0f921"
             ]
            ],
            "type": "heatmap"
           }
          ],
          "heatmapgl": [
           {
            "colorbar": {
             "outlinewidth": 0,
             "ticks": ""
            },
            "colorscale": [
             [
              0,
              "#0d0887"
             ],
             [
              0.1111111111111111,
              "#46039f"
             ],
             [
              0.2222222222222222,
              "#7201a8"
             ],
             [
              0.3333333333333333,
              "#9c179e"
             ],
             [
              0.4444444444444444,
              "#bd3786"
             ],
             [
              0.5555555555555556,
              "#d8576b"
             ],
             [
              0.6666666666666666,
              "#ed7953"
             ],
             [
              0.7777777777777778,
              "#fb9f3a"
             ],
             [
              0.8888888888888888,
              "#fdca26"
             ],
             [
              1,
              "#f0f921"
             ]
            ],
            "type": "heatmapgl"
           }
          ],
          "histogram": [
           {
            "marker": {
             "pattern": {
              "fillmode": "overlay",
              "size": 10,
              "solidity": 0.2
             }
            },
            "type": "histogram"
           }
          ],
          "histogram2d": [
           {
            "colorbar": {
             "outlinewidth": 0,
             "ticks": ""
            },
            "colorscale": [
             [
              0,
              "#0d0887"
             ],
             [
              0.1111111111111111,
              "#46039f"
             ],
             [
              0.2222222222222222,
              "#7201a8"
             ],
             [
              0.3333333333333333,
              "#9c179e"
             ],
             [
              0.4444444444444444,
              "#bd3786"
             ],
             [
              0.5555555555555556,
              "#d8576b"
             ],
             [
              0.6666666666666666,
              "#ed7953"
             ],
             [
              0.7777777777777778,
              "#fb9f3a"
             ],
             [
              0.8888888888888888,
              "#fdca26"
             ],
             [
              1,
              "#f0f921"
             ]
            ],
            "type": "histogram2d"
           }
          ],
          "histogram2dcontour": [
           {
            "colorbar": {
             "outlinewidth": 0,
             "ticks": ""
            },
            "colorscale": [
             [
              0,
              "#0d0887"
             ],
             [
              0.1111111111111111,
              "#46039f"
             ],
             [
              0.2222222222222222,
              "#7201a8"
             ],
             [
              0.3333333333333333,
              "#9c179e"
             ],
             [
              0.4444444444444444,
              "#bd3786"
             ],
             [
              0.5555555555555556,
              "#d8576b"
             ],
             [
              0.6666666666666666,
              "#ed7953"
             ],
             [
              0.7777777777777778,
              "#fb9f3a"
             ],
             [
              0.8888888888888888,
              "#fdca26"
             ],
             [
              1,
              "#f0f921"
             ]
            ],
            "type": "histogram2dcontour"
           }
          ],
          "mesh3d": [
           {
            "colorbar": {
             "outlinewidth": 0,
             "ticks": ""
            },
            "type": "mesh3d"
           }
          ],
          "parcoords": [
           {
            "line": {
             "colorbar": {
              "outlinewidth": 0,
              "ticks": ""
             }
            },
            "type": "parcoords"
           }
          ],
          "pie": [
           {
            "automargin": true,
            "type": "pie"
           }
          ],
          "scatter": [
           {
            "fillpattern": {
             "fillmode": "overlay",
             "size": 10,
             "solidity": 0.2
            },
            "type": "scatter"
           }
          ],
          "scatter3d": [
           {
            "line": {
             "colorbar": {
              "outlinewidth": 0,
              "ticks": ""
             }
            },
            "marker": {
             "colorbar": {
              "outlinewidth": 0,
              "ticks": ""
             }
            },
            "type": "scatter3d"
           }
          ],
          "scattercarpet": [
           {
            "marker": {
             "colorbar": {
              "outlinewidth": 0,
              "ticks": ""
             }
            },
            "type": "scattercarpet"
           }
          ],
          "scattergeo": [
           {
            "marker": {
             "colorbar": {
              "outlinewidth": 0,
              "ticks": ""
             }
            },
            "type": "scattergeo"
           }
          ],
          "scattergl": [
           {
            "marker": {
             "colorbar": {
              "outlinewidth": 0,
              "ticks": ""
             }
            },
            "type": "scattergl"
           }
          ],
          "scattermapbox": [
           {
            "marker": {
             "colorbar": {
              "outlinewidth": 0,
              "ticks": ""
             }
            },
            "type": "scattermapbox"
           }
          ],
          "scatterpolar": [
           {
            "marker": {
             "colorbar": {
              "outlinewidth": 0,
              "ticks": ""
             }
            },
            "type": "scatterpolar"
           }
          ],
          "scatterpolargl": [
           {
            "marker": {
             "colorbar": {
              "outlinewidth": 0,
              "ticks": ""
             }
            },
            "type": "scatterpolargl"
           }
          ],
          "scatterternary": [
           {
            "marker": {
             "colorbar": {
              "outlinewidth": 0,
              "ticks": ""
             }
            },
            "type": "scatterternary"
           }
          ],
          "surface": [
           {
            "colorbar": {
             "outlinewidth": 0,
             "ticks": ""
            },
            "colorscale": [
             [
              0,
              "#0d0887"
             ],
             [
              0.1111111111111111,
              "#46039f"
             ],
             [
              0.2222222222222222,
              "#7201a8"
             ],
             [
              0.3333333333333333,
              "#9c179e"
             ],
             [
              0.4444444444444444,
              "#bd3786"
             ],
             [
              0.5555555555555556,
              "#d8576b"
             ],
             [
              0.6666666666666666,
              "#ed7953"
             ],
             [
              0.7777777777777778,
              "#fb9f3a"
             ],
             [
              0.8888888888888888,
              "#fdca26"
             ],
             [
              1,
              "#f0f921"
             ]
            ],
            "type": "surface"
           }
          ],
          "table": [
           {
            "cells": {
             "fill": {
              "color": "#EBF0F8"
             },
             "line": {
              "color": "white"
             }
            },
            "header": {
             "fill": {
              "color": "#C8D4E3"
             },
             "line": {
              "color": "white"
             }
            },
            "type": "table"
           }
          ]
         },
         "layout": {
          "annotationdefaults": {
           "arrowcolor": "#2a3f5f",
           "arrowhead": 0,
           "arrowwidth": 1
          },
          "autotypenumbers": "strict",
          "coloraxis": {
           "colorbar": {
            "outlinewidth": 0,
            "ticks": ""
           }
          },
          "colorscale": {
           "diverging": [
            [
             0,
             "#8e0152"
            ],
            [
             0.1,
             "#c51b7d"
            ],
            [
             0.2,
             "#de77ae"
            ],
            [
             0.3,
             "#f1b6da"
            ],
            [
             0.4,
             "#fde0ef"
            ],
            [
             0.5,
             "#f7f7f7"
            ],
            [
             0.6,
             "#e6f5d0"
            ],
            [
             0.7,
             "#b8e186"
            ],
            [
             0.8,
             "#7fbc41"
            ],
            [
             0.9,
             "#4d9221"
            ],
            [
             1,
             "#276419"
            ]
           ],
           "sequential": [
            [
             0,
             "#0d0887"
            ],
            [
             0.1111111111111111,
             "#46039f"
            ],
            [
             0.2222222222222222,
             "#7201a8"
            ],
            [
             0.3333333333333333,
             "#9c179e"
            ],
            [
             0.4444444444444444,
             "#bd3786"
            ],
            [
             0.5555555555555556,
             "#d8576b"
            ],
            [
             0.6666666666666666,
             "#ed7953"
            ],
            [
             0.7777777777777778,
             "#fb9f3a"
            ],
            [
             0.8888888888888888,
             "#fdca26"
            ],
            [
             1,
             "#f0f921"
            ]
           ],
           "sequentialminus": [
            [
             0,
             "#0d0887"
            ],
            [
             0.1111111111111111,
             "#46039f"
            ],
            [
             0.2222222222222222,
             "#7201a8"
            ],
            [
             0.3333333333333333,
             "#9c179e"
            ],
            [
             0.4444444444444444,
             "#bd3786"
            ],
            [
             0.5555555555555556,
             "#d8576b"
            ],
            [
             0.6666666666666666,
             "#ed7953"
            ],
            [
             0.7777777777777778,
             "#fb9f3a"
            ],
            [
             0.8888888888888888,
             "#fdca26"
            ],
            [
             1,
             "#f0f921"
            ]
           ]
          },
          "colorway": [
           "#636efa",
           "#EF553B",
           "#00cc96",
           "#ab63fa",
           "#FFA15A",
           "#19d3f3",
           "#FF6692",
           "#B6E880",
           "#FF97FF",
           "#FECB52"
          ],
          "font": {
           "color": "#2a3f5f"
          },
          "geo": {
           "bgcolor": "white",
           "lakecolor": "white",
           "landcolor": "#E5ECF6",
           "showlakes": true,
           "showland": true,
           "subunitcolor": "white"
          },
          "hoverlabel": {
           "align": "left"
          },
          "hovermode": "closest",
          "mapbox": {
           "style": "light"
          },
          "paper_bgcolor": "white",
          "plot_bgcolor": "#E5ECF6",
          "polar": {
           "angularaxis": {
            "gridcolor": "white",
            "linecolor": "white",
            "ticks": ""
           },
           "bgcolor": "#E5ECF6",
           "radialaxis": {
            "gridcolor": "white",
            "linecolor": "white",
            "ticks": ""
           }
          },
          "scene": {
           "xaxis": {
            "backgroundcolor": "#E5ECF6",
            "gridcolor": "white",
            "gridwidth": 2,
            "linecolor": "white",
            "showbackground": true,
            "ticks": "",
            "zerolinecolor": "white"
           },
           "yaxis": {
            "backgroundcolor": "#E5ECF6",
            "gridcolor": "white",
            "gridwidth": 2,
            "linecolor": "white",
            "showbackground": true,
            "ticks": "",
            "zerolinecolor": "white"
           },
           "zaxis": {
            "backgroundcolor": "#E5ECF6",
            "gridcolor": "white",
            "gridwidth": 2,
            "linecolor": "white",
            "showbackground": true,
            "ticks": "",
            "zerolinecolor": "white"
           }
          },
          "shapedefaults": {
           "line": {
            "color": "#2a3f5f"
           }
          },
          "ternary": {
           "aaxis": {
            "gridcolor": "white",
            "linecolor": "white",
            "ticks": ""
           },
           "baxis": {
            "gridcolor": "white",
            "linecolor": "white",
            "ticks": ""
           },
           "bgcolor": "#E5ECF6",
           "caxis": {
            "gridcolor": "white",
            "linecolor": "white",
            "ticks": ""
           }
          },
          "title": {
           "x": 0.05
          },
          "xaxis": {
           "automargin": true,
           "gridcolor": "white",
           "linecolor": "white",
           "ticks": "",
           "title": {
            "standoff": 15
           },
           "zerolinecolor": "white",
           "zerolinewidth": 2
          },
          "yaxis": {
           "automargin": true,
           "gridcolor": "white",
           "linecolor": "white",
           "ticks": "",
           "title": {
            "standoff": 15
           },
           "zerolinecolor": "white",
           "zerolinewidth": 2
          }
         }
        },
        "title": {
         "text": "Histogram of Bedrooms"
        },
        "width": 600,
        "xaxis": {
         "anchor": "y",
         "domain": [
          0,
          1
         ],
         "title": {
          "text": "Bedroom"
         }
        },
        "yaxis": {
         "anchor": "x",
         "domain": [
          0,
          1
         ],
         "title": {
          "text": "count"
         }
        }
       }
      }
     },
     "metadata": {},
     "output_type": "display_data"
    }
   ],
   "source": [
    "# trying with plotly express\n",
    "fig = px.histogram(rentals, x=\"Bedroom\", title=\"Histogram of Bedrooms\",width=600,\n",
    "  height=400,)\n",
    "fig.show()"
   ]
  },
  {
   "cell_type": "code",
   "execution_count": 86,
   "metadata": {},
   "outputs": [
    {
     "data": {
      "application/vnd.plotly.v1+json": {
       "config": {
        "plotlyServerURL": "https://plot.ly"
       },
       "data": [
        {
         "alignmentgroup": "True",
         "box": {
          "visible": true
         },
         "hovertemplate": "Bedroom=%{y}<extra></extra>",
         "legendgroup": "",
         "marker": {
          "color": "#636efa"
         },
         "name": "",
         "offsetgroup": "",
         "orientation": "v",
         "points": "all",
         "scalegroup": "True",
         "showlegend": false,
         "type": "violin",
         "x0": " ",
         "xaxis": "x",
         "y": [
          5,
          5,
          3,
          3,
          3,
          4,
          3,
          4,
          4,
          4,
          2,
          5,
          5,
          3,
          4,
          4,
          7,
          4,
          4,
          4,
          3,
          5,
          3,
          3,
          4,
          3,
          3,
          3,
          3,
          3,
          8,
          4,
          3,
          2,
          3,
          3,
          4,
          3,
          3,
          6,
          5,
          3,
          4,
          3,
          2,
          3,
          4,
          3,
          3,
          4,
          3,
          3,
          4,
          3,
          3,
          3,
          4,
          4,
          4,
          4,
          3,
          3,
          5,
          4,
          3,
          4,
          3,
          3,
          4,
          3,
          3,
          3,
          6,
          5,
          3,
          5,
          3,
          3,
          3,
          3,
          4,
          2,
          3,
          3,
          4,
          3,
          3,
          4,
          4,
          5,
          3,
          3,
          3,
          5,
          2,
          2,
          3,
          3,
          5,
          3,
          4,
          3,
          3,
          3,
          3,
          3,
          5,
          3,
          5,
          5,
          4,
          4,
          4,
          3,
          3,
          3,
          2,
          4,
          5,
          4,
          2,
          4,
          5,
          2,
          6,
          3,
          3,
          3,
          3,
          3,
          3,
          4,
          3,
          3,
          4,
          5,
          3,
          3,
          3,
          5,
          3,
          2,
          3,
          3,
          3,
          4,
          3,
          5,
          6,
          3,
          4,
          4,
          4,
          4,
          3,
          4,
          3,
          5,
          3,
          4,
          5,
          3,
          4,
          4,
          5,
          2,
          5,
          6,
          3,
          3,
          6,
          3,
          2,
          4,
          3,
          4,
          4,
          6,
          4,
          4,
          3,
          5,
          3,
          3,
          5,
          3,
          3,
          4,
          3,
          4,
          4,
          5,
          3,
          3,
          3,
          3,
          4,
          3,
          4,
          5,
          2,
          4,
          5,
          3,
          3,
          2,
          3,
          5,
          5,
          3,
          3,
          4,
          3,
          4,
          5,
          3,
          5,
          4,
          3,
          3,
          2,
          2,
          3,
          4,
          4,
          3,
          3,
          2,
          5,
          2,
          4,
          3,
          3,
          3,
          2,
          3,
          5,
          4,
          2,
          3,
          4,
          4,
          5,
          4,
          5,
          3,
          3,
          4,
          4,
          3,
          4,
          5,
          5,
          4,
          3,
          4,
          3,
          4,
          3,
          4,
          4,
          3,
          5,
          5,
          2,
          3,
          3,
          3,
          3,
          4,
          5,
          3,
          5,
          4,
          4,
          4,
          2,
          6,
          4,
          4,
          4,
          6,
          3,
          3,
          3,
          3,
          3,
          4,
          4,
          3,
          3,
          4,
          3,
          5,
          5,
          6,
          7,
          4,
          4,
          3,
          5,
          2,
          3,
          3,
          4,
          4,
          4,
          4,
          3,
          4,
          3,
          5,
          7,
          4,
          5,
          3,
          3,
          3,
          6,
          3,
          2,
          4,
          3,
          4,
          5,
          4,
          4,
          4,
          6,
          3,
          5,
          6,
          7,
          5,
          3,
          2,
          3,
          4,
          4,
          6,
          2,
          4,
          6,
          3,
          9,
          2,
          5,
          3,
          3,
          5,
          3,
          5,
          3,
          5,
          3,
          3,
          2,
          7,
          4,
          3,
          5,
          3,
          4,
          2,
          3,
          3,
          4,
          6,
          3,
          6,
          3,
          3,
          2,
          5,
          4,
          4,
          5,
          3,
          3,
          4,
          3,
          5,
          5,
          3,
          2,
          3,
          3,
          4,
          3,
          5,
          3,
          3,
          3,
          2,
          3,
          4,
          2,
          3,
          4,
          4,
          2,
          3,
          2,
          4,
          4,
          3,
          3,
          3,
          3,
          3,
          3,
          5,
          3,
          5,
          5,
          2,
          8,
          3,
          4,
          3,
          3,
          3,
          3,
          4,
          3,
          3,
          3,
          5,
          4,
          4,
          4,
          3,
          2,
          4,
          5,
          3,
          3,
          2,
          3,
          3,
          4,
          3,
          2,
          3,
          4,
          3,
          4,
          7,
          3,
          3,
          3,
          3,
          2,
          4,
          5,
          4,
          3,
          3,
          5,
          3,
          3,
          4,
          3,
          4,
          3,
          3,
          2,
          4,
          5,
          3,
          4,
          4,
          3,
          4,
          3,
          5,
          2,
          3,
          3,
          4,
          5,
          4,
          3,
          4,
          5,
          3,
          3,
          4,
          5,
          5,
          4,
          3,
          5,
          3,
          2,
          3,
          3,
          3,
          3,
          4,
          4,
          4,
          4,
          3,
          4,
          3,
          5,
          3,
          3,
          3,
          3,
          4,
          3,
          4,
          4,
          3,
          5,
          2,
          3,
          6,
          3,
          4,
          2,
          4,
          2,
          4,
          2,
          3,
          2,
          3,
          2,
          5,
          3,
          4,
          2,
          2,
          8,
          2,
          2,
          3,
          2,
          4,
          4,
          4,
          3,
          2,
          5,
          3,
          2,
          3,
          3,
          3,
          4,
          2,
          3,
          5,
          3,
          2,
          3,
          2,
          2,
          5,
          2,
          4,
          4,
          3,
          4,
          4,
          2,
          2,
          2,
          3,
          4,
          4,
          2,
          3,
          2,
          4,
          2,
          3,
          2,
          2,
          2,
          2,
          4,
          4,
          2,
          3,
          3,
          4,
          5,
          4,
          6,
          2,
          3,
          3,
          3,
          3,
          3,
          3,
          3,
          3,
          3,
          3,
          2,
          2,
          4,
          3,
          4,
          3,
          2,
          2,
          3,
          4,
          2,
          4,
          3,
          3,
          3,
          3,
          2,
          3,
          2,
          3,
          4,
          4,
          3,
          6,
          3,
          3,
          2,
          2,
          3,
          4,
          4,
          4,
          3,
          3,
          4,
          3,
          4,
          3,
          5,
          5,
          3,
          3,
          4,
          4,
          3,
          4,
          2,
          2,
          2,
          2,
          4,
          2,
          2,
          3,
          2,
          5,
          2,
          2,
          3,
          4,
          6,
          5,
          3,
          3,
          2,
          3,
          4,
          3,
          3,
          4,
          3,
          4,
          2,
          3,
          3,
          3,
          2,
          3,
          5,
          3,
          3,
          2,
          2,
          3,
          3,
          2,
          3,
          2,
          2,
          4,
          4,
          2,
          2,
          2,
          2,
          2,
          6,
          5,
          2,
          2,
          4,
          3,
          3,
          5,
          2,
          4,
          2,
          3,
          2,
          3,
          3,
          2,
          8,
          3,
          4,
          3,
          2,
          2,
          5,
          3,
          2,
          3,
          3,
          4,
          3,
          4,
          3,
          4,
          3,
          4,
          4,
          3,
          7,
          2,
          4,
          4,
          5,
          2,
          4,
          5,
          4,
          3,
          3,
          2,
          2,
          3,
          6,
          2,
          4,
          4,
          4,
          2,
          2,
          3,
          4,
          2,
          2,
          2,
          2,
          3,
          3,
          5,
          3,
          2,
          3,
          2,
          4,
          4,
          4,
          4,
          3,
          2,
          4,
          3,
          3,
          4,
          2,
          2,
          2,
          3,
          2,
          5,
          3,
          3,
          5,
          5,
          2,
          3,
          5,
          3,
          5,
          3,
          2,
          2,
          7,
          3,
          3,
          4,
          3,
          2,
          4,
          2,
          3,
          3,
          2,
          2,
          4,
          4,
          4,
          3,
          5,
          4,
          4,
          3,
          4,
          3,
          3,
          4,
          3,
          4,
          5,
          3,
          4,
          3,
          2,
          3,
          2,
          2,
          2,
          2,
          4,
          3,
          7,
          6,
          4,
          4,
          2,
          3,
          3,
          2,
          4,
          5,
          5,
          3,
          2,
          2,
          3,
          3,
          3,
          2,
          4,
          4,
          2,
          2,
          6,
          2,
          4,
          2,
          2,
          3,
          3,
          6,
          4,
          4,
          2,
          4,
          3,
          5,
          4,
          3,
          2,
          3,
          2,
          3,
          3,
          4,
          3,
          4,
          4,
          4,
          4,
          3,
          4,
          3,
          2,
          3,
          4,
          3,
          2,
          5,
          3,
          5,
          4,
          3,
          3,
          5,
          6,
          3,
          2,
          5,
          2,
          3,
          3,
          2,
          4,
          4,
          4,
          2,
          2,
          4,
          4,
          3,
          2,
          3,
          5,
          5,
          2,
          4,
          4,
          5,
          4,
          3,
          4,
          3,
          3,
          2,
          4,
          4,
          3,
          4,
          4,
          3,
          3,
          4,
          4,
          2,
          2,
          3,
          3,
          3,
          4,
          3,
          3,
          3,
          2,
          4,
          4,
          3,
          3,
          3,
          3,
          3,
          4,
          5,
          3,
          4,
          5,
          2,
          4,
          4,
          4,
          4,
          3,
          3,
          3,
          2,
          4,
          3,
          3,
          5,
          2,
          4,
          3,
          4,
          3,
          3,
          3,
          4,
          4,
          3,
          4,
          5,
          3,
          3,
          3,
          3,
          3,
          5,
          3,
          3,
          3,
          4,
          3,
          4,
          3,
          4,
          2,
          3,
          3,
          4,
          5,
          3,
          3,
          3,
          3,
          4,
          3,
          3,
          3,
          3,
          3,
          5,
          3,
          4,
          3,
          3,
          3,
          3,
          3,
          4,
          3,
          4,
          4,
          4,
          3,
          2,
          3,
          3,
          3,
          3,
          3,
          2,
          3,
          3,
          4,
          12,
          3,
          3,
          3,
          3,
          3,
          6,
          3,
          4,
          5,
          5,
          3,
          5,
          3,
          3,
          2,
          3,
          3,
          4,
          4,
          3,
          3,
          3,
          5,
          4,
          4,
          4,
          3,
          3,
          2,
          5,
          3,
          4,
          2,
          3,
          4,
          5,
          3,
          5,
          4,
          4,
          4,
          3,
          4,
          3,
          4,
          5,
          3,
          3,
          4,
          6,
          3,
          4,
          4,
          3,
          4,
          4,
          4,
          3,
          4,
          3,
          7,
          2,
          3,
          2,
          3,
          4,
          3,
          3,
          4,
          3,
          3,
          5,
          3,
          3,
          3,
          3,
          4,
          5,
          4,
          3,
          3,
          3,
          3,
          3,
          5,
          2,
          3,
          3,
          3,
          2,
          3,
          4,
          3,
          3,
          3,
          3,
          4,
          3,
          4,
          7,
          6,
          3,
          5,
          5,
          5,
          3,
          4,
          6,
          3,
          6,
          3,
          5,
          5,
          4,
          3,
          3,
          4,
          4,
          3,
          3,
          5,
          3,
          4,
          4,
          4,
          3,
          3,
          6,
          2,
          4,
          4,
          4,
          3,
          5
         ],
         "y0": " ",
         "yaxis": "y"
        }
       ],
       "layout": {
        "height": 400,
        "legend": {
         "tracegroupgap": 0
        },
        "template": {
         "data": {
          "bar": [
           {
            "error_x": {
             "color": "#2a3f5f"
            },
            "error_y": {
             "color": "#2a3f5f"
            },
            "marker": {
             "line": {
              "color": "#E5ECF6",
              "width": 0.5
             },
             "pattern": {
              "fillmode": "overlay",
              "size": 10,
              "solidity": 0.2
             }
            },
            "type": "bar"
           }
          ],
          "barpolar": [
           {
            "marker": {
             "line": {
              "color": "#E5ECF6",
              "width": 0.5
             },
             "pattern": {
              "fillmode": "overlay",
              "size": 10,
              "solidity": 0.2
             }
            },
            "type": "barpolar"
           }
          ],
          "carpet": [
           {
            "aaxis": {
             "endlinecolor": "#2a3f5f",
             "gridcolor": "white",
             "linecolor": "white",
             "minorgridcolor": "white",
             "startlinecolor": "#2a3f5f"
            },
            "baxis": {
             "endlinecolor": "#2a3f5f",
             "gridcolor": "white",
             "linecolor": "white",
             "minorgridcolor": "white",
             "startlinecolor": "#2a3f5f"
            },
            "type": "carpet"
           }
          ],
          "choropleth": [
           {
            "colorbar": {
             "outlinewidth": 0,
             "ticks": ""
            },
            "type": "choropleth"
           }
          ],
          "contour": [
           {
            "colorbar": {
             "outlinewidth": 0,
             "ticks": ""
            },
            "colorscale": [
             [
              0,
              "#0d0887"
             ],
             [
              0.1111111111111111,
              "#46039f"
             ],
             [
              0.2222222222222222,
              "#7201a8"
             ],
             [
              0.3333333333333333,
              "#9c179e"
             ],
             [
              0.4444444444444444,
              "#bd3786"
             ],
             [
              0.5555555555555556,
              "#d8576b"
             ],
             [
              0.6666666666666666,
              "#ed7953"
             ],
             [
              0.7777777777777778,
              "#fb9f3a"
             ],
             [
              0.8888888888888888,
              "#fdca26"
             ],
             [
              1,
              "#f0f921"
             ]
            ],
            "type": "contour"
           }
          ],
          "contourcarpet": [
           {
            "colorbar": {
             "outlinewidth": 0,
             "ticks": ""
            },
            "type": "contourcarpet"
           }
          ],
          "heatmap": [
           {
            "colorbar": {
             "outlinewidth": 0,
             "ticks": ""
            },
            "colorscale": [
             [
              0,
              "#0d0887"
             ],
             [
              0.1111111111111111,
              "#46039f"
             ],
             [
              0.2222222222222222,
              "#7201a8"
             ],
             [
              0.3333333333333333,
              "#9c179e"
             ],
             [
              0.4444444444444444,
              "#bd3786"
             ],
             [
              0.5555555555555556,
              "#d8576b"
             ],
             [
              0.6666666666666666,
              "#ed7953"
             ],
             [
              0.7777777777777778,
              "#fb9f3a"
             ],
             [
              0.8888888888888888,
              "#fdca26"
             ],
             [
              1,
              "#f0f921"
             ]
            ],
            "type": "heatmap"
           }
          ],
          "heatmapgl": [
           {
            "colorbar": {
             "outlinewidth": 0,
             "ticks": ""
            },
            "colorscale": [
             [
              0,
              "#0d0887"
             ],
             [
              0.1111111111111111,
              "#46039f"
             ],
             [
              0.2222222222222222,
              "#7201a8"
             ],
             [
              0.3333333333333333,
              "#9c179e"
             ],
             [
              0.4444444444444444,
              "#bd3786"
             ],
             [
              0.5555555555555556,
              "#d8576b"
             ],
             [
              0.6666666666666666,
              "#ed7953"
             ],
             [
              0.7777777777777778,
              "#fb9f3a"
             ],
             [
              0.8888888888888888,
              "#fdca26"
             ],
             [
              1,
              "#f0f921"
             ]
            ],
            "type": "heatmapgl"
           }
          ],
          "histogram": [
           {
            "marker": {
             "pattern": {
              "fillmode": "overlay",
              "size": 10,
              "solidity": 0.2
             }
            },
            "type": "histogram"
           }
          ],
          "histogram2d": [
           {
            "colorbar": {
             "outlinewidth": 0,
             "ticks": ""
            },
            "colorscale": [
             [
              0,
              "#0d0887"
             ],
             [
              0.1111111111111111,
              "#46039f"
             ],
             [
              0.2222222222222222,
              "#7201a8"
             ],
             [
              0.3333333333333333,
              "#9c179e"
             ],
             [
              0.4444444444444444,
              "#bd3786"
             ],
             [
              0.5555555555555556,
              "#d8576b"
             ],
             [
              0.6666666666666666,
              "#ed7953"
             ],
             [
              0.7777777777777778,
              "#fb9f3a"
             ],
             [
              0.8888888888888888,
              "#fdca26"
             ],
             [
              1,
              "#f0f921"
             ]
            ],
            "type": "histogram2d"
           }
          ],
          "histogram2dcontour": [
           {
            "colorbar": {
             "outlinewidth": 0,
             "ticks": ""
            },
            "colorscale": [
             [
              0,
              "#0d0887"
             ],
             [
              0.1111111111111111,
              "#46039f"
             ],
             [
              0.2222222222222222,
              "#7201a8"
             ],
             [
              0.3333333333333333,
              "#9c179e"
             ],
             [
              0.4444444444444444,
              "#bd3786"
             ],
             [
              0.5555555555555556,
              "#d8576b"
             ],
             [
              0.6666666666666666,
              "#ed7953"
             ],
             [
              0.7777777777777778,
              "#fb9f3a"
             ],
             [
              0.8888888888888888,
              "#fdca26"
             ],
             [
              1,
              "#f0f921"
             ]
            ],
            "type": "histogram2dcontour"
           }
          ],
          "mesh3d": [
           {
            "colorbar": {
             "outlinewidth": 0,
             "ticks": ""
            },
            "type": "mesh3d"
           }
          ],
          "parcoords": [
           {
            "line": {
             "colorbar": {
              "outlinewidth": 0,
              "ticks": ""
             }
            },
            "type": "parcoords"
           }
          ],
          "pie": [
           {
            "automargin": true,
            "type": "pie"
           }
          ],
          "scatter": [
           {
            "fillpattern": {
             "fillmode": "overlay",
             "size": 10,
             "solidity": 0.2
            },
            "type": "scatter"
           }
          ],
          "scatter3d": [
           {
            "line": {
             "colorbar": {
              "outlinewidth": 0,
              "ticks": ""
             }
            },
            "marker": {
             "colorbar": {
              "outlinewidth": 0,
              "ticks": ""
             }
            },
            "type": "scatter3d"
           }
          ],
          "scattercarpet": [
           {
            "marker": {
             "colorbar": {
              "outlinewidth": 0,
              "ticks": ""
             }
            },
            "type": "scattercarpet"
           }
          ],
          "scattergeo": [
           {
            "marker": {
             "colorbar": {
              "outlinewidth": 0,
              "ticks": ""
             }
            },
            "type": "scattergeo"
           }
          ],
          "scattergl": [
           {
            "marker": {
             "colorbar": {
              "outlinewidth": 0,
              "ticks": ""
             }
            },
            "type": "scattergl"
           }
          ],
          "scattermapbox": [
           {
            "marker": {
             "colorbar": {
              "outlinewidth": 0,
              "ticks": ""
             }
            },
            "type": "scattermapbox"
           }
          ],
          "scatterpolar": [
           {
            "marker": {
             "colorbar": {
              "outlinewidth": 0,
              "ticks": ""
             }
            },
            "type": "scatterpolar"
           }
          ],
          "scatterpolargl": [
           {
            "marker": {
             "colorbar": {
              "outlinewidth": 0,
              "ticks": ""
             }
            },
            "type": "scatterpolargl"
           }
          ],
          "scatterternary": [
           {
            "marker": {
             "colorbar": {
              "outlinewidth": 0,
              "ticks": ""
             }
            },
            "type": "scatterternary"
           }
          ],
          "surface": [
           {
            "colorbar": {
             "outlinewidth": 0,
             "ticks": ""
            },
            "colorscale": [
             [
              0,
              "#0d0887"
             ],
             [
              0.1111111111111111,
              "#46039f"
             ],
             [
              0.2222222222222222,
              "#7201a8"
             ],
             [
              0.3333333333333333,
              "#9c179e"
             ],
             [
              0.4444444444444444,
              "#bd3786"
             ],
             [
              0.5555555555555556,
              "#d8576b"
             ],
             [
              0.6666666666666666,
              "#ed7953"
             ],
             [
              0.7777777777777778,
              "#fb9f3a"
             ],
             [
              0.8888888888888888,
              "#fdca26"
             ],
             [
              1,
              "#f0f921"
             ]
            ],
            "type": "surface"
           }
          ],
          "table": [
           {
            "cells": {
             "fill": {
              "color": "#EBF0F8"
             },
             "line": {
              "color": "white"
             }
            },
            "header": {
             "fill": {
              "color": "#C8D4E3"
             },
             "line": {
              "color": "white"
             }
            },
            "type": "table"
           }
          ]
         },
         "layout": {
          "annotationdefaults": {
           "arrowcolor": "#2a3f5f",
           "arrowhead": 0,
           "arrowwidth": 1
          },
          "autotypenumbers": "strict",
          "coloraxis": {
           "colorbar": {
            "outlinewidth": 0,
            "ticks": ""
           }
          },
          "colorscale": {
           "diverging": [
            [
             0,
             "#8e0152"
            ],
            [
             0.1,
             "#c51b7d"
            ],
            [
             0.2,
             "#de77ae"
            ],
            [
             0.3,
             "#f1b6da"
            ],
            [
             0.4,
             "#fde0ef"
            ],
            [
             0.5,
             "#f7f7f7"
            ],
            [
             0.6,
             "#e6f5d0"
            ],
            [
             0.7,
             "#b8e186"
            ],
            [
             0.8,
             "#7fbc41"
            ],
            [
             0.9,
             "#4d9221"
            ],
            [
             1,
             "#276419"
            ]
           ],
           "sequential": [
            [
             0,
             "#0d0887"
            ],
            [
             0.1111111111111111,
             "#46039f"
            ],
            [
             0.2222222222222222,
             "#7201a8"
            ],
            [
             0.3333333333333333,
             "#9c179e"
            ],
            [
             0.4444444444444444,
             "#bd3786"
            ],
            [
             0.5555555555555556,
             "#d8576b"
            ],
            [
             0.6666666666666666,
             "#ed7953"
            ],
            [
             0.7777777777777778,
             "#fb9f3a"
            ],
            [
             0.8888888888888888,
             "#fdca26"
            ],
            [
             1,
             "#f0f921"
            ]
           ],
           "sequentialminus": [
            [
             0,
             "#0d0887"
            ],
            [
             0.1111111111111111,
             "#46039f"
            ],
            [
             0.2222222222222222,
             "#7201a8"
            ],
            [
             0.3333333333333333,
             "#9c179e"
            ],
            [
             0.4444444444444444,
             "#bd3786"
            ],
            [
             0.5555555555555556,
             "#d8576b"
            ],
            [
             0.6666666666666666,
             "#ed7953"
            ],
            [
             0.7777777777777778,
             "#fb9f3a"
            ],
            [
             0.8888888888888888,
             "#fdca26"
            ],
            [
             1,
             "#f0f921"
            ]
           ]
          },
          "colorway": [
           "#636efa",
           "#EF553B",
           "#00cc96",
           "#ab63fa",
           "#FFA15A",
           "#19d3f3",
           "#FF6692",
           "#B6E880",
           "#FF97FF",
           "#FECB52"
          ],
          "font": {
           "color": "#2a3f5f"
          },
          "geo": {
           "bgcolor": "white",
           "lakecolor": "white",
           "landcolor": "#E5ECF6",
           "showlakes": true,
           "showland": true,
           "subunitcolor": "white"
          },
          "hoverlabel": {
           "align": "left"
          },
          "hovermode": "closest",
          "mapbox": {
           "style": "light"
          },
          "paper_bgcolor": "white",
          "plot_bgcolor": "#E5ECF6",
          "polar": {
           "angularaxis": {
            "gridcolor": "white",
            "linecolor": "white",
            "ticks": ""
           },
           "bgcolor": "#E5ECF6",
           "radialaxis": {
            "gridcolor": "white",
            "linecolor": "white",
            "ticks": ""
           }
          },
          "scene": {
           "xaxis": {
            "backgroundcolor": "#E5ECF6",
            "gridcolor": "white",
            "gridwidth": 2,
            "linecolor": "white",
            "showbackground": true,
            "ticks": "",
            "zerolinecolor": "white"
           },
           "yaxis": {
            "backgroundcolor": "#E5ECF6",
            "gridcolor": "white",
            "gridwidth": 2,
            "linecolor": "white",
            "showbackground": true,
            "ticks": "",
            "zerolinecolor": "white"
           },
           "zaxis": {
            "backgroundcolor": "#E5ECF6",
            "gridcolor": "white",
            "gridwidth": 2,
            "linecolor": "white",
            "showbackground": true,
            "ticks": "",
            "zerolinecolor": "white"
           }
          },
          "shapedefaults": {
           "line": {
            "color": "#2a3f5f"
           }
          },
          "ternary": {
           "aaxis": {
            "gridcolor": "white",
            "linecolor": "white",
            "ticks": ""
           },
           "baxis": {
            "gridcolor": "white",
            "linecolor": "white",
            "ticks": ""
           },
           "bgcolor": "#E5ECF6",
           "caxis": {
            "gridcolor": "white",
            "linecolor": "white",
            "ticks": ""
           }
          },
          "title": {
           "x": 0.05
          },
          "xaxis": {
           "automargin": true,
           "gridcolor": "white",
           "linecolor": "white",
           "ticks": "",
           "title": {
            "standoff": 15
           },
           "zerolinecolor": "white",
           "zerolinewidth": 2
          },
          "yaxis": {
           "automargin": true,
           "gridcolor": "white",
           "linecolor": "white",
           "ticks": "",
           "title": {
            "standoff": 15
           },
           "zerolinecolor": "white",
           "zerolinewidth": 2
          }
         }
        },
        "title": {
         "text": "Violin Plot of Bedrooms"
        },
        "violinmode": "group",
        "width": 600,
        "xaxis": {
         "anchor": "y",
         "domain": [
          0,
          1
         ]
        },
        "yaxis": {
         "anchor": "x",
         "domain": [
          0,
          1
         ],
         "title": {
          "text": "Bedroom"
         }
        }
       }
      }
     },
     "metadata": {},
     "output_type": "display_data"
    }
   ],
   "source": [
    "# violin and boxplots\n",
    "fig = px.violin(rentals, y=\"Bedroom\", box=True, # draw box plot inside the violin\n",
    "                points='all', # can be 'outliers', or False\n",
    "                title=\"Violin Plot of Bedrooms\", width=600, height=400,)\n",
    "fig.show()"
   ]
  },
  {
   "cell_type": "markdown",
   "metadata": {},
   "source": [
    "Most of them have 2.5 or 3.5 baths"
   ]
  },
  {
   "cell_type": "code",
   "execution_count": 37,
   "metadata": {},
   "outputs": [
    {
     "data": {
      "application/vnd.plotly.v1+json": {
       "config": {
        "plotlyServerURL": "https://plot.ly"
       },
       "data": [
        {
         "alignmentgroup": "True",
         "bingroup": "x",
         "hovertemplate": "Bathroom=%{x}<br>count=%{y}<extra></extra>",
         "legendgroup": "",
         "marker": {
          "color": "#636efa",
          "pattern": {
           "shape": ""
          }
         },
         "name": "",
         "offsetgroup": "",
         "orientation": "v",
         "showlegend": false,
         "type": "histogram",
         "x": [
          3,
          2,
          4,
          5,
          2,
          2.5,
          2.5,
          2.5,
          2,
          3.5,
          3,
          4.5,
          2.5,
          2.5,
          3.5,
          3,
          9,
          3,
          3,
          3.5,
          2.5,
          7,
          3.5,
          3,
          3.5,
          2.5,
          4,
          3.5,
          2.5,
          3,
          7,
          2.5,
          2.5,
          null,
          4,
          4,
          3.5,
          3.5,
          3.5,
          4.5,
          3.5,
          3.5,
          3,
          3.5,
          2,
          2,
          2,
          2.5,
          2.5,
          4.5,
          3.5,
          2,
          4,
          3.5,
          3.5,
          2.5,
          3,
          3.5,
          2.5,
          3,
          4,
          4,
          2,
          3,
          3,
          3.5,
          2.5,
          4,
          2.5,
          4,
          4,
          3.5,
          4.5,
          3,
          3,
          4.5,
          3.5,
          3.5,
          3,
          2.5,
          2,
          2,
          2.5,
          4,
          3.5,
          2.5,
          2.5,
          4,
          2.5,
          3.5,
          2.5,
          3.5,
          3.5,
          3,
          2,
          2.5,
          3,
          3.5,
          4.5,
          4,
          2.5,
          2.5,
          4,
          4,
          3.5,
          3.5,
          3,
          4,
          4.5,
          5,
          4,
          2.5,
          2,
          3,
          4,
          5,
          3.5,
          3.5,
          3.5,
          2.5,
          1.5,
          4.5,
          6,
          1.5,
          3.5,
          5,
          4,
          2.5,
          2.5,
          3.5,
          2.5,
          2.5,
          3.5,
          4,
          2,
          3.5,
          4,
          4,
          3.5,
          3,
          3.5,
          2,
          3.5,
          1.5,
          5,
          3.5,
          3.5,
          3,
          5.5,
          5,
          3.5,
          3,
          2,
          3,
          3.5,
          4.5,
          4,
          3.5,
          3.5,
          3.5,
          3.5,
          5,
          2.5,
          3,
          2.5,
          2.5,
          5,
          5.5,
          2.5,
          2,
          5.5,
          2,
          1.5,
          3.5,
          1.5,
          3.5,
          2.5,
          4.5,
          3,
          3,
          2.5,
          2,
          3.5,
          4,
          3,
          2.5,
          2.5,
          3.5,
          4,
          2.5,
          3.5,
          4.5,
          4,
          2,
          2,
          2.5,
          4,
          4,
          3,
          3.5,
          2.5,
          3.5,
          4.5,
          3.5,
          3,
          1.5,
          3.5,
          6,
          4.5,
          3.5,
          3.5,
          3.5,
          3.5,
          3.5,
          4.5,
          3.5,
          4,
          3.5,
          2.5,
          2.5,
          2,
          3.5,
          2.5,
          2.5,
          3.5,
          3.5,
          4,
          3.5,
          3.5,
          null,
          2.5,
          4,
          4,
          2.5,
          3.5,
          2.5,
          3,
          2.5,
          1.5,
          2,
          4.5,
          2.5,
          4,
          4.5,
          4.5,
          2.5,
          3,
          3,
          2,
          2.5,
          2.5,
          4,
          5.5,
          3.5,
          3.5,
          4.5,
          3.5,
          2,
          2,
          2,
          2,
          3.5,
          2.5,
          3.5,
          2.5,
          2.5,
          3.5,
          2.5,
          1.5,
          3,
          3,
          2,
          2,
          3,
          2,
          3.5,
          3.5,
          4.5,
          2,
          3,
          3.5,
          5.5,
          2.5,
          4,
          2.5,
          2,
          2,
          4.5,
          3.5,
          2,
          3.5,
          3.5,
          5,
          4.5,
          3.5,
          6,
          5,
          3.5,
          3,
          3.5,
          3.5,
          2.5,
          2.5,
          2.5,
          4,
          2,
          2.5,
          2,
          2.5,
          2.5,
          4,
          3.5,
          9,
          3.5,
          6,
          4,
          2.5,
          2,
          4.5,
          3.5,
          4,
          3,
          3,
          5,
          3,
          2.5,
          2.5,
          3,
          5,
          2,
          3.5,
          7,
          4.5,
          3.5,
          3.5,
          null,
          2,
          3,
          3,
          9,
          null,
          4.5,
          6.5,
          3.5,
          8.5,
          2,
          4.5,
          3.5,
          6,
          4.5,
          4,
          5.5,
          3.5,
          4.5,
          3.5,
          2.5,
          1.5,
          6.5,
          3.5,
          2,
          4.5,
          2.5,
          3,
          2,
          2.5,
          2,
          2.5,
          5,
          3.5,
          4.5,
          3.5,
          4,
          1.5,
          3,
          2.5,
          2.5,
          2.5,
          2.5,
          3.5,
          2,
          2.5,
          4,
          3,
          2,
          4,
          4,
          2,
          3.5,
          2,
          3,
          2,
          2.5,
          3.5,
          2.5,
          2.5,
          3,
          2,
          3.5,
          3.5,
          3.5,
          2.5,
          2,
          3.5,
          3,
          3,
          2.5,
          3.5,
          2.5,
          2,
          1.5,
          2,
          3.5,
          4,
          3,
          3,
          4,
          9.5,
          4,
          4,
          3.5,
          4,
          2.5,
          3.5,
          3.5,
          2,
          3.5,
          1.5,
          4.5,
          2,
          4.5,
          2.5,
          2.5,
          null,
          3.5,
          3.5,
          2,
          3.5,
          1.5,
          4,
          4,
          3.5,
          3.5,
          2,
          2.5,
          6,
          2.5,
          2.5,
          5,
          5,
          2.5,
          3.5,
          3.5,
          1.5,
          3.5,
          4.5,
          3,
          2.5,
          3.5,
          4.5,
          3.5,
          2,
          2,
          2.5,
          4,
          4,
          4,
          2.5,
          4,
          5,
          2.5,
          3.5,
          3,
          4,
          3.5,
          3.5,
          3.5,
          2,
          2.5,
          3.5,
          3.5,
          4.5,
          3.5,
          3.5,
          3.5,
          3,
          3.5,
          4,
          3.5,
          4.5,
          4,
          3.5,
          3.5,
          4.5,
          2.5,
          1.5,
          2.5,
          4,
          4,
          2.5,
          3.5,
          4,
          4.5,
          3.5,
          2,
          5,
          2.5,
          3,
          2.5,
          2.5,
          2,
          3.5,
          2,
          2,
          4.5,
          3,
          3.5,
          4.5,
          1.5,
          2,
          4.5,
          3.5,
          2,
          null,
          4,
          null,
          2,
          2,
          3.5,
          2,
          3.5,
          2,
          4.5,
          3.5,
          2,
          2,
          1.5,
          5,
          null,
          2.5,
          2.5,
          2,
          2,
          6,
          4.5,
          1.5,
          1.5,
          5,
          2,
          2,
          3.5,
          2,
          3,
          3,
          null,
          6,
          3,
          2,
          2,
          2,
          3,
          2.5,
          3.5,
          2,
          3.5,
          3.5,
          2,
          2,
          5,
          2,
          2,
          null,
          2,
          4.5,
          3,
          null,
          2,
          2,
          3,
          null,
          1.5,
          2,
          2,
          2,
          2,
          3,
          3.5,
          2,
          2,
          2,
          3,
          3,
          3,
          4.5,
          null,
          2.5,
          3.5,
          2.5,
          2,
          4.5,
          2,
          2.5,
          3.5,
          2,
          3,
          null,
          2,
          2,
          3.5,
          3.5,
          2,
          2,
          2.5,
          3,
          2,
          2,
          3.5,
          2.5,
          3.5,
          4,
          3,
          null,
          2.5,
          1.5,
          null,
          3,
          2.5,
          null,
          5,
          2,
          2,
          null,
          null,
          2.5,
          3,
          4.5,
          2.5,
          2.5,
          2.5,
          3.5,
          2.5,
          3.5,
          3.5,
          2,
          2.5,
          2.5,
          5,
          2.5,
          2,
          2,
          4,
          null,
          2.5,
          1.5,
          2,
          2,
          null,
          2,
          2.5,
          2.5,
          5.5,
          null,
          2,
          3.5,
          4,
          4.5,
          3.5,
          null,
          3,
          2.5,
          3.5,
          3,
          3.5,
          2.5,
          2.5,
          2.5,
          3,
          null,
          2.5,
          2.5,
          2,
          null,
          1.5,
          3.5,
          null,
          2.5,
          null,
          2.5,
          1.5,
          2,
          null,
          1.5,
          1.5,
          2,
          3.5,
          2.5,
          null,
          null,
          1.5,
          null,
          null,
          5.5,
          4.5,
          null,
          2.5,
          3,
          2,
          1.5,
          3,
          null,
          3.5,
          1.5,
          3.5,
          null,
          3,
          1.5,
          null,
          10,
          2.5,
          3.5,
          null,
          2.5,
          2,
          4,
          2.5,
          null,
          null,
          1.5,
          3.5,
          null,
          3.5,
          null,
          3.5,
          3,
          3.5,
          4.5,
          null,
          4,
          3.5,
          3.5,
          3.5,
          3.5,
          2,
          3,
          3.5,
          2.5,
          2.5,
          3.5,
          2,
          null,
          3.5,
          4,
          null,
          3.5,
          2,
          3.5,
          1.5,
          2,
          3.5,
          4,
          2,
          2,
          2,
          2,
          2.5,
          2,
          3.5,
          2.5,
          null,
          2.5,
          2,
          3.5,
          3,
          3.5,
          3.5,
          2,
          null,
          2,
          4,
          3,
          4,
          null,
          2,
          2,
          3,
          null,
          4.5,
          2,
          2,
          3.5,
          4.5,
          2.5,
          3.5,
          3.5,
          2,
          4.5,
          2,
          2.5,
          2,
          10,
          3,
          3,
          4,
          2.5,
          2,
          2,
          1.5,
          2.5,
          2.5,
          null,
          null,
          3.5,
          3.5,
          2,
          2.5,
          4.5,
          4,
          4,
          1.5,
          3.5,
          2,
          null,
          3.5,
          null,
          2,
          3.5,
          1.5,
          2.5,
          3,
          2.5,
          2,
          2,
          2,
          2,
          2.5,
          2,
          2,
          6,
          4.5,
          2,
          2.5,
          1.5,
          2,
          2,
          null,
          4.5,
          2,
          5.5,
          null,
          2,
          null,
          3,
          2.5,
          3,
          null,
          2.5,
          4.5,
          2.5,
          1.5,
          5.5,
          1.5,
          3.5,
          2,
          null,
          2,
          2,
          4,
          3,
          2,
          null,
          4,
          3,
          4,
          3.5,
          1.5,
          null,
          3.5,
          null,
          2.5,
          2,
          2.5,
          2.5,
          2,
          3,
          5,
          2,
          2.5,
          2,
          2.5,
          null,
          null,
          2.5,
          1.5,
          1.5,
          3.5,
          3.5,
          3.5,
          2.5,
          null,
          2.5,
          3,
          8,
          null,
          null,
          3,
          null,
          4,
          2,
          null,
          3,
          3.5,
          null,
          null,
          null,
          3,
          5,
          null,
          2,
          2,
          4,
          5,
          null,
          1.5,
          2,
          3.5,
          3.5,
          2,
          4,
          2.5,
          3.5,
          2.5,
          2.5,
          3,
          4,
          3,
          2.5,
          3,
          2.5,
          3.5,
          4.5,
          2,
          2,
          4,
          1.5,
          4,
          1.5,
          3.5,
          2.5,
          2,
          2.5,
          4.5,
          3.5,
          2.5,
          3.5,
          2.5,
          2.5,
          2.5,
          4,
          3.5,
          4,
          3.5,
          3.5,
          null,
          3,
          2.5,
          3,
          5,
          3.5,
          3.5,
          2.5,
          1.5,
          2.5,
          2,
          2,
          3,
          2.5,
          4.5,
          2.5,
          3.5,
          2.5,
          1.5,
          null,
          3.5,
          3.5,
          1.5,
          2.5,
          5.5,
          3.5,
          4,
          3,
          2.5,
          3,
          4,
          2.5,
          1.5,
          3.5,
          3.5,
          3.5,
          3.5,
          2.5,
          2.5,
          2.5,
          2.5,
          3.5,
          3.5,
          3.5,
          3.5,
          2.5,
          4,
          4,
          3.5,
          2.5,
          null,
          2.5,
          2.5,
          2.5,
          4.5,
          2,
          3.5,
          2.5,
          3.5,
          3.5,
          3.5,
          2.5,
          3.5,
          2.5,
          3.5,
          4.5,
          2,
          2.5,
          2,
          2.5,
          3.5,
          3.5,
          3.5,
          2.5,
          2.5,
          2.5,
          4,
          3,
          6,
          3,
          3,
          3.5,
          3.5,
          4,
          3.5,
          3.5,
          3.5,
          3,
          5.5,
          2.5,
          4.5,
          2.5,
          2.5,
          2.5,
          2.5,
          2.5,
          3.5,
          3.5,
          4,
          3.5,
          1.5,
          4.5,
          3.5,
          2.5,
          3.5,
          4,
          2.5,
          null,
          3.5,
          2.5,
          3.5,
          2,
          null,
          3.5,
          3.5,
          3.5,
          4.5,
          3.5,
          3.5,
          3,
          3.5,
          3.5,
          3,
          3.5,
          6,
          4,
          2.5,
          4.5,
          6.5,
          4,
          3.5,
          3.5,
          3,
          4.5,
          3.5,
          3.5,
          3.5,
          3.5,
          null,
          4.5,
          2,
          3.5,
          2.5,
          4,
          3.5,
          2,
          2.5,
          2,
          2,
          3.5,
          4.5,
          3.5,
          2.5,
          4,
          1.5,
          3,
          3.5,
          3.5,
          1.5,
          3.5,
          1.5,
          1.5,
          3.5,
          3.5,
          2.5,
          2.5,
          3,
          5,
          2.5,
          2.5,
          3.5,
          2.5,
          4,
          3,
          3,
          4,
          3.5,
          4,
          6.5,
          6.5,
          2.5,
          3,
          3,
          5,
          3.5,
          3.5,
          6.5,
          3,
          5,
          3.5,
          4.5,
          4,
          3.5,
          2,
          2,
          2.5,
          3.5,
          3.5,
          4.5,
          2,
          2.5,
          3,
          3.5,
          7,
          2,
          3.5,
          7,
          3.5,
          4.5,
          3.5,
          3.5,
          4,
          6
         ],
         "xaxis": "x",
         "yaxis": "y"
        }
       ],
       "layout": {
        "barmode": "relative",
        "height": 400,
        "legend": {
         "tracegroupgap": 0
        },
        "template": {
         "data": {
          "bar": [
           {
            "error_x": {
             "color": "#2a3f5f"
            },
            "error_y": {
             "color": "#2a3f5f"
            },
            "marker": {
             "line": {
              "color": "#E5ECF6",
              "width": 0.5
             },
             "pattern": {
              "fillmode": "overlay",
              "size": 10,
              "solidity": 0.2
             }
            },
            "type": "bar"
           }
          ],
          "barpolar": [
           {
            "marker": {
             "line": {
              "color": "#E5ECF6",
              "width": 0.5
             },
             "pattern": {
              "fillmode": "overlay",
              "size": 10,
              "solidity": 0.2
             }
            },
            "type": "barpolar"
           }
          ],
          "carpet": [
           {
            "aaxis": {
             "endlinecolor": "#2a3f5f",
             "gridcolor": "white",
             "linecolor": "white",
             "minorgridcolor": "white",
             "startlinecolor": "#2a3f5f"
            },
            "baxis": {
             "endlinecolor": "#2a3f5f",
             "gridcolor": "white",
             "linecolor": "white",
             "minorgridcolor": "white",
             "startlinecolor": "#2a3f5f"
            },
            "type": "carpet"
           }
          ],
          "choropleth": [
           {
            "colorbar": {
             "outlinewidth": 0,
             "ticks": ""
            },
            "type": "choropleth"
           }
          ],
          "contour": [
           {
            "colorbar": {
             "outlinewidth": 0,
             "ticks": ""
            },
            "colorscale": [
             [
              0,
              "#0d0887"
             ],
             [
              0.1111111111111111,
              "#46039f"
             ],
             [
              0.2222222222222222,
              "#7201a8"
             ],
             [
              0.3333333333333333,
              "#9c179e"
             ],
             [
              0.4444444444444444,
              "#bd3786"
             ],
             [
              0.5555555555555556,
              "#d8576b"
             ],
             [
              0.6666666666666666,
              "#ed7953"
             ],
             [
              0.7777777777777778,
              "#fb9f3a"
             ],
             [
              0.8888888888888888,
              "#fdca26"
             ],
             [
              1,
              "#f0f921"
             ]
            ],
            "type": "contour"
           }
          ],
          "contourcarpet": [
           {
            "colorbar": {
             "outlinewidth": 0,
             "ticks": ""
            },
            "type": "contourcarpet"
           }
          ],
          "heatmap": [
           {
            "colorbar": {
             "outlinewidth": 0,
             "ticks": ""
            },
            "colorscale": [
             [
              0,
              "#0d0887"
             ],
             [
              0.1111111111111111,
              "#46039f"
             ],
             [
              0.2222222222222222,
              "#7201a8"
             ],
             [
              0.3333333333333333,
              "#9c179e"
             ],
             [
              0.4444444444444444,
              "#bd3786"
             ],
             [
              0.5555555555555556,
              "#d8576b"
             ],
             [
              0.6666666666666666,
              "#ed7953"
             ],
             [
              0.7777777777777778,
              "#fb9f3a"
             ],
             [
              0.8888888888888888,
              "#fdca26"
             ],
             [
              1,
              "#f0f921"
             ]
            ],
            "type": "heatmap"
           }
          ],
          "heatmapgl": [
           {
            "colorbar": {
             "outlinewidth": 0,
             "ticks": ""
            },
            "colorscale": [
             [
              0,
              "#0d0887"
             ],
             [
              0.1111111111111111,
              "#46039f"
             ],
             [
              0.2222222222222222,
              "#7201a8"
             ],
             [
              0.3333333333333333,
              "#9c179e"
             ],
             [
              0.4444444444444444,
              "#bd3786"
             ],
             [
              0.5555555555555556,
              "#d8576b"
             ],
             [
              0.6666666666666666,
              "#ed7953"
             ],
             [
              0.7777777777777778,
              "#fb9f3a"
             ],
             [
              0.8888888888888888,
              "#fdca26"
             ],
             [
              1,
              "#f0f921"
             ]
            ],
            "type": "heatmapgl"
           }
          ],
          "histogram": [
           {
            "marker": {
             "pattern": {
              "fillmode": "overlay",
              "size": 10,
              "solidity": 0.2
             }
            },
            "type": "histogram"
           }
          ],
          "histogram2d": [
           {
            "colorbar": {
             "outlinewidth": 0,
             "ticks": ""
            },
            "colorscale": [
             [
              0,
              "#0d0887"
             ],
             [
              0.1111111111111111,
              "#46039f"
             ],
             [
              0.2222222222222222,
              "#7201a8"
             ],
             [
              0.3333333333333333,
              "#9c179e"
             ],
             [
              0.4444444444444444,
              "#bd3786"
             ],
             [
              0.5555555555555556,
              "#d8576b"
             ],
             [
              0.6666666666666666,
              "#ed7953"
             ],
             [
              0.7777777777777778,
              "#fb9f3a"
             ],
             [
              0.8888888888888888,
              "#fdca26"
             ],
             [
              1,
              "#f0f921"
             ]
            ],
            "type": "histogram2d"
           }
          ],
          "histogram2dcontour": [
           {
            "colorbar": {
             "outlinewidth": 0,
             "ticks": ""
            },
            "colorscale": [
             [
              0,
              "#0d0887"
             ],
             [
              0.1111111111111111,
              "#46039f"
             ],
             [
              0.2222222222222222,
              "#7201a8"
             ],
             [
              0.3333333333333333,
              "#9c179e"
             ],
             [
              0.4444444444444444,
              "#bd3786"
             ],
             [
              0.5555555555555556,
              "#d8576b"
             ],
             [
              0.6666666666666666,
              "#ed7953"
             ],
             [
              0.7777777777777778,
              "#fb9f3a"
             ],
             [
              0.8888888888888888,
              "#fdca26"
             ],
             [
              1,
              "#f0f921"
             ]
            ],
            "type": "histogram2dcontour"
           }
          ],
          "mesh3d": [
           {
            "colorbar": {
             "outlinewidth": 0,
             "ticks": ""
            },
            "type": "mesh3d"
           }
          ],
          "parcoords": [
           {
            "line": {
             "colorbar": {
              "outlinewidth": 0,
              "ticks": ""
             }
            },
            "type": "parcoords"
           }
          ],
          "pie": [
           {
            "automargin": true,
            "type": "pie"
           }
          ],
          "scatter": [
           {
            "fillpattern": {
             "fillmode": "overlay",
             "size": 10,
             "solidity": 0.2
            },
            "type": "scatter"
           }
          ],
          "scatter3d": [
           {
            "line": {
             "colorbar": {
              "outlinewidth": 0,
              "ticks": ""
             }
            },
            "marker": {
             "colorbar": {
              "outlinewidth": 0,
              "ticks": ""
             }
            },
            "type": "scatter3d"
           }
          ],
          "scattercarpet": [
           {
            "marker": {
             "colorbar": {
              "outlinewidth": 0,
              "ticks": ""
             }
            },
            "type": "scattercarpet"
           }
          ],
          "scattergeo": [
           {
            "marker": {
             "colorbar": {
              "outlinewidth": 0,
              "ticks": ""
             }
            },
            "type": "scattergeo"
           }
          ],
          "scattergl": [
           {
            "marker": {
             "colorbar": {
              "outlinewidth": 0,
              "ticks": ""
             }
            },
            "type": "scattergl"
           }
          ],
          "scattermapbox": [
           {
            "marker": {
             "colorbar": {
              "outlinewidth": 0,
              "ticks": ""
             }
            },
            "type": "scattermapbox"
           }
          ],
          "scatterpolar": [
           {
            "marker": {
             "colorbar": {
              "outlinewidth": 0,
              "ticks": ""
             }
            },
            "type": "scatterpolar"
           }
          ],
          "scatterpolargl": [
           {
            "marker": {
             "colorbar": {
              "outlinewidth": 0,
              "ticks": ""
             }
            },
            "type": "scatterpolargl"
           }
          ],
          "scatterternary": [
           {
            "marker": {
             "colorbar": {
              "outlinewidth": 0,
              "ticks": ""
             }
            },
            "type": "scatterternary"
           }
          ],
          "surface": [
           {
            "colorbar": {
             "outlinewidth": 0,
             "ticks": ""
            },
            "colorscale": [
             [
              0,
              "#0d0887"
             ],
             [
              0.1111111111111111,
              "#46039f"
             ],
             [
              0.2222222222222222,
              "#7201a8"
             ],
             [
              0.3333333333333333,
              "#9c179e"
             ],
             [
              0.4444444444444444,
              "#bd3786"
             ],
             [
              0.5555555555555556,
              "#d8576b"
             ],
             [
              0.6666666666666666,
              "#ed7953"
             ],
             [
              0.7777777777777778,
              "#fb9f3a"
             ],
             [
              0.8888888888888888,
              "#fdca26"
             ],
             [
              1,
              "#f0f921"
             ]
            ],
            "type": "surface"
           }
          ],
          "table": [
           {
            "cells": {
             "fill": {
              "color": "#EBF0F8"
             },
             "line": {
              "color": "white"
             }
            },
            "header": {
             "fill": {
              "color": "#C8D4E3"
             },
             "line": {
              "color": "white"
             }
            },
            "type": "table"
           }
          ]
         },
         "layout": {
          "annotationdefaults": {
           "arrowcolor": "#2a3f5f",
           "arrowhead": 0,
           "arrowwidth": 1
          },
          "autotypenumbers": "strict",
          "coloraxis": {
           "colorbar": {
            "outlinewidth": 0,
            "ticks": ""
           }
          },
          "colorscale": {
           "diverging": [
            [
             0,
             "#8e0152"
            ],
            [
             0.1,
             "#c51b7d"
            ],
            [
             0.2,
             "#de77ae"
            ],
            [
             0.3,
             "#f1b6da"
            ],
            [
             0.4,
             "#fde0ef"
            ],
            [
             0.5,
             "#f7f7f7"
            ],
            [
             0.6,
             "#e6f5d0"
            ],
            [
             0.7,
             "#b8e186"
            ],
            [
             0.8,
             "#7fbc41"
            ],
            [
             0.9,
             "#4d9221"
            ],
            [
             1,
             "#276419"
            ]
           ],
           "sequential": [
            [
             0,
             "#0d0887"
            ],
            [
             0.1111111111111111,
             "#46039f"
            ],
            [
             0.2222222222222222,
             "#7201a8"
            ],
            [
             0.3333333333333333,
             "#9c179e"
            ],
            [
             0.4444444444444444,
             "#bd3786"
            ],
            [
             0.5555555555555556,
             "#d8576b"
            ],
            [
             0.6666666666666666,
             "#ed7953"
            ],
            [
             0.7777777777777778,
             "#fb9f3a"
            ],
            [
             0.8888888888888888,
             "#fdca26"
            ],
            [
             1,
             "#f0f921"
            ]
           ],
           "sequentialminus": [
            [
             0,
             "#0d0887"
            ],
            [
             0.1111111111111111,
             "#46039f"
            ],
            [
             0.2222222222222222,
             "#7201a8"
            ],
            [
             0.3333333333333333,
             "#9c179e"
            ],
            [
             0.4444444444444444,
             "#bd3786"
            ],
            [
             0.5555555555555556,
             "#d8576b"
            ],
            [
             0.6666666666666666,
             "#ed7953"
            ],
            [
             0.7777777777777778,
             "#fb9f3a"
            ],
            [
             0.8888888888888888,
             "#fdca26"
            ],
            [
             1,
             "#f0f921"
            ]
           ]
          },
          "colorway": [
           "#636efa",
           "#EF553B",
           "#00cc96",
           "#ab63fa",
           "#FFA15A",
           "#19d3f3",
           "#FF6692",
           "#B6E880",
           "#FF97FF",
           "#FECB52"
          ],
          "font": {
           "color": "#2a3f5f"
          },
          "geo": {
           "bgcolor": "white",
           "lakecolor": "white",
           "landcolor": "#E5ECF6",
           "showlakes": true,
           "showland": true,
           "subunitcolor": "white"
          },
          "hoverlabel": {
           "align": "left"
          },
          "hovermode": "closest",
          "mapbox": {
           "style": "light"
          },
          "paper_bgcolor": "white",
          "plot_bgcolor": "#E5ECF6",
          "polar": {
           "angularaxis": {
            "gridcolor": "white",
            "linecolor": "white",
            "ticks": ""
           },
           "bgcolor": "#E5ECF6",
           "radialaxis": {
            "gridcolor": "white",
            "linecolor": "white",
            "ticks": ""
           }
          },
          "scene": {
           "xaxis": {
            "backgroundcolor": "#E5ECF6",
            "gridcolor": "white",
            "gridwidth": 2,
            "linecolor": "white",
            "showbackground": true,
            "ticks": "",
            "zerolinecolor": "white"
           },
           "yaxis": {
            "backgroundcolor": "#E5ECF6",
            "gridcolor": "white",
            "gridwidth": 2,
            "linecolor": "white",
            "showbackground": true,
            "ticks": "",
            "zerolinecolor": "white"
           },
           "zaxis": {
            "backgroundcolor": "#E5ECF6",
            "gridcolor": "white",
            "gridwidth": 2,
            "linecolor": "white",
            "showbackground": true,
            "ticks": "",
            "zerolinecolor": "white"
           }
          },
          "shapedefaults": {
           "line": {
            "color": "#2a3f5f"
           }
          },
          "ternary": {
           "aaxis": {
            "gridcolor": "white",
            "linecolor": "white",
            "ticks": ""
           },
           "baxis": {
            "gridcolor": "white",
            "linecolor": "white",
            "ticks": ""
           },
           "bgcolor": "#E5ECF6",
           "caxis": {
            "gridcolor": "white",
            "linecolor": "white",
            "ticks": ""
           }
          },
          "title": {
           "x": 0.05
          },
          "xaxis": {
           "automargin": true,
           "gridcolor": "white",
           "linecolor": "white",
           "ticks": "",
           "title": {
            "standoff": 15
           },
           "zerolinecolor": "white",
           "zerolinewidth": 2
          },
          "yaxis": {
           "automargin": true,
           "gridcolor": "white",
           "linecolor": "white",
           "ticks": "",
           "title": {
            "standoff": 15
           },
           "zerolinecolor": "white",
           "zerolinewidth": 2
          }
         }
        },
        "title": {
         "text": "Distribution of Bathrooms"
        },
        "width": 600,
        "xaxis": {
         "anchor": "y",
         "domain": [
          0,
          1
         ],
         "title": {
          "text": "Bathroom"
         }
        },
        "yaxis": {
         "anchor": "x",
         "domain": [
          0,
          1
         ],
         "title": {
          "text": "count"
         }
        }
       }
      }
     },
     "metadata": {},
     "output_type": "display_data"
    }
   ],
   "source": [
    "fig = px.histogram(rentals, x=\"Bathroom\", title=\"Distribution of Bathrooms\", width=600,\n",
    "  height=400,)\n",
    "fig.show()"
   ]
  },
  {
   "cell_type": "code",
   "execution_count": 88,
   "metadata": {},
   "outputs": [
    {
     "data": {
      "application/vnd.plotly.v1+json": {
       "config": {
        "plotlyServerURL": "https://plot.ly"
       },
       "data": [
        {
         "alignmentgroup": "True",
         "box": {
          "visible": true
         },
         "hovertemplate": "Bathroom=%{y}<extra></extra>",
         "legendgroup": "",
         "marker": {
          "color": "#636efa"
         },
         "name": "",
         "offsetgroup": "",
         "orientation": "v",
         "points": "all",
         "scalegroup": "True",
         "showlegend": false,
         "type": "violin",
         "x0": " ",
         "xaxis": "x",
         "y": [
          3,
          2,
          4,
          5,
          2,
          2.5,
          2.5,
          2.5,
          2,
          3.5,
          3,
          4.5,
          2.5,
          2.5,
          3.5,
          3,
          9,
          3,
          3,
          3.5,
          2.5,
          7,
          3.5,
          3,
          3.5,
          2.5,
          4,
          3.5,
          2.5,
          3,
          7,
          2.5,
          2.5,
          null,
          4,
          4,
          3.5,
          3.5,
          3.5,
          4.5,
          3.5,
          3.5,
          3,
          3.5,
          2,
          2,
          2,
          2.5,
          2.5,
          4.5,
          3.5,
          2,
          4,
          3.5,
          3.5,
          2.5,
          3,
          3.5,
          2.5,
          3,
          4,
          4,
          2,
          3,
          3,
          3.5,
          2.5,
          4,
          2.5,
          4,
          4,
          3.5,
          4.5,
          3,
          3,
          4.5,
          3.5,
          3.5,
          3,
          2.5,
          2,
          2,
          2.5,
          4,
          3.5,
          2.5,
          2.5,
          4,
          2.5,
          3.5,
          2.5,
          3.5,
          3.5,
          3,
          2,
          2.5,
          3,
          3.5,
          4.5,
          4,
          2.5,
          2.5,
          4,
          4,
          3.5,
          3.5,
          3,
          4,
          4.5,
          5,
          4,
          2.5,
          2,
          3,
          4,
          5,
          3.5,
          3.5,
          3.5,
          2.5,
          1.5,
          4.5,
          6,
          1.5,
          3.5,
          5,
          4,
          2.5,
          2.5,
          3.5,
          2.5,
          2.5,
          3.5,
          4,
          2,
          3.5,
          4,
          4,
          3.5,
          3,
          3.5,
          2,
          3.5,
          1.5,
          5,
          3.5,
          3.5,
          3,
          5.5,
          5,
          3.5,
          3,
          2,
          3,
          3.5,
          4.5,
          4,
          3.5,
          3.5,
          3.5,
          3.5,
          5,
          2.5,
          3,
          2.5,
          2.5,
          5,
          5.5,
          2.5,
          2,
          5.5,
          2,
          1.5,
          3.5,
          1.5,
          3.5,
          2.5,
          4.5,
          3,
          3,
          2.5,
          2,
          3.5,
          4,
          3,
          2.5,
          2.5,
          3.5,
          4,
          2.5,
          3.5,
          4.5,
          4,
          2,
          2,
          2.5,
          4,
          4,
          3,
          3.5,
          2.5,
          3.5,
          4.5,
          3.5,
          3,
          1.5,
          3.5,
          6,
          4.5,
          3.5,
          3.5,
          3.5,
          3.5,
          3.5,
          4.5,
          3.5,
          4,
          3.5,
          2.5,
          2.5,
          2,
          3.5,
          2.5,
          2.5,
          3.5,
          3.5,
          4,
          3.5,
          3.5,
          null,
          2.5,
          4,
          4,
          2.5,
          3.5,
          2.5,
          3,
          2.5,
          1.5,
          2,
          4.5,
          2.5,
          4,
          4.5,
          4.5,
          2.5,
          3,
          3,
          2,
          2.5,
          2.5,
          4,
          5.5,
          3.5,
          3.5,
          4.5,
          3.5,
          2,
          2,
          2,
          2,
          3.5,
          2.5,
          3.5,
          2.5,
          2.5,
          3.5,
          2.5,
          1.5,
          3,
          3,
          2,
          2,
          3,
          2,
          3.5,
          3.5,
          4.5,
          2,
          3,
          3.5,
          5.5,
          2.5,
          4,
          2.5,
          2,
          2,
          4.5,
          3.5,
          2,
          3.5,
          3.5,
          5,
          4.5,
          3.5,
          6,
          5,
          3.5,
          3,
          3.5,
          3.5,
          2.5,
          2.5,
          2.5,
          4,
          2,
          2.5,
          2,
          2.5,
          2.5,
          4,
          3.5,
          9,
          3.5,
          6,
          4,
          2.5,
          2,
          4.5,
          3.5,
          4,
          3,
          3,
          5,
          3,
          2.5,
          2.5,
          3,
          5,
          2,
          3.5,
          7,
          4.5,
          3.5,
          3.5,
          null,
          2,
          3,
          3,
          9,
          null,
          4.5,
          6.5,
          3.5,
          8.5,
          2,
          4.5,
          3.5,
          6,
          4.5,
          4,
          5.5,
          3.5,
          4.5,
          3.5,
          2.5,
          1.5,
          6.5,
          3.5,
          2,
          4.5,
          2.5,
          3,
          2,
          2.5,
          2,
          2.5,
          5,
          3.5,
          4.5,
          3.5,
          4,
          1.5,
          3,
          2.5,
          2.5,
          2.5,
          2.5,
          3.5,
          2,
          2.5,
          4,
          3,
          2,
          4,
          4,
          2,
          3.5,
          2,
          3,
          2,
          2.5,
          3.5,
          2.5,
          2.5,
          3,
          2,
          3.5,
          3.5,
          3.5,
          2.5,
          2,
          3.5,
          3,
          3,
          2.5,
          3.5,
          2.5,
          2,
          1.5,
          2,
          3.5,
          4,
          3,
          3,
          4,
          9.5,
          4,
          4,
          3.5,
          4,
          2.5,
          3.5,
          3.5,
          2,
          3.5,
          1.5,
          4.5,
          2,
          4.5,
          2.5,
          2.5,
          null,
          3.5,
          3.5,
          2,
          3.5,
          1.5,
          4,
          4,
          3.5,
          3.5,
          2,
          2.5,
          6,
          2.5,
          2.5,
          5,
          5,
          2.5,
          3.5,
          3.5,
          1.5,
          3.5,
          4.5,
          3,
          2.5,
          3.5,
          4.5,
          3.5,
          2,
          2,
          2.5,
          4,
          4,
          4,
          2.5,
          4,
          5,
          2.5,
          3.5,
          3,
          4,
          3.5,
          3.5,
          3.5,
          2,
          2.5,
          3.5,
          3.5,
          4.5,
          3.5,
          3.5,
          3.5,
          3,
          3.5,
          4,
          3.5,
          4.5,
          4,
          3.5,
          3.5,
          4.5,
          2.5,
          1.5,
          2.5,
          4,
          4,
          2.5,
          3.5,
          4,
          4.5,
          3.5,
          2,
          5,
          2.5,
          3,
          2.5,
          2.5,
          2,
          3.5,
          2,
          2,
          4.5,
          3,
          3.5,
          4.5,
          1.5,
          2,
          4.5,
          3.5,
          2,
          null,
          4,
          null,
          2,
          2,
          3.5,
          2,
          3.5,
          2,
          4.5,
          3.5,
          2,
          2,
          1.5,
          5,
          null,
          2.5,
          2.5,
          2,
          2,
          6,
          4.5,
          1.5,
          1.5,
          5,
          2,
          2,
          3.5,
          2,
          3,
          3,
          null,
          6,
          3,
          2,
          2,
          2,
          3,
          2.5,
          3.5,
          2,
          3.5,
          3.5,
          2,
          2,
          5,
          2,
          2,
          null,
          2,
          4.5,
          3,
          null,
          2,
          2,
          3,
          null,
          1.5,
          2,
          2,
          2,
          2,
          3,
          3.5,
          2,
          2,
          2,
          3,
          3,
          3,
          4.5,
          null,
          2.5,
          3.5,
          2.5,
          2,
          4.5,
          2,
          2.5,
          3.5,
          2,
          3,
          null,
          2,
          2,
          3.5,
          3.5,
          2,
          2,
          2.5,
          3,
          2,
          2,
          3.5,
          2.5,
          3.5,
          4,
          3,
          null,
          2.5,
          1.5,
          null,
          3,
          2.5,
          null,
          5,
          2,
          2,
          null,
          null,
          2.5,
          3,
          4.5,
          2.5,
          2.5,
          2.5,
          3.5,
          2.5,
          3.5,
          3.5,
          2,
          2.5,
          2.5,
          5,
          2.5,
          2,
          2,
          4,
          null,
          2.5,
          1.5,
          2,
          2,
          null,
          2,
          2.5,
          2.5,
          5.5,
          null,
          2,
          3.5,
          4,
          4.5,
          3.5,
          null,
          3,
          2.5,
          3.5,
          3,
          3.5,
          2.5,
          2.5,
          2.5,
          3,
          null,
          2.5,
          2.5,
          2,
          null,
          1.5,
          3.5,
          null,
          2.5,
          null,
          2.5,
          1.5,
          2,
          null,
          1.5,
          1.5,
          2,
          3.5,
          2.5,
          null,
          null,
          1.5,
          null,
          null,
          5.5,
          4.5,
          null,
          2.5,
          3,
          2,
          1.5,
          3,
          null,
          3.5,
          1.5,
          3.5,
          null,
          3,
          1.5,
          null,
          10,
          2.5,
          3.5,
          null,
          2.5,
          2,
          4,
          2.5,
          null,
          null,
          1.5,
          3.5,
          null,
          3.5,
          null,
          3.5,
          3,
          3.5,
          4.5,
          null,
          4,
          3.5,
          3.5,
          3.5,
          3.5,
          2,
          3,
          3.5,
          2.5,
          2.5,
          3.5,
          2,
          null,
          3.5,
          4,
          null,
          3.5,
          2,
          3.5,
          1.5,
          2,
          3.5,
          4,
          2,
          2,
          2,
          2,
          2.5,
          2,
          3.5,
          2.5,
          null,
          2.5,
          2,
          3.5,
          3,
          3.5,
          3.5,
          2,
          null,
          2,
          4,
          3,
          4,
          null,
          2,
          2,
          3,
          null,
          4.5,
          2,
          2,
          3.5,
          4.5,
          2.5,
          3.5,
          3.5,
          2,
          4.5,
          2,
          2.5,
          2,
          10,
          3,
          3,
          4,
          2.5,
          2,
          2,
          1.5,
          2.5,
          2.5,
          null,
          null,
          3.5,
          3.5,
          2,
          2.5,
          4.5,
          4,
          4,
          1.5,
          3.5,
          2,
          null,
          3.5,
          null,
          2,
          3.5,
          1.5,
          2.5,
          3,
          2.5,
          2,
          2,
          2,
          2,
          2.5,
          2,
          2,
          6,
          4.5,
          2,
          2.5,
          1.5,
          2,
          2,
          null,
          4.5,
          2,
          5.5,
          null,
          2,
          null,
          3,
          2.5,
          3,
          null,
          2.5,
          4.5,
          2.5,
          1.5,
          5.5,
          1.5,
          3.5,
          2,
          null,
          2,
          2,
          4,
          3,
          2,
          null,
          4,
          3,
          4,
          3.5,
          1.5,
          null,
          3.5,
          null,
          2.5,
          2,
          2.5,
          2.5,
          2,
          3,
          5,
          2,
          2.5,
          2,
          2.5,
          null,
          null,
          2.5,
          1.5,
          1.5,
          3.5,
          3.5,
          3.5,
          2.5,
          null,
          2.5,
          3,
          8,
          null,
          null,
          3,
          null,
          4,
          2,
          null,
          3,
          3.5,
          null,
          null,
          null,
          3,
          5,
          null,
          2,
          2,
          4,
          5,
          null,
          1.5,
          2,
          3.5,
          3.5,
          2,
          4,
          2.5,
          3.5,
          2.5,
          2.5,
          3,
          4,
          3,
          2.5,
          3,
          2.5,
          3.5,
          4.5,
          2,
          2,
          4,
          1.5,
          4,
          1.5,
          3.5,
          2.5,
          2,
          2.5,
          4.5,
          3.5,
          2.5,
          3.5,
          2.5,
          2.5,
          2.5,
          4,
          3.5,
          4,
          3.5,
          3.5,
          null,
          3,
          2.5,
          3,
          5,
          3.5,
          3.5,
          2.5,
          1.5,
          2.5,
          2,
          2,
          3,
          2.5,
          4.5,
          2.5,
          3.5,
          2.5,
          1.5,
          null,
          3.5,
          3.5,
          1.5,
          2.5,
          5.5,
          3.5,
          4,
          3,
          2.5,
          3,
          4,
          2.5,
          1.5,
          3.5,
          3.5,
          3.5,
          3.5,
          2.5,
          2.5,
          2.5,
          2.5,
          3.5,
          3.5,
          3.5,
          3.5,
          2.5,
          4,
          4,
          3.5,
          2.5,
          null,
          2.5,
          2.5,
          2.5,
          4.5,
          2,
          3.5,
          2.5,
          3.5,
          3.5,
          3.5,
          2.5,
          3.5,
          2.5,
          3.5,
          4.5,
          2,
          2.5,
          2,
          2.5,
          3.5,
          3.5,
          3.5,
          2.5,
          2.5,
          2.5,
          4,
          3,
          6,
          3,
          3,
          3.5,
          3.5,
          4,
          3.5,
          3.5,
          3.5,
          3,
          5.5,
          2.5,
          4.5,
          2.5,
          2.5,
          2.5,
          2.5,
          2.5,
          3.5,
          3.5,
          4,
          3.5,
          1.5,
          4.5,
          3.5,
          2.5,
          3.5,
          4,
          2.5,
          null,
          3.5,
          2.5,
          3.5,
          2,
          null,
          3.5,
          3.5,
          3.5,
          4.5,
          3.5,
          3.5,
          3,
          3.5,
          3.5,
          3,
          3.5,
          6,
          4,
          2.5,
          4.5,
          6.5,
          4,
          3.5,
          3.5,
          3,
          4.5,
          3.5,
          3.5,
          3.5,
          3.5,
          null,
          4.5,
          2,
          3.5,
          2.5,
          4,
          3.5,
          2,
          2.5,
          2,
          2,
          3.5,
          4.5,
          3.5,
          2.5,
          4,
          1.5,
          3,
          3.5,
          3.5,
          1.5,
          3.5,
          1.5,
          1.5,
          3.5,
          3.5,
          2.5,
          2.5,
          3,
          5,
          2.5,
          2.5,
          3.5,
          2.5,
          4,
          3,
          3,
          4,
          3.5,
          4,
          6.5,
          6.5,
          2.5,
          3,
          3,
          5,
          3.5,
          3.5,
          6.5,
          3,
          5,
          3.5,
          4.5,
          4,
          3.5,
          2,
          2,
          2.5,
          3.5,
          3.5,
          4.5,
          2,
          2.5,
          3,
          3.5,
          7,
          2,
          3.5,
          7,
          3.5,
          4.5,
          3.5,
          3.5,
          4,
          6
         ],
         "y0": " ",
         "yaxis": "y"
        }
       ],
       "layout": {
        "height": 400,
        "legend": {
         "tracegroupgap": 0
        },
        "template": {
         "data": {
          "bar": [
           {
            "error_x": {
             "color": "#2a3f5f"
            },
            "error_y": {
             "color": "#2a3f5f"
            },
            "marker": {
             "line": {
              "color": "#E5ECF6",
              "width": 0.5
             },
             "pattern": {
              "fillmode": "overlay",
              "size": 10,
              "solidity": 0.2
             }
            },
            "type": "bar"
           }
          ],
          "barpolar": [
           {
            "marker": {
             "line": {
              "color": "#E5ECF6",
              "width": 0.5
             },
             "pattern": {
              "fillmode": "overlay",
              "size": 10,
              "solidity": 0.2
             }
            },
            "type": "barpolar"
           }
          ],
          "carpet": [
           {
            "aaxis": {
             "endlinecolor": "#2a3f5f",
             "gridcolor": "white",
             "linecolor": "white",
             "minorgridcolor": "white",
             "startlinecolor": "#2a3f5f"
            },
            "baxis": {
             "endlinecolor": "#2a3f5f",
             "gridcolor": "white",
             "linecolor": "white",
             "minorgridcolor": "white",
             "startlinecolor": "#2a3f5f"
            },
            "type": "carpet"
           }
          ],
          "choropleth": [
           {
            "colorbar": {
             "outlinewidth": 0,
             "ticks": ""
            },
            "type": "choropleth"
           }
          ],
          "contour": [
           {
            "colorbar": {
             "outlinewidth": 0,
             "ticks": ""
            },
            "colorscale": [
             [
              0,
              "#0d0887"
             ],
             [
              0.1111111111111111,
              "#46039f"
             ],
             [
              0.2222222222222222,
              "#7201a8"
             ],
             [
              0.3333333333333333,
              "#9c179e"
             ],
             [
              0.4444444444444444,
              "#bd3786"
             ],
             [
              0.5555555555555556,
              "#d8576b"
             ],
             [
              0.6666666666666666,
              "#ed7953"
             ],
             [
              0.7777777777777778,
              "#fb9f3a"
             ],
             [
              0.8888888888888888,
              "#fdca26"
             ],
             [
              1,
              "#f0f921"
             ]
            ],
            "type": "contour"
           }
          ],
          "contourcarpet": [
           {
            "colorbar": {
             "outlinewidth": 0,
             "ticks": ""
            },
            "type": "contourcarpet"
           }
          ],
          "heatmap": [
           {
            "colorbar": {
             "outlinewidth": 0,
             "ticks": ""
            },
            "colorscale": [
             [
              0,
              "#0d0887"
             ],
             [
              0.1111111111111111,
              "#46039f"
             ],
             [
              0.2222222222222222,
              "#7201a8"
             ],
             [
              0.3333333333333333,
              "#9c179e"
             ],
             [
              0.4444444444444444,
              "#bd3786"
             ],
             [
              0.5555555555555556,
              "#d8576b"
             ],
             [
              0.6666666666666666,
              "#ed7953"
             ],
             [
              0.7777777777777778,
              "#fb9f3a"
             ],
             [
              0.8888888888888888,
              "#fdca26"
             ],
             [
              1,
              "#f0f921"
             ]
            ],
            "type": "heatmap"
           }
          ],
          "heatmapgl": [
           {
            "colorbar": {
             "outlinewidth": 0,
             "ticks": ""
            },
            "colorscale": [
             [
              0,
              "#0d0887"
             ],
             [
              0.1111111111111111,
              "#46039f"
             ],
             [
              0.2222222222222222,
              "#7201a8"
             ],
             [
              0.3333333333333333,
              "#9c179e"
             ],
             [
              0.4444444444444444,
              "#bd3786"
             ],
             [
              0.5555555555555556,
              "#d8576b"
             ],
             [
              0.6666666666666666,
              "#ed7953"
             ],
             [
              0.7777777777777778,
              "#fb9f3a"
             ],
             [
              0.8888888888888888,
              "#fdca26"
             ],
             [
              1,
              "#f0f921"
             ]
            ],
            "type": "heatmapgl"
           }
          ],
          "histogram": [
           {
            "marker": {
             "pattern": {
              "fillmode": "overlay",
              "size": 10,
              "solidity": 0.2
             }
            },
            "type": "histogram"
           }
          ],
          "histogram2d": [
           {
            "colorbar": {
             "outlinewidth": 0,
             "ticks": ""
            },
            "colorscale": [
             [
              0,
              "#0d0887"
             ],
             [
              0.1111111111111111,
              "#46039f"
             ],
             [
              0.2222222222222222,
              "#7201a8"
             ],
             [
              0.3333333333333333,
              "#9c179e"
             ],
             [
              0.4444444444444444,
              "#bd3786"
             ],
             [
              0.5555555555555556,
              "#d8576b"
             ],
             [
              0.6666666666666666,
              "#ed7953"
             ],
             [
              0.7777777777777778,
              "#fb9f3a"
             ],
             [
              0.8888888888888888,
              "#fdca26"
             ],
             [
              1,
              "#f0f921"
             ]
            ],
            "type": "histogram2d"
           }
          ],
          "histogram2dcontour": [
           {
            "colorbar": {
             "outlinewidth": 0,
             "ticks": ""
            },
            "colorscale": [
             [
              0,
              "#0d0887"
             ],
             [
              0.1111111111111111,
              "#46039f"
             ],
             [
              0.2222222222222222,
              "#7201a8"
             ],
             [
              0.3333333333333333,
              "#9c179e"
             ],
             [
              0.4444444444444444,
              "#bd3786"
             ],
             [
              0.5555555555555556,
              "#d8576b"
             ],
             [
              0.6666666666666666,
              "#ed7953"
             ],
             [
              0.7777777777777778,
              "#fb9f3a"
             ],
             [
              0.8888888888888888,
              "#fdca26"
             ],
             [
              1,
              "#f0f921"
             ]
            ],
            "type": "histogram2dcontour"
           }
          ],
          "mesh3d": [
           {
            "colorbar": {
             "outlinewidth": 0,
             "ticks": ""
            },
            "type": "mesh3d"
           }
          ],
          "parcoords": [
           {
            "line": {
             "colorbar": {
              "outlinewidth": 0,
              "ticks": ""
             }
            },
            "type": "parcoords"
           }
          ],
          "pie": [
           {
            "automargin": true,
            "type": "pie"
           }
          ],
          "scatter": [
           {
            "fillpattern": {
             "fillmode": "overlay",
             "size": 10,
             "solidity": 0.2
            },
            "type": "scatter"
           }
          ],
          "scatter3d": [
           {
            "line": {
             "colorbar": {
              "outlinewidth": 0,
              "ticks": ""
             }
            },
            "marker": {
             "colorbar": {
              "outlinewidth": 0,
              "ticks": ""
             }
            },
            "type": "scatter3d"
           }
          ],
          "scattercarpet": [
           {
            "marker": {
             "colorbar": {
              "outlinewidth": 0,
              "ticks": ""
             }
            },
            "type": "scattercarpet"
           }
          ],
          "scattergeo": [
           {
            "marker": {
             "colorbar": {
              "outlinewidth": 0,
              "ticks": ""
             }
            },
            "type": "scattergeo"
           }
          ],
          "scattergl": [
           {
            "marker": {
             "colorbar": {
              "outlinewidth": 0,
              "ticks": ""
             }
            },
            "type": "scattergl"
           }
          ],
          "scattermapbox": [
           {
            "marker": {
             "colorbar": {
              "outlinewidth": 0,
              "ticks": ""
             }
            },
            "type": "scattermapbox"
           }
          ],
          "scatterpolar": [
           {
            "marker": {
             "colorbar": {
              "outlinewidth": 0,
              "ticks": ""
             }
            },
            "type": "scatterpolar"
           }
          ],
          "scatterpolargl": [
           {
            "marker": {
             "colorbar": {
              "outlinewidth": 0,
              "ticks": ""
             }
            },
            "type": "scatterpolargl"
           }
          ],
          "scatterternary": [
           {
            "marker": {
             "colorbar": {
              "outlinewidth": 0,
              "ticks": ""
             }
            },
            "type": "scatterternary"
           }
          ],
          "surface": [
           {
            "colorbar": {
             "outlinewidth": 0,
             "ticks": ""
            },
            "colorscale": [
             [
              0,
              "#0d0887"
             ],
             [
              0.1111111111111111,
              "#46039f"
             ],
             [
              0.2222222222222222,
              "#7201a8"
             ],
             [
              0.3333333333333333,
              "#9c179e"
             ],
             [
              0.4444444444444444,
              "#bd3786"
             ],
             [
              0.5555555555555556,
              "#d8576b"
             ],
             [
              0.6666666666666666,
              "#ed7953"
             ],
             [
              0.7777777777777778,
              "#fb9f3a"
             ],
             [
              0.8888888888888888,
              "#fdca26"
             ],
             [
              1,
              "#f0f921"
             ]
            ],
            "type": "surface"
           }
          ],
          "table": [
           {
            "cells": {
             "fill": {
              "color": "#EBF0F8"
             },
             "line": {
              "color": "white"
             }
            },
            "header": {
             "fill": {
              "color": "#C8D4E3"
             },
             "line": {
              "color": "white"
             }
            },
            "type": "table"
           }
          ]
         },
         "layout": {
          "annotationdefaults": {
           "arrowcolor": "#2a3f5f",
           "arrowhead": 0,
           "arrowwidth": 1
          },
          "autotypenumbers": "strict",
          "coloraxis": {
           "colorbar": {
            "outlinewidth": 0,
            "ticks": ""
           }
          },
          "colorscale": {
           "diverging": [
            [
             0,
             "#8e0152"
            ],
            [
             0.1,
             "#c51b7d"
            ],
            [
             0.2,
             "#de77ae"
            ],
            [
             0.3,
             "#f1b6da"
            ],
            [
             0.4,
             "#fde0ef"
            ],
            [
             0.5,
             "#f7f7f7"
            ],
            [
             0.6,
             "#e6f5d0"
            ],
            [
             0.7,
             "#b8e186"
            ],
            [
             0.8,
             "#7fbc41"
            ],
            [
             0.9,
             "#4d9221"
            ],
            [
             1,
             "#276419"
            ]
           ],
           "sequential": [
            [
             0,
             "#0d0887"
            ],
            [
             0.1111111111111111,
             "#46039f"
            ],
            [
             0.2222222222222222,
             "#7201a8"
            ],
            [
             0.3333333333333333,
             "#9c179e"
            ],
            [
             0.4444444444444444,
             "#bd3786"
            ],
            [
             0.5555555555555556,
             "#d8576b"
            ],
            [
             0.6666666666666666,
             "#ed7953"
            ],
            [
             0.7777777777777778,
             "#fb9f3a"
            ],
            [
             0.8888888888888888,
             "#fdca26"
            ],
            [
             1,
             "#f0f921"
            ]
           ],
           "sequentialminus": [
            [
             0,
             "#0d0887"
            ],
            [
             0.1111111111111111,
             "#46039f"
            ],
            [
             0.2222222222222222,
             "#7201a8"
            ],
            [
             0.3333333333333333,
             "#9c179e"
            ],
            [
             0.4444444444444444,
             "#bd3786"
            ],
            [
             0.5555555555555556,
             "#d8576b"
            ],
            [
             0.6666666666666666,
             "#ed7953"
            ],
            [
             0.7777777777777778,
             "#fb9f3a"
            ],
            [
             0.8888888888888888,
             "#fdca26"
            ],
            [
             1,
             "#f0f921"
            ]
           ]
          },
          "colorway": [
           "#636efa",
           "#EF553B",
           "#00cc96",
           "#ab63fa",
           "#FFA15A",
           "#19d3f3",
           "#FF6692",
           "#B6E880",
           "#FF97FF",
           "#FECB52"
          ],
          "font": {
           "color": "#2a3f5f"
          },
          "geo": {
           "bgcolor": "white",
           "lakecolor": "white",
           "landcolor": "#E5ECF6",
           "showlakes": true,
           "showland": true,
           "subunitcolor": "white"
          },
          "hoverlabel": {
           "align": "left"
          },
          "hovermode": "closest",
          "mapbox": {
           "style": "light"
          },
          "paper_bgcolor": "white",
          "plot_bgcolor": "#E5ECF6",
          "polar": {
           "angularaxis": {
            "gridcolor": "white",
            "linecolor": "white",
            "ticks": ""
           },
           "bgcolor": "#E5ECF6",
           "radialaxis": {
            "gridcolor": "white",
            "linecolor": "white",
            "ticks": ""
           }
          },
          "scene": {
           "xaxis": {
            "backgroundcolor": "#E5ECF6",
            "gridcolor": "white",
            "gridwidth": 2,
            "linecolor": "white",
            "showbackground": true,
            "ticks": "",
            "zerolinecolor": "white"
           },
           "yaxis": {
            "backgroundcolor": "#E5ECF6",
            "gridcolor": "white",
            "gridwidth": 2,
            "linecolor": "white",
            "showbackground": true,
            "ticks": "",
            "zerolinecolor": "white"
           },
           "zaxis": {
            "backgroundcolor": "#E5ECF6",
            "gridcolor": "white",
            "gridwidth": 2,
            "linecolor": "white",
            "showbackground": true,
            "ticks": "",
            "zerolinecolor": "white"
           }
          },
          "shapedefaults": {
           "line": {
            "color": "#2a3f5f"
           }
          },
          "ternary": {
           "aaxis": {
            "gridcolor": "white",
            "linecolor": "white",
            "ticks": ""
           },
           "baxis": {
            "gridcolor": "white",
            "linecolor": "white",
            "ticks": ""
           },
           "bgcolor": "#E5ECF6",
           "caxis": {
            "gridcolor": "white",
            "linecolor": "white",
            "ticks": ""
           }
          },
          "title": {
           "x": 0.05
          },
          "xaxis": {
           "automargin": true,
           "gridcolor": "white",
           "linecolor": "white",
           "ticks": "",
           "title": {
            "standoff": 15
           },
           "zerolinecolor": "white",
           "zerolinewidth": 2
          },
          "yaxis": {
           "automargin": true,
           "gridcolor": "white",
           "linecolor": "white",
           "ticks": "",
           "title": {
            "standoff": 15
           },
           "zerolinecolor": "white",
           "zerolinewidth": 2
          }
         }
        },
        "title": {
         "text": "Violin Plot of Bathrooms"
        },
        "violinmode": "group",
        "width": 600,
        "xaxis": {
         "anchor": "y",
         "domain": [
          0,
          1
         ]
        },
        "yaxis": {
         "anchor": "x",
         "domain": [
          0,
          1
         ],
         "title": {
          "text": "Bathroom"
         }
        }
       }
      }
     },
     "metadata": {},
     "output_type": "display_data"
    }
   ],
   "source": [
    "# violin and boxplots\n",
    "fig = px.violin(rentals, y=\"Bathroom\", box=True, # draw box plot inside the violin\n",
    "                points='all', # can be 'outliers', or False\n",
    "                width=600, title=\"Violin Plot of Bathrooms\",\n",
    "                height=400,\n",
    "               )\n",
    "fig.show()"
   ]
  },
  {
   "cell_type": "markdown",
   "metadata": {},
   "source": [
    "Let's check the range of br, ba, price when grouping"
   ]
  },
  {
   "cell_type": "code",
   "execution_count": 38,
   "metadata": {
    "colab": {
     "base_uri": "https://localhost:8080/",
     "height": 297
    },
    "executionInfo": {
     "elapsed": 133,
     "status": "ok",
     "timestamp": 1627299238866,
     "user": {
      "displayName": "Jennifer Ma",
      "photoUrl": "https://lh3.googleusercontent.com/a-/AOh14Gj1XuI66bU9QZyOWCdAc6X2mkgvqfSHVVrTTn2uDg=s64",
      "userId": "03736886922401541328"
     },
     "user_tz": 240
    },
    "id": "no_OU4J8aEXb",
    "outputId": "0aeea2ec-53a6-479a-fd0f-617fee1fdbd5"
   },
   "outputs": [
    {
     "data": {
      "text/html": [
       "<div>\n",
       "<style scoped>\n",
       "    .dataframe tbody tr th:only-of-type {\n",
       "        vertical-align: middle;\n",
       "    }\n",
       "\n",
       "    .dataframe tbody tr th {\n",
       "        vertical-align: top;\n",
       "    }\n",
       "\n",
       "    .dataframe thead th {\n",
       "        text-align: right;\n",
       "    }\n",
       "</style>\n",
       "<table border=\"1\" class=\"dataframe\">\n",
       "  <thead>\n",
       "    <tr style=\"text-align: right;\">\n",
       "      <th></th>\n",
       "      <th>price_min</th>\n",
       "      <th>price_max</th>\n",
       "      <th>price_mean</th>\n",
       "    </tr>\n",
       "    <tr>\n",
       "      <th>Bedroom</th>\n",
       "      <th></th>\n",
       "      <th></th>\n",
       "      <th></th>\n",
       "    </tr>\n",
       "  </thead>\n",
       "  <tbody>\n",
       "    <tr>\n",
       "      <th>2</th>\n",
       "      <td>1200</td>\n",
       "      <td>10000</td>\n",
       "      <td>2859.000000</td>\n",
       "    </tr>\n",
       "    <tr>\n",
       "      <th>3</th>\n",
       "      <td>1050</td>\n",
       "      <td>20000</td>\n",
       "      <td>3384.578947</td>\n",
       "    </tr>\n",
       "    <tr>\n",
       "      <th>4</th>\n",
       "      <td>1000</td>\n",
       "      <td>16500</td>\n",
       "      <td>4174.801282</td>\n",
       "    </tr>\n",
       "    <tr>\n",
       "      <th>5</th>\n",
       "      <td>2800</td>\n",
       "      <td>18000</td>\n",
       "      <td>5717.874074</td>\n",
       "    </tr>\n",
       "    <tr>\n",
       "      <th>6</th>\n",
       "      <td>3800</td>\n",
       "      <td>13750</td>\n",
       "      <td>7606.969697</td>\n",
       "    </tr>\n",
       "    <tr>\n",
       "      <th>7</th>\n",
       "      <td>4500</td>\n",
       "      <td>40000</td>\n",
       "      <td>13522.727273</td>\n",
       "    </tr>\n",
       "    <tr>\n",
       "      <th>8</th>\n",
       "      <td>5095</td>\n",
       "      <td>38500</td>\n",
       "      <td>16348.750000</td>\n",
       "    </tr>\n",
       "    <tr>\n",
       "      <th>9</th>\n",
       "      <td>19800</td>\n",
       "      <td>19800</td>\n",
       "      <td>19800.000000</td>\n",
       "    </tr>\n",
       "    <tr>\n",
       "      <th>12</th>\n",
       "      <td>9150</td>\n",
       "      <td>9150</td>\n",
       "      <td>9150.000000</td>\n",
       "    </tr>\n",
       "  </tbody>\n",
       "</table>\n",
       "</div>"
      ],
      "text/plain": [
       "         price_min  price_max    price_mean\n",
       "Bedroom                                    \n",
       "2             1200      10000   2859.000000\n",
       "3             1050      20000   3384.578947\n",
       "4             1000      16500   4174.801282\n",
       "5             2800      18000   5717.874074\n",
       "6             3800      13750   7606.969697\n",
       "7             4500      40000  13522.727273\n",
       "8             5095      38500  16348.750000\n",
       "9            19800      19800  19800.000000\n",
       "12            9150       9150   9150.000000"
      ]
     },
     "execution_count": 38,
     "metadata": {},
     "output_type": "execute_result"
    }
   ],
   "source": [
    "grouped_bedroom = rentals.groupby('Bedroom').agg({'Price': ['min', 'max', 'mean']})\n",
    "#Rename the mutltiindex columns and reset the index\n",
    "grouped_bedroom.columns = ['price_min', 'price_max', 'price_mean']\n",
    "grouped_bedroom.reset_index()\n",
    "grouped_bedroom"
   ]
  },
  {
   "cell_type": "markdown",
   "metadata": {},
   "source": [
    "It looks like we have a big range of price by bedroom. However, I am only interested in a house/townhouse that has 3-4br and at least 2 ba. Let's see how much the median price is?\n"
   ]
  },
  {
   "cell_type": "markdown",
   "metadata": {},
   "source": [
    "### Filtering 3,4br and at least 2 ba"
   ]
  },
  {
   "cell_type": "code",
   "execution_count": 90,
   "metadata": {
    "colab": {
     "base_uri": "https://localhost:8080/",
     "height": 297
    },
    "executionInfo": {
     "elapsed": 125,
     "status": "ok",
     "timestamp": 1627352282098,
     "user": {
      "displayName": "Jennifer Ma",
      "photoUrl": "https://lh3.googleusercontent.com/a-/AOh14Gj1XuI66bU9QZyOWCdAc6X2mkgvqfSHVVrTTn2uDg=s64",
      "userId": "03736886922401541328"
     },
     "user_tz": 240
    },
    "id": "XomBonkeKlrY",
    "outputId": "0c241171-dfce-41a6-a486-f5f457e078f5"
   },
   "outputs": [
    {
     "data": {
      "text/html": [
       "<div>\n",
       "<style scoped>\n",
       "    .dataframe tbody tr th:only-of-type {\n",
       "        vertical-align: middle;\n",
       "    }\n",
       "\n",
       "    .dataframe tbody tr th {\n",
       "        vertical-align: top;\n",
       "    }\n",
       "\n",
       "    .dataframe thead th {\n",
       "        text-align: right;\n",
       "    }\n",
       "</style>\n",
       "<table border=\"1\" class=\"dataframe\">\n",
       "  <thead>\n",
       "    <tr style=\"text-align: right;\">\n",
       "      <th></th>\n",
       "      <th>Bedroom</th>\n",
       "      <th>Bathroom</th>\n",
       "      <th>Price</th>\n",
       "    </tr>\n",
       "  </thead>\n",
       "  <tbody>\n",
       "    <tr>\n",
       "      <th>count</th>\n",
       "      <td>757.000000</td>\n",
       "      <td>757.000000</td>\n",
       "      <td>757.000000</td>\n",
       "    </tr>\n",
       "    <tr>\n",
       "      <th>mean</th>\n",
       "      <td>3.408190</td>\n",
       "      <td>3.104359</td>\n",
       "      <td>3770.464993</td>\n",
       "    </tr>\n",
       "    <tr>\n",
       "      <th>std</th>\n",
       "      <td>0.491824</td>\n",
       "      <td>0.792037</td>\n",
       "      <td>1633.885698</td>\n",
       "    </tr>\n",
       "    <tr>\n",
       "      <th>min</th>\n",
       "      <td>3.000000</td>\n",
       "      <td>2.000000</td>\n",
       "      <td>1050.000000</td>\n",
       "    </tr>\n",
       "    <tr>\n",
       "      <th>25%</th>\n",
       "      <td>3.000000</td>\n",
       "      <td>2.500000</td>\n",
       "      <td>2850.000000</td>\n",
       "    </tr>\n",
       "    <tr>\n",
       "      <th>50%</th>\n",
       "      <td>3.000000</td>\n",
       "      <td>3.000000</td>\n",
       "      <td>3375.000000</td>\n",
       "    </tr>\n",
       "    <tr>\n",
       "      <th>75%</th>\n",
       "      <td>4.000000</td>\n",
       "      <td>3.500000</td>\n",
       "      <td>4100.000000</td>\n",
       "    </tr>\n",
       "    <tr>\n",
       "      <th>max</th>\n",
       "      <td>4.000000</td>\n",
       "      <td>7.000000</td>\n",
       "      <td>20000.000000</td>\n",
       "    </tr>\n",
       "  </tbody>\n",
       "</table>\n",
       "</div>"
      ],
      "text/plain": [
       "          Bedroom    Bathroom         Price\n",
       "count  757.000000  757.000000    757.000000\n",
       "mean     3.408190    3.104359   3770.464993\n",
       "std      0.491824    0.792037   1633.885698\n",
       "min      3.000000    2.000000   1050.000000\n",
       "25%      3.000000    2.500000   2850.000000\n",
       "50%      3.000000    3.000000   3375.000000\n",
       "75%      4.000000    3.500000   4100.000000\n",
       "max      4.000000    7.000000  20000.000000"
      ]
     },
     "execution_count": 90,
     "metadata": {},
     "output_type": "execute_result"
    }
   ],
   "source": [
    "# subset 3-4 Bedrooms and at least 2 ba\n",
    "df_34br_atleast2ba = rentals[((rentals.Bedroom == 3)|(rentals.Bedroom == 4))&(rentals.Bathroom >=2)]\n",
    "df_34br_atleast2ba.describe()"
   ]
  },
  {
   "cell_type": "code",
   "execution_count": 91,
   "metadata": {},
   "outputs": [
    {
     "data": {
      "text/html": [
       "<div>\n",
       "<style scoped>\n",
       "    .dataframe tbody tr th:only-of-type {\n",
       "        vertical-align: middle;\n",
       "    }\n",
       "\n",
       "    .dataframe tbody tr th {\n",
       "        vertical-align: top;\n",
       "    }\n",
       "\n",
       "    .dataframe thead th {\n",
       "        text-align: right;\n",
       "    }\n",
       "</style>\n",
       "<table border=\"1\" class=\"dataframe\">\n",
       "  <thead>\n",
       "    <tr style=\"text-align: right;\">\n",
       "      <th></th>\n",
       "      <th>Title</th>\n",
       "      <th>Address</th>\n",
       "      <th>Bedroom</th>\n",
       "      <th>Bathroom</th>\n",
       "      <th>Price</th>\n",
       "      <th>City</th>\n",
       "      <th>State</th>\n",
       "      <th>Zipcode</th>\n",
       "    </tr>\n",
       "  </thead>\n",
       "  <tbody>\n",
       "    <tr>\n",
       "      <th>78</th>\n",
       "      <td>House</td>\n",
       "      <td>7004 Nevis Rd, Bethesda, MD 20817</td>\n",
       "      <td>4</td>\n",
       "      <td>7.0</td>\n",
       "      <td>6500</td>\n",
       "      <td>Bethesda</td>\n",
       "      <td>MD</td>\n",
       "      <td>20817</td>\n",
       "    </tr>\n",
       "  </tbody>\n",
       "</table>\n",
       "</div>"
      ],
      "text/plain": [
       "    Title                            Address  Bedroom  Bathroom  Price  \\\n",
       "78  House  7004 Nevis Rd, Bethesda, MD 20817        4       7.0   6500   \n",
       "\n",
       "        City State Zipcode  \n",
       "78  Bethesda    MD   20817  "
      ]
     },
     "execution_count": 91,
     "metadata": {},
     "output_type": "execute_result"
    }
   ],
   "source": [
    "# check how many houses which have 7 ba? It looks legit\n",
    "df_34br_atleast2ba[df_34br_atleast2ba.Bathroom == 7]"
   ]
  },
  {
   "cell_type": "markdown",
   "metadata": {},
   "source": [
    "I want to see the distribution of houses by bedroom, city?"
   ]
  },
  {
   "cell_type": "code",
   "execution_count": 92,
   "metadata": {},
   "outputs": [
    {
     "data": {
      "application/vnd.plotly.v1+json": {
       "config": {
        "plotlyServerURL": "https://plot.ly"
       },
       "data": [
        {
         "alignmentgroup": "True",
         "box": {
          "visible": true
         },
         "customdata": [
          [
           "Townhouse",
           "5455 New London Park Dr, Fairfax, VA 22032",
           4,
           "Fairfax",
           "VA",
           "22032"
          ],
          [
           "Townhouse",
           "14312 Beckett Glen Cir, Chantilly, VA 20151",
           5,
           "Chantilly",
           "VA",
           "20151"
          ],
          [
           "House",
           "12665 Magna Carta Rd, Herndon, VA 20171",
           2,
           "Herndon",
           "VA",
           "20171"
          ],
          [
           "Townhouse",
           "2013 Approach Ln, Reston, VA 20191",
           2.5,
           "Reston",
           "VA",
           "20191"
          ],
          [
           "Townhouse",
           "8046 Reserve Way, Vienna, VA 22182",
           2.5,
           "Vienna",
           "VA",
           "22182"
          ],
          [
           "House",
           "10610 Cavalcade St, Great Falls, VA 22066",
           2.5,
           "Great Falls",
           "VA",
           "22066"
          ],
          [
           "Townhouse",
           "2816 Kelly Square, Vienna, VA 22181",
           3.5,
           "Vienna",
           "VA",
           "22181"
          ],
          [
           "House",
           "1720 Beulah Rd, Vienna, VA 22182",
           3,
           "Vienna",
           "VA",
           "22182"
          ],
          [
           "House",
           "1105 Westbriar Ct NE, Vienna, VA 22180",
           2.5,
           "Vienna",
           "VA",
           "22180"
          ],
          [
           "Townhouse",
           "3690 Yorktown Village Pass, Annandale, VA 22003",
           4,
           "Annandale",
           "VA",
           "22003"
          ],
          [
           "House",
           "6464 Third St, Alexandria, VA 22312",
           3.5,
           "Alexandria",
           "VA",
           "22312"
          ],
          [
           "House",
           "14509 William Carr Ln, Centreville, VA 20120",
           2.5,
           "Centreville",
           "VA",
           "20120"
          ],
          [
           "Townhouse",
           "8067 Nicosh Circle Ln Unit 56, Falls Church, VA 22042",
           3,
           "Falls Church",
           "VA",
           "22042"
          ],
          [
           "Townhouse",
           "2281 Emerald Heights Ct, Reston, VA 20191",
           2.5,
           "Reston",
           "VA",
           "20191"
          ],
          [
           "Townhouse",
           "11425 Abner Ave, Fairfax, VA 22030",
           4,
           "Fairfax",
           "VA",
           "22030"
          ],
          [
           "Townhouse",
           "2533 James Maury Dr, Herndon, VA 20171",
           4,
           "Herndon",
           "VA",
           "20171"
          ],
          [
           "Townhouse",
           "14634 Battery Ridge Ln, Centreville, VA 20120",
           3.5,
           "Centreville",
           "VA",
           "20120"
          ],
          [
           "Townhouse",
           "3858 Elmwood Towne Way, Alexandria, VA 22303",
           3.5,
           "Alexandria",
           "VA",
           "22303"
          ],
          [
           "Townhouse",
           "3403 Wheatwheel Ln, Annandale, VA 22003",
           3.5,
           "Annandale",
           "VA",
           "22003"
          ],
          [
           "Townhouse",
           "13327 Foxhole Dr, Fairfax, VA 22033",
           3.5,
           "Fairfax",
           "VA",
           "22033"
          ],
          [
           "House",
           "2123 Owls Cove Ln, Reston, VA 20191",
           2,
           "Reston",
           "VA",
           "20191"
          ],
          [
           "Townhouse",
           "7448 Pohick Rd, Lorton, VA 22079",
           2.5,
           "Lorton",
           "VA",
           "22079"
          ],
          [
           "House",
           "5906 Oak Leather Dr, Burke, VA 22015",
           2.5,
           "Burke",
           "VA",
           "22015"
          ],
          [
           "Townhouse",
           "3053 Meeting St, Falls Church, VA 22044",
           3.5,
           "Falls Church",
           "VA",
           "22044"
          ],
          [
           "Townhouse",
           "1413 Green Run Ln, Reston, VA 20190",
           2,
           "Reston",
           "VA",
           "20190"
          ],
          [
           "Townhouse",
           "2042 Headlands Cir, Reston, VA 20191",
           3.5,
           "Reston",
           "VA",
           "20191"
          ],
          [
           "Townhouse",
           "4016 Rosemeade Dr, Fairfax, VA 22033",
           3.5,
           "Fairfax",
           "VA",
           "22033"
          ],
          [
           "Townhouse",
           "2077 Hopewood Dr, Falls Church, VA 22043",
           2.5,
           "Falls Church",
           "VA",
           "22043"
          ],
          [
           "Townhouse",
           "5848 Watermark Cir, Centreville, VA 20120",
           4,
           "Centreville",
           "VA",
           "20120"
          ],
          [
           "Townhouse",
           "6010 Lands End Ln, Alexandria, VA 22315",
           4,
           "Alexandria",
           "VA",
           "22315"
          ],
          [
           "Townhouse",
           "8093 Steeple Chase Ct, Springfield, VA 22153",
           3,
           "Springfield",
           "VA",
           "22153"
          ],
          [
           "Townhouse",
           "8179 Curving Creek Ct, Springfield, VA 22153",
           2.5,
           "Springfield",
           "VA",
           "22153"
          ],
          [
           "Townhouse",
           "1528 Poplar Grove Dr, Reston, VA 20194",
           4,
           "Reston",
           "VA",
           "20194"
          ],
          [
           "House",
           "7951 Hidden Bridge Dr, Springfield, VA 22153",
           4,
           "Springfield",
           "VA",
           "22153"
          ],
          [
           "Townhouse",
           "1110 Floyd Place, Herndon, VA 20170",
           4,
           "Herndon",
           "VA",
           "20170"
          ],
          [
           "Townhouse",
           "13126 Plotner Farm Rd, Herndon, VA 20171",
           3.5,
           "Herndon",
           "VA",
           "20171"
          ],
          [
           "Townhouse",
           "6167 Stonepath Cir, Centreville, VA 20120",
           3,
           "Centreville",
           "VA",
           "20120"
          ],
          [
           "Townhouse",
           "1380 Park Garden Ln, Reston, VA 20194",
           3.5,
           "Reston",
           "VA",
           "20194"
          ],
          [
           "House",
           "6208 Tally Ho Ln, Alexandria, VA 22307",
           3.5,
           "Alexandria",
           "VA",
           "22307"
          ],
          [
           "House",
           "7611 Holiday Dr, Alexandria, VA 22308",
           3,
           "Alexandria",
           "VA",
           "22308"
          ],
          [
           "Townhouse",
           "7804 Colonial Springs Blvd, Alexandria, VA 22306",
           2.5,
           "Alexandria",
           "VA",
           "22306"
          ],
          [
           "House",
           "5925 Brookview Dr, Alexandria, VA 22310",
           2.5,
           "Alexandria",
           "VA",
           "22310"
          ],
          [
           "Townhouse",
           "5035 Cool Fountain Ln, Centreville, VA 20120",
           4,
           "Centreville",
           "VA",
           "20120"
          ],
          [
           "Townhouse",
           "1679 Bayfield Way, Reston, VA 20194",
           2.5,
           "Reston",
           "VA",
           "20194"
          ],
          [
           "Townhouse",
           "6644 Elk Park Ct, Alexandria, VA 22310",
           2.5,
           "Alexandria",
           "VA",
           "22310"
          ],
          [
           "Townhouse",
           "8367 Millwood Dr, Springfield, VA 22152",
           2.5,
           "Springfield",
           "VA",
           "22152"
          ],
          [
           "Townhouse",
           "1451 Bluemont Ct, Herndon, VA 20170",
           3.5,
           "Herndon",
           "VA",
           "20170"
          ],
          [
           "Townhouse",
           "9068 Blarney Stone Dr, Springfield, VA 22152",
           3.5,
           "Springfield",
           "VA",
           "22152"
          ],
          [
           "House",
           "7035 Quander Rd, Alexandria, VA 22307",
           3,
           "Alexandria",
           "VA",
           "22307"
          ],
          [
           "Townhouse",
           "2104 Eluna Ct, Vienna, VA 22182",
           3.5,
           "Vienna",
           "VA",
           "22182"
          ],
          [
           "Townhouse",
           "10629 Lakeside Oak Ct, Burke, VA 22015",
           4,
           "Burke",
           "VA",
           "22015"
          ],
          [
           "Townhouse",
           "7222 Evanston Rd, Springfield, VA 22150",
           2.5,
           "Springfield",
           "VA",
           "22150"
          ],
          [
           "Townhouse",
           "2926 Bridgehampton Ct, Falls Church, VA 22042",
           4,
           "Falls Church",
           "VA",
           "22042"
          ],
          [
           "Townhouse",
           "2013 Gallows Tree Ct, Vienna, VA 22182",
           4,
           "Vienna",
           "VA",
           "22182"
          ],
          [
           "Townhouse",
           "6012 Kestner Cir, Alexandria, VA 22315",
           3.5,
           "Alexandria",
           "VA",
           "22315"
          ],
          [
           "Townhouse",
           "3903 Barcroft Mews Ct, Falls Church, VA 22041",
           3.5,
           "Falls Church",
           "VA",
           "22041"
          ],
          [
           "Townhouse",
           "1803 Fawncrest Ct, Vienna, VA 22182",
           4,
           "Vienna",
           "VA",
           "22182"
          ],
          [
           "Townhouse",
           "2640 Jetstream Rd, Herndon, VA 20171",
           3,
           "Herndon",
           "VA",
           "20171"
          ],
          [
           "Townhouse",
           "7804 Locust Leaf Ln, Alexandria, VA 22315",
           4,
           "Alexandria",
           "VA",
           "22315"
          ],
          [
           "Townhouse",
           "1708 Anderson Rd, McLean, VA 22102",
           5,
           "McLean",
           "VA",
           "22102"
          ],
          [
           "Townhouse",
           "7737 Legere Ct Unit 36, McLean, VA 22102",
           5,
           "McLean",
           "VA",
           "22102"
          ],
          [
           "Townhouse",
           "9419 Colonade Dr, Vienna, VA 22181",
           4,
           "Vienna",
           "VA",
           "22181"
          ],
          [
           "Townhouse",
           "8271 Shannons Landing Way, Lorton, VA 22079",
           2.5,
           "Lorton",
           "VA",
           "22079"
          ],
          [
           "Townhouse",
           "13387 Launders St Unit 76, Herndon, VA 20171",
           2.5,
           "Herndon",
           "VA",
           "20171"
          ],
          [
           "Townhouse",
           "2038 Swans Neck Way, Reston, VA 20191",
           3.5,
           "Reston",
           "VA",
           "20191"
          ],
          [
           "Townhouse",
           "9170 Broken Oak Place Unit 66B, Burke, VA 22015",
           2.5,
           "Burke",
           "VA",
           "22015"
          ],
          [
           "Townhouse",
           "8844 Mansion View Ct, Vienna, VA 22182",
           3.5,
           "Vienna",
           "VA",
           "22182"
          ],
          [
           "Townhouse",
           "2926 Mainstone Dr, Fairfax, VA 22031",
           4,
           "Fairfax",
           "VA",
           "22031"
          ],
          [
           "Townhouse",
           "5575 Glasgow Woods Ct, Fairfax, VA 22032",
           4,
           "Fairfax",
           "VA",
           "22032"
          ],
          [
           "Townhouse",
           "9669 Scotch Haven Dr, Vienna, VA 22181",
           4,
           "Vienna",
           "VA",
           "22181"
          ],
          [
           "Townhouse",
           "5503 Akridge Ct, Fairfax, VA 22032",
           3.5,
           "Fairfax",
           "VA",
           "22032"
          ],
          [
           "Townhouse",
           "11866 Saint Trinians Ct, Reston, VA 20191",
           3.5,
           "Reston",
           "VA",
           "20191"
          ],
          [
           "Townhouse",
           "6706 Jenny Leigh Ct, Centreville, VA 20121",
           3.5,
           "Centreville",
           "VA",
           "20121"
          ],
          [
           "Townhouse",
           "6365 Brampton Ct, Alexandria, VA 22304",
           5,
           "Alexandria",
           "VA",
           "22304"
          ],
          [
           "Townhouse",
           "9275 Laurel Ridge Crossing Rd, Lorton, VA 22079",
           3.5,
           "Lorton",
           "VA",
           "22079"
          ],
          [
           "Townhouse",
           "13011 Park Crescent Cir, Herndon, VA 20171",
           5,
           "Herndon",
           "VA",
           "20171"
          ],
          [
           "Townhouse",
           "3138 Borge St, Oakton, VA 22124",
           3.5,
           "Oakton",
           "VA",
           "22124"
          ],
          [
           "Townhouse",
           "8621 Rocky Gap Ct, Lorton, VA 22079",
           4,
           "Lorton",
           "VA",
           "22079"
          ],
          [
           "Townhouse",
           "6022 Westbourne Place, Centreville, VA 20120",
           3.5,
           "Centreville",
           "VA",
           "20120"
          ],
          [
           "Townhouse",
           "6398 Dakine Cir, Springfield, VA 22150",
           5,
           "Springfield",
           "VA",
           "22150"
          ],
          [
           "House",
           "5997 Clerkenwell Ct, Burke, VA 22015",
           2.5,
           "Burke",
           "VA",
           "22015"
          ],
          [
           "House",
           "8412 Leaf Rd, Alexandria, VA 22309",
           2,
           "Alexandria",
           "VA",
           "22309"
          ],
          [
           "House",
           "6805 Glenmont St, Falls Church, VA 22042",
           2,
           "Falls Church",
           "VA",
           "22042"
          ],
          [
           "House",
           "1642 Evers Dr, McLean, VA 22101",
           2.5,
           "McLean",
           "VA",
           "22101"
          ],
          [
           "Townhouse",
           "9350 Sweetbay Magnolia Ct, Fairfax, VA 22031",
           3.5,
           "Fairfax",
           "VA",
           "22031"
          ],
          [
           "Townhouse",
           "6227 Split Creek Ln, Alexandria, VA 22312",
           4,
           "Alexandria",
           "VA",
           "22312"
          ],
          [
           "Townhouse",
           "1119 Moorefield Hill Ct SW, Vienna, VA 22180",
           2.5,
           "Vienna",
           "VA",
           "22180"
          ],
          [
           "Townhouse",
           "9523 Poplar Leaf Ct, Fairfax, VA 22031",
           2.5,
           "Fairfax",
           "VA",
           "22031"
          ],
          [
           "Townhouse",
           "6830 Wild Rose Ct, Springfield, VA 22152",
           4,
           "Springfield",
           "VA",
           "22152"
          ],
          [
           "Townhouse",
           "2306 Emerald Heights Ct, Reston, VA 20191",
           4,
           "Reston",
           "VA",
           "20191"
          ],
          [
           "House",
           "12629 Fantasia Dr, Herndon, VA 20170",
           2,
           "Herndon",
           "VA",
           "20170"
          ],
          [
           "House",
           "5819 Fifer Dr, Alexandria, VA 22303",
           2,
           "Alexandria",
           "VA",
           "22303"
          ],
          [
           "Townhouse",
           "6330 James Harris Way, Centreville, VA 20121",
           2.5,
           "Centreville",
           "VA",
           "20121"
          ],
          [
           "Townhouse",
           "1626 Valencia Way, Reston, VA 20190",
           4,
           "Reston",
           "VA",
           "20190"
          ],
          [
           "Townhouse",
           "13326 Burrough Farm Dr, Herndon, VA 20171",
           3.5,
           "Herndon",
           "VA",
           "20171"
          ],
          [
           "House",
           "9343 Kite St, Burke, VA 22015",
           3,
           "Burke",
           "VA",
           "22015"
          ],
          [
           "Townhouse",
           "14005 Betsy Ross Ln, Centreville, VA 20121",
           3.5,
           "Centreville",
           "VA",
           "20121"
          ],
          [
           "Townhouse",
           "13150 Ashnut Ln, Herndon, VA 20171",
           3.5,
           "Herndon",
           "VA",
           "20171"
          ],
          [
           "Townhouse",
           "2810 Roesh Way, Vienna, VA 22181",
           3.5,
           "Vienna",
           "VA",
           "22181"
          ],
          [
           "Townhouse",
           "11114 Lakespray Way, Reston, VA 20191",
           3.5,
           "Reston",
           "VA",
           "20191"
          ],
          [
           "Townhouse",
           "6514 Trask Terrace, Alexandria, VA 22315",
           3.5,
           "Alexandria",
           "VA",
           "22315"
          ],
          [
           "Townhouse",
           "7671 Wolford Way, Lorton, VA 22079",
           2.5,
           "Lorton",
           "VA",
           "22079"
          ],
          [
           "House",
           "7126 Gormel Dr, Springfield, VA 22150",
           2.5,
           "Springfield",
           "VA",
           "22150"
          ],
          [
           "Townhouse",
           "9075 Giltinan Ct, Springfield, VA 22153",
           2.5,
           "Springfield",
           "VA",
           "22153"
          ],
          [
           "Townhouse",
           "6609 Anthony Crest Square, McLean, VA 22101",
           3.5,
           "McLean",
           "VA",
           "22101"
          ],
          [
           "Townhouse",
           "4275 Sleepy Lake Dr, Fairfax, VA 22033",
           4,
           "Fairfax",
           "VA",
           "22033"
          ],
          [
           "Townhouse",
           "11720 Dry River Ct, Reston, VA 20191",
           4,
           "Reston",
           "VA",
           "20191"
          ],
          [
           "Townhouse",
           "7341 Crestleigh Cir, Alexandria, VA 22315",
           4,
           "Alexandria",
           "VA",
           "22315"
          ],
          [
           "Townhouse",
           "5340 Harbor Court Dr, Alexandria, VA 22315",
           2.5,
           "Alexandria",
           "VA",
           "22315"
          ],
          [
           "Townhouse",
           "6428 Gildar St, Alexandria, VA 22310",
           2.5,
           "Alexandria",
           "VA",
           "22310"
          ],
          [
           "House",
           "7725 Marthas Ln, Falls Church, VA 22043",
           2,
           "Falls Church",
           "VA",
           "22043"
          ],
          [
           "House",
           "2503 Fleming St, Alexandria, VA 22306",
           2.5,
           "Alexandria",
           "VA",
           "22306"
          ],
          [
           "Townhouse",
           "2818 Oakton Manor Ct, Oakton, VA 22124",
           3,
           "Oakton",
           "VA",
           "22124"
          ],
          [
           "House",
           "3304 Horseman Ln, Falls Church, VA 22042",
           2.5,
           "Falls Church",
           "VA",
           "22042"
          ],
          [
           "Townhouse",
           "7374 Blade Dr, Falls Church, VA 22042",
           3.5,
           "Falls Church",
           "VA",
           "22042"
          ],
          [
           "Townhouse",
           "13339 Misty Dawn Dr, Herndon, VA 20171",
           3.5,
           "Herndon",
           "VA",
           "20171"
          ],
          [
           "House",
           "3150 Siron St, Falls Church, VA 22042",
           2,
           "Falls Church",
           "VA",
           "22042"
          ],
          [
           "Townhouse",
           "6860 Williamsburg Pond Ct, Falls Church, VA 22043",
           3.5,
           "Falls Church",
           "VA",
           "22043"
          ],
          [
           "House",
           "6812 Rosemont Dr, McLean, VA 22101",
           2.5,
           "McLean",
           "VA",
           "22101"
          ],
          [
           "House",
           "1601 Colonial Ln, McLean, VA 22102",
           3.5,
           "McLean",
           "VA",
           "22102"
          ],
          [
           "Townhouse",
           "2511 Golden Harvest Ct, Herndon, VA 20171",
           2.5,
           "Herndon",
           "VA",
           "20171"
          ],
          [
           "House",
           "3130 Chichester Ln, Fairfax, VA 22031",
           2,
           "Fairfax",
           "VA",
           "22031"
          ],
          [
           "Townhouse",
           "8104 Meadow Springs Ct, Vienna, VA 22182",
           2.5,
           "Vienna",
           "VA",
           "22182"
          ],
          [
           "Townhouse",
           "5803 Banning Place, Burke, VA 22015",
           4,
           "Burke",
           "VA",
           "22015"
          ],
          [
           "Townhouse",
           "2271 Coppersmith Square, Reston, VA 20191",
           2.5,
           "Reston",
           "VA",
           "20191"
          ],
          [
           "House",
           "7916 Bainbridge Rd, Alexandria, VA 22308",
           2,
           "Alexandria",
           "VA",
           "22308"
          ],
          [
           "House",
           "7870 Southdown Rd, Alexandria, VA 22308",
           2,
           "Alexandria",
           "VA",
           "22308"
          ],
          [
           "House",
           "903 Timber Ln SW, Vienna, VA 22180",
           2,
           "Vienna",
           "VA",
           "22180"
          ],
          [
           "Townhouse",
           "2978 Thompson Park Ln, Fairfax, VA 22031",
           3.5,
           "Fairfax",
           "VA",
           "22031"
          ],
          [
           "Townhouse",
           "13340 Sherwood Park Ln, Herndon, VA 20171",
           5,
           "Herndon",
           "VA",
           "20171"
          ],
          [
           "Townhouse",
           "3043 Talking Rock Dr, Fairfax, VA 22031",
           3.5,
           "Fairfax",
           "VA",
           "22031"
          ],
          [
           "House",
           "6325 Oak Ridge Dr, Alexandria, VA 22312",
           2.5,
           "Alexandria",
           "VA",
           "22312"
          ],
          [
           "Townhouse",
           "8021 Kidwell Ct Unit 1514N, Vienna, VA 22182",
           2.5,
           "Vienna",
           "VA",
           "22182"
          ],
          [
           "Townhouse",
           "2414 Curie Ct Unit 39, Herndon, VA 20171",
           2.5,
           "Herndon",
           "VA",
           "20171"
          ],
          [
           "Townhouse",
           "7488 Digby Green, Alexandria, VA 22315",
           4,
           "Alexandria",
           "VA",
           "22315"
          ],
          [
           "Townhouse",
           "8311 Highcliffe Ct, Annandale, VA 22003",
           4,
           "Annandale",
           "VA",
           "22003"
          ],
          [
           "Townhouse",
           "8064 Criaza Branch Ct, Vienna, VA 22182",
           2.5,
           "Vienna",
           "VA",
           "22182"
          ],
          [
           "House",
           "9125 Patton Blvd, Alexandria, VA 22309",
           2,
           "Alexandria",
           "VA",
           "22309"
          ],
          [
           "Townhouse",
           "4396 Fair Lakes Ct, Fairfax, VA 22033",
           3.5,
           "Fairfax",
           "VA",
           "22033"
          ],
          [
           "House",
           "2626 Bowling Green Dr, Vienna, VA 22180",
           3,
           "Vienna",
           "VA",
           "22180"
          ],
          [
           "Townhouse",
           "2909 Mainstone Dr, Fairfax, VA 22031",
           2,
           "Fairfax",
           "VA",
           "22031"
          ],
          [
           "Townhouse",
           "2111 Hardbower Way, Alexandria, VA 22303",
           3.5,
           "Alexandria",
           "VA",
           "22303"
          ],
          [
           "Townhouse",
           "4584 Conwell Dr, Annandale, VA 22003",
           2,
           "Annandale",
           "VA",
           "22003"
          ],
          [
           "Townhouse",
           "8410 Chaucer House Ct, Lorton, VA 22079",
           3.5,
           "Lorton",
           "VA",
           "22079"
          ],
          [
           "Townhouse",
           "9445 Van Arsdale Dr, Vienna, VA 22181",
           3.5,
           "Vienna",
           "VA",
           "22181"
          ],
          [
           "Townhouse",
           "2408 Simpkins Farm Dr, Herndon, VA 20171",
           6,
           "Herndon",
           "VA",
           "20171"
          ],
          [
           "Townhouse",
           "7285 Olde Lantern Way, Springfield, VA 22152",
           4,
           "Springfield",
           "VA",
           "22152"
          ],
          [
           "Townhouse",
           "2706 Jetstream Rd, Herndon, VA 20171",
           3.5,
           "Herndon",
           "VA",
           "20171"
          ],
          [
           "Townhouse",
           "7425 Duddington Dr, Alexandria, VA 22315",
           3.5,
           "Alexandria",
           "VA",
           "22315"
          ],
          [
           "House",
           "7332 Pinecastle Rd, Falls Church, VA 22043",
           2.5,
           "Falls Church",
           "VA",
           "22043"
          ],
          [
           "House",
           "709 Ellsworth Ave, Great Falls, VA 22066",
           2,
           "Great Falls",
           "VA",
           "22066"
          ],
          [
           "Townhouse",
           "11996 Sentinel Point Ct, Reston, VA 20191",
           2.5,
           "Reston",
           "VA",
           "20191"
          ],
          [
           "Townhouse",
           "4614 Hummingbird Way Unit 99, Fairfax, VA 22033",
           2.5,
           "Fairfax",
           "VA",
           "22033"
          ],
          [
           "Townhouse",
           "14840 Lynhodge Ct, Centreville, VA 20120",
           2,
           "Centreville",
           "VA",
           "20120"
          ],
          [
           "Townhouse",
           "2434 Old Farmhouse Ct, Herndon, VA 20171",
           3.5,
           "Herndon",
           "VA",
           "20171"
          ],
          [
           "Townhouse",
           "13202 Windy Oak Way, Herndon, VA 20171",
           3.5,
           "Herndon",
           "VA",
           "20171"
          ],
          [
           "Townhouse",
           "4663 Carisbrooke Ln, Fairfax, VA 22030",
           4,
           "Fairfax",
           "VA",
           "22030"
          ],
          [
           "Townhouse",
           "4636 Battenburg Ln Unit 632, Fairfax, VA 22030",
           2.5,
           "Fairfax",
           "VA",
           "22030"
          ],
          [
           "Townhouse",
           "2827 Grovemore Ln, Vienna, VA 22180",
           3.5,
           "Vienna",
           "VA",
           "22180"
          ],
          [
           "Townhouse",
           "9070 Arlington Blvd, Fairfax, VA 22031",
           2.5,
           "Fairfax",
           "VA",
           "22031"
          ],
          [
           "House",
           "7425 Paxton Rd, Falls Church, VA 22043",
           2,
           "Falls Church",
           "VA",
           "22043"
          ],
          [
           "Townhouse",
           "5032 Greenhouse Terrace, Centreville, VA 20120",
           4,
           "Centreville",
           "VA",
           "20120"
          ],
          [
           "Townhouse",
           "5720 Fenwick Dr, Alexandria, VA 22303",
           2,
           "Alexandria",
           "VA",
           "22303"
          ],
          [
           "House",
           "3512 Groveton St, Alexandria, VA 22306",
           2,
           "Alexandria",
           "VA",
           "22306"
          ],
          [
           "Townhouse",
           "3700 Sudley Ford Ct, Fairfax, VA 22033",
           2,
           "Fairfax",
           "VA",
           "22033"
          ],
          [
           "Townhouse",
           "13548 Mist Flower Dr, Centreville, VA 20120",
           2.5,
           "Centreville",
           "VA",
           "20120"
          ],
          [
           "Townhouse",
           "9803 Sweet Mint Dr, Vienna, VA 22181",
           3.5,
           "Vienna",
           "VA",
           "22181"
          ],
          [
           "Townhouse",
           "2527 Banshire Dr, Herndon, VA 20171",
           2.5,
           "Herndon",
           "VA",
           "20171"
          ],
          [
           "Townhouse",
           "14223 Upperridge Ct, Centreville, VA 20121",
           3.5,
           "Centreville",
           "VA",
           "20121"
          ],
          [
           "House",
           "6106 Bangor Dr, Alexandria, VA 22303",
           2,
           "Alexandria",
           "VA",
           "22303"
          ],
          [
           "Townhouse",
           "11409 Summer House Ct, Reston, VA 20194",
           2.5,
           "Reston",
           "VA",
           "20194"
          ],
          [
           "Townhouse",
           "4418 Fair Lakes Ct, Chantilly, VA 22033",
           3.5,
           "Chantilly",
           "VA",
           "22033"
          ],
          [
           "Townhouse",
           "14303 Papilion Way, Centreville, VA 20121",
           2.5,
           "Centreville",
           "VA",
           "20121"
          ],
          [
           "Townhouse",
           "6768 Perry Penney Dr Unit 108, Annandale, VA 22003",
           2,
           "Annandale",
           "VA",
           "22003"
          ],
          [
           "Townhouse",
           "5925 Prince George Dr Unit 328, Springfield, VA 22152",
           2,
           "Springfield",
           "VA",
           "22152"
          ],
          [
           "Townhouse",
           "6584 Irvin Ct, Alexandria, VA 22312",
           4,
           "Alexandria",
           "VA",
           "22312"
          ],
          [
           "Townhouse",
           "1551 Dunterry Place, McLean, VA 22101",
           4,
           "McLean",
           "VA",
           "22101"
          ],
          [
           "Townhouse",
           "11636 Park Green Dr, Fairfax, VA 22030",
           3.5,
           "Fairfax",
           "VA",
           "22030"
          ],
          [
           "Townhouse",
           "8014 Rachelle Place, Vienna, VA 22182",
           4,
           "Vienna",
           "VA",
           "22182"
          ],
          [
           "Townhouse",
           "10212 Sassafras Woods Ct, Burke, VA 22015",
           2.5,
           "Burke",
           "VA",
           "22015"
          ],
          [
           "Townhouse",
           "8028 Sleepy View Ln, Springfield, VA 22153",
           3.5,
           "Springfield",
           "VA",
           "22153"
          ],
          [
           "Townhouse",
           "2848 Fairhaven Ave, Alexandria, VA 22303",
           2,
           "Alexandria",
           "VA",
           "22303"
          ],
          [
           "Townhouse",
           "3803 Inverness Rd, Fairfax, VA 22033",
           3.5,
           "Fairfax",
           "VA",
           "22033"
          ],
          [
           "Townhouse",
           "13660 Endeavour Dr Unit 20C, Herndon, VA 20171",
           2.5,
           "Herndon",
           "VA",
           "20171"
          ],
          [
           "House",
           "1160 Sterling Rd, Herndon, VA 20170",
           2,
           "Herndon",
           "VA",
           "20170"
          ],
          [
           "Townhouse",
           "8914 Grandstaff Ct, Springfield, VA 22153",
           3.5,
           "Springfield",
           "VA",
           "22153"
          ],
          [
           "Townhouse",
           "2435 Liberty Loop, Herndon, VA 20171",
           4,
           "Herndon",
           "VA",
           "20171"
          ],
          [
           "Townhouse",
           "6582 Morning Meadow Dr, Alexandria, VA 22315",
           4,
           "Alexandria",
           "VA",
           "22315"
          ],
          [
           "Townhouse",
           "8528 Raglan Rd, Vienna, VA 22182",
           3.5,
           "Vienna",
           "VA",
           "22182"
          ],
          [
           "Townhouse",
           "2311 Mcgregor Ct, Vienna, VA 22182",
           2.5,
           "Vienna",
           "VA",
           "22182"
          ],
          [
           "Townhouse",
           "6028 Selwood Place, Springfield, VA 22152",
           2.5,
           "Springfield",
           "VA",
           "22152"
          ],
          [
           "Townhouse",
           "13929 Airfoil Rd, Herndon, VA 20171",
           5,
           "Herndon",
           "VA",
           "20171"
          ],
          [
           "Townhouse",
           "2325 Glade Bank Way, Reston, VA 20191",
           2.5,
           "Reston",
           "VA",
           "20191"
          ],
          [
           "Townhouse",
           "2515 Isham Randolph Dr, Herndon, VA 20171",
           3.5,
           "Herndon",
           "VA",
           "20171"
          ],
          [
           "Townhouse",
           "3913 Kathryn Jean Ct, Fairfax, VA 22033",
           3.5,
           "Fairfax",
           "VA",
           "22033"
          ],
          [
           "Townhouse",
           "2555 Thorncroft Place, Herndon, VA 20171",
           2.5,
           "Herndon",
           "VA",
           "20171"
          ],
          [
           "Townhouse",
           "6643 Madison Mclean Dr, McLean, VA 22101",
           3.5,
           "McLean",
           "VA",
           "22101"
          ],
          [
           "Townhouse",
           "4631 Carisbrooke Ln, Fairfax, VA 22030",
           3.5,
           "Fairfax",
           "VA",
           "22030"
          ],
          [
           "Townhouse",
           "7709 Trevino Ln, Falls Church, VA 22043",
           2,
           "Falls Church",
           "VA",
           "22043"
          ],
          [
           "Townhouse",
           "9354 Mccarthy Woods Ct, Burke, VA 22015",
           2.5,
           "Burke",
           "VA",
           "22015"
          ],
          [
           "Townhouse",
           "13517 Bannacker Place, Herndon, VA 20171",
           4,
           "Herndon",
           "VA",
           "20171"
          ],
          [
           "Townhouse",
           "13142 Copper Brook Way, Herndon, VA 20171",
           4,
           "Herndon",
           "VA",
           "20171"
          ],
          [
           "Townhouse",
           "4749 Thornbury Dr, Fairfax, VA 22030",
           2.5,
           "Fairfax",
           "VA",
           "22030"
          ],
          [
           "Townhouse",
           "2168 Golf Course Dr, Reston, VA 20191",
           4,
           "Reston",
           "VA",
           "20191"
          ],
          [
           "Townhouse",
           "8510 Harvest Oak Dr, Vienna, VA 22182",
           3.5,
           "Vienna",
           "VA",
           "22182"
          ],
          [
           "Townhouse",
           "6314 Over See Ct, Springfield, VA 22152",
           2.5,
           "Springfield",
           "VA",
           "22152"
          ],
          [
           "Townhouse",
           "11014 Granby Ct, Reston, VA 20191",
           3.5,
           "Reston",
           "VA",
           "20191"
          ],
          [
           "Townhouse",
           "4210 Lower Park Dr, Fairfax, VA 22030",
           3.5,
           "Fairfax",
           "VA",
           "22030"
          ],
          [
           "Townhouse",
           "6490 Powatan Knoll Ct, Alexandria, VA 22312",
           3.5,
           "Alexandria",
           "VA",
           "22312"
          ],
          [
           "Townhouse",
           "3191 Readsborough Ct, Fairfax, VA 22031",
           4,
           "Fairfax",
           "VA",
           "22031"
          ],
          [
           "Townhouse",
           "7064 Elton Way, Alexandria, VA 22315",
           3.5,
           "Alexandria",
           "VA",
           "22315"
          ],
          [
           "Townhouse",
           "13918 Baton Rouge Ct, Centreville, VA 20121",
           2.5,
           "Centreville",
           "VA",
           "20121"
          ],
          [
           "Townhouse",
           "9655 Motley Ln, Vienna, VA 22181",
           2.5,
           "Vienna",
           "VA",
           "22181"
          ],
          [
           "Townhouse",
           "7962 Forest Path Way, Springfield, VA 22153",
           4,
           "Springfield",
           "VA",
           "22153"
          ],
          [
           "Townhouse",
           "109 Fortnightly Blvd, Herndon, VA 20170",
           4,
           "Herndon",
           "VA",
           "20170"
          ],
          [
           "Townhouse",
           "9509 Cherry Oak Ct, Burke, VA 22015",
           2.5,
           "Burke",
           "VA",
           "22015"
          ],
          [
           "House",
           "1941 N Vermont St, Arlington, VA 22207",
           2,
           "Arlington",
           "VA",
           "22207"
          ],
          [
           "Townhouse",
           "4173 S Four Mile Run Dr Unit B, Arlington, VA 22204",
           2.5,
           "Arlington",
           "VA",
           "22204"
          ],
          [
           "Townhouse",
           "402 N Thomas St, Arlington, VA 22203",
           2.5,
           "Arlington",
           "VA",
           "22203"
          ],
          [
           "House",
           "2431 N Nottingham St, Arlington, VA 22207",
           2.5,
           "Arlington",
           "VA",
           "22207"
          ],
          [
           "Townhouse",
           "2029 S Glebe Rd, Arlington, VA 22204",
           2,
           "Arlington",
           "VA",
           "22204"
          ],
          [
           "Townhouse",
           "2312 N Van Buren Ct, Arlington, VA 22205",
           3.5,
           "Arlington",
           "VA",
           "22205"
          ],
          [
           "Townhouse",
           "3112 S Fox St, Arlington, VA 22202",
           2,
           "Arlington",
           "VA",
           "22202"
          ],
          [
           "Townhouse",
           "1524 16th Ct N, Arlington, VA 22209",
           3.5,
           "Arlington",
           "VA",
           "22209"
          ],
          [
           "House",
           "2205 S Grant St, Arlington, VA 22202",
           2,
           "Arlington",
           "VA",
           "22202"
          ],
          [
           "Townhouse",
           "2334 S Rolfe St, Arlington, VA 22202",
           3.5,
           "Arlington",
           "VA",
           "22202"
          ],
          [
           "Townhouse",
           "2404 13th Ct N, Arlington, VA 22201",
           3.5,
           "Arlington",
           "VA",
           "22201"
          ],
          [
           "Townhouse",
           "2422 14th St N, Arlington, VA 22201",
           3.5,
           "Arlington",
           "VA",
           "22201"
          ],
          [
           "Townhouse",
           "3316 Kemper Rd, Arlington, VA 22206",
           3.5,
           "Arlington",
           "VA",
           "22206"
          ],
          [
           "Townhouse",
           "606 15th St S Unit 1, Arlington, VA 22202",
           2.5,
           "Arlington",
           "VA",
           "22202"
          ],
          [
           "House",
           "5805 26th St N Unit 1, Arlington, VA 22207",
           2,
           "Arlington",
           "VA",
           "22207"
          ],
          [
           "Townhouse",
           "3080 S Glebe Rd, Arlington, VA 22206",
           3.5,
           "Arlington",
           "VA",
           "22206"
          ],
          [
           "House",
           "4767 1st St N, Arlington, VA 22203",
           2,
           "Arlington",
           "VA",
           "22203"
          ],
          [
           "House",
           "3020 Military Rd, Arlington, VA 22207",
           3,
           "Arlington",
           "VA",
           "22207"
          ],
          [
           "Townhouse",
           "1421 N Nash St, Arlington, VA 22209",
           6,
           "Arlington",
           "VA",
           "22209"
          ],
          [
           "House",
           "1151 S Edison St, Arlington, VA 22204",
           2,
           "Arlington",
           "VA",
           "22204"
          ],
          [
           "House",
           "928 19th St S, Arlington, VA 22202",
           2,
           "Arlington",
           "VA",
           "22202"
          ],
          [
           "Townhouse",
           "4607 28th Rd S Unit C, Arlington, VA 22206",
           2,
           "Arlington",
           "VA",
           "22206"
          ],
          [
           "House",
           "929 19th St S, Arlington, VA 22202",
           2,
           "Arlington",
           "VA",
           "22202"
          ],
          [
           "House",
           "1101 17th St S, Arlington, VA 22202",
           2,
           "Arlington",
           "VA",
           "22202"
          ],
          [
           "Townhouse",
           "747 Kentucky Ave SE, Washington, DC 20003",
           2,
           "Washington",
           "DC",
           "20003"
          ],
          [
           "Townhouse",
           "5120 Brooks St NE, Washington, DC 20019",
           2,
           "Washington",
           "DC",
           "20019"
          ],
          [
           "House",
           "3906 24th St NE, Washington, DC 20018",
           2.5,
           "Washington",
           "DC",
           "20018"
          ],
          [
           "Townhouse",
           "118 17th St SE, Washington, DC 20003",
           3.5,
           "Washington",
           "DC",
           "20003"
          ],
          [
           "Townhouse",
           "1326 Otis Place NW, Washington, DC 20010",
           2.5,
           "Washington",
           "DC",
           "20010"
          ],
          [
           "Townhouse",
           "715 Kenyon St NW Unit 6, Washington, DC 20010",
           2,
           "Washington",
           "DC",
           "20010"
          ],
          [
           "Townhouse",
           "1407 Ridgeview Way NW, Washington, DC 20007",
           4.5,
           "Washington",
           "DC",
           "20007"
          ],
          [
           "House",
           "3426 Prospect St NW, Washington, DC 20007",
           2,
           "Washington",
           "DC",
           "20007"
          ],
          [
           "Townhouse",
           "1228 C St SE, Washington, DC 20003",
           2.5,
           "Washington",
           "DC",
           "20003"
          ],
          [
           "Townhouse",
           "1211 Rhode Island Ave NW Unit 2, Washington, DC 20005",
           3.5,
           "Washington",
           "DC",
           "20005"
          ],
          [
           "Townhouse",
           "1265 16th St NE, Washington, DC 20002",
           2,
           "Washington",
           "DC",
           "20002"
          ],
          [
           "House",
           "1417 44th St NW, Washington, DC 20007",
           3,
           "Washington",
           "DC",
           "20007"
          ],
          [
           "Townhouse",
           "606 Q St NW, Washington, DC 20001",
           3.5,
           "Washington",
           "DC",
           "20001"
          ],
          [
           "Townhouse",
           "4933 11th St NE, Washington, DC 20017",
           2,
           "Washington",
           "DC",
           "20017"
          ],
          [
           "Townhouse",
           "2039 Huidekoper Place NW, Washington, DC 20007",
           3,
           "Washington",
           "DC",
           "20007"
          ],
          [
           "Townhouse",
           "3617 18th St NE, Washington, DC 20018",
           2.5,
           "Washington",
           "DC",
           "20018"
          ],
          [
           "Townhouse",
           "1020 Massachusetts Ave NE Unit A, Washington, DC 20002",
           3.5,
           "Washington",
           "DC",
           "20002"
          ],
          [
           "House",
           "2711 Wisconsin Ave NW, Washington, DC 20007",
           4,
           "Washington",
           "DC",
           "20007"
          ],
          [
           "Townhouse",
           "1410 Perry Place NW, Washington, DC 20010",
           3,
           "Washington",
           "DC",
           "20010"
          ],
          [
           "Townhouse",
           "3337 Idaho Ave NW, Washington, DC 20016",
           2.5,
           "Washington",
           "DC",
           "20016"
          ],
          [
           "Townhouse",
           "760 Princeton Place NW, Washington, DC 20010",
           2,
           "Washington",
           "DC",
           "20010"
          ],
          [
           "Townhouse",
           "1922 D St NE, Washington, DC 20002",
           2,
           "Washington",
           "DC",
           "20002"
          ],
          [
           "Townhouse",
           "706 10th St NE, Washington, DC 20002",
           2.5,
           "Washington",
           "DC",
           "20002"
          ],
          [
           "Townhouse",
           "310 T St NE Unit UPPER, Washington, DC 20002",
           2.5,
           "Washington",
           "DC",
           "20002"
          ],
          [
           "Townhouse",
           "2012 2nd St NW, Washington, DC 20001",
           2.5,
           "Washington",
           "DC",
           "20001"
          ],
          [
           "Townhouse",
           "947 25th St NW, Washington, DC 20037",
           2.5,
           "Washington",
           "DC",
           "20037"
          ],
          [
           "Townhouse",
           "68 Farragut Place NW, Washington, DC 20011",
           3.5,
           "Washington",
           "DC",
           "20011"
          ],
          [
           "Townhouse",
           "1000 I St NE Unit 2, Washington, DC 20002",
           2.5,
           "Washington",
           "DC",
           "20002"
          ],
          [
           "Townhouse",
           "4412 Lingan Rd NW, Washington, DC 20007",
           5,
           "Washington",
           "DC",
           "20007"
          ],
          [
           "Townhouse",
           "1310 F St NE, Washington, DC 20002",
           2,
           "Washington",
           "DC",
           "20002"
          ],
          [
           "Townhouse",
           "1452 Spring Rd NW, Washington, DC 20010",
           2.5,
           "Washington",
           "DC",
           "20010"
          ],
          [
           "Townhouse",
           "3740 Foote St NE, Washington, DC 20019",
           3.5,
           "Washington",
           "DC",
           "20019"
          ],
          [
           "Townhouse",
           "3131 N St NW, Washington, DC 20007",
           3,
           "Washington",
           "DC",
           "20007"
          ],
          [
           "Townhouse",
           "322 Adolf Cluss Ct SE, Washington, DC 20003",
           3.5,
           "Washington",
           "DC",
           "20003"
          ],
          [
           "Townhouse",
           "4622 8th St NW, Washington, DC 20011",
           3.5,
           "Washington",
           "DC",
           "20011"
          ],
          [
           "Townhouse",
           "133 Florida Ave NW, Washington, DC 20001",
           2.5,
           "Washington",
           "DC",
           "20001"
          ],
          [
           "House",
           "3315 Ross Place NW, Washington, DC 20008",
           2.5,
           "Washington",
           "DC",
           "20008"
          ],
          [
           "Townhouse",
           "449 Q St NW, Washington, DC 20001",
           2.5,
           "Washington",
           "DC",
           "20001"
          ],
          [
           "Townhouse",
           "220 8th St SE, Washington, DC 20003",
           2.5,
           "Washington",
           "DC",
           "20003"
          ],
          [
           "Townhouse",
           "3802 T St NW, Washington, DC 20007",
           2,
           "Washington",
           "DC",
           "20007"
          ],
          [
           "Townhouse",
           "70 T St NW Unit 1, Washington, DC 20001",
           2.5,
           "Washington",
           "DC",
           "20001"
          ],
          [
           "Townhouse",
           "1431 Ames Place NE, Washington, DC 20002",
           2,
           "Washington",
           "DC",
           "20002"
          ],
          [
           "Townhouse",
           "204 53rd St NE, Washington, DC 20019",
           2,
           "Washington",
           "DC",
           "20019"
          ],
          [
           "Townhouse",
           "1311 Allison St NE, Washington, DC 20017",
           3.5,
           "Washington",
           "DC",
           "20017"
          ],
          [
           "Townhouse",
           "3801 New Hampshire Ave NW Unit 2, Washington, DC 20011",
           3,
           "Washington",
           "DC",
           "20011"
          ],
          [
           "Townhouse",
           "1616 26th Place SE Unit 1616-2, Washington, DC 20020",
           2.5,
           "Washington",
           "DC",
           "20020"
          ],
          [
           "Townhouse",
           "929 T St NW Unit UPPER UNIT, Washington, DC 20001",
           2.5,
           "Washington",
           "DC",
           "20001"
          ],
          [
           "Townhouse",
           "5538 Chillum Place NE, Washington, DC 20011",
           3,
           "Washington",
           "DC",
           "20011"
          ],
          [
           "Townhouse",
           "524 15th St SE Unit B, Washington, DC 20003",
           2.5,
           "Washington",
           "DC",
           "20003"
          ],
          [
           "Townhouse",
           "661 Anacostia Ave NE, Washington, DC 20019",
           3.5,
           "Washington",
           "DC",
           "20019"
          ],
          [
           "House",
           "2618 Newton St NE, Washington, DC 20018",
           3.5,
           "Washington",
           "DC",
           "20018"
          ],
          [
           "Townhouse",
           "4346 Westover Place NW, Washington, DC 20016",
           3.5,
           "Washington",
           "DC",
           "20016"
          ],
          [
           "Townhouse",
           "500 G St SW, Washington, DC 20024",
           2.5,
           "Washington",
           "DC",
           "20024"
          ],
          [
           "Townhouse",
           "1654 33rd St NW, Washington, DC 20007",
           2,
           "Washington",
           "DC",
           "20007"
          ],
          [
           "Townhouse",
           "3339 Idaho Ave NW, Washington, DC 20016",
           2.5,
           "Washington",
           "DC",
           "20016"
          ],
          [
           "Townhouse",
           "1420 Paloma Way NW, Washington, DC 20009",
           2.5,
           "Washington",
           "DC",
           "20009"
          ],
          [
           "Townhouse",
           "321 35th St NE, Washington, DC 20019",
           2,
           "Washington",
           "DC",
           "20019"
          ],
          [
           "Townhouse",
           "1626 K St NE Unit 1, Washington, DC 20002",
           4,
           "Washington",
           "DC",
           "20002"
          ],
          [
           "Townhouse",
           "1439 G St NE, Washington, DC 20002",
           3,
           "Washington",
           "DC",
           "20002"
          ],
          [
           "Townhouse",
           "1441 Duncan St NE, Washington, DC 20002",
           3,
           "Washington",
           "DC",
           "20002"
          ],
          [
           "Townhouse",
           "2011 Benning Rd NE Unit 4, Washington, DC 20002",
           2,
           "Washington",
           "DC",
           "20002"
          ],
          [
           "Townhouse",
           "2011 Benning Rd NE Unit 3, Washington, DC 20002",
           2,
           "Washington",
           "DC",
           "20002"
          ],
          [
           "House",
           "45 Sutton Square SW Unit 908, Washington, DC 20024",
           3.5,
           "Washington",
           "DC",
           "20024"
          ],
          [
           "Townhouse",
           "135 Hamilton St NW, Washington, DC 20011",
           2,
           "Washington",
           "DC",
           "20011"
          ],
          [
           "Townhouse",
           "3653 13th St NW, Washington, DC 20010",
           2,
           "Washington",
           "DC",
           "20010"
          ],
          [
           "Townhouse",
           "916 12th St NE Unit 1, Washington, DC 20002",
           3,
           "Washington",
           "DC",
           "20002"
          ],
          [
           "Townhouse",
           "1157 Oates St NE Unit B, Washington, DC 20002",
           3,
           "Washington",
           "DC",
           "20002"
          ],
          [
           "Townhouse",
           "2017 N St NW, Washington, DC 20036",
           2.5,
           "Washington",
           "DC",
           "20036"
          ],
          [
           "Townhouse",
           "5326 9th St NW, Washington, DC 20011",
           2.5,
           "Washington",
           "DC",
           "20011"
          ],
          [
           "Townhouse",
           "44 R St NE, Washington, DC 20002",
           2.5,
           "Washington",
           "DC",
           "20002"
          ],
          [
           "Townhouse",
           "613 Buchanan St NE, Washington, DC 20017",
           2.5,
           "Washington",
           "DC",
           "20017"
          ],
          [
           "House",
           "6017 New Hampshire Ave NE, Washington, DC 20011",
           2,
           "Washington",
           "DC",
           "20011"
          ],
          [
           "Townhouse",
           "26 P St NE Unit 4, Washington, DC 20002",
           3,
           "Washington",
           "DC",
           "20002"
          ],
          [
           "House",
           "1887 Savannah Place SE, Washington, DC 20020",
           2,
           "Washington",
           "DC",
           "20020"
          ],
          [
           "Townhouse",
           "3975 Alabama Ave SE, Washington, DC 20020",
           2,
           "Washington",
           "DC",
           "20020"
          ],
          [
           "Townhouse",
           "635 K St NE, Washington, DC 20002",
           2,
           "Washington",
           "DC",
           "20002"
          ],
          [
           "Townhouse",
           "38 Sherman Cir NW, Washington, DC 20011",
           2,
           "Washington",
           "DC",
           "20011"
          ],
          [
           "House",
           "6621 Piney Branch Rd NW, Washington, DC 20012",
           3,
           "Washington",
           "DC",
           "20012"
          ],
          [
           "Townhouse",
           "1230 Eton Ct NW Unit T26, Washington, DC 20007",
           2.5,
           "Washington",
           "DC",
           "20007"
          ],
          [
           "House",
           "1500 Ogden St NW, Washington, DC 20010",
           3,
           "Washington",
           "DC",
           "20010"
          ],
          [
           "House",
           "3110 Perry St Unit B, Mount Rainier, MD 20712",
           2,
           "Mount Rainier",
           "MD",
           "20712"
          ],
          [
           "House",
           "3110 Perry St Unit A, Mount Rainier, MD 20712",
           2,
           "Mount Rainier",
           "MD",
           "20712"
          ],
          [
           "House",
           "4710 Morgan Dr, Chevy Chase, MD 20815",
           3,
           "Chevy Chase",
           "MD",
           "20815"
          ],
          [
           "House",
           "4913 Berkley St, Bethesda, MD 20816",
           3.5,
           "Bethesda",
           "MD",
           "20816"
          ],
          [
           "House",
           "5612 Massachusetts Ave, Bethesda, MD 20816",
           2.5,
           "Bethesda",
           "MD",
           "20816"
          ],
          [
           "Townhouse",
           "908 E Meadows Ct, Oxon Hill, MD 20745",
           2,
           "Oxon Hill",
           "MD",
           "20745"
          ],
          [
           "House",
           "9401 Woodland Dr, Silver Spring, MD 20910",
           2.5,
           "Silver Spring",
           "MD",
           "20910"
          ],
          [
           "House",
           "7413 Oak Ln, Chevy Chase, MD 20815",
           2.5,
           "Chevy Chase",
           "MD",
           "20815"
          ],
          [
           "House",
           "5828 Dewey St, Cheverly, MD 20785",
           2.5,
           "Cheverly",
           "MD",
           "20785"
          ],
          [
           "House",
           "4130 Leland St, Chevy Chase, MD 20815",
           3.5,
           "Chevy Chase",
           "MD",
           "20815"
          ],
          [
           "Townhouse",
           "5631 Onslow Way, Capitol Heights, MD 20743",
           2.5,
           "Capitol Heights",
           "MD",
           "20743"
          ],
          [
           "House",
           "2104 Sayan Ct, Temple Hills, MD 20748",
           4,
           "Temple Hills",
           "MD",
           "20748"
          ],
          [
           "Townhouse",
           "1132 Powhatan St, Alexandria, VA 22314",
           2,
           "Alexandria",
           "VA",
           "22314"
          ],
          [
           "House",
           "2501 Gaither St, Temple Hills, MD 20748",
           2,
           "Temple Hills",
           "MD",
           "20748"
          ],
          [
           "House",
           "1439 Maryland Ave, Woodbridge, VA 22191",
           2,
           "Woodbridge",
           "VA",
           "22191"
          ],
          [
           "Townhouse",
           "7609 Monitor Ct, Manassas, VA 20109",
           2.5,
           "Manassas",
           "VA",
           "20109"
          ],
          [
           "Townhouse",
           "5021 Barnacle Place, Dumfries, VA 22025",
           3.5,
           "Dumfries",
           "VA",
           "22025"
          ],
          [
           "Townhouse",
           "16087 Pitner St, Haymarket, VA 20169",
           4,
           "Haymarket",
           "VA",
           "20169"
          ],
          [
           "Townhouse",
           "3390 Longbow Ct, Woodbridge, VA 22192",
           3,
           "Woodbridge",
           "VA",
           "22192"
          ],
          [
           "Townhouse",
           "2515 Basin View Ln, Woodbridge, VA 22191",
           2.5,
           "Woodbridge",
           "VA",
           "22191"
          ],
          [
           "Townhouse",
           "12260 Aztec Place, Woodbridge, VA 22192",
           4,
           "Woodbridge",
           "VA",
           "22192"
          ],
          [
           "Townhouse",
           "15930 Greymill Manor Dr, Haymarket, VA 20169",
           4,
           "Haymarket",
           "VA",
           "20169"
          ],
          [
           "Townhouse",
           "16603 Danridge Manor Dr, Woodbridge, VA 22191",
           3.5,
           "Woodbridge",
           "VA",
           "22191"
          ],
          [
           "Townhouse",
           "3416 Belfry Ln, Woodbridge, VA 22192",
           2.5,
           "Woodbridge",
           "VA",
           "22192"
          ],
          [
           "House",
           "15404 Michigan Rd, Woodbridge, VA 22191",
           2,
           "Woodbridge",
           "VA",
           "22191"
          ],
          [
           "Townhouse",
           "2459 Eastbourne Dr, Woodbridge, VA 22191",
           2.5,
           "Woodbridge",
           "VA",
           "22191"
          ],
          [
           "Townhouse",
           "15335 Watermill Terrace, Woodbridge, VA 22191",
           3.5,
           "Woodbridge",
           "VA",
           "22191"
          ],
          [
           "Townhouse",
           "10166 Wilmington St, Manassas, VA 20109",
           2.5,
           "Manassas",
           "VA",
           "20109"
          ],
          [
           "Townhouse",
           "7043 Darbey Knoll Dr, Gainesville, VA 20155",
           2.5,
           "Gainesville",
           "VA",
           "20155"
          ],
          [
           "Townhouse",
           "2691 Sheffield Hill Way, Woodbridge, VA 22191",
           2.5,
           "Woodbridge",
           "VA",
           "22191"
          ],
          [
           "Townhouse",
           "16099 Pitner St, Haymarket, VA 20169",
           4,
           "Haymarket",
           "VA",
           "20169"
          ],
          [
           "Townhouse",
           "2413 Brookmoor Ln, Woodbridge, VA 22191",
           3.5,
           "Woodbridge",
           "VA",
           "22191"
          ],
          [
           "Townhouse",
           "11162 Soldiers Ct, Manassas, VA 20109",
           3.5,
           "Manassas",
           "VA",
           "20109"
          ],
          [
           "Townhouse",
           "3628 Briarwood Dr, Dumfries, VA 22026",
           2.5,
           "Dumfries",
           "VA",
           "22026"
          ],
          [
           "House",
           "14606 Bristow Rd, Manassas, VA 20112",
           2,
           "Manassas",
           "VA",
           "20112"
          ],
          [
           "House",
           "3278 Mountain Laurel Loop, Dumfries, VA 22026",
           2,
           "Dumfries",
           "VA",
           "22026"
          ],
          [
           "Townhouse",
           "13251 Revillo Loop, Woodbridge, VA 22191",
           2.5,
           "Woodbridge",
           "VA",
           "22191"
          ],
          [
           "Townhouse",
           "2460 Eastbourne Dr, Woodbridge, VA 22191",
           2.5,
           "Woodbridge",
           "VA",
           "22191"
          ],
          [
           "House",
           "8131 Landfall Ct, Gainesville, VA 20155",
           3.5,
           "Gainesville",
           "VA",
           "20155"
          ],
          [
           "Townhouse",
           "12988 Augustus Ct, Woodbridge, VA 22192",
           4,
           "Woodbridge",
           "VA",
           "22192"
          ],
          [
           "House",
           "8394 Cobb Rd, Manassas, VA 20112",
           3,
           "Manassas",
           "VA",
           "20112"
          ],
          [
           "Townhouse",
           "12975 Freestone Ct, Woodbridge, VA 22192",
           2.5,
           "Woodbridge",
           "VA",
           "22192"
          ],
          [
           "Townhouse",
           "18313 Reaper Hill Ct, Triangle, VA 22172",
           3,
           "Triangle",
           "VA",
           "22172"
          ],
          [
           "Townhouse",
           "14697 Mason Creek Cir, Woodbridge, VA 22191",
           2.5,
           "Woodbridge",
           "VA",
           "22191"
          ],
          [
           "Townhouse",
           "15263 Barnabas Trail, Woodbridge, VA 22193",
           3.5,
           "Woodbridge",
           "VA",
           "22193"
          ],
          [
           "Townhouse",
           "11911 Waterton Lake Ln, Bristow, VA 20136",
           3.5,
           "Bristow",
           "VA",
           "20136"
          ],
          [
           "Townhouse",
           "3550 Briarwood Dr, Dumfries, VA 22026",
           2.5,
           "Dumfries",
           "VA",
           "22026"
          ],
          [
           "Townhouse",
           "11616 Nellings Place, Woodbridge, VA 22192",
           2.5,
           "Woodbridge",
           "VA",
           "22192"
          ],
          [
           "Townhouse",
           "1764 Blue Spruce St, Dumfries, VA 22026",
           3.5,
           "Dumfries",
           "VA",
           "22026"
          ],
          [
           "Townhouse",
           "2692 Mcguffeys Ct, Woodbridge, VA 22191",
           3.5,
           "Woodbridge",
           "VA",
           "22191"
          ],
          [
           "Townhouse",
           "8235 Gibbon Place, Manassas, VA 20109",
           2.5,
           "Manassas",
           "VA",
           "20109"
          ],
          [
           "Townhouse",
           "16849 Jed Forest Ln, Woodbridge, VA 22191",
           4,
           "Woodbridge",
           "VA",
           "22191"
          ],
          [
           "Townhouse",
           "10263 Magnolia Grove Dr, Manassas, VA 20110",
           4,
           "Manassas",
           "VA",
           "20110"
          ],
          [
           "Townhouse",
           "1939 Pohick Creek Ct, Woodbridge, VA 22192",
           2.5,
           "Woodbridge",
           "VA",
           "22192"
          ],
          [
           "Townhouse",
           "15170 Lancashire Dr, Woodbridge, VA 22191",
           2.5,
           "Woodbridge",
           "VA",
           "22191"
          ],
          [
           "Townhouse",
           "11912 Hayes Station Way, Manassas, VA 20109",
           2.5,
           "Manassas",
           "VA",
           "20109"
          ],
          [
           "Townhouse",
           "17096 Gibson Mill Rd, Dumfries, VA 22026",
           2.5,
           "Dumfries",
           "VA",
           "22026"
          ],
          [
           "Townhouse",
           "3622 Wharf Ln, Triangle, VA 22172",
           2,
           "Triangle",
           "VA",
           "22172"
          ],
          [
           "Townhouse",
           "3067 Tecumseh Ct, Woodbridge, VA 22192",
           2.5,
           "Woodbridge",
           "VA",
           "22192"
          ],
          [
           "Townhouse",
           "10642 Bristow Station Dr, Bristow, VA 20136",
           3.5,
           "Bristow",
           "VA",
           "20136"
          ],
          [
           "Townhouse",
           "1984 Mayflower Dr, Woodbridge, VA 22192",
           3.5,
           "Woodbridge",
           "VA",
           "22192"
          ],
          [
           "Townhouse",
           "12407 Manchester Way, Woodbridge, VA 22192",
           3.5,
           "Woodbridge",
           "VA",
           "22192"
          ],
          [
           "Townhouse",
           "12737 Lotte Dr Unit 31, Woodbridge, VA 22192",
           2.5,
           "Woodbridge",
           "VA",
           "22192"
          ],
          [
           "Townhouse",
           "16969 Point Pleasant Ln, Dumfries, VA 22026",
           2.5,
           "Dumfries",
           "VA",
           "22026"
          ],
          [
           "Townhouse",
           "1297 Corbett Place, Woodbridge, VA 22191",
           2.5,
           "Woodbridge",
           "VA",
           "22191"
          ],
          [
           "Townhouse",
           "14602 Turara Ct, Haymarket, VA 20169",
           2.5,
           "Haymarket",
           "VA",
           "20169"
          ],
          [
           "Townhouse",
           "3030 Chinkapin Oak Ln, Woodbridge, VA 22191",
           3.5,
           "Woodbridge",
           "VA",
           "22191"
          ],
          [
           "Townhouse",
           "16869 Miranda Ln, Woodbridge, VA 22191",
           3.5,
           "Woodbridge",
           "VA",
           "22191"
          ],
          [
           "Townhouse",
           "8330 Leighlex Ct, Manassas, VA 20111",
           3.5,
           "Manassas",
           "VA",
           "20111"
          ],
          [
           "Townhouse",
           "16813 Miranda Ln, Woodbridge, VA 22191",
           2.5,
           "Woodbridge",
           "VA",
           "22191"
          ],
          [
           "House",
           "3432 Flint Hill Place, Woodbridge, VA 22192",
           2.5,
           "Woodbridge",
           "VA",
           "22192"
          ],
          [
           "Townhouse",
           "14859 Potomac Branch Dr, Woodbridge, VA 22191",
           4,
           "Woodbridge",
           "VA",
           "22191"
          ],
          [
           "House",
           "5624 Roundtree Dr, Woodbridge, VA 22193",
           3,
           "Woodbridge",
           "VA",
           "22193"
          ],
          [
           "House",
           "15030 Lee Hwy, Gainesville, VA 20155",
           3,
           "Gainesville",
           "VA",
           "20155"
          ],
          [
           "Townhouse",
           "4506 Blue Jay Ct, Woodbridge, VA 22193",
           3.5,
           "Woodbridge",
           "VA",
           "22193"
          ],
          [
           "Townhouse",
           "2938 Chinkapin Oak Ln, Woodbridge, VA 22191",
           3.5,
           "Woodbridge",
           "VA",
           "22191"
          ],
          [
           "Townhouse",
           "6310 Cullen Place, Haymarket, VA 20169",
           4,
           "Haymarket",
           "VA",
           "20169"
          ],
          [
           "Townhouse",
           "16459 Kenneweg Ct, Woodbridge, VA 22191",
           3.5,
           "Woodbridge",
           "VA",
           "22191"
          ],
          [
           "Townhouse",
           "2515 Eastbourne Dr Unit 244, Woodbridge, VA 22191",
           2.5,
           "Woodbridge",
           "VA",
           "22191"
          ],
          [
           "Townhouse",
           "12140 Salemtown Dr, Woodbridge, VA 22192",
           2.5,
           "Woodbridge",
           "VA",
           "22192"
          ],
          [
           "Townhouse",
           "15184 Lancashire Dr, Woodbridge, VA 22191",
           2.5,
           "Woodbridge",
           "VA",
           "22191"
          ],
          [
           "Townhouse",
           "2310 Margraf Cir, Woodbridge, VA 22191",
           2.5,
           "Woodbridge",
           "VA",
           "22191"
          ],
          [
           "Townhouse",
           "2627 Eastbourne Dr, Woodbridge, VA 22191",
           2.5,
           "Woodbridge",
           "VA",
           "22191"
          ],
          [
           "Townhouse",
           "3808 Ogilvie Ct, Woodbridge, VA 22192",
           4,
           "Woodbridge",
           "VA",
           "22192"
          ],
          [
           "Townhouse",
           "8508 Charnwood Ct, Manassas, VA 20111",
           3.5,
           "Manassas",
           "VA",
           "20111"
          ],
          [
           "Townhouse",
           "3454 Aviary Way, Woodbridge, VA 22192",
           4,
           "Woodbridge",
           "VA",
           "22192"
          ],
          [
           "Townhouse",
           "4589 Perch Branch Way, Woodbridge, VA 22193",
           2.5,
           "Woodbridge",
           "VA",
           "22193"
          ],
          [
           "Townhouse",
           "10515 Trinidad Ct, Manassas, VA 20109",
           2.5,
           "Manassas",
           "VA",
           "20109"
          ],
          [
           "Townhouse",
           "15597 Grade Line Place, Woodbridge, VA 22191",
           3.5,
           "Woodbridge",
           "VA",
           "22191"
          ],
          [
           "Townhouse",
           "8121 Hard Shale Rd, Manassas, VA 20111",
           3.5,
           "Manassas",
           "VA",
           "20111"
          ],
          [
           "Townhouse",
           "6848 Witton Cir, Gainesville, VA 20155",
           3,
           "Gainesville",
           "VA",
           "20155"
          ],
          [
           "Townhouse",
           "3090 Bridgeton Ct, Woodbridge, VA 22192",
           4,
           "Woodbridge",
           "VA",
           "22192"
          ],
          [
           "Townhouse",
           "2557 Eastbourne Dr Unit 264, Woodbridge, VA 22191",
           2.5,
           "Woodbridge",
           "VA",
           "22191"
          ],
          [
           "Townhouse",
           "10617 Bristow Station Dr, Bristow, VA 20136",
           4,
           "Bristow",
           "VA",
           "20136"
          ],
          [
           "Townhouse",
           "12430 Abbey Knoll Ct, Woodbridge, VA 22192",
           3,
           "Woodbridge",
           "VA",
           "22192"
          ],
          [
           "Townhouse",
           "9706 Kennoway Ct, Bristow, VA 20136",
           3.5,
           "Bristow",
           "VA",
           "20136"
          ],
          [
           "Townhouse",
           "15506 Banjo Ct, Woodbridge, VA 22193",
           3.5,
           "Woodbridge",
           "VA",
           "22193"
          ],
          [
           "Townhouse",
           "2221 Potomac Club Pkwy, Woodbridge, VA 22191",
           4,
           "Woodbridge",
           "VA",
           "22191"
          ],
          [
           "House",
           "4249 Glendale Rd, Woodbridge, VA 22193",
           2,
           "Woodbridge",
           "VA",
           "22193"
          ],
          [
           "Townhouse",
           "14763 Candlewood Ct, Woodbridge, VA 22191",
           2.5,
           "Woodbridge",
           "VA",
           "22191"
          ],
          [
           "Townhouse",
           "14696 Pinon Ct, Woodbridge, VA 22191",
           2,
           "Woodbridge",
           "VA",
           "22191"
          ],
          [
           "Townhouse",
           "16955 Monmouth Ct, Dumfries, VA 22026",
           3.5,
           "Dumfries",
           "VA",
           "22026"
          ],
          [
           "Townhouse",
           "11031 Blackburn Cove Ln, Manassas, VA 20109",
           3.5,
           "Manassas",
           "VA",
           "20109"
          ],
          [
           "Townhouse",
           "4068 Chetham Way, Woodbridge, VA 22192",
           2.5,
           "Woodbridge",
           "VA",
           "22192"
          ],
          [
           "Townhouse",
           "14800 Cherrydale Dr, Woodbridge, VA 22193",
           4,
           "Woodbridge",
           "VA",
           "22193"
          ],
          [
           "Townhouse",
           "12452 Everest Peak Ln, Woodbridge, VA 22192",
           3.5,
           "Woodbridge",
           "VA",
           "22192"
          ],
          [
           "Townhouse",
           "15454 Gossoms Store Ct, Haymarket, VA 20169",
           3.5,
           "Haymarket",
           "VA",
           "20169"
          ],
          [
           "Townhouse",
           "1500 Grosbeak Ct, Woodbridge, VA 22191",
           2.5,
           "Woodbridge",
           "VA",
           "22191"
          ],
          [
           "Townhouse",
           "7363 Riding Meadow Way, Old Town Manassas, VA 20111",
           3,
           "Old Town Manassas",
           "VA",
           "20111"
          ],
          [
           "Townhouse",
           "18106 Red Cedar Rd, Dumfries, VA 22026",
           5,
           "Dumfries",
           "VA",
           "22026"
          ],
          [
           "Townhouse",
           "5007 Softwood Ln, Woodbridge, VA 22192",
           2.5,
           "Woodbridge",
           "VA",
           "22192"
          ],
          [
           "Townhouse",
           "12774 Silvia Loop, Woodbridge, VA 22192",
           2.5,
           "Woodbridge",
           "VA",
           "22192"
          ],
          [
           "Townhouse",
           "10945 Mission Ridge Dr, Manassas, VA 20109",
           4,
           "Manassas",
           "VA",
           "20109"
          ],
          [
           "Townhouse",
           "7115 Little Thames Dr, Gainesville, VA 20155",
           3,
           "Gainesville",
           "VA",
           "20155"
          ],
          [
           "House",
           "6875 Twin Beech Ct, Manassas, VA 20111",
           3,
           "Manassas",
           "VA",
           "20111"
          ],
          [
           "Townhouse",
           "7073 Kona Dr, Gainesville, VA 20155",
           3.5,
           "Gainesville",
           "VA",
           "20155"
          ],
          [
           "Townhouse",
           "7224 Vistas Ln, McLean, VA 22101",
           2.5,
           "McLean",
           "VA",
           "22101"
          ],
          [
           "Townhouse",
           "7340 Eldorado St, McLean, VA 22102",
           3.5,
           "McLean",
           "VA",
           "22102"
          ],
          [
           "House",
           "963 Saigon Rd, McLean, VA 22102",
           3,
           "McLean",
           "VA",
           "22102"
          ],
          [
           "Townhouse",
           "150 Rees Place, Falls Church, VA 22046",
           3.5,
           "Falls Church",
           "VA",
           "22046"
          ],
          [
           "House",
           "116 W Cameron Rd, Falls Church, VA 22046",
           2,
           "Falls Church",
           "VA",
           "22046"
          ],
          [
           "House",
           "7624 Lisle Ave, Falls Church, VA 22043",
           2,
           "Falls Church",
           "VA",
           "22043"
          ],
          [
           "Townhouse",
           "119 Gresham Place, Falls Church, VA 22046",
           3.5,
           "Falls Church",
           "VA",
           "22046"
          ],
          [
           "Townhouse",
           "10802 Whiterim Dr, Potomac, MD 20854",
           4.5,
           "Potomac",
           "MD",
           "20854"
          ],
          [
           "Townhouse",
           "7866 Archbold Terrace, Cabin John, MD 20818",
           2.5,
           "Cabin John",
           "MD",
           "20818"
          ],
          [
           "House",
           "415 S West St, Falls Church, VA 22046",
           2,
           "Falls Church",
           "VA",
           "22046"
          ],
          [
           "Townhouse",
           "10847 Whiterim Dr, Potomac, MD 20854",
           3.5,
           "Potomac",
           "MD",
           "20854"
          ],
          [
           "Townhouse",
           "2850 Great Oak Ct, Falls Church, VA 22042",
           4,
           "Falls Church",
           "VA",
           "22042"
          ]
         ],
         "hovertemplate": "Bedroom=%{x}<br>Price=%{y}<br>Title=%{customdata[0]}<br>Address=%{customdata[1]}<br>Bathroom=%{customdata[2]}<br>City=%{customdata[3]}<br>State=%{customdata[4]}<br>Zipcode=%{customdata[5]}<extra></extra>",
         "legendgroup": "3",
         "marker": {
          "color": "#636efa"
         },
         "name": "3",
         "offsetgroup": "3",
         "orientation": "v",
         "points": "all",
         "scalegroup": "True",
         "showlegend": true,
         "type": "violin",
         "x": [
          3,
          3,
          3,
          3,
          3,
          3,
          3,
          3,
          3,
          3,
          3,
          3,
          3,
          3,
          3,
          3,
          3,
          3,
          3,
          3,
          3,
          3,
          3,
          3,
          3,
          3,
          3,
          3,
          3,
          3,
          3,
          3,
          3,
          3,
          3,
          3,
          3,
          3,
          3,
          3,
          3,
          3,
          3,
          3,
          3,
          3,
          3,
          3,
          3,
          3,
          3,
          3,
          3,
          3,
          3,
          3,
          3,
          3,
          3,
          3,
          3,
          3,
          3,
          3,
          3,
          3,
          3,
          3,
          3,
          3,
          3,
          3,
          3,
          3,
          3,
          3,
          3,
          3,
          3,
          3,
          3,
          3,
          3,
          3,
          3,
          3,
          3,
          3,
          3,
          3,
          3,
          3,
          3,
          3,
          3,
          3,
          3,
          3,
          3,
          3,
          3,
          3,
          3,
          3,
          3,
          3,
          3,
          3,
          3,
          3,
          3,
          3,
          3,
          3,
          3,
          3,
          3,
          3,
          3,
          3,
          3,
          3,
          3,
          3,
          3,
          3,
          3,
          3,
          3,
          3,
          3,
          3,
          3,
          3,
          3,
          3,
          3,
          3,
          3,
          3,
          3,
          3,
          3,
          3,
          3,
          3,
          3,
          3,
          3,
          3,
          3,
          3,
          3,
          3,
          3,
          3,
          3,
          3,
          3,
          3,
          3,
          3,
          3,
          3,
          3,
          3,
          3,
          3,
          3,
          3,
          3,
          3,
          3,
          3,
          3,
          3,
          3,
          3,
          3,
          3,
          3,
          3,
          3,
          3,
          3,
          3,
          3,
          3,
          3,
          3,
          3,
          3,
          3,
          3,
          3,
          3,
          3,
          3,
          3,
          3,
          3,
          3,
          3,
          3,
          3,
          3,
          3,
          3,
          3,
          3,
          3,
          3,
          3,
          3,
          3,
          3,
          3,
          3,
          3,
          3,
          3,
          3,
          3,
          3,
          3,
          3,
          3,
          3,
          3,
          3,
          3,
          3,
          3,
          3,
          3,
          3,
          3,
          3,
          3,
          3,
          3,
          3,
          3,
          3,
          3,
          3,
          3,
          3,
          3,
          3,
          3,
          3,
          3,
          3,
          3,
          3,
          3,
          3,
          3,
          3,
          3,
          3,
          3,
          3,
          3,
          3,
          3,
          3,
          3,
          3,
          3,
          3,
          3,
          3,
          3,
          3,
          3,
          3,
          3,
          3,
          3,
          3,
          3,
          3,
          3,
          3,
          3,
          3,
          3,
          3,
          3,
          3,
          3,
          3,
          3,
          3,
          3,
          3,
          3,
          3,
          3,
          3,
          3,
          3,
          3,
          3,
          3,
          3,
          3,
          3,
          3,
          3,
          3,
          3,
          3,
          3,
          3,
          3,
          3,
          3,
          3,
          3,
          3,
          3,
          3,
          3,
          3,
          3,
          3,
          3,
          3,
          3,
          3,
          3,
          3,
          3,
          3,
          3,
          3,
          3,
          3,
          3,
          3,
          3,
          3,
          3,
          3,
          3,
          3,
          3,
          3,
          3,
          3,
          3,
          3,
          3,
          3,
          3,
          3,
          3,
          3,
          3,
          3,
          3,
          3,
          3,
          3,
          3,
          3,
          3,
          3,
          3,
          3,
          3,
          3,
          3,
          3,
          3,
          3,
          3,
          3,
          3,
          3,
          3,
          3,
          3,
          3,
          3,
          3,
          3,
          3,
          3,
          3,
          3,
          3,
          3,
          3,
          3,
          3,
          3,
          3,
          3,
          3,
          3,
          3,
          3,
          3,
          3,
          3,
          3,
          3,
          3,
          3,
          3,
          3,
          3,
          3,
          3,
          3,
          3,
          3,
          3,
          3,
          3,
          3,
          3,
          3,
          3,
          3,
          3,
          3,
          3,
          3,
          3,
          3,
          3,
          3,
          3,
          3,
          3,
          3,
          3,
          3,
          3,
          3,
          3,
          3,
          3
         ],
         "x0": " ",
         "xaxis": "x",
         "y": [
          2700,
          4800,
          2800,
          2750,
          4000,
          3050,
          3200,
          3700,
          3900,
          3000,
          2650,
          3000,
          3400,
          2500,
          3000,
          2600,
          2700,
          3595,
          2900,
          2750,
          3700,
          2650,
          3145,
          3500,
          2900,
          2900,
          3000,
          4250,
          3000,
          3200,
          2700,
          2595,
          3000,
          3000,
          2550,
          3000,
          2600,
          3400,
          4000,
          4000,
          2900,
          3500,
          2800,
          3000,
          2825,
          3400,
          3400,
          3000,
          3695,
          3400,
          3000,
          3150,
          3400,
          3700,
          3000,
          3700,
          4300,
          3100,
          3400,
          5200,
          4995,
          3650,
          3300,
          2900,
          2925,
          2700,
          3695,
          4000,
          2650,
          3400,
          3000,
          2895,
          2600,
          3950,
          3300,
          3250,
          3500,
          2700,
          2495,
          3100,
          2800,
          3180,
          3500,
          4100,
          4100,
          3295,
          3000,
          2750,
          2975,
          2650,
          3200,
          2850,
          2800,
          2950,
          2600,
          3400,
          2700,
          2850,
          3500,
          3800,
          3695,
          2750,
          3400,
          2900,
          4500,
          2990,
          3000,
          2900,
          2900,
          3300,
          3350,
          3495,
          3200,
          4000,
          4000,
          2900,
          4200,
          4300,
          3900,
          4300,
          2650,
          3500,
          3995,
          2700,
          2400,
          3550,
          3950,
          3500,
          3600,
          3400,
          2600,
          3300,
          3347,
          2600,
          2850,
          2850,
          3995,
          3595,
          3850,
          3400,
          3950,
          5800,
          2695,
          6000,
          3400,
          2999,
          3200,
          3300,
          2750,
          3695,
          3500,
          2850,
          2400,
          2300,
          2690,
          3150,
          3000,
          3000,
          3000,
          2550,
          2900,
          3000,
          2495,
          3500,
          2425,
          2699,
          2495,
          2800,
          2700,
          3800,
          2999,
          3800,
          2750,
          2600,
          2875,
          3200,
          3700,
          3000,
          3250,
          2700,
          3000,
          3230,
          2900,
          2650,
          3150,
          3300,
          3500,
          2900,
          3400,
          3800,
          2800,
          3200,
          2950,
          2500,
          3700,
          2800,
          4500,
          3300,
          2300,
          3000,
          2600,
          2700,
          3400,
          3250,
          4200,
          2500,
          2800,
          3600,
          3600,
          3000,
          3200,
          2600,
          3200,
          2600,
          2850,
          2800,
          3600,
          3200,
          4250,
          4200,
          3399,
          4500,
          3300,
          6900,
          4150,
          4200,
          4995,
          4900,
          4100,
          3295,
          3499,
          3650,
          3200,
          4100,
          12000,
          5000,
          3300,
          3200,
          3300,
          1050,
          3400,
          2650,
          3500,
          5000,
          4500,
          3150,
          9889,
          7500,
          5400,
          5300,
          2950,
          5500,
          4400,
          2950,
          5250,
          3200,
          5500,
          4950,
          4100,
          8978,
          3500,
          3200,
          4000,
          4100,
          4300,
          5400,
          3900,
          4400,
          5300,
          3600,
          4500,
          2998,
          7200,
          12000,
          4200,
          4500,
          5900,
          4500,
          6500,
          5995,
          4200,
          3950,
          2850,
          4725,
          5000,
          2650,
          6200,
          2700,
          3995,
          3000,
          3200,
          6000,
          5500,
          6500,
          7934,
          12500,
          3500,
          3999,
          3995,
          3995,
          3300,
          3300,
          20000,
          3600,
          3400,
          3995,
          4500,
          8500,
          4000,
          4800,
          3250,
          3500,
          3850,
          2500,
          2500,
          3500,
          3900,
          3950,
          5500,
          3600,
          2350,
          2350,
          5350,
          4800,
          3900,
          2600,
          3295,
          5000,
          2650,
          4750,
          2100,
          5700,
          3900,
          2300,
          2799,
          2395,
          2650,
          2992,
          2300,
          2750,
          2350,
          2850,
          2800,
          2200,
          2700,
          2550,
          2450,
          2000,
          2800,
          3000,
          2800,
          2900,
          2500,
          2400,
          2900,
          2500,
          2595,
          2799,
          3100,
          2650,
          3000,
          2400,
          2750,
          2900,
          2400,
          3200,
          3000,
          2750,
          3400,
          2300,
          2500,
          2400,
          2500,
          2600,
          2850,
          2800,
          2495,
          1950,
          2550,
          2800,
          2700,
          2500,
          2800,
          2400,
          2300,
          2650,
          2700,
          2700,
          2700,
          2500,
          2950,
          2700,
          3000,
          3490,
          2500,
          2650,
          2900,
          2800,
          2599,
          5000,
          2750,
          2650,
          2490,
          2300,
          2400,
          2350,
          2000,
          1995,
          4100,
          2700,
          2990,
          2500,
          2690,
          2875,
          2600,
          2650,
          2300,
          2950,
          2200,
          1995,
          1895,
          2195,
          3100,
          2700,
          2000,
          2800,
          3450,
          3000,
          2450,
          3150,
          2600,
          2400,
          2200,
          2400,
          2650,
          3150,
          4850,
          3500,
          5300,
          5200,
          3200,
          3300,
          5300,
          3870,
          3350,
          3000,
          3795,
          3500
         ],
         "y0": " ",
         "yaxis": "y"
        },
        {
         "alignmentgroup": "True",
         "box": {
          "visible": true
         },
         "customdata": [
          [
           "House",
           "1710 Palm Springs Dr, Vienna, VA 22182",
           2.5,
           "Vienna",
           "VA",
           "22182"
          ],
          [
           "House",
           "7813 Mulberry Bottom Ln, Springfield, VA 22153",
           2.5,
           "Springfield",
           "VA",
           "22153"
          ],
          [
           "House",
           "5825 Biscayne Dr, Alexandria, VA 22303",
           2,
           "Alexandria",
           "VA",
           "22303"
          ],
          [
           "Townhouse",
           "5415 Helm Ct, Fairfax, VA 22032",
           3.5,
           "Fairfax",
           "VA",
           "22032"
          ],
          [
           "Townhouse",
           "8043 Reserve Way, Vienna, VA 22182",
           3.5,
           "Vienna",
           "VA",
           "22182"
          ],
          [
           "House",
           "3506 Beverly Dr, Annandale, VA 22003",
           3,
           "Annandale",
           "VA",
           "22003"
          ],
          [
           "House",
           "12305 Myterra Way, Herndon, VA 20171",
           3,
           "Herndon",
           "VA",
           "20171"
          ],
          [
           "House",
           "9521 Rockport Rd, Vienna, VA 22180",
           3,
           "Vienna",
           "VA",
           "22180"
          ],
          [
           "Townhouse",
           "3873 Billberry Dr, Fairfax, VA 22033",
           3.5,
           "Fairfax",
           "VA",
           "22033"
          ],
          [
           "Townhouse",
           "9463 Canonbury Square, Fairfax, VA 22031",
           3.5,
           "Fairfax",
           "VA",
           "22031"
          ],
          [
           "Townhouse",
           "6923 Mclean Park Manor Ct, McLean, VA 22101",
           2.5,
           "McLean",
           "VA",
           "22101"
          ],
          [
           "House",
           "7907 Laural Valley Way, Springfield, VA 22153",
           3.5,
           "Springfield",
           "VA",
           "22153"
          ],
          [
           "House",
           "3220 Wayne Rd, Falls Church, VA 22042",
           3,
           "Falls Church",
           "VA",
           "22042"
          ],
          [
           "House",
           "7815 Bristow Dr, Annandale, VA 22003",
           2,
           "Annandale",
           "VA",
           "22003"
          ],
          [
           "House",
           "13079 Greg Roy Ln, Herndon, VA 20171",
           4.5,
           "Herndon",
           "VA",
           "20171"
          ],
          [
           "House",
           "2440 Carey Ln, Vienna, VA 22181",
           4,
           "Vienna",
           "VA",
           "22181"
          ],
          [
           "House",
           "2411 Jackson Pkwy, Vienna, VA 22180",
           3,
           "Vienna",
           "VA",
           "22180"
          ],
          [
           "House",
           "3816 Ridgelea Dr, Fairfax, VA 22031",
           3.5,
           "Fairfax",
           "VA",
           "22031"
          ],
          [
           "House",
           "1451 Pathfinder Ln, McLean, VA 22101",
           2.5,
           "McLean",
           "VA",
           "22101"
          ],
          [
           "House",
           "5913 Poyntz Place, Alexandria, VA 22310",
           3,
           "Alexandria",
           "VA",
           "22310"
          ],
          [
           "House",
           "6805 Tennyson Dr, McLean, VA 22101",
           3,
           "McLean",
           "VA",
           "22101"
          ],
          [
           "House",
           "8301 Deep Valley Ct, Springfield, VA 22153",
           3.5,
           "Springfield",
           "VA",
           "22153"
          ],
          [
           "House",
           "8811 Parliament Dr, Springfield, VA 22151",
           2.5,
           "Springfield",
           "VA",
           "22151"
          ],
          [
           "House",
           "6609 Berkshire Dr, Alexandria, VA 22310",
           2,
           "Alexandria",
           "VA",
           "22310"
          ],
          [
           "Townhouse",
           "13588 Big Boulder Rd, Herndon, VA 20171",
           3.5,
           "Herndon",
           "VA",
           "20171"
          ],
          [
           "Townhouse",
           "2646 Jetstream Rd, Oak Hill, VA 20171",
           4,
           "Oak Hill",
           "VA",
           "20171"
          ],
          [
           "House",
           "9810 Meadow Dale Ct, Vienna, VA 22181",
           2.5,
           "Vienna",
           "VA",
           "22181"
          ],
          [
           "House",
           "7432 Berwick Ct, Alexandria, VA 22315",
           2.5,
           "Alexandria",
           "VA",
           "22315"
          ],
          [
           "House",
           "8316 Idylwood Rd, Vienna, VA 22182",
           4,
           "Vienna",
           "VA",
           "22182"
          ],
          [
           "Townhouse",
           "6327 Summer Moon Ln, Alexandria, VA 22312",
           2.5,
           "Alexandria",
           "VA",
           "22312"
          ],
          [
           "House",
           "636 Walker Rd, Great Falls, VA 22066",
           2,
           "Great Falls",
           "VA",
           "22066"
          ],
          [
           "Townhouse",
           "3020 Southern Elm Ct, Fairfax, VA 22031",
           3.5,
           "Fairfax",
           "VA",
           "22031"
          ],
          [
           "House",
           "8411 Cottage St, Vienna, VA 22180",
           2.5,
           "Vienna",
           "VA",
           "22180"
          ],
          [
           "House",
           "1008 Kimberly Place, Great Falls, VA 22066",
           4.5,
           "Great Falls",
           "VA",
           "22066"
          ],
          [
           "House",
           "5140 Pumphrey Dr, Fairfax, VA 22032",
           2.5,
           "Fairfax",
           "VA",
           "22032"
          ],
          [
           "House",
           "4004 David Ln, Alexandria, VA 22311",
           2,
           "Alexandria",
           "VA",
           "22311"
          ],
          [
           "Townhouse",
           "5265 Broadwing Place, Alexandria, VA 22312",
           3.5,
           "Alexandria",
           "VA",
           "22312"
          ],
          [
           "House",
           "4607 Exeter St, Annandale, VA 22003",
           3.5,
           "Annandale",
           "VA",
           "22003"
          ],
          [
           "House",
           "7620 Maritime Ln, Springfield, VA 22153",
           3,
           "Springfield",
           "VA",
           "22153"
          ],
          [
           "House",
           "4510 Andes Ct, Fairfax, VA 22030",
           2,
           "Fairfax",
           "VA",
           "22030"
          ],
          [
           "House",
           "7406 Calamo St, Springfield, VA 22150",
           3,
           "Springfield",
           "VA",
           "22150"
          ],
          [
           "Townhouse",
           "13009 Hattontown Square, Oak Hill, VA 20171",
           4.5,
           "Oak Hill",
           "VA",
           "20171"
          ],
          [
           "Townhouse",
           "14621 Stream Pond Dr, Centreville, VA 20120",
           3.5,
           "Centreville",
           "VA",
           "20120"
          ],
          [
           "House",
           "10116 Garrett St, Vienna, VA 22181",
           2.5,
           "Vienna",
           "VA",
           "22181"
          ],
          [
           "Townhouse",
           "4227 Moselle Dr, Chantilly, VA 20151",
           3,
           "Chantilly",
           "VA",
           "20151"
          ],
          [
           "Townhouse",
           "6388 Stagg Ct, Springfield, VA 22150",
           3.5,
           "Springfield",
           "VA",
           "22150"
          ],
          [
           "House",
           "12925 Wheatland Rd, Fairfax, VA 22033",
           3.5,
           "Fairfax",
           "VA",
           "22033"
          ],
          [
           "House",
           "9731 Loch Linden Ct, Fairfax, VA 22032",
           2.5,
           "Fairfax",
           "VA",
           "22032"
          ],
          [
           "House",
           "1118 Collingwood Rd, Alexandria, VA 22308",
           3,
           "Alexandria",
           "VA",
           "22308"
          ],
          [
           "House",
           "4021 Oxford St, Annandale, VA 22003",
           3,
           "Annandale",
           "VA",
           "22003"
          ],
          [
           "Townhouse",
           "2318 Millennium Ln, Reston, VA 20191",
           3.5,
           "Reston",
           "VA",
           "20191"
          ],
          [
           "House",
           "5124 Richardson Dr, Fairfax, VA 22032",
           2.5,
           "Fairfax",
           "VA",
           "22032"
          ],
          [
           "House",
           "5913 Freds Oak Rd, Burke, VA 22015",
           3.5,
           "Burke",
           "VA",
           "22015"
          ],
          [
           "House",
           "821 Van Buren St, Herndon, VA 20170",
           4,
           "Herndon",
           "VA",
           "20170"
          ],
          [
           "House",
           "4631 Tara Dr, Fairfax, VA 22032",
           3,
           "Fairfax",
           "VA",
           "22032"
          ],
          [
           "House",
           "47773 Rafter Ct, Sterling, VA 20165",
           3.5,
           "Sterling",
           "VA",
           "20165"
          ],
          [
           "House",
           "10311 Hickory Creek Ct, Great Falls, VA 22066",
           3.5,
           "Great Falls",
           "VA",
           "22066"
          ],
          [
           "Townhouse",
           "6605 Mclean Ct, McLean, VA 22101",
           3.5,
           "McLean",
           "VA",
           "22101"
          ],
          [
           "Townhouse",
           "4259 Upper Park Dr, Fairfax, VA 22030",
           3.5,
           "Fairfax",
           "VA",
           "22030"
          ],
          [
           "House",
           "6104 Bluffdale Ct, Clifton, VA 20124",
           2.5,
           "Clifton",
           "VA",
           "20124"
          ],
          [
           "House",
           "14511 Picket Oaks Rd, Centreville, VA 20121",
           3.5,
           "Centreville",
           "VA",
           "20121"
          ],
          [
           "House",
           "8811 Higdon Dr, Vienna, VA 22182",
           2.5,
           "Vienna",
           "VA",
           "22182"
          ],
          [
           "House",
           "10208 Commonwealth Blvd, Fairfax, VA 22032",
           2.5,
           "Fairfax",
           "VA",
           "22032"
          ],
          [
           "Townhouse",
           "13943 Airfoil Rd, Herndon, VA 20171",
           4.5,
           "Herndon",
           "VA",
           "20171"
          ],
          [
           "House",
           "6937 Confederate Ridge Ln, Centreville, VA 20121",
           2.5,
           "Centreville",
           "VA",
           "20121"
          ],
          [
           "Townhouse",
           "13689 Neil Armstrong Ave, Herndon, VA 20171",
           4.5,
           "Herndon",
           "VA",
           "20171"
          ],
          [
           "House",
           "2600 Kirklyn St, Falls Church, VA 22043",
           3,
           "Falls Church",
           "VA",
           "22043"
          ],
          [
           "House",
           "8471 Misty Blue Ct, Springfield, VA 22153",
           2,
           "Springfield",
           "VA",
           "22153"
          ],
          [
           "House",
           "11002 Warwickshire Dr, Great Falls, VA 22066",
           2.5,
           "Great Falls",
           "VA",
           "22066"
          ],
          [
           "Townhouse",
           "3045 Federal Hill Dr, Falls Church, VA 22044",
           3.5,
           "Falls Church",
           "VA",
           "22044"
          ],
          [
           "Townhouse",
           "13364 Sherwood Park Ln, Herndon, VA 20171",
           4.5,
           "Herndon",
           "VA",
           "20171"
          ],
          [
           "House",
           "113 Kingsley Rd SW, Vienna, VA 22180",
           2,
           "Vienna",
           "VA",
           "22180"
          ],
          [
           "House",
           "530 Lincoln St NW, Vienna, VA 22180",
           2,
           "Vienna",
           "VA",
           "22180"
          ],
          [
           "House",
           "6118 Bangor Dr, Alexandria, VA 22303",
           2,
           "Alexandria",
           "VA",
           "22303"
          ],
          [
           "House",
           "8228 Riverside Rd, Alexandria, VA 22308",
           3,
           "Alexandria",
           "VA",
           "22308"
          ],
          [
           "House",
           "1669 East Ave, McLean, VA 22101",
           3,
           "McLean",
           "VA",
           "22101"
          ],
          [
           "House",
           "5950 Clames Dr, Alexandria, VA 22310",
           2,
           "Alexandria",
           "VA",
           "22310"
          ],
          [
           "House",
           "6716 Morning Ride Cir, Alexandria, VA 22315",
           3.5,
           "Alexandria",
           "VA",
           "22315"
          ],
          [
           "House",
           "6439 Overlook Dr, Alexandria, VA 22312",
           2,
           "Alexandria",
           "VA",
           "22312"
          ],
          [
           "House",
           "1715 Hollinwood Dr, Alexandria, VA 22307",
           3,
           "Alexandria",
           "VA",
           "22307"
          ],
          [
           "Townhouse",
           "4503 King Edward Ct, Annandale, VA 22003",
           3.5,
           "Annandale",
           "VA",
           "22003"
          ],
          [
           "Townhouse",
           "5166 Ridgeview Retreat Dr, Chantilly, VA 20151",
           4.5,
           "Chantilly",
           "VA",
           "20151"
          ],
          [
           "Townhouse",
           "3621 Buckeye Ct, Fairfax, VA 22033",
           3.5,
           "Fairfax",
           "VA",
           "22033"
          ],
          [
           "House",
           "2004 Halyard Ln, Reston, VA 20191",
           3.5,
           "Reston",
           "VA",
           "20191"
          ],
          [
           "Townhouse",
           "2305 Mcgregor Ct, Vienna, VA 22182",
           3.5,
           "Vienna",
           "VA",
           "22182"
          ],
          [
           "House",
           "10004 Dalroy Ct, Fairfax, VA 22032",
           3,
           "Fairfax",
           "VA",
           "22032"
          ],
          [
           "House",
           "1511 Gingerwood Ct, Vienna, VA 22182",
           4,
           "Vienna",
           "VA",
           "22182"
          ],
          [
           "House",
           "6002 Ridge View Dr, Alexandria, VA 22310",
           2,
           "Alexandria",
           "VA",
           "22310"
          ],
          [
           "House",
           "505 Woodshire Ln, Herndon, VA 20170",
           2.5,
           "Herndon",
           "VA",
           "20170"
          ],
          [
           "House",
           "8313 Riverside Rd, Alexandria, VA 22308",
           2,
           "Alexandria",
           "VA",
           "22308"
          ],
          [
           "House",
           "6107 Holly Tree Dr, Alexandria, VA 22310",
           2.5,
           "Alexandria",
           "VA",
           "22310"
          ],
          [
           "House",
           "1240 Daleview Dr, McLean, VA 22102",
           3.5,
           "McLean",
           "VA",
           "22102"
          ],
          [
           "House",
           "6324 Waterway Dr, Falls Church, VA 22044",
           3,
           "Falls Church",
           "VA",
           "22044"
          ],
          [
           "House",
           "3817 Fort Hill Dr, Alexandria, VA 22310",
           5,
           "Alexandria",
           "VA",
           "22310"
          ],
          [
           "House",
           "7718 Stone Wheat Ct, Alexandria, VA 22315",
           2.5,
           "Alexandria",
           "VA",
           "22315"
          ],
          [
           "House",
           "8833 Seacraft Ct, Springfield, VA 22153",
           2.5,
           "Springfield",
           "VA",
           "22153"
          ],
          [
           "House",
           "905 Shady Dr SE, Vienna, VA 22180",
           3,
           "Vienna",
           "VA",
           "22180"
          ],
          [
           "House",
           "1807 Youngblood St, McLean, VA 22101",
           3,
           "McLean",
           "VA",
           "22101"
          ],
          [
           "House",
           "3615 Tallwood Terrace, Falls Church, VA 22041",
           3,
           "Falls Church",
           "VA",
           "22041"
          ],
          [
           "House",
           "8528 Engleside St, Alexandria, VA 22309",
           4.5,
           "Alexandria",
           "VA",
           "22309"
          ],
          [
           "House",
           "1335 Butter Churn Dr, Herndon, VA 20170",
           3.5,
           "Herndon",
           "VA",
           "20170"
          ],
          [
           "House",
           "6652 Chilton Ct, McLean, VA 22101",
           3,
           "McLean",
           "VA",
           "22101"
          ],
          [
           "Townhouse",
           "3015 Kings Village Rd, Alexandria, VA 22306",
           2.5,
           "Alexandria",
           "VA",
           "22306"
          ],
          [
           "House",
           "2920 Lawrence Dr, Falls Church, VA 22042",
           2.5,
           "Falls Church",
           "VA",
           "22042"
          ],
          [
           "House",
           "12769 Flat Meadow Ln, Herndon, VA 20171",
           2.5,
           "Herndon",
           "VA",
           "20171"
          ],
          [
           "House",
           "4410 Midstone Ln, Fairfax, VA 22033",
           2,
           "Fairfax",
           "VA",
           "22033"
          ],
          [
           "Townhouse",
           "8512 Harvest Oak Dr, Vienna, VA 22182",
           3.5,
           "Vienna",
           "VA",
           "22182"
          ],
          [
           "House",
           "4724 Spruce Ave, Fairfax, VA 22030",
           3,
           "Fairfax",
           "VA",
           "22030"
          ],
          [
           "Townhouse",
           "3080 Sugar Ln, Vienna, VA 22181",
           3.5,
           "Vienna",
           "VA",
           "22181"
          ],
          [
           "Townhouse",
           "2748 Manhattan Place, Vienna, VA 22180",
           3.5,
           "Vienna",
           "VA",
           "22180"
          ],
          [
           "House",
           "7203 Statecrest Dr, Annandale, VA 22003",
           3,
           "Annandale",
           "VA",
           "22003"
          ],
          [
           "House",
           "1500 Smith St, McLean, VA 22101",
           3,
           "McLean",
           "VA",
           "22101"
          ],
          [
           "House",
           "6349 Pima St, Alexandria, VA 22312",
           4,
           "Alexandria",
           "VA",
           "22312"
          ],
          [
           "House",
           "2413 Belle Haven Meadows Ct, Alexandria, VA 22306",
           3.5,
           "Alexandria",
           "VA",
           "22306"
          ],
          [
           "House",
           "7209 Matthew Mills Rd, McLean, VA 22101",
           2,
           "McLean",
           "VA",
           "22101"
          ],
          [
           "House",
           "3028 Leefield Dr, Herndon, VA 20171",
           4.5,
           "Herndon",
           "VA",
           "20171"
          ],
          [
           "House",
           "2120 Docket Ln, Vienna, VA 22181",
           2.5,
           "Vienna",
           "VA",
           "22181"
          ],
          [
           "Townhouse",
           "13134 Quail Creek Ln, Fairfax, VA 22033",
           3.5,
           "Fairfax",
           "VA",
           "22033"
          ],
          [
           "Townhouse",
           "13611 Lavender Mist Ln, Centreville, VA 20120",
           3.5,
           "Centreville",
           "VA",
           "20120"
          ],
          [
           "House",
           "9050 Galvin Ln, Lorton, VA 22079",
           6,
           "Lorton",
           "VA",
           "22079"
          ],
          [
           "House",
           "13360 Keisler Ct, Herndon, VA 20170",
           2.5,
           "Herndon",
           "VA",
           "20170"
          ],
          [
           "House",
           "1828 Youngblood St, McLean, VA 22101",
           3.5,
           "McLean",
           "VA",
           "22101"
          ],
          [
           "House",
           "2509 Foxcroft Way, Reston, VA 20191",
           3,
           "Reston",
           "VA",
           "20191"
          ],
          [
           "House",
           "6316 Bren Mar Dr, Alexandria, VA 22312",
           2,
           "Alexandria",
           "VA",
           "22312"
          ],
          [
           "Townhouse",
           "7022 Braddock Mews Place, Springfield, VA 22151",
           4,
           "Springfield",
           "VA",
           "22151"
          ],
          [
           "Townhouse",
           "2501 Bronze Stone Place, Herndon, VA 20171",
           4,
           "Herndon",
           "VA",
           "20171"
          ],
          [
           "House",
           "2784 Welbourne Ct, Oakton, VA 22124",
           3.5,
           "Oakton",
           "VA",
           "22124"
          ],
          [
           "House",
           "6206 Winnepeg Dr, Burke, VA 22015",
           3,
           "Burke",
           "VA",
           "22015"
          ],
          [
           "House",
           "902 Spring Knoll Dr, Herndon, VA 20170",
           3.5,
           "Herndon",
           "VA",
           "20170"
          ],
          [
           "Townhouse",
           "7221 Kousa Ln, Springfield, VA 22152",
           3.5,
           "Springfield",
           "VA",
           "22152"
          ],
          [
           "Townhouse",
           "44108 Turf Field Square, Chantilly, VA 20152",
           3.5,
           "Chantilly",
           "VA",
           "20152"
          ],
          [
           "Townhouse",
           "9915 Trosby Ct, Vienna, VA 22181",
           3.5,
           "Vienna",
           "VA",
           "22181"
          ],
          [
           "Townhouse",
           "8191 Singleleaf Ln, Lorton, VA 22079",
           3.5,
           "Lorton",
           "VA",
           "22079"
          ],
          [
           "House",
           "11200 Chapel Rd, Fairfax Station, VA 22039",
           3.5,
           "Fairfax Station",
           "VA",
           "22039"
          ],
          [
           "Townhouse",
           "5707 Waters Edge Landing Ct, Burke, VA 22015",
           3.5,
           "Burke",
           "VA",
           "22015"
          ],
          [
           "Townhouse",
           "23013 Potomac Hill Square, Sterling, VA 20166",
           4,
           "Sterling",
           "VA",
           "20166"
          ],
          [
           "Townhouse",
           "4313 4th Ct N, Arlington, VA 22203",
           4.5,
           "Arlington",
           "VA",
           "22203"
          ],
          [
           "House",
           "2026 S Monroe St, Arlington, VA 22204",
           3.5,
           "Arlington",
           "VA",
           "22204"
          ],
          [
           "Townhouse",
           "748 S Granada St, Arlington, VA 22204",
           5,
           "Arlington",
           "VA",
           "22204"
          ],
          [
           "House",
           "2614 2nd St S, Arlington, VA 22204",
           2,
           "Arlington",
           "VA",
           "22204"
          ],
          [
           "House",
           "4110 Cherry Hill Rd, Arlington, VA 22207",
           4.5,
           "Arlington",
           "VA",
           "22207"
          ],
          [
           "House",
           "2542 N Vermont St, Arlington, VA 22207",
           3,
           "Arlington",
           "VA",
           "22207"
          ],
          [
           "Townhouse",
           "625 N Oakland St, Arlington, VA 22203",
           2,
           "Arlington",
           "VA",
           "22203"
          ],
          [
           "House",
           "3409 N Abingdon St, Arlington, VA 22207",
           4,
           "Arlington",
           "VA",
           "22207"
          ],
          [
           "House",
           "1301 S Rolfe St, Arlington, VA 22204",
           2,
           "Arlington",
           "VA",
           "22204"
          ],
          [
           "House",
           "5650 4th St N, Arlington, VA 22205",
           2,
           "Arlington",
           "VA",
           "22205"
          ],
          [
           "House",
           "2219 N Nottingham St, Arlington, VA 22205",
           2,
           "Arlington",
           "VA",
           "22205"
          ],
          [
           "House",
           "2400 S Arlington Ridge Rd, Arlington, VA 22202",
           6,
           "Arlington",
           "VA",
           "22202"
          ],
          [
           "Townhouse",
           "2270 S Garfield St Unit 4, Arlington, VA 22206",
           4.5,
           "Arlington",
           "VA",
           "22206"
          ],
          [
           "House",
           "4817 14th St S, Arlington, VA 22204",
           3,
           "Arlington",
           "VA",
           "22204"
          ],
          [
           "House",
           "5 S Garfield St, Arlington, VA 22204",
           3.5,
           "Arlington",
           "VA",
           "22204"
          ],
          [
           "House",
           "6321 Washington Blvd, Arlington, VA 22205",
           3.5,
           "Arlington",
           "VA",
           "22205"
          ],
          [
           "House",
           "4145 6th St S, Arlington, VA 22204",
           2,
           "Arlington",
           "VA",
           "22204"
          ],
          [
           "Townhouse",
           "1149 N Taylor St, Arlington, VA 22201",
           5,
           "Arlington",
           "VA",
           "22201"
          ],
          [
           "House",
           "1611 N Highland St, Arlington, VA 22201",
           4.5,
           "Arlington",
           "VA",
           "22201"
          ],
          [
           "House",
           "1600 13th St S, Arlington, VA 22204",
           3,
           "Arlington",
           "VA",
           "22204"
          ],
          [
           "House",
           "3405 N Peary St, Arlington, VA 22207",
           3,
           "Arlington",
           "VA",
           "22207"
          ],
          [
           "House",
           "3420 N Glebe Rd, Arlington, VA 22207",
           3,
           "Arlington",
           "VA",
           "22207"
          ],
          [
           "Townhouse",
           "27 N Trenton St, Arlington, VA 22203",
           3.5,
           "Arlington",
           "VA",
           "22203"
          ],
          [
           "Townhouse",
           "910 New Hampshire Ave NW, Washington, DC 20037",
           3,
           "Washington",
           "DC",
           "20037"
          ],
          [
           "House",
           "1112 51st Place NE, Washington, DC 20019",
           3,
           "Washington",
           "DC",
           "20019"
          ],
          [
           "Townhouse",
           "1328 4th St SW, Washington, DC 20024",
           2,
           "Washington",
           "DC",
           "20024"
          ],
          [
           "Townhouse",
           "1213 Lamont St NW, Washington, DC 20010",
           3.5,
           "Washington",
           "DC",
           "20010"
          ],
          [
           "Townhouse",
           "819 Kennedy St NE, Washington, DC 20011",
           2,
           "Washington",
           "DC",
           "20011"
          ],
          [
           "Townhouse",
           "1540 Levis St NE Unit B, Washington, DC 20002",
           3.5,
           "Washington",
           "DC",
           "20002"
          ],
          [
           "House",
           "3020 P St SE, Washington, DC 20020",
           3,
           "Washington",
           "DC",
           "20020"
          ],
          [
           "House",
           "136 Wilmington Place SE, Washington, DC 20032",
           2.5,
           "Washington",
           "DC",
           "20032"
          ],
          [
           "House",
           "6626 31st St NW, Washington, DC 20015",
           3,
           "Washington",
           "DC",
           "20015"
          ],
          [
           "Townhouse",
           "1601 5th St NW Unit B, Washington, DC 20001",
           4.5,
           "Washington",
           "DC",
           "20001"
          ],
          [
           "Townhouse",
           "117 15th St SE, Washington, DC 20003",
           2.5,
           "Washington",
           "DC",
           "20003"
          ],
          [
           "Townhouse",
           "123 Rhode Island Ave NE, Washington, DC 20002",
           3.5,
           "Washington",
           "DC",
           "20002"
          ],
          [
           "Townhouse",
           "5121 3rd St NW, Washington, DC 20011",
           3.5,
           "Washington",
           "DC",
           "20011"
          ],
          [
           "Townhouse",
           "900 24th St NW, Washington, DC 20037",
           2.5,
           "Washington",
           "DC",
           "20037"
          ],
          [
           "Townhouse",
           "4236 Grant St NE, Washington, DC 20019",
           2,
           "Washington",
           "DC",
           "20019"
          ],
          [
           "Townhouse",
           "3106 18th St NW, Washington, DC 20010",
           4,
           "Washington",
           "DC",
           "20010"
          ],
          [
           "Townhouse",
           "872 Bellevue St SE Unit 1, Washington, DC 20032",
           2,
           "Washington",
           "DC",
           "20032"
          ],
          [
           "House",
           "5109 A St SE, Washington, DC 20019",
           4,
           "Washington",
           "DC",
           "20019"
          ],
          [
           "Townhouse",
           "1117 7th St NE, Washington, DC 20002",
           3,
           "Washington",
           "DC",
           "20002"
          ],
          [
           "Townhouse",
           "1214 Trenton Place SE, Washington, DC 20032",
           2.5,
           "Washington",
           "DC",
           "20032"
          ],
          [
           "Townhouse",
           "4336 Varnum Place NE, Washington, DC 20017",
           3,
           "Washington",
           "DC",
           "20017"
          ],
          [
           "House",
           "3500 P St NW, Washington, DC 20007",
           3.5,
           "Washington",
           "DC",
           "20007"
          ],
          [
           "Townhouse",
           "1227 33rd St NW, Washington, DC 20007",
           2.5,
           "Washington",
           "DC",
           "20007"
          ],
          [
           "Townhouse",
           "3911 Watson Place NW, Washington, DC 20016",
           3,
           "Washington",
           "DC",
           "20016"
          ],
          [
           "House",
           "3800 Nash St SE, Washington, DC 20020",
           3.5,
           "Washington",
           "DC",
           "20020"
          ],
          [
           "Townhouse",
           "627 Lamont St NW, Washington, DC 20010",
           3.5,
           "Washington",
           "DC",
           "20010"
          ],
          [
           "Townhouse",
           "1016 G St SE, Washington, DC 20003",
           3.5,
           "Washington",
           "DC",
           "20003"
          ],
          [
           "Townhouse",
           "1528 34th St NW Unit 1532, Washington, DC 20007",
           3.5,
           "Washington",
           "DC",
           "20007"
          ],
          [
           "Townhouse",
           "705 Quincy St NW, Washington, DC 20011",
           3.5,
           "Washington",
           "DC",
           "20011"
          ],
          [
           "Townhouse",
           "804 30th St SE, Washington, DC 20019",
           3.5,
           "Washington",
           "DC",
           "20019"
          ],
          [
           "Townhouse",
           "3741 Winfield Ln NW, Washington, DC 20007",
           4.5,
           "Washington",
           "DC",
           "20007"
          ],
          [
           "House",
           "4622 Laverock Place NW, Washington, DC 20007",
           3.5,
           "Washington",
           "DC",
           "20007"
          ],
          [
           "Townhouse",
           "3320 Quebec Place NW, Washington, DC 20008",
           3.5,
           "Washington",
           "DC",
           "20008"
          ],
          [
           "Townhouse",
           "2022 Hillyer Place NW, Washington, DC 20009",
           3,
           "Washington",
           "DC",
           "20009"
          ],
          [
           "Townhouse",
           "3407 Wheeler Rd SE, Washington, DC 20032",
           2.5,
           "Washington",
           "DC",
           "20032"
          ],
          [
           "House",
           "6625 31st St NW, Washington, DC 20015",
           3.5,
           "Washington",
           "DC",
           "20015"
          ],
          [
           "House",
           "1303 Delafield Place NW, Washington, DC 20011",
           2,
           "Washington",
           "DC",
           "20011"
          ],
          [
           "Townhouse",
           "603 8th St NE, Washington, DC 20002",
           3.5,
           "Washington",
           "DC",
           "20002"
          ],
          [
           "House",
           "3339 Military Rd NW, Washington, DC 20015",
           4,
           "Washington",
           "DC",
           "20015"
          ],
          [
           "Townhouse",
           "4512 7th St NE, Washington, DC 20017",
           3.5,
           "Washington",
           "DC",
           "20017"
          ],
          [
           "Townhouse",
           "1604 13th St NW, Washington, DC 20009",
           3,
           "Washington",
           "DC",
           "20009"
          ],
          [
           "Townhouse",
           "33 Adams St NW, Washington, DC 20001",
           3.5,
           "Washington",
           "DC",
           "20001"
          ],
          [
           "Townhouse",
           "1025 Sycamore Dr SE, Washington, DC 20032",
           3.5,
           "Washington",
           "DC",
           "20032"
          ],
          [
           "Townhouse",
           "526 Somerset Place NW, Washington, DC 20011",
           2,
           "Washington",
           "DC",
           "20011"
          ],
          [
           "Townhouse",
           "1007 Florida Ave NE, Washington, DC 20002",
           4,
           "Washington",
           "DC",
           "20002"
          ],
          [
           "House",
           "1255 22nd St NW Unit 309, Washington, DC 20037",
           4,
           "Washington",
           "DC",
           "20037"
          ],
          [
           "House",
           "1414 35th St NW, Washington, DC 20007",
           2,
           "Washington",
           "DC",
           "20007"
          ],
          [
           "Townhouse",
           "454 Delafield Place NW, Washington, DC 20011",
           3.5,
           "Washington",
           "DC",
           "20011"
          ],
          [
           "Townhouse",
           "60 Q St NW, Washington, DC 20001",
           3.5,
           "Washington",
           "DC",
           "20001"
          ],
          [
           "Townhouse",
           "838 Madison St NW, Washington, DC 20011",
           2,
           "Washington",
           "DC",
           "20011"
          ],
          [
           "Townhouse",
           "3831 S St NW, Washington, DC 20007",
           4,
           "Washington",
           "DC",
           "20007"
          ],
          [
           "Townhouse",
           "4222 8th St NW Unit 1, Washington, DC 20011",
           4,
           "Washington",
           "DC",
           "20011"
          ],
          [
           "Townhouse",
           "2123 15th St SE, Washington, DC 20020",
           3.5,
           "Washington",
           "DC",
           "20020"
          ],
          [
           "Townhouse",
           "6 W St NW, Washington, DC 20001",
           3.5,
           "Washington",
           "DC",
           "20001"
          ],
          [
           "Townhouse",
           "3106 Mount Pleasant St NW, Washington, DC 20010",
           2,
           "Washington",
           "DC",
           "20010"
          ],
          [
           "Townhouse",
           "1846 Ingleside Terrace NW, Washington, DC 20010",
           2.5,
           "Washington",
           "DC",
           "20010"
          ],
          [
           "Townhouse",
           "1431 S St SE, Washington, DC 20020",
           2,
           "Washington",
           "DC",
           "20020"
          ],
          [
           "Townhouse",
           "514 45th St NE, Washington, DC 20019",
           2,
           "Washington",
           "DC",
           "20019"
          ],
          [
           "Townhouse",
           "531 Ingraham St NE, Washington, DC 20011",
           2.5,
           "Washington",
           "DC",
           "20011"
          ],
          [
           "Townhouse",
           "5411 Illinois Ave NW, Washington, DC 20011",
           4.5,
           "Washington",
           "DC",
           "20011"
          ],
          [
           "Townhouse",
           "3521 Holmead Place NW, Washington, DC 20010",
           2.5,
           "Washington",
           "DC",
           "20010"
          ],
          [
           "House",
           "3712 Windom Place NW, Washington, DC 20016",
           4.5,
           "Washington",
           "DC",
           "20016"
          ],
          [
           "Townhouse",
           "2404 Baldwin Crescent NE, Washington, DC 20018",
           3.5,
           "Washington",
           "DC",
           "20018"
          ],
          [
           "House",
           "5401 Riba Ct, Capitol Heights, MD 20743",
           3,
           "Capitol Heights",
           "MD",
           "20743"
          ],
          [
           "Townhouse",
           "2235 Afton St, Temple Hills, MD 20748",
           2,
           "Temple Hills",
           "MD",
           "20748"
          ],
          [
           "Townhouse",
           "430 N Union St, Alexandria, VA 22314",
           4,
           "Alexandria",
           "VA",
           "22314"
          ],
          [
           "House",
           "4207 Stanford St, Chevy Chase, MD 20815",
           3.5,
           "Chevy Chase",
           "MD",
           "20815"
          ],
          [
           "House",
           "2208 Osborn Dr, Silver Spring, MD 20910",
           2.5,
           "Silver Spring",
           "MD",
           "20910"
          ],
          [
           "House",
           "717 Sheridan St, Hyattsville, MD 20783",
           2,
           "Hyattsville",
           "MD",
           "20783"
          ],
          [
           "House",
           "5512 Uppingham St, Chevy Chase, MD 20815",
           3,
           "Chevy Chase",
           "MD",
           "20815"
          ],
          [
           "Townhouse",
           "700 Kahn Place, Alexandria, VA 22314",
           5,
           "Alexandria",
           "VA",
           "22314"
          ],
          [
           "House",
           "9501 Hale St, Silver Spring, MD 20910",
           2,
           "Silver Spring",
           "MD",
           "20910"
          ],
          [
           "House",
           "817 Chillum Rd, Hyattsville, MD 20783",
           2,
           "Hyattsville",
           "MD",
           "20783"
          ],
          [
           "House",
           "3706 Williams Ln, Chevy Chase, MD 20815",
           2.5,
           "Chevy Chase",
           "MD",
           "20815"
          ],
          [
           "House",
           "2803 Curtis Dr, Temple Hills, MD 20748",
           2.5,
           "Temple Hills",
           "MD",
           "20748"
          ],
          [
           "House",
           "903 Minna Ave, Capitol Heights, MD 20743",
           3,
           "Capitol Heights",
           "MD",
           "20743"
          ],
          [
           "Townhouse",
           "5201 Westbard Ave, Bethesda, MD 20816",
           3.5,
           "Bethesda",
           "MD",
           "20816"
          ],
          [
           "House",
           "3709 Parkwood St, Brentwood, MD 20722",
           3,
           "Brentwood",
           "MD",
           "20722"
          ],
          [
           "Townhouse",
           "2550 Kirkwood Place, Hyattsville, MD 20782",
           5,
           "Hyattsville",
           "MD",
           "20782"
          ],
          [
           "House",
           "6226 20th Ave, Hyattsville, MD 20782",
           2,
           "Hyattsville",
           "MD",
           "20782"
          ],
          [
           "House",
           "10245 Picturesque Ct, Nokesville, VA 20181",
           3.5,
           "Nokesville",
           "VA",
           "20181"
          ],
          [
           "Townhouse",
           "13050 Terminal Way, Woodbridge, VA 22193",
           4,
           "Woodbridge",
           "VA",
           "22193"
          ],
          [
           "House",
           "7629 Hamelin Ln, Gainesville, VA 20155",
           2.5,
           "Gainesville",
           "VA",
           "20155"
          ],
          [
           "Townhouse",
           "14807 Ensor Ct, Woodbridge, VA 22193",
           3,
           "Woodbridge",
           "VA",
           "22193"
          ],
          [
           "House",
           "9997 Copeland Dr, Manassas, VA 20109",
           3,
           "Manassas",
           "VA",
           "20109"
          ],
          [
           "House",
           "14269 Silverdale Dr, Woodbridge, VA 22193",
           2.5,
           "Woodbridge",
           "VA",
           "22193"
          ],
          [
           "Townhouse",
           "2077 Pilgrim Dr, Woodbridge, VA 22192",
           3.5,
           "Woodbridge",
           "VA",
           "22192"
          ],
          [
           "House",
           "4251 Moot Dr, Dumfries, VA 22025",
           4.5,
           "Dumfries",
           "VA",
           "22025"
          ],
          [
           "House",
           "11317 Wheeler Ridge Dr, Manassas, VA 20109",
           4.5,
           "Manassas",
           "VA",
           "20109"
          ],
          [
           "Townhouse",
           "15115 Jaxton Square Ln, Haymarket, VA 20169",
           3.5,
           "Haymarket",
           "VA",
           "20169"
          ],
          [
           "Townhouse",
           "3413 Castle Hill Dr, Woodbridge, VA 22193",
           4,
           "Woodbridge",
           "VA",
           "22193"
          ],
          [
           "House",
           "3249 Trafalgar Ln, Woodbridge, VA 22192",
           3.5,
           "Woodbridge",
           "VA",
           "22192"
          ],
          [
           "House",
           "12308 Colby Dr, Woodbridge, VA 22192",
           3,
           "Woodbridge",
           "VA",
           "22192"
          ],
          [
           "House",
           "12817 Valleyhill St, Woodbridge, VA 22192",
           2.5,
           "Woodbridge",
           "VA",
           "22192"
          ],
          [
           "House",
           "15815 Vista Dr, Dumfries, VA 22025",
           3,
           "Dumfries",
           "VA",
           "22025"
          ],
          [
           "House",
           "12780 Chatter Brook Dr, Catharpin, VA 20143",
           5,
           "Catharpin",
           "VA",
           "20143"
          ],
          [
           "House",
           "14874 Buttonwood Ct, Woodbridge, VA 22193",
           2.5,
           "Woodbridge",
           "VA",
           "22193"
          ],
          [
           "House",
           "11201 Wheeler Ridge Dr, Manassas, VA 20109",
           4.5,
           "Manassas",
           "VA",
           "20109"
          ],
          [
           "House",
           "14991 Shady Oak Ln, Haymarket, VA 20169",
           3.5,
           "Haymarket",
           "VA",
           "20169"
          ],
          [
           "House",
           "2930 Medford Dr, Dumfries, VA 22026",
           3.5,
           "Dumfries",
           "VA",
           "22026"
          ],
          [
           "House",
           "15535 Laurel Ridge Rd, Dumfries, VA 22025",
           3.5,
           "Dumfries",
           "VA",
           "22025"
          ],
          [
           "House",
           "1103 Swan Point Rd, Woodbridge, VA 22192",
           2.5,
           "Woodbridge",
           "VA",
           "22192"
          ],
          [
           "Townhouse",
           "15417 Windsong Ln, Dumfries, VA 22025",
           3.5,
           "Dumfries",
           "VA",
           "22025"
          ],
          [
           "Townhouse",
           "6067 Ticket Way, Woodbridge, VA 22193",
           3.5,
           "Woodbridge",
           "VA",
           "22193"
          ],
          [
           "House",
           "13888 Montoclair Ln, Woodbridge, VA 22193",
           2.5,
           "Woodbridge",
           "VA",
           "22193"
          ],
          [
           "House",
           "17217 Continental Dr, Dumfries, VA 22026",
           3.5,
           "Dumfries",
           "VA",
           "22026"
          ],
          [
           "Townhouse",
           "1710 Beech Leaf St, Dumfries, VA 22026",
           3.5,
           "Dumfries",
           "VA",
           "22026"
          ],
          [
           "House",
           "2800 Pulpit Hill Ct, Woodbridge, VA 22191",
           3.5,
           "Woodbridge",
           "VA",
           "22191"
          ],
          [
           "Townhouse",
           "4316 Wisley Turn, Woodbridge, VA 22192",
           3.5,
           "Woodbridge",
           "VA",
           "22192"
          ],
          [
           "House",
           "4293 Marquis Place, Woodbridge, VA 22192",
           3.5,
           "Woodbridge",
           "VA",
           "22192"
          ],
          [
           "House",
           "12421 Mays Quarter Rd, Woodbridge, VA 22192",
           4.5,
           "Woodbridge",
           "VA",
           "22192"
          ],
          [
           "House",
           "5308 Macwood Dr, Woodbridge, VA 22193",
           2,
           "Woodbridge",
           "VA",
           "22193"
          ],
          [
           "House",
           "13663 Van Doren Rd, Manassas, VA 20112",
           3,
           "Manassas",
           "VA",
           "20112"
          ],
          [
           "House",
           "13304 Smoketown Rd, Woodbridge, VA 22192",
           3.5,
           "Woodbridge",
           "VA",
           "22192"
          ],
          [
           "House",
           "4277 Decatur Dr, Woodbridge, VA 22193",
           3.5,
           "Woodbridge",
           "VA",
           "22193"
          ],
          [
           "Townhouse",
           "15625 Three Otters Place, Manassas, VA 20112",
           3.5,
           "Manassas",
           "VA",
           "20112"
          ],
          [
           "House",
           "3866 Oriole Ct, Dumfries, VA 22025",
           3.5,
           "Dumfries",
           "VA",
           "22025"
          ],
          [
           "House",
           "16004 Laconia Cir, Woodbridge, VA 22191",
           2.5,
           "Woodbridge",
           "VA",
           "22191"
          ],
          [
           "Townhouse",
           "2222 Greywing St, Woodbridge, VA 22191",
           3.5,
           "Woodbridge",
           "VA",
           "22191"
          ],
          [
           "House",
           "13205 Nottingdale Dr, Woodbridge, VA 22193",
           3.5,
           "Woodbridge",
           "VA",
           "22193"
          ],
          [
           "Townhouse",
           "3632 Chippendale Cir, Woodbridge, VA 22193",
           3.5,
           "Woodbridge",
           "VA",
           "22193"
          ],
          [
           "Townhouse",
           "2910 Truffle Oak Place, Woodbridge, VA 22191",
           3.5,
           "Woodbridge",
           "VA",
           "22191"
          ],
          [
           "House",
           "15408 Weldin Dr, Woodbridge, VA 22193",
           3.5,
           "Woodbridge",
           "VA",
           "22193"
          ],
          [
           "House",
           "12718 Kahns Rd, Manassas, VA 20112",
           3,
           "Manassas",
           "VA",
           "20112"
          ],
          [
           "House",
           "16475 Kramer Estate Dr, Woodbridge, VA 22191",
           3.5,
           "Woodbridge",
           "VA",
           "22191"
          ],
          [
           "House",
           "10339 Reid Ln, Nokesville, VA 20181",
           3.5,
           "Nokesville",
           "VA",
           "20181"
          ],
          [
           "House",
           "2117 Blue Mockingbird Ln, Dumfries, VA 22026",
           4.5,
           "Dumfries",
           "VA",
           "22026"
          ],
          [
           "House",
           "3717 Fidelis Ct, Triangle, VA 22172",
           3.5,
           "Triangle",
           "VA",
           "22172"
          ],
          [
           "Townhouse",
           "1940 Winslow Ct, Woodbridge, VA 22191",
           3.5,
           "Woodbridge",
           "VA",
           "22191"
          ],
          [
           "House",
           "1995 Silver Sycamore Ln, Dumfries, VA 22026",
           4.5,
           "Dumfries",
           "VA",
           "22026"
          ],
          [
           "Townhouse",
           "1678 Dunnington Place, Dumfries, VA 22026",
           3.5,
           "Dumfries",
           "VA",
           "22026"
          ],
          [
           "House",
           "15312 Lord Culpeper Ct, Woodbridge, VA 22191",
           3.5,
           "Woodbridge",
           "VA",
           "22191"
          ],
          [
           "Townhouse",
           "1844 Heather Glen Ct, Woodbridge, VA 22191",
           3.5,
           "Woodbridge",
           "VA",
           "22191"
          ],
          [
           "House",
           "3848 Appaloosa Dr, Woodbridge, VA 22192",
           3.5,
           "Woodbridge",
           "VA",
           "22192"
          ],
          [
           "House",
           "13410 Hillendale Dr, Woodbridge, VA 22193",
           2,
           "Woodbridge",
           "VA",
           "22193"
          ],
          [
           "House",
           "13208 Fireside Ct, Woodbridge, VA 22191",
           3,
           "Woodbridge",
           "VA",
           "22191"
          ],
          [
           "House",
           "4462 Davis Fairfax Ln, Woodbridge, VA 22192",
           3.5,
           "Woodbridge",
           "VA",
           "22192"
          ],
          [
           "House",
           "11805 Fitzgerald Way, Bristow, VA 20136",
           3.5,
           "Bristow",
           "VA",
           "20136"
          ],
          [
           "House",
           "1932 Brooke Farm Ct, Woodbridge, VA 22192",
           4,
           "Woodbridge",
           "VA",
           "22192"
          ],
          [
           "House",
           "1348 Macbeth St, McLean, VA 22102",
           4,
           "McLean",
           "VA",
           "22102"
          ],
          [
           "House",
           "7337 Hooking Rd, McLean, VA 22101",
           3.5,
           "McLean",
           "VA",
           "22101"
          ],
          [
           "House",
           "1306 Tracy Place, Falls Church, VA 22046",
           3.5,
           "Falls Church",
           "VA",
           "22046"
          ],
          [
           "House",
           "258 N Washington St, Falls Church, VA 22046",
           2.5,
           "Falls Church",
           "VA",
           "22046"
          ],
          [
           "Townhouse",
           "8504 Jeffersonian Ct, Vienna, VA 22182",
           3.5,
           "Vienna",
           "VA",
           "22182"
          ],
          [
           "House",
           "8206 Stone Trail Dr, Bethesda, MD 20817",
           3,
           "Bethesda",
           "MD",
           "20817"
          ],
          [
           "House",
           "206 E Jefferson St, Falls Church, VA 22046",
           3.5,
           "Falls Church",
           "VA",
           "22046"
          ],
          [
           "House",
           "7004 Nevis Rd, Bethesda, MD 20817",
           7,
           "Bethesda",
           "MD",
           "20817"
          ],
          [
           "House",
           "8204 Osage Ln, Bethesda, MD 20817",
           4.5,
           "Bethesda",
           "MD",
           "20817"
          ],
          [
           "House",
           "5216 Augusta St, Bethesda, MD 20816",
           3.5,
           "Bethesda",
           "MD",
           "20816"
          ],
          [
           "House",
           "1534 Red Rock Ct, Vienna, VA 22182",
           3.5,
           "Vienna",
           "VA",
           "22182"
          ]
         ],
         "hovertemplate": "Bedroom=%{x}<br>Price=%{y}<br>Title=%{customdata[0]}<br>Address=%{customdata[1]}<br>Bathroom=%{customdata[2]}<br>City=%{customdata[3]}<br>State=%{customdata[4]}<br>Zipcode=%{customdata[5]}<extra></extra>",
         "legendgroup": "4",
         "marker": {
          "color": "#EF553B"
         },
         "name": "4",
         "offsetgroup": "4",
         "orientation": "v",
         "points": "all",
         "scalegroup": "True",
         "showlegend": true,
         "type": "violin",
         "x": [
          4,
          4,
          4,
          4,
          4,
          4,
          4,
          4,
          4,
          4,
          4,
          4,
          4,
          4,
          4,
          4,
          4,
          4,
          4,
          4,
          4,
          4,
          4,
          4,
          4,
          4,
          4,
          4,
          4,
          4,
          4,
          4,
          4,
          4,
          4,
          4,
          4,
          4,
          4,
          4,
          4,
          4,
          4,
          4,
          4,
          4,
          4,
          4,
          4,
          4,
          4,
          4,
          4,
          4,
          4,
          4,
          4,
          4,
          4,
          4,
          4,
          4,
          4,
          4,
          4,
          4,
          4,
          4,
          4,
          4,
          4,
          4,
          4,
          4,
          4,
          4,
          4,
          4,
          4,
          4,
          4,
          4,
          4,
          4,
          4,
          4,
          4,
          4,
          4,
          4,
          4,
          4,
          4,
          4,
          4,
          4,
          4,
          4,
          4,
          4,
          4,
          4,
          4,
          4,
          4,
          4,
          4,
          4,
          4,
          4,
          4,
          4,
          4,
          4,
          4,
          4,
          4,
          4,
          4,
          4,
          4,
          4,
          4,
          4,
          4,
          4,
          4,
          4,
          4,
          4,
          4,
          4,
          4,
          4,
          4,
          4,
          4,
          4,
          4,
          4,
          4,
          4,
          4,
          4,
          4,
          4,
          4,
          4,
          4,
          4,
          4,
          4,
          4,
          4,
          4,
          4,
          4,
          4,
          4,
          4,
          4,
          4,
          4,
          4,
          4,
          4,
          4,
          4,
          4,
          4,
          4,
          4,
          4,
          4,
          4,
          4,
          4,
          4,
          4,
          4,
          4,
          4,
          4,
          4,
          4,
          4,
          4,
          4,
          4,
          4,
          4,
          4,
          4,
          4,
          4,
          4,
          4,
          4,
          4,
          4,
          4,
          4,
          4,
          4,
          4,
          4,
          4,
          4,
          4,
          4,
          4,
          4,
          4,
          4,
          4,
          4,
          4,
          4,
          4,
          4,
          4,
          4,
          4,
          4,
          4,
          4,
          4,
          4,
          4,
          4,
          4,
          4,
          4,
          4,
          4,
          4,
          4,
          4,
          4,
          4,
          4,
          4,
          4,
          4,
          4,
          4,
          4,
          4,
          4,
          4,
          4,
          4,
          4,
          4,
          4,
          4,
          4,
          4,
          4,
          4,
          4,
          4,
          4,
          4,
          4,
          4,
          4,
          4,
          4,
          4,
          4,
          4,
          4,
          4,
          4,
          4,
          4,
          4,
          4,
          4,
          4,
          4,
          4,
          4,
          4,
          4,
          4,
          4,
          4,
          4,
          4,
          4,
          4,
          4,
          4,
          4,
          4,
          4,
          4,
          4,
          4,
          4,
          4,
          4,
          4,
          4,
          4,
          4,
          4
         ],
         "x0": " ",
         "xaxis": "x",
         "y": [
          3750,
          3800,
          3000,
          3200,
          4200,
          3800,
          3750,
          3750,
          4500,
          3750,
          4250,
          3850,
          4750,
          3600,
          3700,
          4850,
          8000,
          3800,
          5300,
          3800,
          3800,
          3500,
          3100,
          3300,
          3200,
          3290,
          3900,
          3350,
          4500,
          3300,
          3750,
          3200,
          3600,
          6500,
          3500,
          3400,
          3500,
          3400,
          3400,
          3000,
          4000,
          4000,
          2899,
          3225,
          2550,
          3000,
          4100,
          4000,
          4650,
          3550,
          3800,
          3200,
          3800,
          3000,
          3200,
          1800,
          6000,
          4200,
          3600,
          3750,
          4300,
          3300,
          3200,
          2950,
          3300,
          4100,
          3400,
          2995,
          4750,
          3500,
          3490,
          3400,
          2995,
          2750,
          3750,
          4200,
          3200,
          3900,
          3500,
          4750,
          3500,
          3700,
          2650,
          5000,
          3095,
          3375,
          3999,
          3100,
          3599,
          3400,
          4000,
          5570,
          4950,
          6000,
          4000,
          3500,
          3250,
          4280,
          4000,
          3330,
          3500,
          4600,
          2800,
          4559,
          3675,
          3200,
          3850,
          3400,
          2900,
          3400,
          3300,
          4800,
          3700,
          4500,
          4500,
          5500,
          3850,
          2800,
          2900,
          3950,
          3500,
          3650,
          3500,
          3000,
          3200,
          2750,
          6500,
          3700,
          3900,
          2750,
          3400,
          4300,
          3000,
          4200,
          3350,
          2800,
          5200,
          3900,
          3720,
          3800,
          7000,
          5500,
          4600,
          5800,
          5250,
          3200,
          4100,
          6500,
          3650,
          3350,
          4900,
          5200,
          4300,
          5000,
          5500,
          3800,
          4500,
          4800,
          5000,
          7500,
          3300,
          5000,
          6199,
          4300,
          4000,
          3300,
          3100,
          5500,
          8000,
          4500,
          4950,
          4150,
          5500,
          2500,
          7000,
          2300,
          3200,
          4753,
          2950,
          3700,
          10500,
          10000,
          6200,
          5500,
          4850,
          8000,
          5995,
          4500,
          5100,
          7500,
          9995,
          6500,
          15000,
          2600,
          5400,
          3840,
          6000,
          6950,
          3350,
          16500,
          4750,
          3200,
          3600,
          4200,
          9750,
          10995,
          3650,
          4650,
          3200,
          6300,
          4000,
          3500,
          4800,
          4975,
          4800,
          2995,
          2900,
          3650,
          4900,
          5400,
          6500,
          3900,
          3200,
          2245,
          8500,
          6900,
          3350,
          2850,
          6500,
          9850,
          3450,
          2700,
          4500,
          2750,
          2600,
          5995,
          2999,
          3650,
          3000,
          3450,
          2500,
          3442,
          2200,
          2800,
          3000,
          2700,
          3200,
          4400,
          3200,
          2300,
          3000,
          2800,
          3300,
          3350,
          6000,
          2900,
          4500,
          4800,
          3600,
          3300,
          3000,
          2300,
          2700,
          2500,
          3900,
          3400,
          3200,
          2800,
          3900,
          4250,
          2550,
          3200,
          2831,
          3650,
          2600,
          2950,
          3200,
          3200,
          2700,
          2849,
          2650,
          3400,
          3000,
          3600,
          4995,
          4000,
          3250,
          2550,
          3950,
          3200,
          3400,
          2350,
          3599,
          2095,
          2800,
          3600,
          4200,
          3800,
          4900,
          6100,
          5600,
          5500,
          3900,
          5295,
          8900,
          6500,
          5500,
          4950,
          4500
         ],
         "y0": " ",
         "yaxis": "y"
        }
       ],
       "layout": {
        "legend": {
         "title": {
          "text": "Bedroom"
         },
         "tracegroupgap": 0
        },
        "margin": {
         "t": 60
        },
        "template": {
         "data": {
          "bar": [
           {
            "error_x": {
             "color": "#2a3f5f"
            },
            "error_y": {
             "color": "#2a3f5f"
            },
            "marker": {
             "line": {
              "color": "#E5ECF6",
              "width": 0.5
             },
             "pattern": {
              "fillmode": "overlay",
              "size": 10,
              "solidity": 0.2
             }
            },
            "type": "bar"
           }
          ],
          "barpolar": [
           {
            "marker": {
             "line": {
              "color": "#E5ECF6",
              "width": 0.5
             },
             "pattern": {
              "fillmode": "overlay",
              "size": 10,
              "solidity": 0.2
             }
            },
            "type": "barpolar"
           }
          ],
          "carpet": [
           {
            "aaxis": {
             "endlinecolor": "#2a3f5f",
             "gridcolor": "white",
             "linecolor": "white",
             "minorgridcolor": "white",
             "startlinecolor": "#2a3f5f"
            },
            "baxis": {
             "endlinecolor": "#2a3f5f",
             "gridcolor": "white",
             "linecolor": "white",
             "minorgridcolor": "white",
             "startlinecolor": "#2a3f5f"
            },
            "type": "carpet"
           }
          ],
          "choropleth": [
           {
            "colorbar": {
             "outlinewidth": 0,
             "ticks": ""
            },
            "type": "choropleth"
           }
          ],
          "contour": [
           {
            "colorbar": {
             "outlinewidth": 0,
             "ticks": ""
            },
            "colorscale": [
             [
              0,
              "#0d0887"
             ],
             [
              0.1111111111111111,
              "#46039f"
             ],
             [
              0.2222222222222222,
              "#7201a8"
             ],
             [
              0.3333333333333333,
              "#9c179e"
             ],
             [
              0.4444444444444444,
              "#bd3786"
             ],
             [
              0.5555555555555556,
              "#d8576b"
             ],
             [
              0.6666666666666666,
              "#ed7953"
             ],
             [
              0.7777777777777778,
              "#fb9f3a"
             ],
             [
              0.8888888888888888,
              "#fdca26"
             ],
             [
              1,
              "#f0f921"
             ]
            ],
            "type": "contour"
           }
          ],
          "contourcarpet": [
           {
            "colorbar": {
             "outlinewidth": 0,
             "ticks": ""
            },
            "type": "contourcarpet"
           }
          ],
          "heatmap": [
           {
            "colorbar": {
             "outlinewidth": 0,
             "ticks": ""
            },
            "colorscale": [
             [
              0,
              "#0d0887"
             ],
             [
              0.1111111111111111,
              "#46039f"
             ],
             [
              0.2222222222222222,
              "#7201a8"
             ],
             [
              0.3333333333333333,
              "#9c179e"
             ],
             [
              0.4444444444444444,
              "#bd3786"
             ],
             [
              0.5555555555555556,
              "#d8576b"
             ],
             [
              0.6666666666666666,
              "#ed7953"
             ],
             [
              0.7777777777777778,
              "#fb9f3a"
             ],
             [
              0.8888888888888888,
              "#fdca26"
             ],
             [
              1,
              "#f0f921"
             ]
            ],
            "type": "heatmap"
           }
          ],
          "heatmapgl": [
           {
            "colorbar": {
             "outlinewidth": 0,
             "ticks": ""
            },
            "colorscale": [
             [
              0,
              "#0d0887"
             ],
             [
              0.1111111111111111,
              "#46039f"
             ],
             [
              0.2222222222222222,
              "#7201a8"
             ],
             [
              0.3333333333333333,
              "#9c179e"
             ],
             [
              0.4444444444444444,
              "#bd3786"
             ],
             [
              0.5555555555555556,
              "#d8576b"
             ],
             [
              0.6666666666666666,
              "#ed7953"
             ],
             [
              0.7777777777777778,
              "#fb9f3a"
             ],
             [
              0.8888888888888888,
              "#fdca26"
             ],
             [
              1,
              "#f0f921"
             ]
            ],
            "type": "heatmapgl"
           }
          ],
          "histogram": [
           {
            "marker": {
             "pattern": {
              "fillmode": "overlay",
              "size": 10,
              "solidity": 0.2
             }
            },
            "type": "histogram"
           }
          ],
          "histogram2d": [
           {
            "colorbar": {
             "outlinewidth": 0,
             "ticks": ""
            },
            "colorscale": [
             [
              0,
              "#0d0887"
             ],
             [
              0.1111111111111111,
              "#46039f"
             ],
             [
              0.2222222222222222,
              "#7201a8"
             ],
             [
              0.3333333333333333,
              "#9c179e"
             ],
             [
              0.4444444444444444,
              "#bd3786"
             ],
             [
              0.5555555555555556,
              "#d8576b"
             ],
             [
              0.6666666666666666,
              "#ed7953"
             ],
             [
              0.7777777777777778,
              "#fb9f3a"
             ],
             [
              0.8888888888888888,
              "#fdca26"
             ],
             [
              1,
              "#f0f921"
             ]
            ],
            "type": "histogram2d"
           }
          ],
          "histogram2dcontour": [
           {
            "colorbar": {
             "outlinewidth": 0,
             "ticks": ""
            },
            "colorscale": [
             [
              0,
              "#0d0887"
             ],
             [
              0.1111111111111111,
              "#46039f"
             ],
             [
              0.2222222222222222,
              "#7201a8"
             ],
             [
              0.3333333333333333,
              "#9c179e"
             ],
             [
              0.4444444444444444,
              "#bd3786"
             ],
             [
              0.5555555555555556,
              "#d8576b"
             ],
             [
              0.6666666666666666,
              "#ed7953"
             ],
             [
              0.7777777777777778,
              "#fb9f3a"
             ],
             [
              0.8888888888888888,
              "#fdca26"
             ],
             [
              1,
              "#f0f921"
             ]
            ],
            "type": "histogram2dcontour"
           }
          ],
          "mesh3d": [
           {
            "colorbar": {
             "outlinewidth": 0,
             "ticks": ""
            },
            "type": "mesh3d"
           }
          ],
          "parcoords": [
           {
            "line": {
             "colorbar": {
              "outlinewidth": 0,
              "ticks": ""
             }
            },
            "type": "parcoords"
           }
          ],
          "pie": [
           {
            "automargin": true,
            "type": "pie"
           }
          ],
          "scatter": [
           {
            "fillpattern": {
             "fillmode": "overlay",
             "size": 10,
             "solidity": 0.2
            },
            "type": "scatter"
           }
          ],
          "scatter3d": [
           {
            "line": {
             "colorbar": {
              "outlinewidth": 0,
              "ticks": ""
             }
            },
            "marker": {
             "colorbar": {
              "outlinewidth": 0,
              "ticks": ""
             }
            },
            "type": "scatter3d"
           }
          ],
          "scattercarpet": [
           {
            "marker": {
             "colorbar": {
              "outlinewidth": 0,
              "ticks": ""
             }
            },
            "type": "scattercarpet"
           }
          ],
          "scattergeo": [
           {
            "marker": {
             "colorbar": {
              "outlinewidth": 0,
              "ticks": ""
             }
            },
            "type": "scattergeo"
           }
          ],
          "scattergl": [
           {
            "marker": {
             "colorbar": {
              "outlinewidth": 0,
              "ticks": ""
             }
            },
            "type": "scattergl"
           }
          ],
          "scattermapbox": [
           {
            "marker": {
             "colorbar": {
              "outlinewidth": 0,
              "ticks": ""
             }
            },
            "type": "scattermapbox"
           }
          ],
          "scatterpolar": [
           {
            "marker": {
             "colorbar": {
              "outlinewidth": 0,
              "ticks": ""
             }
            },
            "type": "scatterpolar"
           }
          ],
          "scatterpolargl": [
           {
            "marker": {
             "colorbar": {
              "outlinewidth": 0,
              "ticks": ""
             }
            },
            "type": "scatterpolargl"
           }
          ],
          "scatterternary": [
           {
            "marker": {
             "colorbar": {
              "outlinewidth": 0,
              "ticks": ""
             }
            },
            "type": "scatterternary"
           }
          ],
          "surface": [
           {
            "colorbar": {
             "outlinewidth": 0,
             "ticks": ""
            },
            "colorscale": [
             [
              0,
              "#0d0887"
             ],
             [
              0.1111111111111111,
              "#46039f"
             ],
             [
              0.2222222222222222,
              "#7201a8"
             ],
             [
              0.3333333333333333,
              "#9c179e"
             ],
             [
              0.4444444444444444,
              "#bd3786"
             ],
             [
              0.5555555555555556,
              "#d8576b"
             ],
             [
              0.6666666666666666,
              "#ed7953"
             ],
             [
              0.7777777777777778,
              "#fb9f3a"
             ],
             [
              0.8888888888888888,
              "#fdca26"
             ],
             [
              1,
              "#f0f921"
             ]
            ],
            "type": "surface"
           }
          ],
          "table": [
           {
            "cells": {
             "fill": {
              "color": "#EBF0F8"
             },
             "line": {
              "color": "white"
             }
            },
            "header": {
             "fill": {
              "color": "#C8D4E3"
             },
             "line": {
              "color": "white"
             }
            },
            "type": "table"
           }
          ]
         },
         "layout": {
          "annotationdefaults": {
           "arrowcolor": "#2a3f5f",
           "arrowhead": 0,
           "arrowwidth": 1
          },
          "autotypenumbers": "strict",
          "coloraxis": {
           "colorbar": {
            "outlinewidth": 0,
            "ticks": ""
           }
          },
          "colorscale": {
           "diverging": [
            [
             0,
             "#8e0152"
            ],
            [
             0.1,
             "#c51b7d"
            ],
            [
             0.2,
             "#de77ae"
            ],
            [
             0.3,
             "#f1b6da"
            ],
            [
             0.4,
             "#fde0ef"
            ],
            [
             0.5,
             "#f7f7f7"
            ],
            [
             0.6,
             "#e6f5d0"
            ],
            [
             0.7,
             "#b8e186"
            ],
            [
             0.8,
             "#7fbc41"
            ],
            [
             0.9,
             "#4d9221"
            ],
            [
             1,
             "#276419"
            ]
           ],
           "sequential": [
            [
             0,
             "#0d0887"
            ],
            [
             0.1111111111111111,
             "#46039f"
            ],
            [
             0.2222222222222222,
             "#7201a8"
            ],
            [
             0.3333333333333333,
             "#9c179e"
            ],
            [
             0.4444444444444444,
             "#bd3786"
            ],
            [
             0.5555555555555556,
             "#d8576b"
            ],
            [
             0.6666666666666666,
             "#ed7953"
            ],
            [
             0.7777777777777778,
             "#fb9f3a"
            ],
            [
             0.8888888888888888,
             "#fdca26"
            ],
            [
             1,
             "#f0f921"
            ]
           ],
           "sequentialminus": [
            [
             0,
             "#0d0887"
            ],
            [
             0.1111111111111111,
             "#46039f"
            ],
            [
             0.2222222222222222,
             "#7201a8"
            ],
            [
             0.3333333333333333,
             "#9c179e"
            ],
            [
             0.4444444444444444,
             "#bd3786"
            ],
            [
             0.5555555555555556,
             "#d8576b"
            ],
            [
             0.6666666666666666,
             "#ed7953"
            ],
            [
             0.7777777777777778,
             "#fb9f3a"
            ],
            [
             0.8888888888888888,
             "#fdca26"
            ],
            [
             1,
             "#f0f921"
            ]
           ]
          },
          "colorway": [
           "#636efa",
           "#EF553B",
           "#00cc96",
           "#ab63fa",
           "#FFA15A",
           "#19d3f3",
           "#FF6692",
           "#B6E880",
           "#FF97FF",
           "#FECB52"
          ],
          "font": {
           "color": "#2a3f5f"
          },
          "geo": {
           "bgcolor": "white",
           "lakecolor": "white",
           "landcolor": "#E5ECF6",
           "showlakes": true,
           "showland": true,
           "subunitcolor": "white"
          },
          "hoverlabel": {
           "align": "left"
          },
          "hovermode": "closest",
          "mapbox": {
           "style": "light"
          },
          "paper_bgcolor": "white",
          "plot_bgcolor": "#E5ECF6",
          "polar": {
           "angularaxis": {
            "gridcolor": "white",
            "linecolor": "white",
            "ticks": ""
           },
           "bgcolor": "#E5ECF6",
           "radialaxis": {
            "gridcolor": "white",
            "linecolor": "white",
            "ticks": ""
           }
          },
          "scene": {
           "xaxis": {
            "backgroundcolor": "#E5ECF6",
            "gridcolor": "white",
            "gridwidth": 2,
            "linecolor": "white",
            "showbackground": true,
            "ticks": "",
            "zerolinecolor": "white"
           },
           "yaxis": {
            "backgroundcolor": "#E5ECF6",
            "gridcolor": "white",
            "gridwidth": 2,
            "linecolor": "white",
            "showbackground": true,
            "ticks": "",
            "zerolinecolor": "white"
           },
           "zaxis": {
            "backgroundcolor": "#E5ECF6",
            "gridcolor": "white",
            "gridwidth": 2,
            "linecolor": "white",
            "showbackground": true,
            "ticks": "",
            "zerolinecolor": "white"
           }
          },
          "shapedefaults": {
           "line": {
            "color": "#2a3f5f"
           }
          },
          "ternary": {
           "aaxis": {
            "gridcolor": "white",
            "linecolor": "white",
            "ticks": ""
           },
           "baxis": {
            "gridcolor": "white",
            "linecolor": "white",
            "ticks": ""
           },
           "bgcolor": "#E5ECF6",
           "caxis": {
            "gridcolor": "white",
            "linecolor": "white",
            "ticks": ""
           }
          },
          "title": {
           "x": 0.05
          },
          "xaxis": {
           "automargin": true,
           "gridcolor": "white",
           "linecolor": "white",
           "ticks": "",
           "title": {
            "standoff": 15
           },
           "zerolinecolor": "white",
           "zerolinewidth": 2
          },
          "yaxis": {
           "automargin": true,
           "gridcolor": "white",
           "linecolor": "white",
           "ticks": "",
           "title": {
            "standoff": 15
           },
           "zerolinecolor": "white",
           "zerolinewidth": 2
          }
         }
        },
        "violinmode": "overlay",
        "xaxis": {
         "anchor": "y",
         "categoryarray": [
          3,
          4
         ],
         "categoryorder": "array",
         "domain": [
          0,
          1
         ],
         "title": {
          "text": "Bedroom"
         }
        },
        "yaxis": {
         "anchor": "x",
         "domain": [
          0,
          1
         ],
         "title": {
          "text": "Price"
         }
        }
       }
      }
     },
     "metadata": {},
     "output_type": "display_data"
    }
   ],
   "source": [
    "fig = px.violin(df_34br_atleast2ba, y=\"Price\", x=\"Bedroom\", color=\"Bedroom\", box=True, points=\"all\", hover_data=df_34br_atleast2ba.columns)\n",
    "fig.show()"
   ]
  },
  {
   "cell_type": "markdown",
   "metadata": {},
   "source": [
    "There are some outliers above 10k price, most of the houses are under 5k. Probably, the above 10k houses are located in the expensive neighborbood. Let's check and see"
   ]
  },
  {
   "cell_type": "code",
   "execution_count": 93,
   "metadata": {},
   "outputs": [],
   "source": [
    "expensive_houses = df_34br_atleast2ba[df_34br_atleast2ba.Price >=10000]"
   ]
  },
  {
   "cell_type": "code",
   "execution_count": 94,
   "metadata": {},
   "outputs": [
    {
     "data": {
      "text/html": [
       "<div>\n",
       "<style scoped>\n",
       "    .dataframe tbody tr th:only-of-type {\n",
       "        vertical-align: middle;\n",
       "    }\n",
       "\n",
       "    .dataframe tbody tr th {\n",
       "        vertical-align: top;\n",
       "    }\n",
       "\n",
       "    .dataframe thead th {\n",
       "        text-align: right;\n",
       "    }\n",
       "</style>\n",
       "<table border=\"1\" class=\"dataframe\">\n",
       "  <thead>\n",
       "    <tr style=\"text-align: right;\">\n",
       "      <th></th>\n",
       "      <th>Title</th>\n",
       "      <th>Address</th>\n",
       "      <th>Bedroom</th>\n",
       "      <th>Bathroom</th>\n",
       "      <th>Price</th>\n",
       "      <th>City</th>\n",
       "      <th>State</th>\n",
       "      <th>Zipcode</th>\n",
       "    </tr>\n",
       "  </thead>\n",
       "  <tbody>\n",
       "    <tr>\n",
       "      <th>53</th>\n",
       "      <td>Townhouse</td>\n",
       "      <td>1421 N Nash St, Arlington, VA 22209</td>\n",
       "      <td>3</td>\n",
       "      <td>6.0</td>\n",
       "      <td>12000</td>\n",
       "      <td>Arlington</td>\n",
       "      <td>VA</td>\n",
       "      <td>22209</td>\n",
       "    </tr>\n",
       "    <tr>\n",
       "      <th>82</th>\n",
       "      <td>Townhouse</td>\n",
       "      <td>322 Adolf Cluss Ct SE, Washington, DC 20003</td>\n",
       "      <td>3</td>\n",
       "      <td>3.5</td>\n",
       "      <td>12000</td>\n",
       "      <td>Washington</td>\n",
       "      <td>DC</td>\n",
       "      <td>20003</td>\n",
       "    </tr>\n",
       "    <tr>\n",
       "      <th>106</th>\n",
       "      <td>House</td>\n",
       "      <td>3500 P St NW, Washington, DC 20007</td>\n",
       "      <td>4</td>\n",
       "      <td>3.5</td>\n",
       "      <td>10500</td>\n",
       "      <td>Washington</td>\n",
       "      <td>DC</td>\n",
       "      <td>20007</td>\n",
       "    </tr>\n",
       "    <tr>\n",
       "      <th>107</th>\n",
       "      <td>Townhouse</td>\n",
       "      <td>1227 33rd St NW, Washington, DC 20007</td>\n",
       "      <td>4</td>\n",
       "      <td>2.5</td>\n",
       "      <td>10000</td>\n",
       "      <td>Washington</td>\n",
       "      <td>DC</td>\n",
       "      <td>20007</td>\n",
       "    </tr>\n",
       "    <tr>\n",
       "      <th>155</th>\n",
       "      <td>Townhouse</td>\n",
       "      <td>2022 Hillyer Place NW, Washington, DC 20009</td>\n",
       "      <td>4</td>\n",
       "      <td>3.0</td>\n",
       "      <td>15000</td>\n",
       "      <td>Washington</td>\n",
       "      <td>DC</td>\n",
       "      <td>20009</td>\n",
       "    </tr>\n",
       "    <tr>\n",
       "      <th>181</th>\n",
       "      <td>Townhouse</td>\n",
       "      <td>1420 Paloma Way NW, Washington, DC 20009</td>\n",
       "      <td>3</td>\n",
       "      <td>2.5</td>\n",
       "      <td>12500</td>\n",
       "      <td>Washington</td>\n",
       "      <td>DC</td>\n",
       "      <td>20009</td>\n",
       "    </tr>\n",
       "    <tr>\n",
       "      <th>184</th>\n",
       "      <td>Townhouse</td>\n",
       "      <td>1604 13th St NW, Washington, DC 20009</td>\n",
       "      <td>4</td>\n",
       "      <td>3.0</td>\n",
       "      <td>16500</td>\n",
       "      <td>Washington</td>\n",
       "      <td>DC</td>\n",
       "      <td>20009</td>\n",
       "    </tr>\n",
       "    <tr>\n",
       "      <th>205</th>\n",
       "      <td>House</td>\n",
       "      <td>45 Sutton Square SW Unit 908, Washington, DC 2...</td>\n",
       "      <td>3</td>\n",
       "      <td>3.5</td>\n",
       "      <td>20000</td>\n",
       "      <td>Washington</td>\n",
       "      <td>DC</td>\n",
       "      <td>20024</td>\n",
       "    </tr>\n",
       "    <tr>\n",
       "      <th>218</th>\n",
       "      <td>House</td>\n",
       "      <td>1414 35th St NW, Washington, DC 20007</td>\n",
       "      <td>4</td>\n",
       "      <td>2.0</td>\n",
       "      <td>10995</td>\n",
       "      <td>Washington</td>\n",
       "      <td>DC</td>\n",
       "      <td>20007</td>\n",
       "    </tr>\n",
       "  </tbody>\n",
       "</table>\n",
       "</div>"
      ],
      "text/plain": [
       "         Title                                            Address  Bedroom  \\\n",
       "53   Townhouse                1421 N Nash St, Arlington, VA 22209        3   \n",
       "82   Townhouse        322 Adolf Cluss Ct SE, Washington, DC 20003        3   \n",
       "106      House                 3500 P St NW, Washington, DC 20007        4   \n",
       "107  Townhouse              1227 33rd St NW, Washington, DC 20007        4   \n",
       "155  Townhouse        2022 Hillyer Place NW, Washington, DC 20009        4   \n",
       "181  Townhouse           1420 Paloma Way NW, Washington, DC 20009        3   \n",
       "184  Townhouse              1604 13th St NW, Washington, DC 20009        4   \n",
       "205      House  45 Sutton Square SW Unit 908, Washington, DC 2...        3   \n",
       "218      House              1414 35th St NW, Washington, DC 20007        4   \n",
       "\n",
       "     Bathroom  Price        City State Zipcode  \n",
       "53        6.0  12000   Arlington    VA   22209  \n",
       "82        3.5  12000  Washington    DC   20003  \n",
       "106       3.5  10500  Washington    DC   20007  \n",
       "107       2.5  10000  Washington    DC   20007  \n",
       "155       3.0  15000  Washington    DC   20009  \n",
       "181       2.5  12500  Washington    DC   20009  \n",
       "184       3.0  16500  Washington    DC   20009  \n",
       "205       3.5  20000  Washington    DC   20024  \n",
       "218       2.0  10995  Washington    DC   20007  "
      ]
     },
     "execution_count": 94,
     "metadata": {},
     "output_type": "execute_result"
    }
   ],
   "source": [
    "expensive_houses"
   ]
  },
  {
   "cell_type": "code",
   "execution_count": 95,
   "metadata": {},
   "outputs": [
    {
     "data": {
      "text/plain": [
       "City\n",
       "Washington           143\n",
       "Woodbridge            93\n",
       "Alexandria            62\n",
       "Vienna                47\n",
       "Arlington             47\n",
       "Fairfax               45\n",
       "Herndon               43\n",
       "Falls Church          29\n",
       "Springfield           28\n",
       "McLean                24\n",
       "Reston                23\n",
       "Manassas              21\n",
       "Dumfries              20\n",
       "Centreville           19\n",
       "Burke                 12\n",
       "Annandale             11\n",
       "Lorton                 8\n",
       "Haymarket              8\n",
       "Gainesville            7\n",
       "Bethesda               7\n",
       "Chevy Chase            6\n",
       "Great Falls            6\n",
       "Chantilly              5\n",
       "Bristow                5\n",
       "Temple Hills           4\n",
       "Hyattsville            4\n",
       "Capitol Heights        3\n",
       "Triangle               3\n",
       "Silver Spring          3\n",
       "Oakton                 3\n",
       "Potomac                2\n",
       "Mount Rainier          2\n",
       "Nokesville             2\n",
       "Sterling               2\n",
       "Oak Hill               2\n",
       "Brentwood              1\n",
       "Cheverly               1\n",
       "Oxon Hill              1\n",
       "Fairfax Station        1\n",
       "Catharpin              1\n",
       "Clifton                1\n",
       "Old Town Manassas      1\n",
       "Cabin John             1\n",
       "Name: count, dtype: int64"
      ]
     },
     "execution_count": 95,
     "metadata": {},
     "output_type": "execute_result"
    }
   ],
   "source": [
    "df_34br_atleast2ba.City.value_counts()"
   ]
  },
  {
   "cell_type": "markdown",
   "metadata": {},
   "source": [
    "## Problem Statement"
   ]
  },
  {
   "cell_type": "code",
   "execution_count": null,
   "metadata": {},
   "outputs": [],
   "source": [
    "# always update plotly as it receives regular updates\n",
    "!pip install --upgrade plotly"
   ]
  },
  {
   "cell_type": "markdown",
   "metadata": {},
   "source": [
    "We are searching for rental houses in the Washington, D.C. area that meet specific criteria to ensure convenience and safety. Our primary considerations include:  \n",
    "\n",
    "- Metro Proximity: We prioritize houses located near metro stations for easy commuting.  \n",
    "\n",
    "- Low Crime Index: Safety is paramount, so we are looking for areas with a low crime index.  \n",
    "\n",
    "- Property Specifications: We require houses with a minimum of 3-4 bedrooms and at least 2 bathrooms.  \n",
    "\n",
    "To make an informed decision, we plan to compare properties based on these criteria, including metro proximity, crime index, bedroom and bathroom count, city, and zipcode. We aim to calculate the median rental prices for each criterion to help us identify the most suitable options"
   ]
  },
  {
   "cell_type": "markdown",
   "metadata": {},
   "source": [
    "Save the df to csv file"
   ]
  },
  {
   "cell_type": "code",
   "execution_count": 138,
   "metadata": {},
   "outputs": [
    {
     "name": "stdout",
     "output_type": "stream",
     "text": [
      "<class 'pandas.core.frame.DataFrame'>\n",
      "Index: 757 entries, 5 to 95\n",
      "Data columns (total 8 columns):\n",
      " #   Column    Non-Null Count  Dtype  \n",
      "---  ------    --------------  -----  \n",
      " 0   Title     757 non-null    object \n",
      " 1   Address   757 non-null    object \n",
      " 2   Bedroom   757 non-null    int64  \n",
      " 3   Bathroom  757 non-null    float64\n",
      " 4   Price     757 non-null    int64  \n",
      " 5   City      757 non-null    object \n",
      " 6   State     757 non-null    object \n",
      " 7   Zipcode   757 non-null    object \n",
      "dtypes: float64(1), int64(2), object(5)\n",
      "memory usage: 53.2+ KB\n"
     ]
    }
   ],
   "source": [
    "df_34br_atleast2ba.info()"
   ]
  },
  {
   "cell_type": "markdown",
   "metadata": {},
   "source": [
    "Adding longitude and latitude"
   ]
  },
  {
   "cell_type": "code",
   "execution_count": 142,
   "metadata": {},
   "outputs": [
    {
     "data": {
      "text/html": [
       "<div>\n",
       "<style scoped>\n",
       "    .dataframe tbody tr th:only-of-type {\n",
       "        vertical-align: middle;\n",
       "    }\n",
       "\n",
       "    .dataframe tbody tr th {\n",
       "        vertical-align: top;\n",
       "    }\n",
       "\n",
       "    .dataframe thead th {\n",
       "        text-align: right;\n",
       "    }\n",
       "</style>\n",
       "<table border=\"1\" class=\"dataframe\">\n",
       "  <thead>\n",
       "    <tr style=\"text-align: right;\">\n",
       "      <th></th>\n",
       "      <th>Zipcode</th>\n",
       "      <th>Latitude</th>\n",
       "      <th>Longitude</th>\n",
       "    </tr>\n",
       "  </thead>\n",
       "  <tbody>\n",
       "    <tr>\n",
       "      <th>0</th>\n",
       "      <td>22315</td>\n",
       "      <td>38.7569</td>\n",
       "      <td>-77.1480</td>\n",
       "    </tr>\n",
       "    <tr>\n",
       "      <th>1</th>\n",
       "      <td>22314</td>\n",
       "      <td>38.8074</td>\n",
       "      <td>-77.0567</td>\n",
       "    </tr>\n",
       "    <tr>\n",
       "      <th>2</th>\n",
       "      <td>22312</td>\n",
       "      <td>38.8177</td>\n",
       "      <td>-77.1538</td>\n",
       "    </tr>\n",
       "    <tr>\n",
       "      <th>3</th>\n",
       "      <td>22311</td>\n",
       "      <td>38.8340</td>\n",
       "      <td>-77.1215</td>\n",
       "    </tr>\n",
       "    <tr>\n",
       "      <th>4</th>\n",
       "      <td>22310</td>\n",
       "      <td>38.7832</td>\n",
       "      <td>-77.1230</td>\n",
       "    </tr>\n",
       "  </tbody>\n",
       "</table>\n",
       "</div>"
      ],
      "text/plain": [
       "   Zipcode  Latitude   Longitude \n",
       "0    22315    38.7569    -77.1480\n",
       "1    22314    38.8074    -77.0567\n",
       "2    22312    38.8177    -77.1538\n",
       "3    22311    38.8340    -77.1215\n",
       "4    22310    38.7832    -77.1230"
      ]
     },
     "execution_count": 142,
     "metadata": {},
     "output_type": "execute_result"
    }
   ],
   "source": [
    "long_lat_rentals = pd.read_excel(path+'long_lat_rentals.xlsx')\n",
    "long_lat_rentals.head()"
   ]
  },
  {
   "cell_type": "code",
   "execution_count": 143,
   "metadata": {},
   "outputs": [],
   "source": [
    "long_lat_rentals['Zipcode'] = long_lat_rentals['Zipcode'].astype('str')"
   ]
  },
  {
   "cell_type": "markdown",
   "metadata": {},
   "source": [
    "Merging longitude and lattitude into the df_34br_atleast2ba"
   ]
  },
  {
   "cell_type": "code",
   "execution_count": 147,
   "metadata": {},
   "outputs": [],
   "source": [
    "merged_rentals = df_34br_atleast2ba.merge(long_lat_rentals, on='Zipcode', how='inner')"
   ]
  },
  {
   "cell_type": "code",
   "execution_count": 151,
   "metadata": {},
   "outputs": [
    {
     "name": "stdout",
     "output_type": "stream",
     "text": [
      "/Users/jenniferma/Desktop/rentals\n"
     ]
    }
   ],
   "source": [
    "!pwd"
   ]
  },
  {
   "cell_type": "code",
   "execution_count": 148,
   "metadata": {},
   "outputs": [],
   "source": [
    "merged_rentals.to_csv('df_34br_atleast2ba.csv')"
   ]
  },
  {
   "cell_type": "markdown",
   "metadata": {},
   "source": [
    "for some reasons, after reading the file, Zipcode column again change to int type!!"
   ]
  },
  {
   "cell_type": "markdown",
   "metadata": {},
   "source": [
    "# LOAD DF34BR_ATLEAST2BA DF"
   ]
  },
  {
   "cell_type": "code",
   "execution_count": 40,
   "metadata": {},
   "outputs": [],
   "source": [
    "df_34br_atleast2ba = pd.read_csv('df_34br_atleast2ba.csv', index_col=[0])"
   ]
  },
  {
   "cell_type": "code",
   "execution_count": 99,
   "metadata": {},
   "outputs": [],
   "source": [
    "# let's plot bar chart of top 20 cities with most data \n",
    "# Count the occurrences of each city in the DataFrame\n",
    "city_counts = df_34br_atleast2ba['City'].value_counts()\n",
    "\n",
    "# Select the top 20 cities counts\n",
    "top_20_cities = city_counts.head(20).index.tolist()\n",
    "\n",
    "# Filter the DataFrame to include only rows for the top 20 cities\n",
    "df_top_20_cities = df_34br_atleast2ba[df_34br_atleast2ba['City'].isin(top_20_cities)]\n"
   ]
  },
  {
   "cell_type": "code",
   "execution_count": 100,
   "metadata": {},
   "outputs": [
    {
     "data": {
      "application/vnd.plotly.v1+json": {
       "config": {
        "plotlyServerURL": "https://plot.ly"
       },
       "data": [
        {
         "alignmentgroup": "True",
         "hovertemplate": "Price=%{x}<br>City=%{y}<extra></extra>",
         "legendgroup": "",
         "marker": {
          "color": "#636efa",
          "pattern": {
           "shape": ""
          }
         },
         "name": "",
         "offsetgroup": "",
         "orientation": "h",
         "showlegend": false,
         "textposition": "auto",
         "type": "bar",
         "x": [
          2700,
          2700,
          2750,
          2946,
          2950,
          3000,
          3000,
          3050,
          3100,
          3150,
          3175,
          3200,
          3300,
          3400,
          3650,
          3700,
          4200,
          4500,
          4500,
          5295
         ],
         "xaxis": "x",
         "y": [
          "Woodbridge",
          "Manassas",
          "Centreville",
          "Haymarket",
          "Reston",
          "Burke",
          "Herndon",
          "Springfield",
          "Gainesville",
          "Lorton",
          "Dumfries",
          "Fairfax",
          "Annandale",
          "Alexandria",
          "Vienna",
          "Falls Church",
          "Arlington",
          "Washington",
          "McLean",
          "Bethesda"
         ],
         "yaxis": "y"
        }
       ],
       "layout": {
        "barmode": "relative",
        "legend": {
         "tracegroupgap": 0
        },
        "margin": {
         "t": 60
        },
        "template": {
         "data": {
          "bar": [
           {
            "error_x": {
             "color": "#2a3f5f"
            },
            "error_y": {
             "color": "#2a3f5f"
            },
            "marker": {
             "line": {
              "color": "#E5ECF6",
              "width": 0.5
             },
             "pattern": {
              "fillmode": "overlay",
              "size": 10,
              "solidity": 0.2
             }
            },
            "type": "bar"
           }
          ],
          "barpolar": [
           {
            "marker": {
             "line": {
              "color": "#E5ECF6",
              "width": 0.5
             },
             "pattern": {
              "fillmode": "overlay",
              "size": 10,
              "solidity": 0.2
             }
            },
            "type": "barpolar"
           }
          ],
          "carpet": [
           {
            "aaxis": {
             "endlinecolor": "#2a3f5f",
             "gridcolor": "white",
             "linecolor": "white",
             "minorgridcolor": "white",
             "startlinecolor": "#2a3f5f"
            },
            "baxis": {
             "endlinecolor": "#2a3f5f",
             "gridcolor": "white",
             "linecolor": "white",
             "minorgridcolor": "white",
             "startlinecolor": "#2a3f5f"
            },
            "type": "carpet"
           }
          ],
          "choropleth": [
           {
            "colorbar": {
             "outlinewidth": 0,
             "ticks": ""
            },
            "type": "choropleth"
           }
          ],
          "contour": [
           {
            "colorbar": {
             "outlinewidth": 0,
             "ticks": ""
            },
            "colorscale": [
             [
              0,
              "#0d0887"
             ],
             [
              0.1111111111111111,
              "#46039f"
             ],
             [
              0.2222222222222222,
              "#7201a8"
             ],
             [
              0.3333333333333333,
              "#9c179e"
             ],
             [
              0.4444444444444444,
              "#bd3786"
             ],
             [
              0.5555555555555556,
              "#d8576b"
             ],
             [
              0.6666666666666666,
              "#ed7953"
             ],
             [
              0.7777777777777778,
              "#fb9f3a"
             ],
             [
              0.8888888888888888,
              "#fdca26"
             ],
             [
              1,
              "#f0f921"
             ]
            ],
            "type": "contour"
           }
          ],
          "contourcarpet": [
           {
            "colorbar": {
             "outlinewidth": 0,
             "ticks": ""
            },
            "type": "contourcarpet"
           }
          ],
          "heatmap": [
           {
            "colorbar": {
             "outlinewidth": 0,
             "ticks": ""
            },
            "colorscale": [
             [
              0,
              "#0d0887"
             ],
             [
              0.1111111111111111,
              "#46039f"
             ],
             [
              0.2222222222222222,
              "#7201a8"
             ],
             [
              0.3333333333333333,
              "#9c179e"
             ],
             [
              0.4444444444444444,
              "#bd3786"
             ],
             [
              0.5555555555555556,
              "#d8576b"
             ],
             [
              0.6666666666666666,
              "#ed7953"
             ],
             [
              0.7777777777777778,
              "#fb9f3a"
             ],
             [
              0.8888888888888888,
              "#fdca26"
             ],
             [
              1,
              "#f0f921"
             ]
            ],
            "type": "heatmap"
           }
          ],
          "heatmapgl": [
           {
            "colorbar": {
             "outlinewidth": 0,
             "ticks": ""
            },
            "colorscale": [
             [
              0,
              "#0d0887"
             ],
             [
              0.1111111111111111,
              "#46039f"
             ],
             [
              0.2222222222222222,
              "#7201a8"
             ],
             [
              0.3333333333333333,
              "#9c179e"
             ],
             [
              0.4444444444444444,
              "#bd3786"
             ],
             [
              0.5555555555555556,
              "#d8576b"
             ],
             [
              0.6666666666666666,
              "#ed7953"
             ],
             [
              0.7777777777777778,
              "#fb9f3a"
             ],
             [
              0.8888888888888888,
              "#fdca26"
             ],
             [
              1,
              "#f0f921"
             ]
            ],
            "type": "heatmapgl"
           }
          ],
          "histogram": [
           {
            "marker": {
             "pattern": {
              "fillmode": "overlay",
              "size": 10,
              "solidity": 0.2
             }
            },
            "type": "histogram"
           }
          ],
          "histogram2d": [
           {
            "colorbar": {
             "outlinewidth": 0,
             "ticks": ""
            },
            "colorscale": [
             [
              0,
              "#0d0887"
             ],
             [
              0.1111111111111111,
              "#46039f"
             ],
             [
              0.2222222222222222,
              "#7201a8"
             ],
             [
              0.3333333333333333,
              "#9c179e"
             ],
             [
              0.4444444444444444,
              "#bd3786"
             ],
             [
              0.5555555555555556,
              "#d8576b"
             ],
             [
              0.6666666666666666,
              "#ed7953"
             ],
             [
              0.7777777777777778,
              "#fb9f3a"
             ],
             [
              0.8888888888888888,
              "#fdca26"
             ],
             [
              1,
              "#f0f921"
             ]
            ],
            "type": "histogram2d"
           }
          ],
          "histogram2dcontour": [
           {
            "colorbar": {
             "outlinewidth": 0,
             "ticks": ""
            },
            "colorscale": [
             [
              0,
              "#0d0887"
             ],
             [
              0.1111111111111111,
              "#46039f"
             ],
             [
              0.2222222222222222,
              "#7201a8"
             ],
             [
              0.3333333333333333,
              "#9c179e"
             ],
             [
              0.4444444444444444,
              "#bd3786"
             ],
             [
              0.5555555555555556,
              "#d8576b"
             ],
             [
              0.6666666666666666,
              "#ed7953"
             ],
             [
              0.7777777777777778,
              "#fb9f3a"
             ],
             [
              0.8888888888888888,
              "#fdca26"
             ],
             [
              1,
              "#f0f921"
             ]
            ],
            "type": "histogram2dcontour"
           }
          ],
          "mesh3d": [
           {
            "colorbar": {
             "outlinewidth": 0,
             "ticks": ""
            },
            "type": "mesh3d"
           }
          ],
          "parcoords": [
           {
            "line": {
             "colorbar": {
              "outlinewidth": 0,
              "ticks": ""
             }
            },
            "type": "parcoords"
           }
          ],
          "pie": [
           {
            "automargin": true,
            "type": "pie"
           }
          ],
          "scatter": [
           {
            "fillpattern": {
             "fillmode": "overlay",
             "size": 10,
             "solidity": 0.2
            },
            "type": "scatter"
           }
          ],
          "scatter3d": [
           {
            "line": {
             "colorbar": {
              "outlinewidth": 0,
              "ticks": ""
             }
            },
            "marker": {
             "colorbar": {
              "outlinewidth": 0,
              "ticks": ""
             }
            },
            "type": "scatter3d"
           }
          ],
          "scattercarpet": [
           {
            "marker": {
             "colorbar": {
              "outlinewidth": 0,
              "ticks": ""
             }
            },
            "type": "scattercarpet"
           }
          ],
          "scattergeo": [
           {
            "marker": {
             "colorbar": {
              "outlinewidth": 0,
              "ticks": ""
             }
            },
            "type": "scattergeo"
           }
          ],
          "scattergl": [
           {
            "marker": {
             "colorbar": {
              "outlinewidth": 0,
              "ticks": ""
             }
            },
            "type": "scattergl"
           }
          ],
          "scattermapbox": [
           {
            "marker": {
             "colorbar": {
              "outlinewidth": 0,
              "ticks": ""
             }
            },
            "type": "scattermapbox"
           }
          ],
          "scatterpolar": [
           {
            "marker": {
             "colorbar": {
              "outlinewidth": 0,
              "ticks": ""
             }
            },
            "type": "scatterpolar"
           }
          ],
          "scatterpolargl": [
           {
            "marker": {
             "colorbar": {
              "outlinewidth": 0,
              "ticks": ""
             }
            },
            "type": "scatterpolargl"
           }
          ],
          "scatterternary": [
           {
            "marker": {
             "colorbar": {
              "outlinewidth": 0,
              "ticks": ""
             }
            },
            "type": "scatterternary"
           }
          ],
          "surface": [
           {
            "colorbar": {
             "outlinewidth": 0,
             "ticks": ""
            },
            "colorscale": [
             [
              0,
              "#0d0887"
             ],
             [
              0.1111111111111111,
              "#46039f"
             ],
             [
              0.2222222222222222,
              "#7201a8"
             ],
             [
              0.3333333333333333,
              "#9c179e"
             ],
             [
              0.4444444444444444,
              "#bd3786"
             ],
             [
              0.5555555555555556,
              "#d8576b"
             ],
             [
              0.6666666666666666,
              "#ed7953"
             ],
             [
              0.7777777777777778,
              "#fb9f3a"
             ],
             [
              0.8888888888888888,
              "#fdca26"
             ],
             [
              1,
              "#f0f921"
             ]
            ],
            "type": "surface"
           }
          ],
          "table": [
           {
            "cells": {
             "fill": {
              "color": "#EBF0F8"
             },
             "line": {
              "color": "white"
             }
            },
            "header": {
             "fill": {
              "color": "#C8D4E3"
             },
             "line": {
              "color": "white"
             }
            },
            "type": "table"
           }
          ]
         },
         "layout": {
          "annotationdefaults": {
           "arrowcolor": "#2a3f5f",
           "arrowhead": 0,
           "arrowwidth": 1
          },
          "autotypenumbers": "strict",
          "coloraxis": {
           "colorbar": {
            "outlinewidth": 0,
            "ticks": ""
           }
          },
          "colorscale": {
           "diverging": [
            [
             0,
             "#8e0152"
            ],
            [
             0.1,
             "#c51b7d"
            ],
            [
             0.2,
             "#de77ae"
            ],
            [
             0.3,
             "#f1b6da"
            ],
            [
             0.4,
             "#fde0ef"
            ],
            [
             0.5,
             "#f7f7f7"
            ],
            [
             0.6,
             "#e6f5d0"
            ],
            [
             0.7,
             "#b8e186"
            ],
            [
             0.8,
             "#7fbc41"
            ],
            [
             0.9,
             "#4d9221"
            ],
            [
             1,
             "#276419"
            ]
           ],
           "sequential": [
            [
             0,
             "#0d0887"
            ],
            [
             0.1111111111111111,
             "#46039f"
            ],
            [
             0.2222222222222222,
             "#7201a8"
            ],
            [
             0.3333333333333333,
             "#9c179e"
            ],
            [
             0.4444444444444444,
             "#bd3786"
            ],
            [
             0.5555555555555556,
             "#d8576b"
            ],
            [
             0.6666666666666666,
             "#ed7953"
            ],
            [
             0.7777777777777778,
             "#fb9f3a"
            ],
            [
             0.8888888888888888,
             "#fdca26"
            ],
            [
             1,
             "#f0f921"
            ]
           ],
           "sequentialminus": [
            [
             0,
             "#0d0887"
            ],
            [
             0.1111111111111111,
             "#46039f"
            ],
            [
             0.2222222222222222,
             "#7201a8"
            ],
            [
             0.3333333333333333,
             "#9c179e"
            ],
            [
             0.4444444444444444,
             "#bd3786"
            ],
            [
             0.5555555555555556,
             "#d8576b"
            ],
            [
             0.6666666666666666,
             "#ed7953"
            ],
            [
             0.7777777777777778,
             "#fb9f3a"
            ],
            [
             0.8888888888888888,
             "#fdca26"
            ],
            [
             1,
             "#f0f921"
            ]
           ]
          },
          "colorway": [
           "#636efa",
           "#EF553B",
           "#00cc96",
           "#ab63fa",
           "#FFA15A",
           "#19d3f3",
           "#FF6692",
           "#B6E880",
           "#FF97FF",
           "#FECB52"
          ],
          "font": {
           "color": "#2a3f5f"
          },
          "geo": {
           "bgcolor": "white",
           "lakecolor": "white",
           "landcolor": "#E5ECF6",
           "showlakes": true,
           "showland": true,
           "subunitcolor": "white"
          },
          "hoverlabel": {
           "align": "left"
          },
          "hovermode": "closest",
          "mapbox": {
           "style": "light"
          },
          "paper_bgcolor": "white",
          "plot_bgcolor": "#E5ECF6",
          "polar": {
           "angularaxis": {
            "gridcolor": "white",
            "linecolor": "white",
            "ticks": ""
           },
           "bgcolor": "#E5ECF6",
           "radialaxis": {
            "gridcolor": "white",
            "linecolor": "white",
            "ticks": ""
           }
          },
          "scene": {
           "xaxis": {
            "backgroundcolor": "#E5ECF6",
            "gridcolor": "white",
            "gridwidth": 2,
            "linecolor": "white",
            "showbackground": true,
            "ticks": "",
            "zerolinecolor": "white"
           },
           "yaxis": {
            "backgroundcolor": "#E5ECF6",
            "gridcolor": "white",
            "gridwidth": 2,
            "linecolor": "white",
            "showbackground": true,
            "ticks": "",
            "zerolinecolor": "white"
           },
           "zaxis": {
            "backgroundcolor": "#E5ECF6",
            "gridcolor": "white",
            "gridwidth": 2,
            "linecolor": "white",
            "showbackground": true,
            "ticks": "",
            "zerolinecolor": "white"
           }
          },
          "shapedefaults": {
           "line": {
            "color": "#2a3f5f"
           }
          },
          "ternary": {
           "aaxis": {
            "gridcolor": "white",
            "linecolor": "white",
            "ticks": ""
           },
           "baxis": {
            "gridcolor": "white",
            "linecolor": "white",
            "ticks": ""
           },
           "bgcolor": "#E5ECF6",
           "caxis": {
            "gridcolor": "white",
            "linecolor": "white",
            "ticks": ""
           }
          },
          "title": {
           "x": 0.05
          },
          "xaxis": {
           "automargin": true,
           "gridcolor": "white",
           "linecolor": "white",
           "ticks": "",
           "title": {
            "standoff": 15
           },
           "zerolinecolor": "white",
           "zerolinewidth": 2
          },
          "yaxis": {
           "automargin": true,
           "gridcolor": "white",
           "linecolor": "white",
           "ticks": "",
           "title": {
            "standoff": 15
           },
           "zerolinecolor": "white",
           "zerolinewidth": 2
          }
         }
        },
        "title": {
         "text": "Median Price by City of Top 20 Highest Counts in 2023"
        },
        "xaxis": {
         "anchor": "y",
         "domain": [
          0,
          1
         ],
         "title": {
          "text": "Median Price ($)"
         }
        },
        "yaxis": {
         "anchor": "x",
         "domain": [
          0,
          1
         ],
         "title": {
          "text": ""
         }
        }
       }
      }
     },
     "metadata": {},
     "output_type": "display_data"
    }
   ],
   "source": [
    "# get median prices of top10 and bottom10\n",
    "median_top20cities = df_top_20_cities.groupby('City')['Price'].median().reset_index().sort_values(by='Price')\n",
    "\n",
    "# plot the top10\n",
    "fig = px.bar(median_top20cities, y='City', x='Price', orientation='h')\n",
    "fig.update_layout(\n",
    "    title=\"Median Price by City of Top 20 Highest Counts in 2023\",\n",
    "    yaxis_title=\"\",\n",
    "    xaxis_title=\"Median Price ($)\"\n",
    ")\n",
    "\n",
    "fig.show()"
   ]
  },
  {
   "cell_type": "code",
   "execution_count": 83,
   "metadata": {},
   "outputs": [
    {
     "data": {
      "application/vnd.plotly.v1+json": {
       "config": {
        "plotlyServerURL": "https://plot.ly"
       },
       "data": [
        {
         "alignmentgroup": "True",
         "box": {
          "visible": true
         },
         "hovertemplate": "Price=%{x}<br>City=%{y}<extra></extra>",
         "legendgroup": "",
         "marker": {
          "color": "#636efa"
         },
         "name": "",
         "offsetgroup": "",
         "orientation": "h",
         "points": "all",
         "scalegroup": "True",
         "showlegend": false,
         "type": "violin",
         "x": [
          2700,
          3200,
          3500,
          2650,
          3000,
          4000,
          3200,
          3200,
          3200,
          3375,
          4800,
          2550,
          3700,
          2800,
          3750,
          2600,
          3700,
          3000,
          3200,
          3100,
          2900,
          3250,
          2600,
          2850,
          2950,
          4100,
          3490,
          2900,
          2650,
          3400,
          2600,
          2999,
          3300,
          2690,
          3150,
          3675,
          2800,
          5500,
          2650,
          3500,
          3200,
          2500,
          2800,
          2600,
          2700,
          2750,
          3750,
          4000,
          4200,
          3700,
          3400,
          3700,
          4300,
          4500,
          3695,
          3300,
          3995,
          3095,
          3347,
          3999,
          3995,
          3850,
          3250,
          3400,
          3800,
          4200,
          3900,
          4500,
          2750,
          2500,
          3700,
          2900,
          2925,
          2895,
          3800,
          2650,
          3800,
          3000,
          2400,
          5000,
          2850,
          2950,
          3500,
          3250,
          2800,
          3800,
          3850,
          2700,
          3500,
          2595,
          3000,
          3400,
          2900,
          2995,
          3500,
          3000,
          3300,
          2600,
          3000,
          3595,
          2850,
          2750,
          5800,
          2495,
          3800,
          3230,
          3750,
          3900,
          8000,
          3600,
          3000,
          3400,
          2995,
          3500,
          3400,
          3250,
          3000,
          3400,
          4500,
          2750,
          3000,
          4100,
          2990,
          2650,
          3850,
          2400,
          3200,
          2425,
          3800,
          2900,
          2800,
          3700,
          3200,
          4850,
          3900,
          3650,
          3400,
          3225,
          3500,
          3400,
          2495,
          2900,
          3850,
          4300,
          3200,
          3750,
          3800,
          3200,
          4000,
          4100,
          2750,
          3500,
          3600,
          2600,
          3950,
          2550,
          3000,
          2650,
          3300,
          3500,
          3295,
          3500,
          3300,
          3200,
          3700,
          3000,
          3600,
          3000,
          2700,
          3000,
          2600,
          2800,
          2495,
          2899,
          2300,
          3000,
          2699,
          2900,
          3400,
          4750,
          3400,
          3500,
          4000,
          4000,
          4200,
          4559,
          3500,
          3000,
          3000,
          3600,
          3000,
          3000,
          3400,
          3000,
          3300,
          3400,
          3600,
          2650,
          3300,
          3300,
          2700,
          2750,
          6000,
          3950,
          3000,
          3145,
          3000,
          2700,
          2800,
          3800,
          3400,
          2700,
          2700,
          3000,
          3700,
          2800,
          3350,
          3500,
          3500,
          4950,
          2900,
          2950,
          4250,
          3350,
          3400,
          4300,
          3695,
          2900,
          2300,
          3300,
          3800,
          3300,
          3500,
          2825,
          3300,
          3200,
          3100,
          4000,
          6000,
          3200,
          3350,
          3000,
          3400,
          3695,
          2900,
          2900,
          3900,
          2850,
          4000,
          2750,
          2900,
          3200,
          3000,
          3400,
          3000,
          2999,
          3100,
          3200,
          2550,
          3400,
          3200,
          3000,
          3599,
          3500,
          3150,
          3500,
          3900,
          2850,
          4000,
          3695,
          4750,
          4000,
          4650,
          3750,
          3550,
          3950,
          3400,
          2900,
          3495,
          2800,
          3500,
          4500,
          3400,
          3000,
          2975,
          3200,
          2875,
          2800,
          2500,
          2750,
          3150,
          4000,
          3100,
          3000,
          3400,
          3700,
          4000,
          3400,
          2600,
          2800,
          2700,
          4300,
          3300,
          2700,
          2750,
          2600,
          3950,
          3180,
          3595,
          3330,
          3400,
          5200,
          4250,
          4600,
          3200,
          5000,
          3900,
          3720,
          3200,
          3399,
          3800,
          5250,
          3350,
          5000,
          4900,
          4300,
          3800,
          3600,
          4200,
          7000,
          5500,
          5800,
          3499,
          4100,
          4500,
          4800,
          4500,
          3200,
          4100,
          5200,
          3300,
          4150,
          4200,
          3295,
          6500,
          3300,
          3300,
          1050,
          6900,
          12000,
          4995,
          4900,
          5000,
          5500,
          4100,
          3650,
          3650,
          3200,
          2245,
          2750,
          5700,
          2300,
          8500,
          9850,
          3900,
          5350,
          6900,
          6500,
          5000,
          4500,
          4750,
          2600,
          2799,
          2750,
          2800,
          2700,
          2550,
          2450,
          3000,
          2900,
          2595,
          2799,
          2900,
          2300,
          2400,
          2850,
          3200,
          2300,
          2700,
          2700,
          2500,
          2700,
          2650,
          2800,
          2599,
          2750,
          2650,
          2490,
          3200,
          3200,
          4100,
          2650,
          3600,
          2690,
          2550,
          3400,
          2350,
          2950,
          1995,
          1895,
          2800,
          3000,
          2500,
          2200,
          3000,
          2300,
          2900,
          2400,
          2700,
          2500,
          2550,
          3000,
          2500,
          3650,
          2000,
          2700,
          2849,
          3400,
          2300,
          2200,
          2095,
          2000,
          2300,
          2700,
          2350,
          2200,
          3000,
          2800,
          3300,
          3000,
          2650,
          2400,
          2750,
          2600,
          2550,
          2700,
          2500,
          2800,
          2800,
          3900,
          4250,
          2950,
          2831,
          5000,
          2300,
          2350,
          2500,
          2600,
          3599,
          2700,
          3600,
          2800,
          2600,
          2400,
          3800,
          5200,
          5600,
          3200,
          5500,
          5300,
          8900,
          3000,
          3870,
          3795
         ],
         "x0": " ",
         "xaxis": "x",
         "y": [
          "Fairfax",
          "Fairfax",
          "Fairfax",
          "Fairfax",
          "Fairfax",
          "Fairfax",
          "Fairfax",
          "Fairfax",
          "Fairfax",
          "Fairfax",
          "Chantilly",
          "Chantilly",
          "Chantilly",
          "Herndon",
          "Herndon",
          "Herndon",
          "Herndon",
          "Herndon",
          "Herndon",
          "Herndon",
          "Herndon",
          "Herndon",
          "Herndon",
          "Herndon",
          "Herndon",
          "Herndon",
          "Herndon",
          "Herndon",
          "Herndon",
          "Herndon",
          "Herndon",
          "Herndon",
          "Herndon",
          "Herndon",
          "Herndon",
          "Herndon",
          "Herndon",
          "Herndon",
          "Herndon",
          "Herndon",
          "Herndon",
          "Herndon",
          "Herndon",
          "Herndon",
          "Herndon",
          "Herndon",
          "Vienna",
          "Vienna",
          "Vienna",
          "Vienna",
          "Vienna",
          "Vienna",
          "Vienna",
          "Vienna",
          "Vienna",
          "Vienna",
          "Vienna",
          "Vienna",
          "Vienna",
          "Vienna",
          "Vienna",
          "Vienna",
          "Vienna",
          "Vienna",
          "Vienna",
          "Vienna",
          "Vienna",
          "Vienna",
          "Reston",
          "Reston",
          "Reston",
          "Reston",
          "Reston",
          "Reston",
          "Reston",
          "Reston",
          "Reston",
          "Reston",
          "Reston",
          "Reston",
          "Reston",
          "Reston",
          "Reston",
          "Reston",
          "Reston",
          "Springfield",
          "Springfield",
          "Springfield",
          "Springfield",
          "Springfield",
          "Springfield",
          "Springfield",
          "Springfield",
          "Springfield",
          "Springfield",
          "Springfield",
          "Springfield",
          "Springfield",
          "Alexandria",
          "Alexandria",
          "Alexandria",
          "Alexandria",
          "Alexandria",
          "Alexandria",
          "Alexandria",
          "Alexandria",
          "Vienna",
          "Vienna",
          "Vienna",
          "Vienna",
          "Vienna",
          "Vienna",
          "Vienna",
          "Vienna",
          "Vienna",
          "Vienna",
          "Vienna",
          "Vienna",
          "Fairfax",
          "Fairfax",
          "Fairfax",
          "Fairfax",
          "Fairfax",
          "Fairfax",
          "Fairfax",
          "Fairfax",
          "Fairfax",
          "Fairfax",
          "Chantilly",
          "Fairfax",
          "Fairfax",
          "Fairfax",
          "Vienna",
          "Vienna",
          "Vienna",
          "Vienna",
          "Vienna",
          "Vienna",
          "Vienna",
          "Vienna",
          "Vienna",
          "Vienna",
          "Vienna",
          "Vienna",
          "Vienna",
          "Fairfax",
          "Fairfax",
          "Fairfax",
          "Fairfax",
          "Fairfax",
          "Fairfax",
          "Fairfax",
          "Fairfax",
          "Fairfax",
          "Fairfax",
          "Fairfax",
          "Fairfax",
          "Alexandria",
          "Alexandria",
          "Alexandria",
          "Alexandria",
          "Alexandria",
          "Alexandria",
          "Alexandria",
          "Alexandria",
          "Alexandria",
          "Alexandria",
          "Centreville",
          "Centreville",
          "Centreville",
          "Centreville",
          "Centreville",
          "Centreville",
          "Centreville",
          "Centreville",
          "Centreville",
          "Centreville",
          "Centreville",
          "Falls Church",
          "Falls Church",
          "Falls Church",
          "Falls Church",
          "Falls Church",
          "Falls Church",
          "Falls Church",
          "Falls Church",
          "Falls Church",
          "Fairfax",
          "Fairfax",
          "Fairfax",
          "Fairfax",
          "Fairfax",
          "Fairfax",
          "Fairfax",
          "Fairfax",
          "Fairfax",
          "Fairfax",
          "Lorton",
          "Lorton",
          "Lorton",
          "Lorton",
          "Lorton",
          "Lorton",
          "Lorton",
          "Lorton",
          "Burke",
          "Burke",
          "Burke",
          "Burke",
          "Burke",
          "Burke",
          "Burke",
          "Burke",
          "Burke",
          "Burke",
          "Burke",
          "Burke",
          "Falls Church",
          "Falls Church",
          "Falls Church",
          "Reston",
          "Reston",
          "Falls Church",
          "Falls Church",
          "Falls Church",
          "Falls Church",
          "Falls Church",
          "Falls Church",
          "Falls Church",
          "Falls Church",
          "Alexandria",
          "Alexandria",
          "Alexandria",
          "Alexandria",
          "Alexandria",
          "Alexandria",
          "Alexandria",
          "Alexandria",
          "Alexandria",
          "Alexandria",
          "Alexandria",
          "Alexandria",
          "Alexandria",
          "Alexandria",
          "Alexandria",
          "Alexandria",
          "Alexandria",
          "Alexandria",
          "Alexandria",
          "Alexandria",
          "Alexandria",
          "Alexandria",
          "Reston",
          "Reston",
          "Reston",
          "Reston",
          "Springfield",
          "Springfield",
          "Herndon",
          "Herndon",
          "Herndon",
          "Herndon",
          "Herndon",
          "Herndon",
          "Herndon",
          "Herndon",
          "Herndon",
          "Herndon",
          "Alexandria",
          "Alexandria",
          "Alexandria",
          "Alexandria",
          "Alexandria",
          "Alexandria",
          "Alexandria",
          "Alexandria",
          "Alexandria",
          "Alexandria",
          "Alexandria",
          "Alexandria",
          "Alexandria",
          "Alexandria",
          "Springfield",
          "Springfield",
          "Springfield",
          "Springfield",
          "Springfield",
          "Springfield",
          "Springfield",
          "Springfield",
          "Springfield",
          "Springfield",
          "Springfield",
          "Springfield",
          "Springfield",
          "Falls Church",
          "Falls Church",
          "Alexandria",
          "Centreville",
          "Centreville",
          "Centreville",
          "Centreville",
          "Centreville",
          "Centreville",
          "Centreville",
          "Centreville",
          "Alexandria",
          "Alexandria",
          "Alexandria",
          "Alexandria",
          "Chantilly",
          "Arlington",
          "Arlington",
          "Arlington",
          "Arlington",
          "Arlington",
          "Arlington",
          "Arlington",
          "Arlington",
          "Arlington",
          "Arlington",
          "Arlington",
          "Arlington",
          "Arlington",
          "Arlington",
          "Arlington",
          "Arlington",
          "Arlington",
          "Arlington",
          "Arlington",
          "Arlington",
          "Arlington",
          "Arlington",
          "Arlington",
          "Arlington",
          "Arlington",
          "Arlington",
          "Arlington",
          "Arlington",
          "Arlington",
          "Arlington",
          "Arlington",
          "Arlington",
          "Arlington",
          "Arlington",
          "Arlington",
          "Arlington",
          "Arlington",
          "Arlington",
          "Arlington",
          "Arlington",
          "Arlington",
          "Arlington",
          "Arlington",
          "Arlington",
          "Arlington",
          "Arlington",
          "Arlington",
          "Temple Hills",
          "Temple Hills",
          "Temple Hills",
          "Temple Hills",
          "Alexandria",
          "Alexandria",
          "Alexandria",
          "Chevy Chase",
          "Chevy Chase",
          "Chevy Chase",
          "Chevy Chase",
          "Chevy Chase",
          "Chevy Chase",
          "Oxon Hill",
          "Woodbridge",
          "Woodbridge",
          "Woodbridge",
          "Woodbridge",
          "Woodbridge",
          "Woodbridge",
          "Woodbridge",
          "Woodbridge",
          "Woodbridge",
          "Woodbridge",
          "Woodbridge",
          "Woodbridge",
          "Woodbridge",
          "Woodbridge",
          "Woodbridge",
          "Woodbridge",
          "Woodbridge",
          "Woodbridge",
          "Woodbridge",
          "Woodbridge",
          "Woodbridge",
          "Woodbridge",
          "Woodbridge",
          "Woodbridge",
          "Woodbridge",
          "Woodbridge",
          "Woodbridge",
          "Woodbridge",
          "Woodbridge",
          "Woodbridge",
          "Woodbridge",
          "Woodbridge",
          "Woodbridge",
          "Woodbridge",
          "Woodbridge",
          "Woodbridge",
          "Woodbridge",
          "Woodbridge",
          "Woodbridge",
          "Woodbridge",
          "Woodbridge",
          "Woodbridge",
          "Woodbridge",
          "Woodbridge",
          "Woodbridge",
          "Woodbridge",
          "Woodbridge",
          "Woodbridge",
          "Woodbridge",
          "Woodbridge",
          "Woodbridge",
          "Woodbridge",
          "Woodbridge",
          "Woodbridge",
          "Woodbridge",
          "Woodbridge",
          "Woodbridge",
          "Woodbridge",
          "Woodbridge",
          "Woodbridge",
          "Woodbridge",
          "Woodbridge",
          "Woodbridge",
          "Woodbridge",
          "Woodbridge",
          "Woodbridge",
          "Woodbridge",
          "Woodbridge",
          "Woodbridge",
          "Woodbridge",
          "Woodbridge",
          "Woodbridge",
          "Woodbridge",
          "Woodbridge",
          "Woodbridge",
          "Woodbridge",
          "Woodbridge",
          "Woodbridge",
          "Woodbridge",
          "Woodbridge",
          "Woodbridge",
          "Woodbridge",
          "Woodbridge",
          "Woodbridge",
          "Woodbridge",
          "Woodbridge",
          "Woodbridge",
          "Woodbridge",
          "Woodbridge",
          "Woodbridge",
          "Woodbridge",
          "Woodbridge",
          "Woodbridge",
          "Falls Church",
          "Falls Church",
          "Falls Church",
          "Falls Church",
          "Falls Church",
          "Falls Church",
          "Falls Church",
          "Potomac",
          "Potomac"
         ],
         "y0": " ",
         "yaxis": "y"
        }
       ],
       "layout": {
        "height": 1000,
        "legend": {
         "tracegroupgap": 0
        },
        "margin": {
         "t": 60
        },
        "template": {
         "data": {
          "bar": [
           {
            "error_x": {
             "color": "#2a3f5f"
            },
            "error_y": {
             "color": "#2a3f5f"
            },
            "marker": {
             "line": {
              "color": "#E5ECF6",
              "width": 0.5
             },
             "pattern": {
              "fillmode": "overlay",
              "size": 10,
              "solidity": 0.2
             }
            },
            "type": "bar"
           }
          ],
          "barpolar": [
           {
            "marker": {
             "line": {
              "color": "#E5ECF6",
              "width": 0.5
             },
             "pattern": {
              "fillmode": "overlay",
              "size": 10,
              "solidity": 0.2
             }
            },
            "type": "barpolar"
           }
          ],
          "carpet": [
           {
            "aaxis": {
             "endlinecolor": "#2a3f5f",
             "gridcolor": "white",
             "linecolor": "white",
             "minorgridcolor": "white",
             "startlinecolor": "#2a3f5f"
            },
            "baxis": {
             "endlinecolor": "#2a3f5f",
             "gridcolor": "white",
             "linecolor": "white",
             "minorgridcolor": "white",
             "startlinecolor": "#2a3f5f"
            },
            "type": "carpet"
           }
          ],
          "choropleth": [
           {
            "colorbar": {
             "outlinewidth": 0,
             "ticks": ""
            },
            "type": "choropleth"
           }
          ],
          "contour": [
           {
            "colorbar": {
             "outlinewidth": 0,
             "ticks": ""
            },
            "colorscale": [
             [
              0,
              "#0d0887"
             ],
             [
              0.1111111111111111,
              "#46039f"
             ],
             [
              0.2222222222222222,
              "#7201a8"
             ],
             [
              0.3333333333333333,
              "#9c179e"
             ],
             [
              0.4444444444444444,
              "#bd3786"
             ],
             [
              0.5555555555555556,
              "#d8576b"
             ],
             [
              0.6666666666666666,
              "#ed7953"
             ],
             [
              0.7777777777777778,
              "#fb9f3a"
             ],
             [
              0.8888888888888888,
              "#fdca26"
             ],
             [
              1,
              "#f0f921"
             ]
            ],
            "type": "contour"
           }
          ],
          "contourcarpet": [
           {
            "colorbar": {
             "outlinewidth": 0,
             "ticks": ""
            },
            "type": "contourcarpet"
           }
          ],
          "heatmap": [
           {
            "colorbar": {
             "outlinewidth": 0,
             "ticks": ""
            },
            "colorscale": [
             [
              0,
              "#0d0887"
             ],
             [
              0.1111111111111111,
              "#46039f"
             ],
             [
              0.2222222222222222,
              "#7201a8"
             ],
             [
              0.3333333333333333,
              "#9c179e"
             ],
             [
              0.4444444444444444,
              "#bd3786"
             ],
             [
              0.5555555555555556,
              "#d8576b"
             ],
             [
              0.6666666666666666,
              "#ed7953"
             ],
             [
              0.7777777777777778,
              "#fb9f3a"
             ],
             [
              0.8888888888888888,
              "#fdca26"
             ],
             [
              1,
              "#f0f921"
             ]
            ],
            "type": "heatmap"
           }
          ],
          "heatmapgl": [
           {
            "colorbar": {
             "outlinewidth": 0,
             "ticks": ""
            },
            "colorscale": [
             [
              0,
              "#0d0887"
             ],
             [
              0.1111111111111111,
              "#46039f"
             ],
             [
              0.2222222222222222,
              "#7201a8"
             ],
             [
              0.3333333333333333,
              "#9c179e"
             ],
             [
              0.4444444444444444,
              "#bd3786"
             ],
             [
              0.5555555555555556,
              "#d8576b"
             ],
             [
              0.6666666666666666,
              "#ed7953"
             ],
             [
              0.7777777777777778,
              "#fb9f3a"
             ],
             [
              0.8888888888888888,
              "#fdca26"
             ],
             [
              1,
              "#f0f921"
             ]
            ],
            "type": "heatmapgl"
           }
          ],
          "histogram": [
           {
            "marker": {
             "pattern": {
              "fillmode": "overlay",
              "size": 10,
              "solidity": 0.2
             }
            },
            "type": "histogram"
           }
          ],
          "histogram2d": [
           {
            "colorbar": {
             "outlinewidth": 0,
             "ticks": ""
            },
            "colorscale": [
             [
              0,
              "#0d0887"
             ],
             [
              0.1111111111111111,
              "#46039f"
             ],
             [
              0.2222222222222222,
              "#7201a8"
             ],
             [
              0.3333333333333333,
              "#9c179e"
             ],
             [
              0.4444444444444444,
              "#bd3786"
             ],
             [
              0.5555555555555556,
              "#d8576b"
             ],
             [
              0.6666666666666666,
              "#ed7953"
             ],
             [
              0.7777777777777778,
              "#fb9f3a"
             ],
             [
              0.8888888888888888,
              "#fdca26"
             ],
             [
              1,
              "#f0f921"
             ]
            ],
            "type": "histogram2d"
           }
          ],
          "histogram2dcontour": [
           {
            "colorbar": {
             "outlinewidth": 0,
             "ticks": ""
            },
            "colorscale": [
             [
              0,
              "#0d0887"
             ],
             [
              0.1111111111111111,
              "#46039f"
             ],
             [
              0.2222222222222222,
              "#7201a8"
             ],
             [
              0.3333333333333333,
              "#9c179e"
             ],
             [
              0.4444444444444444,
              "#bd3786"
             ],
             [
              0.5555555555555556,
              "#d8576b"
             ],
             [
              0.6666666666666666,
              "#ed7953"
             ],
             [
              0.7777777777777778,
              "#fb9f3a"
             ],
             [
              0.8888888888888888,
              "#fdca26"
             ],
             [
              1,
              "#f0f921"
             ]
            ],
            "type": "histogram2dcontour"
           }
          ],
          "mesh3d": [
           {
            "colorbar": {
             "outlinewidth": 0,
             "ticks": ""
            },
            "type": "mesh3d"
           }
          ],
          "parcoords": [
           {
            "line": {
             "colorbar": {
              "outlinewidth": 0,
              "ticks": ""
             }
            },
            "type": "parcoords"
           }
          ],
          "pie": [
           {
            "automargin": true,
            "type": "pie"
           }
          ],
          "scatter": [
           {
            "fillpattern": {
             "fillmode": "overlay",
             "size": 10,
             "solidity": 0.2
            },
            "type": "scatter"
           }
          ],
          "scatter3d": [
           {
            "line": {
             "colorbar": {
              "outlinewidth": 0,
              "ticks": ""
             }
            },
            "marker": {
             "colorbar": {
              "outlinewidth": 0,
              "ticks": ""
             }
            },
            "type": "scatter3d"
           }
          ],
          "scattercarpet": [
           {
            "marker": {
             "colorbar": {
              "outlinewidth": 0,
              "ticks": ""
             }
            },
            "type": "scattercarpet"
           }
          ],
          "scattergeo": [
           {
            "marker": {
             "colorbar": {
              "outlinewidth": 0,
              "ticks": ""
             }
            },
            "type": "scattergeo"
           }
          ],
          "scattergl": [
           {
            "marker": {
             "colorbar": {
              "outlinewidth": 0,
              "ticks": ""
             }
            },
            "type": "scattergl"
           }
          ],
          "scattermapbox": [
           {
            "marker": {
             "colorbar": {
              "outlinewidth": 0,
              "ticks": ""
             }
            },
            "type": "scattermapbox"
           }
          ],
          "scatterpolar": [
           {
            "marker": {
             "colorbar": {
              "outlinewidth": 0,
              "ticks": ""
             }
            },
            "type": "scatterpolar"
           }
          ],
          "scatterpolargl": [
           {
            "marker": {
             "colorbar": {
              "outlinewidth": 0,
              "ticks": ""
             }
            },
            "type": "scatterpolargl"
           }
          ],
          "scatterternary": [
           {
            "marker": {
             "colorbar": {
              "outlinewidth": 0,
              "ticks": ""
             }
            },
            "type": "scatterternary"
           }
          ],
          "surface": [
           {
            "colorbar": {
             "outlinewidth": 0,
             "ticks": ""
            },
            "colorscale": [
             [
              0,
              "#0d0887"
             ],
             [
              0.1111111111111111,
              "#46039f"
             ],
             [
              0.2222222222222222,
              "#7201a8"
             ],
             [
              0.3333333333333333,
              "#9c179e"
             ],
             [
              0.4444444444444444,
              "#bd3786"
             ],
             [
              0.5555555555555556,
              "#d8576b"
             ],
             [
              0.6666666666666666,
              "#ed7953"
             ],
             [
              0.7777777777777778,
              "#fb9f3a"
             ],
             [
              0.8888888888888888,
              "#fdca26"
             ],
             [
              1,
              "#f0f921"
             ]
            ],
            "type": "surface"
           }
          ],
          "table": [
           {
            "cells": {
             "fill": {
              "color": "#EBF0F8"
             },
             "line": {
              "color": "white"
             }
            },
            "header": {
             "fill": {
              "color": "#C8D4E3"
             },
             "line": {
              "color": "white"
             }
            },
            "type": "table"
           }
          ]
         },
         "layout": {
          "annotationdefaults": {
           "arrowcolor": "#2a3f5f",
           "arrowhead": 0,
           "arrowwidth": 1
          },
          "autotypenumbers": "strict",
          "coloraxis": {
           "colorbar": {
            "outlinewidth": 0,
            "ticks": ""
           }
          },
          "colorscale": {
           "diverging": [
            [
             0,
             "#8e0152"
            ],
            [
             0.1,
             "#c51b7d"
            ],
            [
             0.2,
             "#de77ae"
            ],
            [
             0.3,
             "#f1b6da"
            ],
            [
             0.4,
             "#fde0ef"
            ],
            [
             0.5,
             "#f7f7f7"
            ],
            [
             0.6,
             "#e6f5d0"
            ],
            [
             0.7,
             "#b8e186"
            ],
            [
             0.8,
             "#7fbc41"
            ],
            [
             0.9,
             "#4d9221"
            ],
            [
             1,
             "#276419"
            ]
           ],
           "sequential": [
            [
             0,
             "#0d0887"
            ],
            [
             0.1111111111111111,
             "#46039f"
            ],
            [
             0.2222222222222222,
             "#7201a8"
            ],
            [
             0.3333333333333333,
             "#9c179e"
            ],
            [
             0.4444444444444444,
             "#bd3786"
            ],
            [
             0.5555555555555556,
             "#d8576b"
            ],
            [
             0.6666666666666666,
             "#ed7953"
            ],
            [
             0.7777777777777778,
             "#fb9f3a"
            ],
            [
             0.8888888888888888,
             "#fdca26"
            ],
            [
             1,
             "#f0f921"
            ]
           ],
           "sequentialminus": [
            [
             0,
             "#0d0887"
            ],
            [
             0.1111111111111111,
             "#46039f"
            ],
            [
             0.2222222222222222,
             "#7201a8"
            ],
            [
             0.3333333333333333,
             "#9c179e"
            ],
            [
             0.4444444444444444,
             "#bd3786"
            ],
            [
             0.5555555555555556,
             "#d8576b"
            ],
            [
             0.6666666666666666,
             "#ed7953"
            ],
            [
             0.7777777777777778,
             "#fb9f3a"
            ],
            [
             0.8888888888888888,
             "#fdca26"
            ],
            [
             1,
             "#f0f921"
            ]
           ]
          },
          "colorway": [
           "#636efa",
           "#EF553B",
           "#00cc96",
           "#ab63fa",
           "#FFA15A",
           "#19d3f3",
           "#FF6692",
           "#B6E880",
           "#FF97FF",
           "#FECB52"
          ],
          "font": {
           "color": "#2a3f5f"
          },
          "geo": {
           "bgcolor": "white",
           "lakecolor": "white",
           "landcolor": "#E5ECF6",
           "showlakes": true,
           "showland": true,
           "subunitcolor": "white"
          },
          "hoverlabel": {
           "align": "left"
          },
          "hovermode": "closest",
          "mapbox": {
           "style": "light"
          },
          "paper_bgcolor": "white",
          "plot_bgcolor": "#E5ECF6",
          "polar": {
           "angularaxis": {
            "gridcolor": "white",
            "linecolor": "white",
            "ticks": ""
           },
           "bgcolor": "#E5ECF6",
           "radialaxis": {
            "gridcolor": "white",
            "linecolor": "white",
            "ticks": ""
           }
          },
          "scene": {
           "xaxis": {
            "backgroundcolor": "#E5ECF6",
            "gridcolor": "white",
            "gridwidth": 2,
            "linecolor": "white",
            "showbackground": true,
            "ticks": "",
            "zerolinecolor": "white"
           },
           "yaxis": {
            "backgroundcolor": "#E5ECF6",
            "gridcolor": "white",
            "gridwidth": 2,
            "linecolor": "white",
            "showbackground": true,
            "ticks": "",
            "zerolinecolor": "white"
           },
           "zaxis": {
            "backgroundcolor": "#E5ECF6",
            "gridcolor": "white",
            "gridwidth": 2,
            "linecolor": "white",
            "showbackground": true,
            "ticks": "",
            "zerolinecolor": "white"
           }
          },
          "shapedefaults": {
           "line": {
            "color": "#2a3f5f"
           }
          },
          "ternary": {
           "aaxis": {
            "gridcolor": "white",
            "linecolor": "white",
            "ticks": ""
           },
           "baxis": {
            "gridcolor": "white",
            "linecolor": "white",
            "ticks": ""
           },
           "bgcolor": "#E5ECF6",
           "caxis": {
            "gridcolor": "white",
            "linecolor": "white",
            "ticks": ""
           }
          },
          "title": {
           "x": 0.05
          },
          "xaxis": {
           "automargin": true,
           "gridcolor": "white",
           "linecolor": "white",
           "ticks": "",
           "title": {
            "standoff": 15
           },
           "zerolinecolor": "white",
           "zerolinewidth": 2
          },
          "yaxis": {
           "automargin": true,
           "gridcolor": "white",
           "linecolor": "white",
           "ticks": "",
           "title": {
            "standoff": 15
           },
           "zerolinecolor": "white",
           "zerolinewidth": 2
          }
         }
        },
        "title": {
         "text": "Price Distribution of Top 20 Most Counted Cities in 2023 - Rentals"
        },
        "violinmode": "group",
        "xaxis": {
         "anchor": "y",
         "domain": [
          0,
          1
         ],
         "title": {
          "text": "Price"
         }
        },
        "yaxis": {
         "anchor": "x",
         "categoryarray": [
          "Temple Hills",
          "Oxon Hill",
          "Woodbridge",
          "Centreville",
          "Reston",
          "Herndon",
          "Burke",
          "Springfield",
          "Lorton",
          "Fairfax",
          "Alexandria",
          "Vienna",
          "Falls Church",
          "Chantilly",
          "Potomac",
          "Arlington",
          "Chevy Chase"
         ],
         "categoryorder": "array",
         "domain": [
          0,
          1
         ],
         "title": {
          "text": ""
         }
        }
       }
      }
     },
     "metadata": {},
     "output_type": "display_data"
    }
   ],
   "source": [
    "# sort cities to show cities in descending order (Price)\n",
    "sorted_cities = median_top20cities.sort_values(by='Price', ascending=False)\n",
    "# create a dict to insert in the violin plotly\n",
    "city_order_dict = {\"City\": sorted_cities[\"City\"].tolist()}\n",
    "\n",
    "# Specify the order of cities in the violin plot using category_orders\n",
    "fig = px.violin(df_top_20_cities, \n",
    "                y='City', \n",
    "                x='Price', \n",
    "                box=True, \n",
    "                points='all', \n",
    "                orientation='h', \n",
    "                hover_data=median_top20cities.columns, \n",
    "                height=1000,\n",
    "                category_orders=city_order_dict\n",
    "                )\n",
    "fig.update_layout(title= \"Price Distribution of Top 20 Most Counted Cities in 2023 - Rentals\",\n",
    "                  yaxis_title = \"\",\n",
    "                  xaxis_title = \"Price\"\n",
    "                  )\n",
    "\n",
    "# Show the plot\n",
    "fig.show()\n"
   ]
  },
  {
   "cell_type": "markdown",
   "metadata": {},
   "source": [
    "Washington DC has the most spread of data. Let's investigate more what cause the differences?"
   ]
  },
  {
   "cell_type": "code",
   "execution_count": 125,
   "metadata": {},
   "outputs": [
    {
     "data": {
      "text/html": [
       "<div>\n",
       "<style scoped>\n",
       "    .dataframe tbody tr th:only-of-type {\n",
       "        vertical-align: middle;\n",
       "    }\n",
       "\n",
       "    .dataframe tbody tr th {\n",
       "        vertical-align: top;\n",
       "    }\n",
       "\n",
       "    .dataframe thead th {\n",
       "        text-align: right;\n",
       "    }\n",
       "</style>\n",
       "<table border=\"1\" class=\"dataframe\">\n",
       "  <thead>\n",
       "    <tr style=\"text-align: right;\">\n",
       "      <th></th>\n",
       "      <th>Title</th>\n",
       "      <th>Address</th>\n",
       "      <th>Bedroom</th>\n",
       "      <th>Bathroom</th>\n",
       "      <th>Price</th>\n",
       "      <th>City</th>\n",
       "      <th>State</th>\n",
       "      <th>Zipcode</th>\n",
       "    </tr>\n",
       "  </thead>\n",
       "  <tbody>\n",
       "    <tr>\n",
       "      <th>0</th>\n",
       "      <td>Townhouse</td>\n",
       "      <td>747 Kentucky Ave SE, Washington, DC 20003</td>\n",
       "      <td>3</td>\n",
       "      <td>2.0</td>\n",
       "      <td>3400</td>\n",
       "      <td>Washington</td>\n",
       "      <td>DC</td>\n",
       "      <td>20003</td>\n",
       "    </tr>\n",
       "    <tr>\n",
       "      <th>1</th>\n",
       "      <td>Townhouse</td>\n",
       "      <td>5120 Brooks St NE, Washington, DC 20019</td>\n",
       "      <td>3</td>\n",
       "      <td>2.0</td>\n",
       "      <td>2650</td>\n",
       "      <td>Washington</td>\n",
       "      <td>DC</td>\n",
       "      <td>20019</td>\n",
       "    </tr>\n",
       "    <tr>\n",
       "      <th>2</th>\n",
       "      <td>Townhouse</td>\n",
       "      <td>910 New Hampshire Ave NW, Washington, DC 20037</td>\n",
       "      <td>4</td>\n",
       "      <td>3.0</td>\n",
       "      <td>7500</td>\n",
       "      <td>Washington</td>\n",
       "      <td>DC</td>\n",
       "      <td>20037</td>\n",
       "    </tr>\n",
       "    <tr>\n",
       "      <th>4</th>\n",
       "      <td>House</td>\n",
       "      <td>1112 51st Place NE, Washington, DC 20019</td>\n",
       "      <td>4</td>\n",
       "      <td>3.0</td>\n",
       "      <td>3300</td>\n",
       "      <td>Washington</td>\n",
       "      <td>DC</td>\n",
       "      <td>20019</td>\n",
       "    </tr>\n",
       "    <tr>\n",
       "      <th>7</th>\n",
       "      <td>House</td>\n",
       "      <td>3906 24th St NE, Washington, DC 20018</td>\n",
       "      <td>3</td>\n",
       "      <td>2.5</td>\n",
       "      <td>3500</td>\n",
       "      <td>Washington</td>\n",
       "      <td>DC</td>\n",
       "      <td>20018</td>\n",
       "    </tr>\n",
       "    <tr>\n",
       "      <th>...</th>\n",
       "      <td>...</td>\n",
       "      <td>...</td>\n",
       "      <td>...</td>\n",
       "      <td>...</td>\n",
       "      <td>...</td>\n",
       "      <td>...</td>\n",
       "      <td>...</td>\n",
       "      <td>...</td>\n",
       "    </tr>\n",
       "    <tr>\n",
       "      <th>265</th>\n",
       "      <td>Townhouse</td>\n",
       "      <td>1230 Eton Ct NW Unit T26, Washington, DC 20007</td>\n",
       "      <td>3</td>\n",
       "      <td>2.5</td>\n",
       "      <td>5500</td>\n",
       "      <td>Washington</td>\n",
       "      <td>DC</td>\n",
       "      <td>20007</td>\n",
       "    </tr>\n",
       "    <tr>\n",
       "      <th>266</th>\n",
       "      <td>House</td>\n",
       "      <td>1500 Ogden St NW, Washington, DC 20010</td>\n",
       "      <td>3</td>\n",
       "      <td>3.0</td>\n",
       "      <td>3600</td>\n",
       "      <td>Washington</td>\n",
       "      <td>DC</td>\n",
       "      <td>20010</td>\n",
       "    </tr>\n",
       "    <tr>\n",
       "      <th>268</th>\n",
       "      <td>Townhouse</td>\n",
       "      <td>3521 Holmead Place NW, Washington, DC 20010</td>\n",
       "      <td>4</td>\n",
       "      <td>2.5</td>\n",
       "      <td>5400</td>\n",
       "      <td>Washington</td>\n",
       "      <td>DC</td>\n",
       "      <td>20010</td>\n",
       "    </tr>\n",
       "    <tr>\n",
       "      <th>269</th>\n",
       "      <td>House</td>\n",
       "      <td>3712 Windom Place NW, Washington, DC 20016</td>\n",
       "      <td>4</td>\n",
       "      <td>4.5</td>\n",
       "      <td>6500</td>\n",
       "      <td>Washington</td>\n",
       "      <td>DC</td>\n",
       "      <td>20016</td>\n",
       "    </tr>\n",
       "    <tr>\n",
       "      <th>274</th>\n",
       "      <td>Townhouse</td>\n",
       "      <td>2404 Baldwin Crescent NE, Washington, DC 20018</td>\n",
       "      <td>4</td>\n",
       "      <td>3.5</td>\n",
       "      <td>3900</td>\n",
       "      <td>Washington</td>\n",
       "      <td>DC</td>\n",
       "      <td>20018</td>\n",
       "    </tr>\n",
       "  </tbody>\n",
       "</table>\n",
       "<p>143 rows × 8 columns</p>\n",
       "</div>"
      ],
      "text/plain": [
       "         Title                                         Address  Bedroom  \\\n",
       "0    Townhouse       747 Kentucky Ave SE, Washington, DC 20003        3   \n",
       "1    Townhouse         5120 Brooks St NE, Washington, DC 20019        3   \n",
       "2    Townhouse  910 New Hampshire Ave NW, Washington, DC 20037        4   \n",
       "4        House        1112 51st Place NE, Washington, DC 20019        4   \n",
       "7        House           3906 24th St NE, Washington, DC 20018        3   \n",
       "..         ...                                             ...      ...   \n",
       "265  Townhouse  1230 Eton Ct NW Unit T26, Washington, DC 20007        3   \n",
       "266      House          1500 Ogden St NW, Washington, DC 20010        3   \n",
       "268  Townhouse     3521 Holmead Place NW, Washington, DC 20010        4   \n",
       "269      House      3712 Windom Place NW, Washington, DC 20016        4   \n",
       "274  Townhouse  2404 Baldwin Crescent NE, Washington, DC 20018        4   \n",
       "\n",
       "     Bathroom  Price        City State Zipcode  \n",
       "0         2.0   3400  Washington    DC   20003  \n",
       "1         2.0   2650  Washington    DC   20019  \n",
       "2         3.0   7500  Washington    DC   20037  \n",
       "4         3.0   3300  Washington    DC   20019  \n",
       "7         2.5   3500  Washington    DC   20018  \n",
       "..        ...    ...         ...   ...     ...  \n",
       "265       2.5   5500  Washington    DC   20007  \n",
       "266       3.0   3600  Washington    DC   20010  \n",
       "268       2.5   5400  Washington    DC   20010  \n",
       "269       4.5   6500  Washington    DC   20016  \n",
       "274       3.5   3900  Washington    DC   20018  \n",
       "\n",
       "[143 rows x 8 columns]"
      ]
     },
     "execution_count": 125,
     "metadata": {},
     "output_type": "execute_result"
    }
   ],
   "source": [
    "df_top_20_cities[df_top_20_cities.City == 'Washington']"
   ]
  },
  {
   "cell_type": "markdown",
   "metadata": {},
   "source": [
    "### Checking correlations"
   ]
  },
  {
   "cell_type": "markdown",
   "metadata": {},
   "source": [
    "It is interesting to see Bathrooms are more positive correlated to Price than Bedrooms"
   ]
  },
  {
   "cell_type": "code",
   "execution_count": 65,
   "metadata": {
    "id": "03A2eJQNaEXd",
    "outputId": "5b0fe62a-fb1e-4ff1-8c0d-13fff0f4d069"
   },
   "outputs": [
    {
     "data": {
      "text/html": [
       "<div>\n",
       "<style scoped>\n",
       "    .dataframe tbody tr th:only-of-type {\n",
       "        vertical-align: middle;\n",
       "    }\n",
       "\n",
       "    .dataframe tbody tr th {\n",
       "        vertical-align: top;\n",
       "    }\n",
       "\n",
       "    .dataframe thead th {\n",
       "        text-align: right;\n",
       "    }\n",
       "</style>\n",
       "<table border=\"1\" class=\"dataframe\">\n",
       "  <thead>\n",
       "    <tr style=\"text-align: right;\">\n",
       "      <th></th>\n",
       "      <th>Bedroom</th>\n",
       "      <th>Bathroom</th>\n",
       "      <th>Price</th>\n",
       "    </tr>\n",
       "  </thead>\n",
       "  <tbody>\n",
       "    <tr>\n",
       "      <th>Bedroom</th>\n",
       "      <td>1.000000</td>\n",
       "      <td>0.637696</td>\n",
       "      <td>0.558082</td>\n",
       "    </tr>\n",
       "    <tr>\n",
       "      <th>Bathroom</th>\n",
       "      <td>0.637696</td>\n",
       "      <td>1.000000</td>\n",
       "      <td>0.617843</td>\n",
       "    </tr>\n",
       "    <tr>\n",
       "      <th>Price</th>\n",
       "      <td>0.558082</td>\n",
       "      <td>0.617843</td>\n",
       "      <td>1.000000</td>\n",
       "    </tr>\n",
       "  </tbody>\n",
       "</table>\n",
       "</div>"
      ],
      "text/plain": [
       "           Bedroom  Bathroom     Price\n",
       "Bedroom   1.000000  0.637696  0.558082\n",
       "Bathroom  0.637696  1.000000  0.617843\n",
       "Price     0.558082  0.617843  1.000000"
      ]
     },
     "execution_count": 65,
     "metadata": {},
     "output_type": "execute_result"
    }
   ],
   "source": [
    "rentals[['Bedroom', 'Bathroom', 'Price']].corr()"
   ]
  },
  {
   "cell_type": "markdown",
   "metadata": {},
   "source": [
    "# Craiglist Rentals in 2021"
   ]
  },
  {
   "cell_type": "code",
   "execution_count": 73,
   "metadata": {},
   "outputs": [
    {
     "data": {
      "text/html": [
       "<div>\n",
       "<style scoped>\n",
       "    .dataframe tbody tr th:only-of-type {\n",
       "        vertical-align: middle;\n",
       "    }\n",
       "\n",
       "    .dataframe tbody tr th {\n",
       "        vertical-align: top;\n",
       "    }\n",
       "\n",
       "    .dataframe thead th {\n",
       "        text-align: right;\n",
       "    }\n",
       "</style>\n",
       "<table border=\"1\" class=\"dataframe\">\n",
       "  <thead>\n",
       "    <tr style=\"text-align: right;\">\n",
       "      <th></th>\n",
       "      <th>Posted</th>\n",
       "      <th>Location</th>\n",
       "      <th>Post Title</th>\n",
       "      <th>Bedrooms</th>\n",
       "      <th>Sqft</th>\n",
       "      <th>Distance</th>\n",
       "      <th>Price</th>\n",
       "      <th>Clean_location</th>\n",
       "    </tr>\n",
       "  </thead>\n",
       "  <tbody>\n",
       "    <tr>\n",
       "      <th>0</th>\n",
       "      <td>2021-07-17</td>\n",
       "      <td>fairfax county, annandale</td>\n",
       "      <td>Fenced yard-all utilities included-large 1 bed...</td>\n",
       "      <td>1.0</td>\n",
       "      <td>1000.0</td>\n",
       "      <td>0.0</td>\n",
       "      <td>1290</td>\n",
       "      <td>Fairfax</td>\n",
       "    </tr>\n",
       "    <tr>\n",
       "      <th>2</th>\n",
       "      <td>2021-07-14</td>\n",
       "      <td>Annadale, VA</td>\n",
       "      <td>5B3BA Fully Remodeled Single Family House for ...</td>\n",
       "      <td>5.0</td>\n",
       "      <td>2500.0</td>\n",
       "      <td>1.1</td>\n",
       "      <td>3600</td>\n",
       "      <td>Annandale</td>\n",
       "    </tr>\n",
       "    <tr>\n",
       "      <th>4</th>\n",
       "      <td>2021-07-17</td>\n",
       "      <td>North Springfield</td>\n",
       "      <td>*Beautiful Home, Spacious + Bright 3 Bedroom 2...</td>\n",
       "      <td>3.0</td>\n",
       "      <td>2500.0</td>\n",
       "      <td>1.9</td>\n",
       "      <td>3100</td>\n",
       "      <td>Springfield</td>\n",
       "    </tr>\n",
       "    <tr>\n",
       "      <th>5</th>\n",
       "      <td>2021-07-12</td>\n",
       "      <td>Fairfax</td>\n",
       "      <td>Guest Suite, Designer Fixtures, Contemporary F...</td>\n",
       "      <td>2.0</td>\n",
       "      <td>1216.0</td>\n",
       "      <td>2.3</td>\n",
       "      <td>2015</td>\n",
       "      <td>Fairfax</td>\n",
       "    </tr>\n",
       "    <tr>\n",
       "      <th>6</th>\n",
       "      <td>2021-07-14</td>\n",
       "      <td>Fairfax</td>\n",
       "      <td>Pets Welcome, Lease Today, Perfect Location</td>\n",
       "      <td>2.0</td>\n",
       "      <td>1216.0</td>\n",
       "      <td>2.3</td>\n",
       "      <td>1965</td>\n",
       "      <td>Fairfax</td>\n",
       "    </tr>\n",
       "  </tbody>\n",
       "</table>\n",
       "</div>"
      ],
      "text/plain": [
       "       Posted                    Location  \\\n",
       "0  2021-07-17   fairfax county, annandale   \n",
       "2  2021-07-14                Annadale, VA   \n",
       "4  2021-07-17           North Springfield   \n",
       "5  2021-07-12                     Fairfax   \n",
       "6  2021-07-14                     Fairfax   \n",
       "\n",
       "                                          Post Title  Bedrooms    Sqft  \\\n",
       "0  Fenced yard-all utilities included-large 1 bed...       1.0  1000.0   \n",
       "2  5B3BA Fully Remodeled Single Family House for ...       5.0  2500.0   \n",
       "4  *Beautiful Home, Spacious + Bright 3 Bedroom 2...       3.0  2500.0   \n",
       "5  Guest Suite, Designer Fixtures, Contemporary F...       2.0  1216.0   \n",
       "6        Pets Welcome, Lease Today, Perfect Location       2.0  1216.0   \n",
       "\n",
       "   Distance  Price Clean_location  \n",
       "0       0.0   1290        Fairfax  \n",
       "2       1.1   3600      Annandale  \n",
       "4       1.9   3100    Springfield  \n",
       "5       2.3   2015        Fairfax  \n",
       "6       2.3   1965        Fairfax  "
      ]
     },
     "execution_count": 73,
     "metadata": {},
     "output_type": "execute_result"
    }
   ],
   "source": [
    "rentals_21 = pd.read_csv(path+'craiglists.csv', index_col=[0])\n",
    "rentals_21.head()"
   ]
  },
  {
   "cell_type": "code",
   "execution_count": 75,
   "metadata": {},
   "outputs": [
    {
     "data": {
      "text/html": [
       "<div>\n",
       "<style scoped>\n",
       "    .dataframe tbody tr th:only-of-type {\n",
       "        vertical-align: middle;\n",
       "    }\n",
       "\n",
       "    .dataframe tbody tr th {\n",
       "        vertical-align: top;\n",
       "    }\n",
       "\n",
       "    .dataframe thead th {\n",
       "        text-align: right;\n",
       "    }\n",
       "</style>\n",
       "<table border=\"1\" class=\"dataframe\">\n",
       "  <thead>\n",
       "    <tr style=\"text-align: right;\">\n",
       "      <th></th>\n",
       "      <th>Clean_location</th>\n",
       "      <th>Bedrooms</th>\n",
       "      <th>Price</th>\n",
       "    </tr>\n",
       "  </thead>\n",
       "  <tbody>\n",
       "    <tr>\n",
       "      <th>0</th>\n",
       "      <td>Fairfax</td>\n",
       "      <td>1.0</td>\n",
       "      <td>1290</td>\n",
       "    </tr>\n",
       "    <tr>\n",
       "      <th>2</th>\n",
       "      <td>Annandale</td>\n",
       "      <td>5.0</td>\n",
       "      <td>3600</td>\n",
       "    </tr>\n",
       "    <tr>\n",
       "      <th>4</th>\n",
       "      <td>Springfield</td>\n",
       "      <td>3.0</td>\n",
       "      <td>3100</td>\n",
       "    </tr>\n",
       "    <tr>\n",
       "      <th>5</th>\n",
       "      <td>Fairfax</td>\n",
       "      <td>2.0</td>\n",
       "      <td>2015</td>\n",
       "    </tr>\n",
       "    <tr>\n",
       "      <th>6</th>\n",
       "      <td>Fairfax</td>\n",
       "      <td>2.0</td>\n",
       "      <td>1965</td>\n",
       "    </tr>\n",
       "  </tbody>\n",
       "</table>\n",
       "</div>"
      ],
      "text/plain": [
       "  Clean_location  Bedrooms  Price\n",
       "0        Fairfax       1.0   1290\n",
       "2      Annandale       5.0   3600\n",
       "4    Springfield       3.0   3100\n",
       "5        Fairfax       2.0   2015\n",
       "6        Fairfax       2.0   1965"
      ]
     },
     "execution_count": 75,
     "metadata": {},
     "output_type": "execute_result"
    }
   ],
   "source": [
    "rentals_21 = rentals_21[['Clean_location', 'Bedrooms', 'Price']]\n",
    "rentals_21.head()"
   ]
  },
  {
   "cell_type": "code",
   "execution_count": 76,
   "metadata": {},
   "outputs": [
    {
     "data": {
      "text/plain": [
       "Bedrooms\n",
       "3.0    102\n",
       "4.0     63\n",
       "Name: count, dtype: int64"
      ]
     },
     "execution_count": 76,
     "metadata": {},
     "output_type": "execute_result"
    }
   ],
   "source": [
    "# subset 3-4br of the rentals in 2021 that was scraped from craiglists\n",
    "rentals_21_34br = rentals_21[(rentals_21.Bedrooms == 3) | (rentals_21.Bedrooms == 4)]\n",
    "rentals_21_34br.Bedrooms.value_counts()"
   ]
  },
  {
   "cell_type": "code",
   "execution_count": 78,
   "metadata": {},
   "outputs": [
    {
     "data": {
      "application/vnd.plotly.v1+json": {
       "config": {
        "plotlyServerURL": "https://plot.ly"
       },
       "data": [
        {
         "alignmentgroup": "True",
         "bingroup": "x",
         "hovertemplate": "Price=%{x}<br>count=%{y}<extra></extra>",
         "legendgroup": "",
         "marker": {
          "color": "#636efa",
          "pattern": {
           "shape": ""
          }
         },
         "name": "",
         "offsetgroup": "",
         "orientation": "v",
         "showlegend": false,
         "type": "histogram",
         "x": [
          3100,
          2285,
          2285,
          2595,
          2500,
          2800,
          2600,
          2899,
          2898,
          2899,
          2899,
          3200,
          2899,
          2899,
          2899,
          4300,
          3900,
          4250,
          3800,
          2370,
          2895,
          3500,
          2800,
          3990,
          3690,
          2600,
          2400,
          2650,
          4100,
          3150,
          3150,
          3700,
          3700,
          3950,
          3400,
          5000,
          3500,
          3485,
          3900,
          3390,
          4500,
          3300,
          4975,
          2600,
          3950,
          3950,
          3950,
          3900,
          2899,
          2899,
          5950,
          1695,
          4200,
          3900,
          4300,
          3200,
          5000,
          2200,
          900,
          900,
          2500,
          4200,
          4200,
          5435,
          5460,
          5460,
          5780,
          2600,
          2350,
          6075,
          4975,
          2499,
          5800,
          5300,
          2350,
          5685,
          3800,
          4650,
          6250,
          3100,
          2000,
          7500,
          3800,
          840,
          3800,
          860,
          850,
          870,
          870,
          870,
          3750,
          860,
          890,
          890,
          880,
          860,
          1950,
          1950,
          1012,
          1012,
          1012,
          1012,
          1012,
          1012,
          3895,
          4500,
          2300,
          4200,
          3700,
          4950,
          4250,
          4150,
          2600,
          4200,
          5280,
          1950,
          3450,
          3495,
          2600,
          3795,
          2600,
          2600,
          3150,
          3150,
          2600,
          3500,
          2600,
          2600,
          2600,
          2600,
          4300,
          2600,
          4300,
          3095,
          3300,
          3400,
          4100,
          2600,
          2650,
          1222,
          5000,
          2950,
          2300,
          2300,
          2300,
          4250,
          2000,
          2700,
          1227,
          2800,
          4000,
          1643,
          3800,
          3400,
          5500,
          2950,
          1200,
          4600,
          2800,
          2300,
          1995,
          2850,
          1250,
          2500,
          1150
         ],
         "xaxis": "x",
         "yaxis": "y"
        }
       ],
       "layout": {
        "barmode": "relative",
        "legend": {
         "tracegroupgap": 0
        },
        "margin": {
         "t": 60
        },
        "template": {
         "data": {
          "bar": [
           {
            "error_x": {
             "color": "#2a3f5f"
            },
            "error_y": {
             "color": "#2a3f5f"
            },
            "marker": {
             "line": {
              "color": "#E5ECF6",
              "width": 0.5
             },
             "pattern": {
              "fillmode": "overlay",
              "size": 10,
              "solidity": 0.2
             }
            },
            "type": "bar"
           }
          ],
          "barpolar": [
           {
            "marker": {
             "line": {
              "color": "#E5ECF6",
              "width": 0.5
             },
             "pattern": {
              "fillmode": "overlay",
              "size": 10,
              "solidity": 0.2
             }
            },
            "type": "barpolar"
           }
          ],
          "carpet": [
           {
            "aaxis": {
             "endlinecolor": "#2a3f5f",
             "gridcolor": "white",
             "linecolor": "white",
             "minorgridcolor": "white",
             "startlinecolor": "#2a3f5f"
            },
            "baxis": {
             "endlinecolor": "#2a3f5f",
             "gridcolor": "white",
             "linecolor": "white",
             "minorgridcolor": "white",
             "startlinecolor": "#2a3f5f"
            },
            "type": "carpet"
           }
          ],
          "choropleth": [
           {
            "colorbar": {
             "outlinewidth": 0,
             "ticks": ""
            },
            "type": "choropleth"
           }
          ],
          "contour": [
           {
            "colorbar": {
             "outlinewidth": 0,
             "ticks": ""
            },
            "colorscale": [
             [
              0,
              "#0d0887"
             ],
             [
              0.1111111111111111,
              "#46039f"
             ],
             [
              0.2222222222222222,
              "#7201a8"
             ],
             [
              0.3333333333333333,
              "#9c179e"
             ],
             [
              0.4444444444444444,
              "#bd3786"
             ],
             [
              0.5555555555555556,
              "#d8576b"
             ],
             [
              0.6666666666666666,
              "#ed7953"
             ],
             [
              0.7777777777777778,
              "#fb9f3a"
             ],
             [
              0.8888888888888888,
              "#fdca26"
             ],
             [
              1,
              "#f0f921"
             ]
            ],
            "type": "contour"
           }
          ],
          "contourcarpet": [
           {
            "colorbar": {
             "outlinewidth": 0,
             "ticks": ""
            },
            "type": "contourcarpet"
           }
          ],
          "heatmap": [
           {
            "colorbar": {
             "outlinewidth": 0,
             "ticks": ""
            },
            "colorscale": [
             [
              0,
              "#0d0887"
             ],
             [
              0.1111111111111111,
              "#46039f"
             ],
             [
              0.2222222222222222,
              "#7201a8"
             ],
             [
              0.3333333333333333,
              "#9c179e"
             ],
             [
              0.4444444444444444,
              "#bd3786"
             ],
             [
              0.5555555555555556,
              "#d8576b"
             ],
             [
              0.6666666666666666,
              "#ed7953"
             ],
             [
              0.7777777777777778,
              "#fb9f3a"
             ],
             [
              0.8888888888888888,
              "#fdca26"
             ],
             [
              1,
              "#f0f921"
             ]
            ],
            "type": "heatmap"
           }
          ],
          "heatmapgl": [
           {
            "colorbar": {
             "outlinewidth": 0,
             "ticks": ""
            },
            "colorscale": [
             [
              0,
              "#0d0887"
             ],
             [
              0.1111111111111111,
              "#46039f"
             ],
             [
              0.2222222222222222,
              "#7201a8"
             ],
             [
              0.3333333333333333,
              "#9c179e"
             ],
             [
              0.4444444444444444,
              "#bd3786"
             ],
             [
              0.5555555555555556,
              "#d8576b"
             ],
             [
              0.6666666666666666,
              "#ed7953"
             ],
             [
              0.7777777777777778,
              "#fb9f3a"
             ],
             [
              0.8888888888888888,
              "#fdca26"
             ],
             [
              1,
              "#f0f921"
             ]
            ],
            "type": "heatmapgl"
           }
          ],
          "histogram": [
           {
            "marker": {
             "pattern": {
              "fillmode": "overlay",
              "size": 10,
              "solidity": 0.2
             }
            },
            "type": "histogram"
           }
          ],
          "histogram2d": [
           {
            "colorbar": {
             "outlinewidth": 0,
             "ticks": ""
            },
            "colorscale": [
             [
              0,
              "#0d0887"
             ],
             [
              0.1111111111111111,
              "#46039f"
             ],
             [
              0.2222222222222222,
              "#7201a8"
             ],
             [
              0.3333333333333333,
              "#9c179e"
             ],
             [
              0.4444444444444444,
              "#bd3786"
             ],
             [
              0.5555555555555556,
              "#d8576b"
             ],
             [
              0.6666666666666666,
              "#ed7953"
             ],
             [
              0.7777777777777778,
              "#fb9f3a"
             ],
             [
              0.8888888888888888,
              "#fdca26"
             ],
             [
              1,
              "#f0f921"
             ]
            ],
            "type": "histogram2d"
           }
          ],
          "histogram2dcontour": [
           {
            "colorbar": {
             "outlinewidth": 0,
             "ticks": ""
            },
            "colorscale": [
             [
              0,
              "#0d0887"
             ],
             [
              0.1111111111111111,
              "#46039f"
             ],
             [
              0.2222222222222222,
              "#7201a8"
             ],
             [
              0.3333333333333333,
              "#9c179e"
             ],
             [
              0.4444444444444444,
              "#bd3786"
             ],
             [
              0.5555555555555556,
              "#d8576b"
             ],
             [
              0.6666666666666666,
              "#ed7953"
             ],
             [
              0.7777777777777778,
              "#fb9f3a"
             ],
             [
              0.8888888888888888,
              "#fdca26"
             ],
             [
              1,
              "#f0f921"
             ]
            ],
            "type": "histogram2dcontour"
           }
          ],
          "mesh3d": [
           {
            "colorbar": {
             "outlinewidth": 0,
             "ticks": ""
            },
            "type": "mesh3d"
           }
          ],
          "parcoords": [
           {
            "line": {
             "colorbar": {
              "outlinewidth": 0,
              "ticks": ""
             }
            },
            "type": "parcoords"
           }
          ],
          "pie": [
           {
            "automargin": true,
            "type": "pie"
           }
          ],
          "scatter": [
           {
            "fillpattern": {
             "fillmode": "overlay",
             "size": 10,
             "solidity": 0.2
            },
            "type": "scatter"
           }
          ],
          "scatter3d": [
           {
            "line": {
             "colorbar": {
              "outlinewidth": 0,
              "ticks": ""
             }
            },
            "marker": {
             "colorbar": {
              "outlinewidth": 0,
              "ticks": ""
             }
            },
            "type": "scatter3d"
           }
          ],
          "scattercarpet": [
           {
            "marker": {
             "colorbar": {
              "outlinewidth": 0,
              "ticks": ""
             }
            },
            "type": "scattercarpet"
           }
          ],
          "scattergeo": [
           {
            "marker": {
             "colorbar": {
              "outlinewidth": 0,
              "ticks": ""
             }
            },
            "type": "scattergeo"
           }
          ],
          "scattergl": [
           {
            "marker": {
             "colorbar": {
              "outlinewidth": 0,
              "ticks": ""
             }
            },
            "type": "scattergl"
           }
          ],
          "scattermapbox": [
           {
            "marker": {
             "colorbar": {
              "outlinewidth": 0,
              "ticks": ""
             }
            },
            "type": "scattermapbox"
           }
          ],
          "scatterpolar": [
           {
            "marker": {
             "colorbar": {
              "outlinewidth": 0,
              "ticks": ""
             }
            },
            "type": "scatterpolar"
           }
          ],
          "scatterpolargl": [
           {
            "marker": {
             "colorbar": {
              "outlinewidth": 0,
              "ticks": ""
             }
            },
            "type": "scatterpolargl"
           }
          ],
          "scatterternary": [
           {
            "marker": {
             "colorbar": {
              "outlinewidth": 0,
              "ticks": ""
             }
            },
            "type": "scatterternary"
           }
          ],
          "surface": [
           {
            "colorbar": {
             "outlinewidth": 0,
             "ticks": ""
            },
            "colorscale": [
             [
              0,
              "#0d0887"
             ],
             [
              0.1111111111111111,
              "#46039f"
             ],
             [
              0.2222222222222222,
              "#7201a8"
             ],
             [
              0.3333333333333333,
              "#9c179e"
             ],
             [
              0.4444444444444444,
              "#bd3786"
             ],
             [
              0.5555555555555556,
              "#d8576b"
             ],
             [
              0.6666666666666666,
              "#ed7953"
             ],
             [
              0.7777777777777778,
              "#fb9f3a"
             ],
             [
              0.8888888888888888,
              "#fdca26"
             ],
             [
              1,
              "#f0f921"
             ]
            ],
            "type": "surface"
           }
          ],
          "table": [
           {
            "cells": {
             "fill": {
              "color": "#EBF0F8"
             },
             "line": {
              "color": "white"
             }
            },
            "header": {
             "fill": {
              "color": "#C8D4E3"
             },
             "line": {
              "color": "white"
             }
            },
            "type": "table"
           }
          ]
         },
         "layout": {
          "annotationdefaults": {
           "arrowcolor": "#2a3f5f",
           "arrowhead": 0,
           "arrowwidth": 1
          },
          "autotypenumbers": "strict",
          "coloraxis": {
           "colorbar": {
            "outlinewidth": 0,
            "ticks": ""
           }
          },
          "colorscale": {
           "diverging": [
            [
             0,
             "#8e0152"
            ],
            [
             0.1,
             "#c51b7d"
            ],
            [
             0.2,
             "#de77ae"
            ],
            [
             0.3,
             "#f1b6da"
            ],
            [
             0.4,
             "#fde0ef"
            ],
            [
             0.5,
             "#f7f7f7"
            ],
            [
             0.6,
             "#e6f5d0"
            ],
            [
             0.7,
             "#b8e186"
            ],
            [
             0.8,
             "#7fbc41"
            ],
            [
             0.9,
             "#4d9221"
            ],
            [
             1,
             "#276419"
            ]
           ],
           "sequential": [
            [
             0,
             "#0d0887"
            ],
            [
             0.1111111111111111,
             "#46039f"
            ],
            [
             0.2222222222222222,
             "#7201a8"
            ],
            [
             0.3333333333333333,
             "#9c179e"
            ],
            [
             0.4444444444444444,
             "#bd3786"
            ],
            [
             0.5555555555555556,
             "#d8576b"
            ],
            [
             0.6666666666666666,
             "#ed7953"
            ],
            [
             0.7777777777777778,
             "#fb9f3a"
            ],
            [
             0.8888888888888888,
             "#fdca26"
            ],
            [
             1,
             "#f0f921"
            ]
           ],
           "sequentialminus": [
            [
             0,
             "#0d0887"
            ],
            [
             0.1111111111111111,
             "#46039f"
            ],
            [
             0.2222222222222222,
             "#7201a8"
            ],
            [
             0.3333333333333333,
             "#9c179e"
            ],
            [
             0.4444444444444444,
             "#bd3786"
            ],
            [
             0.5555555555555556,
             "#d8576b"
            ],
            [
             0.6666666666666666,
             "#ed7953"
            ],
            [
             0.7777777777777778,
             "#fb9f3a"
            ],
            [
             0.8888888888888888,
             "#fdca26"
            ],
            [
             1,
             "#f0f921"
            ]
           ]
          },
          "colorway": [
           "#636efa",
           "#EF553B",
           "#00cc96",
           "#ab63fa",
           "#FFA15A",
           "#19d3f3",
           "#FF6692",
           "#B6E880",
           "#FF97FF",
           "#FECB52"
          ],
          "font": {
           "color": "#2a3f5f"
          },
          "geo": {
           "bgcolor": "white",
           "lakecolor": "white",
           "landcolor": "#E5ECF6",
           "showlakes": true,
           "showland": true,
           "subunitcolor": "white"
          },
          "hoverlabel": {
           "align": "left"
          },
          "hovermode": "closest",
          "mapbox": {
           "style": "light"
          },
          "paper_bgcolor": "white",
          "plot_bgcolor": "#E5ECF6",
          "polar": {
           "angularaxis": {
            "gridcolor": "white",
            "linecolor": "white",
            "ticks": ""
           },
           "bgcolor": "#E5ECF6",
           "radialaxis": {
            "gridcolor": "white",
            "linecolor": "white",
            "ticks": ""
           }
          },
          "scene": {
           "xaxis": {
            "backgroundcolor": "#E5ECF6",
            "gridcolor": "white",
            "gridwidth": 2,
            "linecolor": "white",
            "showbackground": true,
            "ticks": "",
            "zerolinecolor": "white"
           },
           "yaxis": {
            "backgroundcolor": "#E5ECF6",
            "gridcolor": "white",
            "gridwidth": 2,
            "linecolor": "white",
            "showbackground": true,
            "ticks": "",
            "zerolinecolor": "white"
           },
           "zaxis": {
            "backgroundcolor": "#E5ECF6",
            "gridcolor": "white",
            "gridwidth": 2,
            "linecolor": "white",
            "showbackground": true,
            "ticks": "",
            "zerolinecolor": "white"
           }
          },
          "shapedefaults": {
           "line": {
            "color": "#2a3f5f"
           }
          },
          "ternary": {
           "aaxis": {
            "gridcolor": "white",
            "linecolor": "white",
            "ticks": ""
           },
           "baxis": {
            "gridcolor": "white",
            "linecolor": "white",
            "ticks": ""
           },
           "bgcolor": "#E5ECF6",
           "caxis": {
            "gridcolor": "white",
            "linecolor": "white",
            "ticks": ""
           }
          },
          "title": {
           "x": 0.05
          },
          "xaxis": {
           "automargin": true,
           "gridcolor": "white",
           "linecolor": "white",
           "ticks": "",
           "title": {
            "standoff": 15
           },
           "zerolinecolor": "white",
           "zerolinewidth": 2
          },
          "yaxis": {
           "automargin": true,
           "gridcolor": "white",
           "linecolor": "white",
           "ticks": "",
           "title": {
            "standoff": 15
           },
           "zerolinecolor": "white",
           "zerolinewidth": 2
          }
         }
        },
        "xaxis": {
         "anchor": "y",
         "domain": [
          0,
          1
         ],
         "title": {
          "text": "Price"
         }
        },
        "yaxis": {
         "anchor": "x",
         "domain": [
          0,
          1
         ],
         "title": {
          "text": "count"
         }
        }
       }
      }
     },
     "metadata": {},
     "output_type": "display_data"
    }
   ],
   "source": [
    "# Visualize the distribution of the df\n",
    "px.histogram(rentals_21_34br, x='Price')"
   ]
  },
  {
   "cell_type": "markdown",
   "metadata": {},
   "source": [
    "Let's check median prices and their distribution of the rentals by Cities"
   ]
  },
  {
   "cell_type": "code",
   "execution_count": 85,
   "metadata": {},
   "outputs": [],
   "source": [
    "# let's plot bar chart of top 20 cities with most data \n",
    "# Count the occurrences of each city in the DataFrame\n",
    "city_counts_21 = rentals_21_34br['Clean_location'].value_counts()\n",
    "\n",
    "# Select the top 20 cities counts\n",
    "top_20_cities_21 = city_counts_21.head(20).index.tolist()\n",
    "\n",
    "# Filter the DataFrame to include only rows for the top 20 cities\n",
    "df_top_20_cities_21 = rentals_21_34br[rentals_21_34br['Clean_location'].isin(top_20_cities_21)]"
   ]
  },
  {
   "cell_type": "code",
   "execution_count": 87,
   "metadata": {},
   "outputs": [
    {
     "data": {
      "application/vnd.plotly.v1+json": {
       "config": {
        "plotlyServerURL": "https://plot.ly"
       },
       "data": [
        {
         "alignmentgroup": "True",
         "hovertemplate": "Price=%{x}<br>Clean_location=%{y}<extra></extra>",
         "legendgroup": "",
         "marker": {
          "color": "#636efa",
          "pattern": {
           "shape": ""
          }
         },
         "name": "",
         "offsetgroup": "",
         "orientation": "h",
         "showlegend": false,
         "textposition": "auto",
         "type": "bar",
         "x": [
          1950,
          2000,
          2300,
          2300,
          2360,
          2500,
          2500,
          2600,
          2700,
          2847.5,
          2899,
          2899,
          3100,
          3450,
          3900,
          3950,
          4100,
          4150,
          4250,
          4600
         ],
         "xaxis": "x",
         "y": [
          "Woodbridge",
          "Chantilly",
          "Oxon Hill",
          "Centreville",
          "Fairfax",
          "Temple Hills",
          "Mount Vernon",
          "Herndon",
          "Springfield",
          "Alexandria",
          "Falls Church",
          "Lorton",
          "Burke",
          "DC",
          "Arlington",
          "Vienna",
          "Mclean",
          "Reston",
          "Potomac",
          "Chevy Chase"
         ],
         "yaxis": "y"
        }
       ],
       "layout": {
        "barmode": "relative",
        "legend": {
         "tracegroupgap": 0
        },
        "margin": {
         "t": 60
        },
        "template": {
         "data": {
          "bar": [
           {
            "error_x": {
             "color": "#2a3f5f"
            },
            "error_y": {
             "color": "#2a3f5f"
            },
            "marker": {
             "line": {
              "color": "#E5ECF6",
              "width": 0.5
             },
             "pattern": {
              "fillmode": "overlay",
              "size": 10,
              "solidity": 0.2
             }
            },
            "type": "bar"
           }
          ],
          "barpolar": [
           {
            "marker": {
             "line": {
              "color": "#E5ECF6",
              "width": 0.5
             },
             "pattern": {
              "fillmode": "overlay",
              "size": 10,
              "solidity": 0.2
             }
            },
            "type": "barpolar"
           }
          ],
          "carpet": [
           {
            "aaxis": {
             "endlinecolor": "#2a3f5f",
             "gridcolor": "white",
             "linecolor": "white",
             "minorgridcolor": "white",
             "startlinecolor": "#2a3f5f"
            },
            "baxis": {
             "endlinecolor": "#2a3f5f",
             "gridcolor": "white",
             "linecolor": "white",
             "minorgridcolor": "white",
             "startlinecolor": "#2a3f5f"
            },
            "type": "carpet"
           }
          ],
          "choropleth": [
           {
            "colorbar": {
             "outlinewidth": 0,
             "ticks": ""
            },
            "type": "choropleth"
           }
          ],
          "contour": [
           {
            "colorbar": {
             "outlinewidth": 0,
             "ticks": ""
            },
            "colorscale": [
             [
              0,
              "#0d0887"
             ],
             [
              0.1111111111111111,
              "#46039f"
             ],
             [
              0.2222222222222222,
              "#7201a8"
             ],
             [
              0.3333333333333333,
              "#9c179e"
             ],
             [
              0.4444444444444444,
              "#bd3786"
             ],
             [
              0.5555555555555556,
              "#d8576b"
             ],
             [
              0.6666666666666666,
              "#ed7953"
             ],
             [
              0.7777777777777778,
              "#fb9f3a"
             ],
             [
              0.8888888888888888,
              "#fdca26"
             ],
             [
              1,
              "#f0f921"
             ]
            ],
            "type": "contour"
           }
          ],
          "contourcarpet": [
           {
            "colorbar": {
             "outlinewidth": 0,
             "ticks": ""
            },
            "type": "contourcarpet"
           }
          ],
          "heatmap": [
           {
            "colorbar": {
             "outlinewidth": 0,
             "ticks": ""
            },
            "colorscale": [
             [
              0,
              "#0d0887"
             ],
             [
              0.1111111111111111,
              "#46039f"
             ],
             [
              0.2222222222222222,
              "#7201a8"
             ],
             [
              0.3333333333333333,
              "#9c179e"
             ],
             [
              0.4444444444444444,
              "#bd3786"
             ],
             [
              0.5555555555555556,
              "#d8576b"
             ],
             [
              0.6666666666666666,
              "#ed7953"
             ],
             [
              0.7777777777777778,
              "#fb9f3a"
             ],
             [
              0.8888888888888888,
              "#fdca26"
             ],
             [
              1,
              "#f0f921"
             ]
            ],
            "type": "heatmap"
           }
          ],
          "heatmapgl": [
           {
            "colorbar": {
             "outlinewidth": 0,
             "ticks": ""
            },
            "colorscale": [
             [
              0,
              "#0d0887"
             ],
             [
              0.1111111111111111,
              "#46039f"
             ],
             [
              0.2222222222222222,
              "#7201a8"
             ],
             [
              0.3333333333333333,
              "#9c179e"
             ],
             [
              0.4444444444444444,
              "#bd3786"
             ],
             [
              0.5555555555555556,
              "#d8576b"
             ],
             [
              0.6666666666666666,
              "#ed7953"
             ],
             [
              0.7777777777777778,
              "#fb9f3a"
             ],
             [
              0.8888888888888888,
              "#fdca26"
             ],
             [
              1,
              "#f0f921"
             ]
            ],
            "type": "heatmapgl"
           }
          ],
          "histogram": [
           {
            "marker": {
             "pattern": {
              "fillmode": "overlay",
              "size": 10,
              "solidity": 0.2
             }
            },
            "type": "histogram"
           }
          ],
          "histogram2d": [
           {
            "colorbar": {
             "outlinewidth": 0,
             "ticks": ""
            },
            "colorscale": [
             [
              0,
              "#0d0887"
             ],
             [
              0.1111111111111111,
              "#46039f"
             ],
             [
              0.2222222222222222,
              "#7201a8"
             ],
             [
              0.3333333333333333,
              "#9c179e"
             ],
             [
              0.4444444444444444,
              "#bd3786"
             ],
             [
              0.5555555555555556,
              "#d8576b"
             ],
             [
              0.6666666666666666,
              "#ed7953"
             ],
             [
              0.7777777777777778,
              "#fb9f3a"
             ],
             [
              0.8888888888888888,
              "#fdca26"
             ],
             [
              1,
              "#f0f921"
             ]
            ],
            "type": "histogram2d"
           }
          ],
          "histogram2dcontour": [
           {
            "colorbar": {
             "outlinewidth": 0,
             "ticks": ""
            },
            "colorscale": [
             [
              0,
              "#0d0887"
             ],
             [
              0.1111111111111111,
              "#46039f"
             ],
             [
              0.2222222222222222,
              "#7201a8"
             ],
             [
              0.3333333333333333,
              "#9c179e"
             ],
             [
              0.4444444444444444,
              "#bd3786"
             ],
             [
              0.5555555555555556,
              "#d8576b"
             ],
             [
              0.6666666666666666,
              "#ed7953"
             ],
             [
              0.7777777777777778,
              "#fb9f3a"
             ],
             [
              0.8888888888888888,
              "#fdca26"
             ],
             [
              1,
              "#f0f921"
             ]
            ],
            "type": "histogram2dcontour"
           }
          ],
          "mesh3d": [
           {
            "colorbar": {
             "outlinewidth": 0,
             "ticks": ""
            },
            "type": "mesh3d"
           }
          ],
          "parcoords": [
           {
            "line": {
             "colorbar": {
              "outlinewidth": 0,
              "ticks": ""
             }
            },
            "type": "parcoords"
           }
          ],
          "pie": [
           {
            "automargin": true,
            "type": "pie"
           }
          ],
          "scatter": [
           {
            "fillpattern": {
             "fillmode": "overlay",
             "size": 10,
             "solidity": 0.2
            },
            "type": "scatter"
           }
          ],
          "scatter3d": [
           {
            "line": {
             "colorbar": {
              "outlinewidth": 0,
              "ticks": ""
             }
            },
            "marker": {
             "colorbar": {
              "outlinewidth": 0,
              "ticks": ""
             }
            },
            "type": "scatter3d"
           }
          ],
          "scattercarpet": [
           {
            "marker": {
             "colorbar": {
              "outlinewidth": 0,
              "ticks": ""
             }
            },
            "type": "scattercarpet"
           }
          ],
          "scattergeo": [
           {
            "marker": {
             "colorbar": {
              "outlinewidth": 0,
              "ticks": ""
             }
            },
            "type": "scattergeo"
           }
          ],
          "scattergl": [
           {
            "marker": {
             "colorbar": {
              "outlinewidth": 0,
              "ticks": ""
             }
            },
            "type": "scattergl"
           }
          ],
          "scattermapbox": [
           {
            "marker": {
             "colorbar": {
              "outlinewidth": 0,
              "ticks": ""
             }
            },
            "type": "scattermapbox"
           }
          ],
          "scatterpolar": [
           {
            "marker": {
             "colorbar": {
              "outlinewidth": 0,
              "ticks": ""
             }
            },
            "type": "scatterpolar"
           }
          ],
          "scatterpolargl": [
           {
            "marker": {
             "colorbar": {
              "outlinewidth": 0,
              "ticks": ""
             }
            },
            "type": "scatterpolargl"
           }
          ],
          "scatterternary": [
           {
            "marker": {
             "colorbar": {
              "outlinewidth": 0,
              "ticks": ""
             }
            },
            "type": "scatterternary"
           }
          ],
          "surface": [
           {
            "colorbar": {
             "outlinewidth": 0,
             "ticks": ""
            },
            "colorscale": [
             [
              0,
              "#0d0887"
             ],
             [
              0.1111111111111111,
              "#46039f"
             ],
             [
              0.2222222222222222,
              "#7201a8"
             ],
             [
              0.3333333333333333,
              "#9c179e"
             ],
             [
              0.4444444444444444,
              "#bd3786"
             ],
             [
              0.5555555555555556,
              "#d8576b"
             ],
             [
              0.6666666666666666,
              "#ed7953"
             ],
             [
              0.7777777777777778,
              "#fb9f3a"
             ],
             [
              0.8888888888888888,
              "#fdca26"
             ],
             [
              1,
              "#f0f921"
             ]
            ],
            "type": "surface"
           }
          ],
          "table": [
           {
            "cells": {
             "fill": {
              "color": "#EBF0F8"
             },
             "line": {
              "color": "white"
             }
            },
            "header": {
             "fill": {
              "color": "#C8D4E3"
             },
             "line": {
              "color": "white"
             }
            },
            "type": "table"
           }
          ]
         },
         "layout": {
          "annotationdefaults": {
           "arrowcolor": "#2a3f5f",
           "arrowhead": 0,
           "arrowwidth": 1
          },
          "autotypenumbers": "strict",
          "coloraxis": {
           "colorbar": {
            "outlinewidth": 0,
            "ticks": ""
           }
          },
          "colorscale": {
           "diverging": [
            [
             0,
             "#8e0152"
            ],
            [
             0.1,
             "#c51b7d"
            ],
            [
             0.2,
             "#de77ae"
            ],
            [
             0.3,
             "#f1b6da"
            ],
            [
             0.4,
             "#fde0ef"
            ],
            [
             0.5,
             "#f7f7f7"
            ],
            [
             0.6,
             "#e6f5d0"
            ],
            [
             0.7,
             "#b8e186"
            ],
            [
             0.8,
             "#7fbc41"
            ],
            [
             0.9,
             "#4d9221"
            ],
            [
             1,
             "#276419"
            ]
           ],
           "sequential": [
            [
             0,
             "#0d0887"
            ],
            [
             0.1111111111111111,
             "#46039f"
            ],
            [
             0.2222222222222222,
             "#7201a8"
            ],
            [
             0.3333333333333333,
             "#9c179e"
            ],
            [
             0.4444444444444444,
             "#bd3786"
            ],
            [
             0.5555555555555556,
             "#d8576b"
            ],
            [
             0.6666666666666666,
             "#ed7953"
            ],
            [
             0.7777777777777778,
             "#fb9f3a"
            ],
            [
             0.8888888888888888,
             "#fdca26"
            ],
            [
             1,
             "#f0f921"
            ]
           ],
           "sequentialminus": [
            [
             0,
             "#0d0887"
            ],
            [
             0.1111111111111111,
             "#46039f"
            ],
            [
             0.2222222222222222,
             "#7201a8"
            ],
            [
             0.3333333333333333,
             "#9c179e"
            ],
            [
             0.4444444444444444,
             "#bd3786"
            ],
            [
             0.5555555555555556,
             "#d8576b"
            ],
            [
             0.6666666666666666,
             "#ed7953"
            ],
            [
             0.7777777777777778,
             "#fb9f3a"
            ],
            [
             0.8888888888888888,
             "#fdca26"
            ],
            [
             1,
             "#f0f921"
            ]
           ]
          },
          "colorway": [
           "#636efa",
           "#EF553B",
           "#00cc96",
           "#ab63fa",
           "#FFA15A",
           "#19d3f3",
           "#FF6692",
           "#B6E880",
           "#FF97FF",
           "#FECB52"
          ],
          "font": {
           "color": "#2a3f5f"
          },
          "geo": {
           "bgcolor": "white",
           "lakecolor": "white",
           "landcolor": "#E5ECF6",
           "showlakes": true,
           "showland": true,
           "subunitcolor": "white"
          },
          "hoverlabel": {
           "align": "left"
          },
          "hovermode": "closest",
          "mapbox": {
           "style": "light"
          },
          "paper_bgcolor": "white",
          "plot_bgcolor": "#E5ECF6",
          "polar": {
           "angularaxis": {
            "gridcolor": "white",
            "linecolor": "white",
            "ticks": ""
           },
           "bgcolor": "#E5ECF6",
           "radialaxis": {
            "gridcolor": "white",
            "linecolor": "white",
            "ticks": ""
           }
          },
          "scene": {
           "xaxis": {
            "backgroundcolor": "#E5ECF6",
            "gridcolor": "white",
            "gridwidth": 2,
            "linecolor": "white",
            "showbackground": true,
            "ticks": "",
            "zerolinecolor": "white"
           },
           "yaxis": {
            "backgroundcolor": "#E5ECF6",
            "gridcolor": "white",
            "gridwidth": 2,
            "linecolor": "white",
            "showbackground": true,
            "ticks": "",
            "zerolinecolor": "white"
           },
           "zaxis": {
            "backgroundcolor": "#E5ECF6",
            "gridcolor": "white",
            "gridwidth": 2,
            "linecolor": "white",
            "showbackground": true,
            "ticks": "",
            "zerolinecolor": "white"
           }
          },
          "shapedefaults": {
           "line": {
            "color": "#2a3f5f"
           }
          },
          "ternary": {
           "aaxis": {
            "gridcolor": "white",
            "linecolor": "white",
            "ticks": ""
           },
           "baxis": {
            "gridcolor": "white",
            "linecolor": "white",
            "ticks": ""
           },
           "bgcolor": "#E5ECF6",
           "caxis": {
            "gridcolor": "white",
            "linecolor": "white",
            "ticks": ""
           }
          },
          "title": {
           "x": 0.05
          },
          "xaxis": {
           "automargin": true,
           "gridcolor": "white",
           "linecolor": "white",
           "ticks": "",
           "title": {
            "standoff": 15
           },
           "zerolinecolor": "white",
           "zerolinewidth": 2
          },
          "yaxis": {
           "automargin": true,
           "gridcolor": "white",
           "linecolor": "white",
           "ticks": "",
           "title": {
            "standoff": 15
           },
           "zerolinecolor": "white",
           "zerolinewidth": 2
          }
         }
        },
        "title": {
         "text": "Median Price by City of Top 20 Highest Counts in 2021"
        },
        "xaxis": {
         "anchor": "y",
         "domain": [
          0,
          1
         ],
         "title": {
          "text": "Median Price ($)"
         }
        },
        "yaxis": {
         "anchor": "x",
         "domain": [
          0,
          1
         ],
         "title": {
          "text": ""
         }
        }
       }
      }
     },
     "metadata": {},
     "output_type": "display_data"
    }
   ],
   "source": [
    "# get median prices of top10 and bottom10\n",
    "median_top20cities_21 = df_top_20_cities_21.groupby('Clean_location')['Price'].median().reset_index().sort_values(by='Price')\n",
    "\n",
    "# plot the top10\n",
    "fig = px.bar(median_top20cities_21, y='Clean_location', x='Price', orientation='h')\n",
    "fig.update_layout(\n",
    "    title=\"Median Price by City of Top 20 Highest Counts in 2021\",\n",
    "    yaxis_title=\"\",\n",
    "    xaxis_title=\"Median Price ($)\"\n",
    ")\n",
    "\n",
    "fig.show()"
   ]
  },
  {
   "cell_type": "code",
   "execution_count": 89,
   "metadata": {},
   "outputs": [
    {
     "data": {
      "application/vnd.plotly.v1+json": {
       "config": {
        "plotlyServerURL": "https://plot.ly"
       },
       "data": [
        {
         "alignmentgroup": "True",
         "box": {
          "visible": true
         },
         "hovertemplate": "Price=%{x}<br>Clean_location=%{y}<extra></extra>",
         "legendgroup": "",
         "marker": {
          "color": "#636efa"
         },
         "name": "",
         "offsetgroup": "",
         "orientation": "h",
         "points": "all",
         "scalegroup": "True",
         "showlegend": false,
         "type": "violin",
         "x": [
          3100,
          2285,
          2285,
          2595,
          2500,
          2800,
          2600,
          2899,
          2898,
          2899,
          2899,
          3200,
          2899,
          2899,
          2899,
          4300,
          3900,
          4250,
          3800,
          2370,
          2895,
          3500,
          2800,
          3990,
          3690,
          2600,
          2400,
          2650,
          4100,
          3150,
          3150,
          3700,
          3700,
          3950,
          3400,
          5000,
          3500,
          3485,
          3900,
          3390,
          4500,
          3300,
          4975,
          2600,
          3950,
          3950,
          3950,
          3900,
          2899,
          2899,
          5950,
          1695,
          4200,
          3900,
          4300,
          3200,
          5000,
          2200,
          900,
          900,
          2500,
          4200,
          4200,
          5435,
          5460,
          5460,
          5780,
          2600,
          2350,
          6075,
          4975,
          2499,
          5800,
          5300,
          2350,
          5685,
          3800,
          4650,
          6250,
          3100,
          2000,
          7500,
          3800,
          840,
          3800,
          860,
          850,
          870,
          870,
          870,
          3750,
          860,
          890,
          890,
          880,
          860,
          1950,
          1950,
          1012,
          1012,
          1012,
          1012,
          1012,
          1012,
          3895,
          4500,
          2300,
          4200,
          3700,
          4950,
          4250,
          4150,
          2600,
          4200,
          5280,
          1950,
          3450,
          3495,
          2600,
          3795,
          2600,
          2600,
          3150,
          3150,
          2600,
          3500,
          2600,
          2600,
          2600,
          2600,
          4300,
          2600,
          4300,
          3095,
          3300,
          3400,
          4100,
          2600,
          2650,
          1222,
          5000,
          2950,
          2300,
          2300,
          2300,
          4250,
          2000,
          2700,
          1227,
          2800,
          4000,
          1643,
          3800,
          3400,
          5500,
          2950,
          1200,
          4600,
          2800,
          2300,
          1995,
          2850,
          1250,
          2500,
          1150
         ],
         "x0": " ",
         "xaxis": "x",
         "y": [
          "Springfield",
          "Fairfax",
          "Fairfax",
          "Fairfax",
          "Burke",
          "Springfield",
          "Springfield",
          "Falls Church",
          "Falls Church",
          "Falls Church",
          "Falls Church",
          "Falls Church",
          "Falls Church",
          "Falls Church",
          "Falls Church",
          "Falls Church",
          "Falls Church",
          "Mclean",
          "Vienna",
          "Fairfax",
          "Alexandria",
          "Mclean",
          "Alexandria",
          "Arlington",
          "Fairfax",
          "Arlington",
          "Springfield",
          "Alexandria",
          "Vienna",
          "Arlington",
          "Arlington",
          "Burke",
          "Arlington",
          "Arlington",
          "Arlington",
          "DC",
          "Alexandria",
          "Arlington",
          "Arlington",
          "Arlington",
          "Vienna",
          "Vienna",
          "Arlington",
          "Arlington",
          "Arlington",
          "Arlington",
          "Arlington",
          "Alexandria",
          "Lorton",
          "Lorton",
          "Arlington",
          "Alexandria",
          "Arlington",
          "Alexandria",
          "DC",
          "Alexandria",
          "DC",
          "Lorton",
          "Alexandria",
          "Alexandria",
          "Mount Vernon",
          "DC",
          "DC",
          "DC",
          "DC",
          "DC",
          "DC",
          "Fairfax",
          "Fairfax",
          "DC",
          "DC",
          "Woodbridge",
          "DC",
          "DC",
          "Fairfax",
          "DC",
          "DC",
          "DC",
          "DC",
          "DC",
          "DC",
          "DC",
          "DC",
          "DC",
          "DC",
          "DC",
          "DC",
          "DC",
          "DC",
          "DC",
          "DC",
          "DC",
          "DC",
          "DC",
          "DC",
          "DC",
          "Woodbridge",
          "Woodbridge",
          "DC",
          "DC",
          "DC",
          "DC",
          "DC",
          "DC",
          "DC",
          "DC",
          "Oxon Hill",
          "DC",
          "DC",
          "Chevy Chase",
          "Chevy Chase",
          "Reston",
          "Herndon",
          "DC",
          "DC",
          "Woodbridge",
          "DC",
          "DC",
          "Herndon",
          "DC",
          "Herndon",
          "Herndon",
          "DC",
          "DC",
          "Herndon",
          "DC",
          "Herndon",
          "Herndon",
          "Herndon",
          "Herndon",
          "DC",
          "Herndon",
          "DC",
          "DC",
          "DC",
          "DC",
          "Mclean",
          "Herndon",
          "DC",
          "DC",
          "DC",
          "DC",
          "Centreville",
          "Centreville",
          "Centreville",
          "Potomac",
          "Chantilly",
          "DC",
          "DC",
          "DC",
          "DC",
          "DC",
          "DC",
          "DC",
          "DC",
          "DC",
          "DC",
          "DC",
          "Centreville",
          "Centreville",
          "Woodbridge",
          "DC",
          "DC",
          "Temple Hills",
          "DC"
         ],
         "y0": " ",
         "yaxis": "y"
        }
       ],
       "layout": {
        "height": 1000,
        "legend": {
         "tracegroupgap": 0
        },
        "margin": {
         "t": 60
        },
        "template": {
         "data": {
          "bar": [
           {
            "error_x": {
             "color": "#2a3f5f"
            },
            "error_y": {
             "color": "#2a3f5f"
            },
            "marker": {
             "line": {
              "color": "#E5ECF6",
              "width": 0.5
             },
             "pattern": {
              "fillmode": "overlay",
              "size": 10,
              "solidity": 0.2
             }
            },
            "type": "bar"
           }
          ],
          "barpolar": [
           {
            "marker": {
             "line": {
              "color": "#E5ECF6",
              "width": 0.5
             },
             "pattern": {
              "fillmode": "overlay",
              "size": 10,
              "solidity": 0.2
             }
            },
            "type": "barpolar"
           }
          ],
          "carpet": [
           {
            "aaxis": {
             "endlinecolor": "#2a3f5f",
             "gridcolor": "white",
             "linecolor": "white",
             "minorgridcolor": "white",
             "startlinecolor": "#2a3f5f"
            },
            "baxis": {
             "endlinecolor": "#2a3f5f",
             "gridcolor": "white",
             "linecolor": "white",
             "minorgridcolor": "white",
             "startlinecolor": "#2a3f5f"
            },
            "type": "carpet"
           }
          ],
          "choropleth": [
           {
            "colorbar": {
             "outlinewidth": 0,
             "ticks": ""
            },
            "type": "choropleth"
           }
          ],
          "contour": [
           {
            "colorbar": {
             "outlinewidth": 0,
             "ticks": ""
            },
            "colorscale": [
             [
              0,
              "#0d0887"
             ],
             [
              0.1111111111111111,
              "#46039f"
             ],
             [
              0.2222222222222222,
              "#7201a8"
             ],
             [
              0.3333333333333333,
              "#9c179e"
             ],
             [
              0.4444444444444444,
              "#bd3786"
             ],
             [
              0.5555555555555556,
              "#d8576b"
             ],
             [
              0.6666666666666666,
              "#ed7953"
             ],
             [
              0.7777777777777778,
              "#fb9f3a"
             ],
             [
              0.8888888888888888,
              "#fdca26"
             ],
             [
              1,
              "#f0f921"
             ]
            ],
            "type": "contour"
           }
          ],
          "contourcarpet": [
           {
            "colorbar": {
             "outlinewidth": 0,
             "ticks": ""
            },
            "type": "contourcarpet"
           }
          ],
          "heatmap": [
           {
            "colorbar": {
             "outlinewidth": 0,
             "ticks": ""
            },
            "colorscale": [
             [
              0,
              "#0d0887"
             ],
             [
              0.1111111111111111,
              "#46039f"
             ],
             [
              0.2222222222222222,
              "#7201a8"
             ],
             [
              0.3333333333333333,
              "#9c179e"
             ],
             [
              0.4444444444444444,
              "#bd3786"
             ],
             [
              0.5555555555555556,
              "#d8576b"
             ],
             [
              0.6666666666666666,
              "#ed7953"
             ],
             [
              0.7777777777777778,
              "#fb9f3a"
             ],
             [
              0.8888888888888888,
              "#fdca26"
             ],
             [
              1,
              "#f0f921"
             ]
            ],
            "type": "heatmap"
           }
          ],
          "heatmapgl": [
           {
            "colorbar": {
             "outlinewidth": 0,
             "ticks": ""
            },
            "colorscale": [
             [
              0,
              "#0d0887"
             ],
             [
              0.1111111111111111,
              "#46039f"
             ],
             [
              0.2222222222222222,
              "#7201a8"
             ],
             [
              0.3333333333333333,
              "#9c179e"
             ],
             [
              0.4444444444444444,
              "#bd3786"
             ],
             [
              0.5555555555555556,
              "#d8576b"
             ],
             [
              0.6666666666666666,
              "#ed7953"
             ],
             [
              0.7777777777777778,
              "#fb9f3a"
             ],
             [
              0.8888888888888888,
              "#fdca26"
             ],
             [
              1,
              "#f0f921"
             ]
            ],
            "type": "heatmapgl"
           }
          ],
          "histogram": [
           {
            "marker": {
             "pattern": {
              "fillmode": "overlay",
              "size": 10,
              "solidity": 0.2
             }
            },
            "type": "histogram"
           }
          ],
          "histogram2d": [
           {
            "colorbar": {
             "outlinewidth": 0,
             "ticks": ""
            },
            "colorscale": [
             [
              0,
              "#0d0887"
             ],
             [
              0.1111111111111111,
              "#46039f"
             ],
             [
              0.2222222222222222,
              "#7201a8"
             ],
             [
              0.3333333333333333,
              "#9c179e"
             ],
             [
              0.4444444444444444,
              "#bd3786"
             ],
             [
              0.5555555555555556,
              "#d8576b"
             ],
             [
              0.6666666666666666,
              "#ed7953"
             ],
             [
              0.7777777777777778,
              "#fb9f3a"
             ],
             [
              0.8888888888888888,
              "#fdca26"
             ],
             [
              1,
              "#f0f921"
             ]
            ],
            "type": "histogram2d"
           }
          ],
          "histogram2dcontour": [
           {
            "colorbar": {
             "outlinewidth": 0,
             "ticks": ""
            },
            "colorscale": [
             [
              0,
              "#0d0887"
             ],
             [
              0.1111111111111111,
              "#46039f"
             ],
             [
              0.2222222222222222,
              "#7201a8"
             ],
             [
              0.3333333333333333,
              "#9c179e"
             ],
             [
              0.4444444444444444,
              "#bd3786"
             ],
             [
              0.5555555555555556,
              "#d8576b"
             ],
             [
              0.6666666666666666,
              "#ed7953"
             ],
             [
              0.7777777777777778,
              "#fb9f3a"
             ],
             [
              0.8888888888888888,
              "#fdca26"
             ],
             [
              1,
              "#f0f921"
             ]
            ],
            "type": "histogram2dcontour"
           }
          ],
          "mesh3d": [
           {
            "colorbar": {
             "outlinewidth": 0,
             "ticks": ""
            },
            "type": "mesh3d"
           }
          ],
          "parcoords": [
           {
            "line": {
             "colorbar": {
              "outlinewidth": 0,
              "ticks": ""
             }
            },
            "type": "parcoords"
           }
          ],
          "pie": [
           {
            "automargin": true,
            "type": "pie"
           }
          ],
          "scatter": [
           {
            "fillpattern": {
             "fillmode": "overlay",
             "size": 10,
             "solidity": 0.2
            },
            "type": "scatter"
           }
          ],
          "scatter3d": [
           {
            "line": {
             "colorbar": {
              "outlinewidth": 0,
              "ticks": ""
             }
            },
            "marker": {
             "colorbar": {
              "outlinewidth": 0,
              "ticks": ""
             }
            },
            "type": "scatter3d"
           }
          ],
          "scattercarpet": [
           {
            "marker": {
             "colorbar": {
              "outlinewidth": 0,
              "ticks": ""
             }
            },
            "type": "scattercarpet"
           }
          ],
          "scattergeo": [
           {
            "marker": {
             "colorbar": {
              "outlinewidth": 0,
              "ticks": ""
             }
            },
            "type": "scattergeo"
           }
          ],
          "scattergl": [
           {
            "marker": {
             "colorbar": {
              "outlinewidth": 0,
              "ticks": ""
             }
            },
            "type": "scattergl"
           }
          ],
          "scattermapbox": [
           {
            "marker": {
             "colorbar": {
              "outlinewidth": 0,
              "ticks": ""
             }
            },
            "type": "scattermapbox"
           }
          ],
          "scatterpolar": [
           {
            "marker": {
             "colorbar": {
              "outlinewidth": 0,
              "ticks": ""
             }
            },
            "type": "scatterpolar"
           }
          ],
          "scatterpolargl": [
           {
            "marker": {
             "colorbar": {
              "outlinewidth": 0,
              "ticks": ""
             }
            },
            "type": "scatterpolargl"
           }
          ],
          "scatterternary": [
           {
            "marker": {
             "colorbar": {
              "outlinewidth": 0,
              "ticks": ""
             }
            },
            "type": "scatterternary"
           }
          ],
          "surface": [
           {
            "colorbar": {
             "outlinewidth": 0,
             "ticks": ""
            },
            "colorscale": [
             [
              0,
              "#0d0887"
             ],
             [
              0.1111111111111111,
              "#46039f"
             ],
             [
              0.2222222222222222,
              "#7201a8"
             ],
             [
              0.3333333333333333,
              "#9c179e"
             ],
             [
              0.4444444444444444,
              "#bd3786"
             ],
             [
              0.5555555555555556,
              "#d8576b"
             ],
             [
              0.6666666666666666,
              "#ed7953"
             ],
             [
              0.7777777777777778,
              "#fb9f3a"
             ],
             [
              0.8888888888888888,
              "#fdca26"
             ],
             [
              1,
              "#f0f921"
             ]
            ],
            "type": "surface"
           }
          ],
          "table": [
           {
            "cells": {
             "fill": {
              "color": "#EBF0F8"
             },
             "line": {
              "color": "white"
             }
            },
            "header": {
             "fill": {
              "color": "#C8D4E3"
             },
             "line": {
              "color": "white"
             }
            },
            "type": "table"
           }
          ]
         },
         "layout": {
          "annotationdefaults": {
           "arrowcolor": "#2a3f5f",
           "arrowhead": 0,
           "arrowwidth": 1
          },
          "autotypenumbers": "strict",
          "coloraxis": {
           "colorbar": {
            "outlinewidth": 0,
            "ticks": ""
           }
          },
          "colorscale": {
           "diverging": [
            [
             0,
             "#8e0152"
            ],
            [
             0.1,
             "#c51b7d"
            ],
            [
             0.2,
             "#de77ae"
            ],
            [
             0.3,
             "#f1b6da"
            ],
            [
             0.4,
             "#fde0ef"
            ],
            [
             0.5,
             "#f7f7f7"
            ],
            [
             0.6,
             "#e6f5d0"
            ],
            [
             0.7,
             "#b8e186"
            ],
            [
             0.8,
             "#7fbc41"
            ],
            [
             0.9,
             "#4d9221"
            ],
            [
             1,
             "#276419"
            ]
           ],
           "sequential": [
            [
             0,
             "#0d0887"
            ],
            [
             0.1111111111111111,
             "#46039f"
            ],
            [
             0.2222222222222222,
             "#7201a8"
            ],
            [
             0.3333333333333333,
             "#9c179e"
            ],
            [
             0.4444444444444444,
             "#bd3786"
            ],
            [
             0.5555555555555556,
             "#d8576b"
            ],
            [
             0.6666666666666666,
             "#ed7953"
            ],
            [
             0.7777777777777778,
             "#fb9f3a"
            ],
            [
             0.8888888888888888,
             "#fdca26"
            ],
            [
             1,
             "#f0f921"
            ]
           ],
           "sequentialminus": [
            [
             0,
             "#0d0887"
            ],
            [
             0.1111111111111111,
             "#46039f"
            ],
            [
             0.2222222222222222,
             "#7201a8"
            ],
            [
             0.3333333333333333,
             "#9c179e"
            ],
            [
             0.4444444444444444,
             "#bd3786"
            ],
            [
             0.5555555555555556,
             "#d8576b"
            ],
            [
             0.6666666666666666,
             "#ed7953"
            ],
            [
             0.7777777777777778,
             "#fb9f3a"
            ],
            [
             0.8888888888888888,
             "#fdca26"
            ],
            [
             1,
             "#f0f921"
            ]
           ]
          },
          "colorway": [
           "#636efa",
           "#EF553B",
           "#00cc96",
           "#ab63fa",
           "#FFA15A",
           "#19d3f3",
           "#FF6692",
           "#B6E880",
           "#FF97FF",
           "#FECB52"
          ],
          "font": {
           "color": "#2a3f5f"
          },
          "geo": {
           "bgcolor": "white",
           "lakecolor": "white",
           "landcolor": "#E5ECF6",
           "showlakes": true,
           "showland": true,
           "subunitcolor": "white"
          },
          "hoverlabel": {
           "align": "left"
          },
          "hovermode": "closest",
          "mapbox": {
           "style": "light"
          },
          "paper_bgcolor": "white",
          "plot_bgcolor": "#E5ECF6",
          "polar": {
           "angularaxis": {
            "gridcolor": "white",
            "linecolor": "white",
            "ticks": ""
           },
           "bgcolor": "#E5ECF6",
           "radialaxis": {
            "gridcolor": "white",
            "linecolor": "white",
            "ticks": ""
           }
          },
          "scene": {
           "xaxis": {
            "backgroundcolor": "#E5ECF6",
            "gridcolor": "white",
            "gridwidth": 2,
            "linecolor": "white",
            "showbackground": true,
            "ticks": "",
            "zerolinecolor": "white"
           },
           "yaxis": {
            "backgroundcolor": "#E5ECF6",
            "gridcolor": "white",
            "gridwidth": 2,
            "linecolor": "white",
            "showbackground": true,
            "ticks": "",
            "zerolinecolor": "white"
           },
           "zaxis": {
            "backgroundcolor": "#E5ECF6",
            "gridcolor": "white",
            "gridwidth": 2,
            "linecolor": "white",
            "showbackground": true,
            "ticks": "",
            "zerolinecolor": "white"
           }
          },
          "shapedefaults": {
           "line": {
            "color": "#2a3f5f"
           }
          },
          "ternary": {
           "aaxis": {
            "gridcolor": "white",
            "linecolor": "white",
            "ticks": ""
           },
           "baxis": {
            "gridcolor": "white",
            "linecolor": "white",
            "ticks": ""
           },
           "bgcolor": "#E5ECF6",
           "caxis": {
            "gridcolor": "white",
            "linecolor": "white",
            "ticks": ""
           }
          },
          "title": {
           "x": 0.05
          },
          "xaxis": {
           "automargin": true,
           "gridcolor": "white",
           "linecolor": "white",
           "ticks": "",
           "title": {
            "standoff": 15
           },
           "zerolinecolor": "white",
           "zerolinewidth": 2
          },
          "yaxis": {
           "automargin": true,
           "gridcolor": "white",
           "linecolor": "white",
           "ticks": "",
           "title": {
            "standoff": 15
           },
           "zerolinecolor": "white",
           "zerolinewidth": 2
          }
         }
        },
        "title": {
         "text": "Price Distribution of Top 20 Most Counted Cities in 2021 - Rentals"
        },
        "violinmode": "group",
        "xaxis": {
         "anchor": "y",
         "domain": [
          0,
          1
         ],
         "title": {
          "text": "Price"
         }
        },
        "yaxis": {
         "anchor": "x",
         "domain": [
          0,
          1
         ],
         "title": {
          "text": ""
         }
        }
       }
      }
     },
     "metadata": {},
     "output_type": "display_data"
    }
   ],
   "source": [
    "# sort cities to show cities in descending order (Price)\n",
    "sorted_cities = median_top20cities_21.sort_values(by='Price', ascending=False)\n",
    "# create a dict to insert in the violin plotly\n",
    "city_order_dict_21 = {\"Clean_location\": sorted_cities[\"Clean_location\"].tolist()}\n",
    "\n",
    "# Specify the order of cities in the violin plot using category_orders\n",
    "fig = px.violin(df_top_20_cities_21, \n",
    "                y='Clean_location', \n",
    "                x='Price', \n",
    "                box=True, \n",
    "                points='all', \n",
    "                orientation='h', \n",
    "                hover_data=median_top20cities_21.columns, \n",
    "                height=1000,\n",
    "                category_orders=city_order_dict\n",
    "                )\n",
    "fig.update_layout(title= \"Price Distribution of Top 20 Most Counted Cities in 2021 - Rentals\",\n",
    "                  yaxis_title = \"\",\n",
    "                  xaxis_title = \"Price\"\n",
    "                  )\n",
    "\n",
    "# Show the plot\n",
    "fig.show()\n"
   ]
  },
  {
   "cell_type": "markdown",
   "metadata": {},
   "source": [
    "In the dataset of craiglist in 2021, we have more data in DC(Washington), Arlington, Alexandria, ..."
   ]
  },
  {
   "cell_type": "code",
   "execution_count": 90,
   "metadata": {},
   "outputs": [
    {
     "data": {
      "text/plain": [
       "Clean_location\n",
       "DC              75\n",
       "Arlington       17\n",
       "Herndon         11\n",
       "Falls Church    10\n",
       "Alexandria      10\n",
       "Fairfax          8\n",
       "Centreville      5\n",
       "Woodbridge       5\n",
       "Springfield      4\n",
       "Vienna           4\n",
       "Mclean           3\n",
       "Lorton           3\n",
       "Burke            2\n",
       "Chevy Chase      2\n",
       "Chantilly        1\n",
       "Potomac          1\n",
       "Mount Vernon     1\n",
       "Reston           1\n",
       "Oxon Hill        1\n",
       "Temple Hills     1\n",
       "Name: count, dtype: int64"
      ]
     },
     "execution_count": 90,
     "metadata": {},
     "output_type": "execute_result"
    }
   ],
   "source": [
    "# how many data points we have for cities\n",
    "df_top_20_cities_21.Clean_location.value_counts()"
   ]
  },
  {
   "cell_type": "code",
   "execution_count": 93,
   "metadata": {},
   "outputs": [],
   "source": [
    "import pprint"
   ]
  },
  {
   "cell_type": "code",
   "execution_count": 102,
   "metadata": {},
   "outputs": [
    {
     "data": {
      "text/plain": [
       "City\n",
       "Woodbridge      1\n",
       "Manassas        1\n",
       "McLean          1\n",
       "Washington      1\n",
       "Arlington       1\n",
       "Falls Church    1\n",
       "Vienna          1\n",
       "Alexandria      1\n",
       "Annandale       1\n",
       "Fairfax         1\n",
       "Dumfries        1\n",
       "Lorton          1\n",
       "Gainesville     1\n",
       "Springfield     1\n",
       "Herndon         1\n",
       "Burke           1\n",
       "Reston          1\n",
       "Haymarket       1\n",
       "Centreville     1\n",
       "Bethesda        1\n",
       "Name: count, dtype: int64"
      ]
     },
     "execution_count": 102,
     "metadata": {},
     "output_type": "execute_result"
    }
   ],
   "source": [
    "median_top20cities.City.value_counts()"
   ]
  },
  {
   "cell_type": "code",
   "execution_count": 95,
   "metadata": {},
   "outputs": [
    {
     "name": "stdout",
     "output_type": "stream",
     "text": [
      "['DC', 'Arlington', 'Herndon', 'Falls Church', 'Alexandria', 'Fairfax', 'Centreville', 'Woodbridge', 'Springfield', 'Vienna', 'Mclean']\n"
     ]
    }
   ],
   "source": [
    "# let's compare 10 cities of 2021 vs 2023 as I am more interested in the cities. 2023 dataset does not have\n",
    "# Fairfax city. \n",
    "interested_cities = df_top_20_cities_21['Clean_location'].value_counts().index[:11].to_list()\n",
    "print(interested_cities)"
   ]
  },
  {
   "cell_type": "code",
   "execution_count": 103,
   "metadata": {},
   "outputs": [],
   "source": [
    "interested_cities = ['Washington', 'Arlington', 'Herndon', 'Falls Church', 'Alexandria', 'Centreville', 'Woodbridge', 'Springfield', 'Vienna', 'Mclean']"
   ]
  },
  {
   "cell_type": "code",
   "execution_count": null,
   "metadata": {},
   "outputs": [],
   "source": []
  },
  {
   "cell_type": "code",
   "execution_count": null,
   "metadata": {},
   "outputs": [],
   "source": []
  },
  {
   "cell_type": "code",
   "execution_count": null,
   "metadata": {},
   "outputs": [],
   "source": []
  },
  {
   "cell_type": "markdown",
   "metadata": {
    "id": "o9SFflrPsbz5"
   },
   "source": [
    "# Conclusion\n",
    "\n",
    "It is quite challenging to webscrape in these days as many websites of big companies have all the smart bot detection system to block bots' crawling on their site. To prevent from being detected and then blocked from the sites, we should carefully draft or plan the codes first before starting to scrape data, and try to use headers, proxies, time delays as much as we could.\n",
    "\n",
    "Craigslist's data is very messy with different formats of locations, bedrooms, bathrooms and prices. It takes a lot of time to clean up the data before data analysis. There is somewhat a correlation between Bedrooms and Price, 0.605. There are mostly 3-4 bedroom houses/townhomes for rent in the market in the Northern Virginia and most of the rentals available are from DC and Arlington VA. Average rental costs for 2, 3, and 4 bedrooms are 2539, 2759, and 3720 per month respectively in general. Specifically, in Arlington average rental costs for 3 and 4 bedroom houses/townhomes are 3382 and 4061 respectively. \n",
    "\n",
    "From data, we could see prices in different locations vary significantly. Especially, prices in Arlington are higher compared to ones in Woodbridge. It makes senses since Arlington is close to Washington DC where most jobs in the area are from DC. Workers who live in Arlington could avoid getting hit by traffic and save time of commuting than those who live in Woodbridge, so it causes the prices higher. \n"
   ]
  },
  {
   "cell_type": "code",
   "execution_count": null,
   "metadata": {
    "id": "BT9UtgRd0f3B"
   },
   "outputs": [],
   "source": []
  }
 ],
 "metadata": {
  "colab": {
   "collapsed_sections": [],
   "name": "Craiglist_rentals-Copy3.ipynb",
   "provenance": []
  },
  "kernelspec": {
   "display_name": "Python 3",
   "language": "python",
   "name": "python3"
  },
  "language_info": {
   "codemirror_mode": {
    "name": "ipython",
    "version": 3
   },
   "file_extension": ".py",
   "mimetype": "text/x-python",
   "name": "python",
   "nbconvert_exporter": "python",
   "pygments_lexer": "ipython3",
   "version": "3.10.9"
  }
 },
 "nbformat": 4,
 "nbformat_minor": 1
}
